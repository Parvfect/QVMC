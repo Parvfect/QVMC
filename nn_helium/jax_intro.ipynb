{
 "cells": [
  {
   "cell_type": "code",
   "execution_count": 26,
   "id": "744fd2ed",
   "metadata": {},
   "outputs": [],
   "source": [
    "import jax.numpy as jnp\n",
    "from jax.numpy.linalg import norm\n",
    "import numpy as np\n",
    "import jax"
   ]
  },
  {
   "cell_type": "code",
   "execution_count": 28,
   "id": "f7aeeea0",
   "metadata": {},
   "outputs": [],
   "source": [
    "def psi(X):\n",
    "    x = X[:3]\n",
    "    y = X[3:6]\n",
    "    alpha_1, alpha_2, alpha_3, alpha_4 = X[6:]\n",
    "    r1 = norm(x)\n",
    "    r2 = norm(y)\n",
    "    r12 = norm(x - y)\n",
    "\n",
    "    term1 = jnp.exp(-2 * (r1 + r2))\n",
    "    term2 = 1 + 0.5 * r12 * jnp.exp(-alpha_1 * r12)\n",
    "    term3 = 1 + alpha_2 * (r1 + r2) * r12 + alpha_3 * (r1 - r2) ** 2 - alpha_4 * r12 ** 2\n",
    "\n",
    "    return term1 * term2 * term3"
   ]
  },
  {
   "cell_type": "code",
   "execution_count": 10,
   "id": "7e25dca2",
   "metadata": {},
   "outputs": [],
   "source": [
    "from jax import grad\n",
    "from jax import random"
   ]
  },
  {
   "cell_type": "code",
   "execution_count": 17,
   "id": "507c16fe",
   "metadata": {},
   "outputs": [],
   "source": [
    "t = jnp.array(np.random.rand(10))"
   ]
  },
  {
   "cell_type": "code",
   "execution_count": 29,
   "id": "fcfeb124",
   "metadata": {},
   "outputs": [
    {
     "data": {
      "text/plain": [
       "Array([-4.3425348e-02, -2.9694052e-02, -4.2650640e-02, -7.7672303e-05,\n",
       "       -5.5284742e-03, -3.8212948e-03, -1.1913033e-03,  9.8203924e-03,\n",
       "        1.6500962e-03, -1.7171270e-03], dtype=float32)"
      ]
     },
     "execution_count": 29,
     "metadata": {},
     "output_type": "execute_result"
    }
   ],
   "source": [
    "grad(psi)(t)"
   ]
  },
  {
   "cell_type": "code",
   "execution_count": null,
   "id": "dd1bc456",
   "metadata": {},
   "outputs": [],
   "source": []
  }
 ],
 "metadata": {
  "kernelspec": {
   "display_name": "Python 3",
   "language": "python",
   "name": "python3"
  },
  "language_info": {
   "codemirror_mode": {
    "name": "ipython",
    "version": 3
   },
   "file_extension": ".py",
   "mimetype": "text/x-python",
   "name": "python",
   "nbconvert_exporter": "python",
   "pygments_lexer": "ipython3",
   "version": "3.9.2"
  }
 },
 "nbformat": 4,
 "nbformat_minor": 5
}
