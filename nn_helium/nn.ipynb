{
 "cells": [
  {
   "cell_type": "markdown",
   "id": "9273957a",
   "metadata": {},
   "source": [
    "## Starter notebook for MLP ansatz for Helium"
   ]
  },
  {
   "cell_type": "markdown",
   "id": "ec64533c",
   "metadata": {},
   "source": [
    "1. Energy - using Hessian,\n",
    "2. Gradients - using known formula (update manually),\n",
    "3. Optimization - ADAM.\n",
    "\n",
    "First, non-symmetric, without Jastrow factor, to slowly add complexity"
   ]
  },
  {
   "cell_type": "code",
   "execution_count": 1,
   "id": "76d0d661",
   "metadata": {},
   "outputs": [],
   "source": [
    "import torch\n",
    "import torch.nn as nn\n",
    "import numpy as np\n",
    "from tqdm import tqdm\n",
    "from torch import vmap\n",
    "from functorch import make_functional, vmap, grad\n",
    "import matplotlib.pyplot as plt\n",
    "\n",
    "\n",
    "torch.set_default_dtype(torch.float64)\n",
    "\n",
    "from nn import model, psi_nn\n",
    "\n",
    "model = model.double()"
   ]
  },
  {
   "cell_type": "markdown",
   "id": "131c2d90",
   "metadata": {},
   "source": [
    "### Model definition"
   ]
  },
  {
   "cell_type": "code",
   "execution_count": 2,
   "id": "848ea277",
   "metadata": {},
   "outputs": [],
   "source": [
    "device = torch.device('cuda')\n",
    "cpu = torch.device('cpu')"
   ]
  },
  {
   "cell_type": "markdown",
   "id": "c227514a",
   "metadata": {},
   "source": [
    "### Metropolis sampling"
   ]
  },
  {
   "cell_type": "code",
   "execution_count": 3,
   "id": "7ebfeefe",
   "metadata": {},
   "outputs": [],
   "source": [
    "def metropolis(N: int, pos: torch.tensor, n_runs: int, model):  \n",
    "    \n",
    "    L = 0.5\n",
    "    \n",
    "    r1 = pos[:, :3]\n",
    "    r2 = pos[:, 3:]\n",
    "\n",
    "    #sampled_Xs = []\n",
    "    accept_count = 0\n",
    "\n",
    "    for _ in range(N):\n",
    "        chose = torch.rand(n_runs, 1)\n",
    "\n",
    "        perturbed_r1 = r1 + L * torch.randn(n_runs, 3)\n",
    "        perturbed_r2 = r2 + L * torch.randn(n_runs, 3)\n",
    "\n",
    "        r1_trial = torch.where(chose < 0.5, perturbed_r1, r1)\n",
    "        r2_trial = torch.where(chose >= 0.5, perturbed_r2, r2)\n",
    "\n",
    "        x_old = torch.cat((r1, r2), dim=1)\n",
    "        x_trial = torch.cat((r1_trial, r2_trial), dim=1)\n",
    "\n",
    "        psi_val = psi_nn(x_old, model, return_log=True)\n",
    "        psi_trial_val = psi_nn(x_trial, model, return_log=True)\n",
    "\n",
    "        #psi_ratio = (psi_trial_val / psi_val) ** 2\n",
    "        psi_ratio = torch.exp(2 * (psi_trial_val - psi_val)) \n",
    "\n",
    "        rand_uniform = torch.rand(n_runs)\n",
    "\n",
    "        accepted = psi_ratio > rand_uniform\n",
    "        accept_count += accepted.sum().item()\n",
    "\n",
    "        mask = accepted.unsqueeze(1)\n",
    "\n",
    "        r1 = torch.where(mask, r1_trial, r1)\n",
    "        r2 = torch.where(mask, r2_trial, r2)\n",
    "\n",
    "        #sampled_Xs.append(torch.cat((r1, r2), dim=1))\n",
    "\n",
    "    acceptance_ratio = accept_count / (N * n_runs)\n",
    "    #print(f\"Acceptance ratio: {acceptance_ratio:.4f}\")\n",
    "\n",
    "    return torch.cat((r1, r2), dim=1)\n",
    "    #return torch.stack(sampled_Xs)\n"
   ]
  },
  {
   "cell_type": "markdown",
   "id": "7e84de57",
   "metadata": {},
   "source": [
    "### Local energy"
   ]
  },
  {
   "cell_type": "code",
   "execution_count": 4,
   "id": "675510e8",
   "metadata": {},
   "outputs": [],
   "source": [
    "\n",
    "def local_energy(positions, model):\n",
    "    positions = positions.clone().detach().requires_grad_(True)\n",
    "\n",
    "    r1_vec = positions[:, 0:3]\n",
    "    r2_vec = positions[:, 3:6]\n",
    "\n",
    "    r1 = torch.norm(r1_vec, dim=1, keepdim=True)\n",
    "    r2 = torch.norm(r2_vec, dim=1, keepdim=True)\n",
    "    r12 = torch.norm(r1_vec - r2_vec, dim=1, keepdim=True)\n",
    "\n",
    "    scalar_features = torch.cat([r1, r2, r12], dim=1)\n",
    "\n",
    "    log_psi_val = psi_nn(positions, model, return_log=False)\n",
    "\n",
    "    grad_log_psi = torch.autograd.grad(\n",
    "        log_psi_val.sum(), positions, create_graph=True)[0]\n",
    "\n",
    "    laplacian = torch.zeros_like(log_psi_val)\n",
    "    for i in range(positions.shape[1]):\n",
    "        grad_i = grad_log_psi[:, i]\n",
    "        grad2_i = torch.autograd.grad(\n",
    "            grad_i.sum(), positions, create_graph=True\n",
    "        )[0][:, i]\n",
    "        laplacian += grad2_i\n",
    "\n",
    "    kinetic = -0.5 * (laplacian/log_psi_val)\n",
    "\n",
    "    # Potential energy: -2/r1 -2/r2 + 1/r12\n",
    "    eps = 0  # avoid div by 0\n",
    "    potential = -2 / (r1.squeeze() + eps) - 2 / (r2.squeeze() + eps) + 1 / (r12.squeeze() + eps)\n",
    "\n",
    "    return kinetic + potential\n",
    "\n",
    "def get_local_energy(sampled_Xs, model):\n",
    "\n",
    "    local_E = local_energy(sampled_Xs, model) # N_walkers * N, 1\n",
    "    return local_E\n",
    " "
   ]
  },
  {
   "cell_type": "markdown",
   "id": "3aa37532",
   "metadata": {},
   "source": [
    "### Gradients"
   ]
  },
  {
   "cell_type": "code",
   "execution_count": null,
   "id": "8ed2efc7",
   "metadata": {},
   "outputs": [],
   "source": [
    "\n",
    "def parameter_gradients(x, E, model):\n",
    "    \n",
    "    fmodel, params = make_functional(model)\n",
    "\n",
    "    def psi_func(params, x):\n",
    "        return fmodel(params, x.unsqueeze(0)).squeeze()\n",
    "\n",
    "    grad_log_psi = grad(psi_func)\n",
    "\n",
    "    grads = vmap(grad_log_psi, in_dims=(None, 0))(params, x)\n",
    "    flat_grads = torch.cat([g.reshape(x.shape[0], -1) for g in grads], dim=1)\n",
    "    \n",
    "    n_parameters = flat_grads.shape[-1]\n",
    "\n",
    "    mean_grad = torch.mean(flat_grads, axis=0) # across walkers - (Np)\n",
    "    E = E.flatten()\n",
    "    mean_E = torch.mean(E)\n",
    "\n",
    "    centered_E = E - mean_E  # (Ns x Np)\n",
    "    centered_grads = flat_grads - mean_grad\n",
    "\n",
    "    print(centered_grads.shape)\n",
    "\n",
    "    # SR\n",
    "    metric_tensor = (\n",
    "        centered_grads.T @ centered_grads) / centered_grads.shape[0]  # this is the effective average\n",
    "    \n",
    "    print(metric_tensor.shape)\n",
    "\n",
    "    # MinSR\n",
    "    metric_tensor = (\n",
    "        centered_grads @ centered_grads.T) / centered_grads.shape[0]\n",
    "\n",
    "    print(metric_tensor.shape)\n",
    "    \"\"\" Psuedo inverse tricks using eigendecomp\n",
    "    L, V = torch.linalg.eig(metric_tensor)\n",
    "    L = torch.real(L)\n",
    "    L = torch.where(L > 1e-3, 1/L, 0)\n",
    "    V  = torch.real(V)\n",
    "    psuedo_inverse = V[0] @ L * V[1]\n",
    "    \"\"\"\n",
    "\n",
    "    #metric_tensor = metric_tensor[:-1, :-1]  # Last parameter is unused causing all the probls\n",
    "    \n",
    "    # Pre-conditioning\n",
    "    #outer = metric_diag.unsqueeze(0) * metric_diag.unsqueeze(1)\n",
    "    #pc_matrix = 1 / torch.sqrt(outer)\n",
    "    #metric_tensor = metric_tensor @ pc_matrix\n",
    "    #metric_diag = torch.diag(metric_tensor)\n",
    "\n",
    "    # Sorella's trick\n",
    "    delta = 1e-3\n",
    "    metric_tensor = metric_tensor + (delta * torch.eye(\n",
    "        metric_tensor.shape[0]).to(device))  # Sorella's trick for zero eigenvalues\n",
    "    \n",
    "    #grad_pc = torch.sqrt(metric_diag)\n",
    "    #grads = centered_grads.T * centered_E\n",
    "    #grads_pc = (grads.T * grad_pc).T\n",
    "    #grads = torch.mean(\n",
    "    #    grads_pc, axis=1)\n",
    "\n",
    "    grads = torch.mean(grads, axis=1)\n",
    "\n",
    "    # Using solve\n",
    "    #grads = torch.linalg.solve(metric_tensor, grads)\n",
    "    grads = torch.linalg.solve(grads, metric_tensor)\n",
    "    #inv = torch.linalg.inv(metric_tensor)\n",
    "    #grads = torch.matmul(inv, grads)\n",
    "    \n",
    "    return grads.reshape(n_parameters, 1)\n",
    "\n",
    "def get_parameter_gradients(sampled_Xs, local_E, model):\n",
    "    return parameter_gradients(sampled_Xs, local_E, model)\n"
   ]
  },
  {
   "cell_type": "code",
   "execution_count": 20,
   "id": "bde96a1f",
   "metadata": {},
   "outputs": [
    {
     "data": {
      "text/plain": [
       "MLP(\n",
       "  (network): Sequential(\n",
       "    (0): Linear(in_features=3, out_features=32, bias=True)\n",
       "    (1): Tanh()\n",
       "    (2): Linear(in_features=32, out_features=32, bias=True)\n",
       "    (3): Tanh()\n",
       "    (4): Linear(in_features=32, out_features=32, bias=True)\n",
       "    (5): Tanh()\n",
       "    (6): Linear(in_features=32, out_features=1, bias=True)\n",
       "  )\n",
       ")"
      ]
     },
     "execution_count": 20,
     "metadata": {},
     "output_type": "execute_result"
    }
   ],
   "source": [
    "model"
   ]
  },
  {
   "cell_type": "code",
   "execution_count": 19,
   "id": "aa7cbc46",
   "metadata": {},
   "outputs": [
    {
     "data": {
      "text/plain": [
       "tensor([1.4110e-04, 3.6293e-04, 4.2809e-05, 0.0000e+00], device='cuda:0',\n",
       "       grad_fn=<SliceBackward0>)"
      ]
     },
     "execution_count": 19,
     "metadata": {},
     "output_type": "execute_result"
    }
   ],
   "source": [
    "metric_diag[-4:]"
   ]
  },
  {
   "cell_type": "code",
   "execution_count": 23,
   "id": "d0487724",
   "metadata": {},
   "outputs": [
    {
     "name": "stderr",
     "output_type": "stream",
     "text": [
      "c:\\Users\\Parv\\anaconda3\\envs\\pytorch_gpu\\Lib\\site-packages\\torch\\_functorch\\deprecated.py:100: UserWarning: We've integrated functorch into PyTorch. As the final step of the integration, functorch.make_functional is deprecated as of PyTorch 2.0 and will be deleted in a future version of PyTorch >= 2.3. Please use torch.func.functional_call instead; see the PyTorch 2.0 release notes and/or the torch.func migration guide for more details https://pytorch.org/docs/master/func.migrating.html\n",
      "  warn_deprecated('make_functional', 'torch.func.functional_call')\n",
      "c:\\Users\\Parv\\anaconda3\\envs\\pytorch_gpu\\Lib\\site-packages\\torch\\_functorch\\deprecated.py:65: UserWarning: We've integrated functorch into PyTorch. As the final step of the integration, functorch.grad is deprecated as of PyTorch 2.0 and will be deleted in a future version of PyTorch >= 2.3. Please use torch.func.grad instead; see the PyTorch 2.0 release notes and/or the torch.func migration guide for more details https://pytorch.org/docs/master/func.migrating.html\n",
      "  warn_deprecated('grad')\n",
      "c:\\Users\\Parv\\anaconda3\\envs\\pytorch_gpu\\Lib\\site-packages\\torch\\_functorch\\deprecated.py:61: UserWarning: We've integrated functorch into PyTorch. As the final step of the integration, functorch.vmap is deprecated as of PyTorch 2.0 and will be deleted in a future version of PyTorch >= 2.3. Please use torch.vmap instead; see the PyTorch 2.0 release notes and/or the torch.func migration guide for more details https://pytorch.org/docs/master/func.migrating.html\n",
      "  warn_deprecated('vmap', 'torch.vmap')\n"
     ]
    }
   ],
   "source": [
    "\n",
    "metric_tensor = get_parameter_gradients(grad_Xs, local_E, model)[:-1, :-1]\n",
    "\n",
    "# Pre-conditioning\n",
    "metric_diag = torch.diag(metric_tensor)\n",
    "outer = metric_diag.unsqueeze(0) * metric_diag.unsqueeze(1)\n",
    "pc_matrix = 1 / torch.sqrt(outer)\n",
    "metric_tensor_ = metric_tensor @ pc_matrix\n",
    "\n",
    "# Sorella's trick\n",
    "#delta = 1e-3\n",
    "#metric_tensor = metric_tensor + (delta * torch.eye(\n",
    "#    metric_tensor.shape[0]).to(device))  # Sorella's trick for zero eigenvalues"
   ]
  },
  {
   "cell_type": "code",
   "execution_count": 24,
   "id": "359e21b8",
   "metadata": {},
   "outputs": [
    {
     "data": {
      "text/plain": [
       "tensor([[37728.4442, 44342.1652, 33679.6536,  ..., 16351.9925, 10195.7834,\n",
       "         29686.9913],\n",
       "        [44342.1652, 52115.2583, 39583.6297,  ..., 19218.4641, 11983.0839,\n",
       "         34891.0616],\n",
       "        [33679.6536, 39583.6297, 30065.3550,  ..., 14597.1946,  9101.6330,\n",
       "         26501.1613],\n",
       "        ...,\n",
       "        [16351.9925, 19218.4641, 14597.1946,  ...,  7087.1636,  4418.9835,\n",
       "         12866.7235],\n",
       "        [10195.7834, 11983.0839,  9101.6330,  ...,  4418.9835,  2755.3217,\n",
       "          8022.6508],\n",
       "        [29686.9913, 34891.0616, 26501.1613,  ..., 12866.7235,  8022.6508,\n",
       "         23359.4963]], device='cuda:0', grad_fn=<MulBackward0>)"
      ]
     },
     "execution_count": 24,
     "metadata": {},
     "output_type": "execute_result"
    }
   ],
   "source": [
    "pc_matrix"
   ]
  },
  {
   "cell_type": "code",
   "execution_count": 25,
   "id": "d0be373c",
   "metadata": {},
   "outputs": [
    {
     "data": {
      "text/plain": [
       "tensor([[ 2.6505e-05, -2.3502e-06,  1.7737e-05,  ...,  3.3586e-05,\n",
       "         -9.6964e-05, -5.6447e-07],\n",
       "        [-2.3502e-06,  1.9188e-05,  1.1604e-05,  ..., -3.6051e-06,\n",
       "          1.0684e-05,  7.3987e-06],\n",
       "        [ 1.7737e-05,  1.1604e-05,  3.3261e-05,  ...,  5.6672e-05,\n",
       "         -7.2608e-05, -1.7315e-05],\n",
       "        ...,\n",
       "        [ 3.3586e-05, -3.6051e-06,  5.6672e-05,  ...,  1.4110e-04,\n",
       "         -1.4948e-04, -6.3526e-05],\n",
       "        [-9.6964e-05,  1.0684e-05, -7.2608e-05,  ..., -1.4948e-04,\n",
       "          3.6293e-04,  1.9435e-05],\n",
       "        [-5.6447e-07,  7.3987e-06, -1.7315e-05,  ..., -6.3526e-05,\n",
       "          1.9435e-05,  4.2809e-05]], device='cuda:0', grad_fn=<SliceBackward0>)"
      ]
     },
     "execution_count": 25,
     "metadata": {},
     "output_type": "execute_result"
    }
   ],
   "source": [
    "metric_tensor"
   ]
  },
  {
   "cell_type": "code",
   "execution_count": 28,
   "id": "d52b9584",
   "metadata": {},
   "outputs": [],
   "source": [
    "eigenvalues, eigenvectors = torch.linalg.eig(metric_tensor)"
   ]
  },
  {
   "cell_type": "code",
   "execution_count": 29,
   "id": "4e37ad1a",
   "metadata": {},
   "outputs": [
    {
     "data": {
      "text/plain": [
       "tensor([ 1.7785e-02+0.j,  1.0425e-02+0.j,  2.5352e-03+0.j,  ...,\n",
       "        -3.4365e-25+0.j,  1.6074e-25+0.j,  1.8015e-24+0.j], device='cuda:0',\n",
       "       grad_fn=<LinalgEigBackward0>)"
      ]
     },
     "execution_count": 29,
     "metadata": {},
     "output_type": "execute_result"
    }
   ],
   "source": [
    "eigenvalues"
   ]
  },
  {
   "cell_type": "code",
   "execution_count": 32,
   "id": "a1b3fd57",
   "metadata": {},
   "outputs": [],
   "source": [
    "inv = torch.linalg.inv(metric_tensor_)"
   ]
  },
  {
   "cell_type": "code",
   "execution_count": 33,
   "id": "398eb97a",
   "metadata": {},
   "outputs": [
    {
     "data": {
      "text/plain": [
       "tensor([[-1.6615e+11, -4.0064e+11,  1.0840e+11,  ..., -2.8284e+11,\n",
       "         -7.2541e+10,  1.8031e+11],\n",
       "        [ 2.7921e+11,  1.4376e+12,  8.9777e+10,  ...,  8.6442e+11,\n",
       "          2.1799e+11,  2.4478e+12],\n",
       "        [-1.6807e+11, -7.3552e+11,  1.6067e+11,  ..., -7.1868e+11,\n",
       "         -1.6934e+11, -2.0843e+12],\n",
       "        ...,\n",
       "        [ 5.1562e+11, -5.1230e+11,  4.0839e+11,  ...,  5.0340e+11,\n",
       "          5.2756e+10,  2.2524e+12],\n",
       "        [ 1.6603e+11, -8.4117e+11,  1.2577e+12,  ..., -2.9813e+11,\n",
       "         -7.9882e+10, -3.1226e+12],\n",
       "        [-1.3282e+11, -1.1447e+12,  1.8219e+11,  ..., -6.8533e+11,\n",
       "         -1.5011e+11, -2.1140e+12]], device='cuda:0',\n",
       "       grad_fn=<LinalgInvExBackward0>)"
      ]
     },
     "execution_count": 33,
     "metadata": {},
     "output_type": "execute_result"
    }
   ],
   "source": [
    "inv"
   ]
  },
  {
   "cell_type": "code",
   "execution_count": 24,
   "id": "a46708d0",
   "metadata": {},
   "outputs": [
    {
     "data": {
      "text/plain": [
       "torch.Size([2273, 2273])"
      ]
     },
     "execution_count": 24,
     "metadata": {},
     "output_type": "execute_result"
    }
   ],
   "source": [
    "metric_tensor.shape"
   ]
  },
  {
   "cell_type": "code",
   "execution_count": 28,
   "id": "c297f6a9",
   "metadata": {},
   "outputs": [],
   "source": [
    "t = torch.where(eigenvalues == 0, True, False)"
   ]
  },
  {
   "cell_type": "code",
   "execution_count": 29,
   "id": "53b81998",
   "metadata": {},
   "outputs": [
    {
     "data": {
      "text/plain": [
       "tensor(0, device='cuda:0')"
      ]
     },
     "execution_count": 29,
     "metadata": {},
     "output_type": "execute_result"
    }
   ],
   "source": [
    "sum(t)"
   ]
  },
  {
   "cell_type": "markdown",
   "id": "1e226ce8",
   "metadata": {},
   "source": [
    "### Assigning gradients to model"
   ]
  },
  {
   "cell_type": "code",
   "execution_count": 6,
   "id": "55f3ba0e",
   "metadata": {},
   "outputs": [],
   "source": [
    "def assign_gradients_to_model(parameter_gradients, model):\n",
    "    \"\"\"Assign a flattened gradient vector to model parameters.\"\"\"\n",
    "    pointer = 0\n",
    "    for p in model.parameters():\n",
    "        numel = p.numel()\n",
    "        p.grad = parameter_gradients[pointer:pointer + numel].view_as(p).clone()\n",
    "        pointer += numel\n",
    "\n",
    "    return"
   ]
  },
  {
   "cell_type": "code",
   "execution_count": 22,
   "id": "6f93df0f",
   "metadata": {},
   "outputs": [
    {
     "name": "stdout",
     "output_type": "stream",
     "text": [
      "96\n",
      "32\n",
      "1024\n",
      "32\n",
      "1024\n",
      "32\n",
      "32\n",
      "1\n"
     ]
    }
   ],
   "source": [
    "for p in model.parameters():\n",
    "    numel = p.numel()\n",
    "    print(numel)"
   ]
  },
  {
   "cell_type": "markdown",
   "id": "e9218e59",
   "metadata": {},
   "source": [
    "### Utils"
   ]
  },
  {
   "cell_type": "code",
   "execution_count": 7,
   "id": "494e720b",
   "metadata": {},
   "outputs": [],
   "source": [
    "import torch\n",
    "import torch.nn.functional as F\n",
    "\n",
    "def running_average(tensor, window_size=None):\n",
    "    tensor = tensor.float()\n",
    "    if window_size is None:\n",
    "        # Full running average from the start\n",
    "        cumsum = torch.cumsum(tensor, dim=0)\n",
    "        return cumsum / torch.arange(1, len(tensor) + 1, device=tensor.device, dtype=torch.float32)\n",
    "    else:\n",
    "        # Moving average with fixed window size\n",
    "        if window_size < 1:\n",
    "            raise ValueError(\"window_size must be >= 1\")\n",
    "        if window_size == 1:\n",
    "            return tensor\n",
    "\n",
    "        # Use F.conv1d with proper padding and normalization\n",
    "        kernel = torch.ones(1, 1, window_size, device=tensor.device) / window_size\n",
    "        pad = window_size // 2\n",
    "\n",
    "        # Pad reflect to avoid edge effects (you can also use 'replicate' or 'constant')\n",
    "        padded = F.pad(tensor.unsqueeze(0).unsqueeze(0), (pad, pad), mode='reflect')\n",
    "        smoothed = F.conv1d(padded, kernel)\n",
    "        return smoothed.squeeze()\n",
    "\n",
    "import torch.nn.functional as F\n",
    "\n",
    "def running_exponential_average(tensor, window_size=5, decay=0.9):\n",
    "    \"\"\"\n",
    "    Computes a moving average with exponential weights in a fixed window.\n",
    "\n",
    "    Args:\n",
    "        tensor (Tensor): 1D tensor of values.\n",
    "        window_size (int): Size of the moving window (must be odd).\n",
    "        decay (float): Decay factor (0 < decay < 1). Smaller = faster decay.\n",
    "\n",
    "    Returns:\n",
    "        Tensor: Smoothed tensor of the same shape.\n",
    "    \"\"\"\n",
    "    tensor = tensor.float()\n",
    "    if window_size < 1 or window_size % 2 == 0:\n",
    "        raise ValueError(\"window_size must be a positive odd integer.\")\n",
    "    if not (0 < decay < 1):\n",
    "        raise ValueError(\"decay must be in (0, 1)\")\n",
    "\n",
    "    half = window_size // 2\n",
    "\n",
    "    # Generate symmetric exponential weights: [decay^half, ..., decay^0, ..., decay^half]\n",
    "    exponents = torch.arange(-half, half + 1, device=tensor.device).abs()\n",
    "    weights = decay ** exponents\n",
    "    weights = weights / weights.sum()  # Normalize\n",
    "\n",
    "    # Convolve using 1D conv\n",
    "    kernel = weights.view(1, 1, -1)\n",
    "    padded = F.pad(tensor.unsqueeze(0).unsqueeze(0), (half, half), mode='reflect')\n",
    "    smoothed = F.conv1d(padded, kernel)\n",
    "\n",
    "    return smoothed.squeeze()\n",
    "\n",
    "    \n",
    "def get_variances(E):\n",
    "    return torch.mean((E - torch.mean(E)) ** 2)"
   ]
  },
  {
   "cell_type": "markdown",
   "id": "5769655f",
   "metadata": {},
   "source": [
    "### Training loop"
   ]
  },
  {
   "cell_type": "code",
   "execution_count": 60,
   "id": "35985924",
   "metadata": {},
   "outputs": [],
   "source": [
    "#checkpoint = torch.load(\"model.pth\")\n",
    "\n",
    "#model.load_state_dict(checkpoint['model_state_dict'])\n"
   ]
  },
  {
   "cell_type": "code",
   "execution_count": 8,
   "id": "17dd55f0",
   "metadata": {},
   "outputs": [
    {
     "name": "stdout",
     "output_type": "stream",
     "text": [
      "Mean energy is -2.8518059960363376\n",
      "Variance is 0.1084264189870412\n"
     ]
    }
   ],
   "source": [
    "\n",
    "energies = []\n",
    "optimizer = torch.optim.Adam(model.parameters())\n",
    "n_walkers = 4096\n",
    "warmup_steps = 200\n",
    "mc_steps = 50\n",
    "energies_full = []\n",
    "\n",
    "\n",
    "pos = torch.rand((n_walkers, 6))\n",
    "for i in range(100):\n",
    "\n",
    "    optimizer.zero_grad()\n",
    "    # Go through warmup\n",
    "    pos = metropolis(warmup_steps, pos, n_walkers, model.to(cpu))\n",
    "\n",
    "    # Run metropolis\n",
    "    pos = metropolis(mc_steps, pos, n_walkers, model)\n",
    "\n",
    "    # Get local energy\n",
    "    local_E = get_local_energy(\n",
    "        pos.to(device), model.to(device))\n",
    "    \n",
    "    # Get variance\n",
    "    variance = get_variances(local_E)\n",
    "    print(\n",
    "        f\"Mean energy is {torch.mean(local_E)}\\n\"\n",
    "        f\"Variance is {variance}\"\n",
    "        )\n",
    "    energies.append(torch.mean(local_E))\n",
    "    energies_full.append(local_E)\n",
    "\n",
    "\n",
    "    r1 = torch.norm(pos[:, :3], dim=-1, keepdim=True)\n",
    "    r2 = torch.norm(pos[:, 3:], dim=-1, keepdim=True)\n",
    "    r12 = torch.norm(pos[:, :3] - pos[:, 3:], dim=-1, keepdim=True)\n",
    "    grad_Xs = torch.cat([r1, r2, r12], dim=-1).to(device)\n",
    "    \n",
    "    break\n",
    "    # Get gradients\n",
    "    grads = get_parameter_gradients(grad_Xs, local_E, model)\n",
    "\n",
    "    # apply gradients and optimise\n",
    "    assign_gradients_to_model(grads, model)\n",
    "\n",
    "    optimizer.step()  # apply gradients\n",
    "    \n",
    "    torch.cuda.empty_cache()\n",
    "    \n",
    "\n",
    "    \n"
   ]
  },
  {
   "cell_type": "code",
   "execution_count": 15,
   "id": "f2d2c650",
   "metadata": {},
   "outputs": [
    {
     "name": "stdout",
     "output_type": "stream",
     "text": [
      "2273\n"
     ]
    }
   ],
   "source": [
    "print(sum(p.numel() for p in model.parameters()))"
   ]
  },
  {
   "cell_type": "code",
   "execution_count": 11,
   "id": "fec90838",
   "metadata": {},
   "outputs": [
    {
     "name": "stdout",
     "output_type": "stream",
     "text": [
      "torch.Size([2273, 1])\n"
     ]
    }
   ],
   "source": [
    "print(grads.shape)"
   ]
  },
  {
   "cell_type": "markdown",
   "id": "8db4e1f4",
   "metadata": {},
   "source": [
    "Okay we now know that this is correct, let us do a couple of things\n",
    "\n",
    "1. Do the weekly plan\n",
    "2. Figure out the stuff I need for computing SR matrices\n",
    "3. Convert the cluster version of the code and set it to run (with the new sampling)\n",
    "4. Implement SR and minSR"
   ]
  },
  {
   "cell_type": "markdown",
   "id": "bc4ca730",
   "metadata": {},
   "source": [
    "Wasn't my implementation that was slow, it was how I was looking at MC integration\n",
    "You just don't need to vectorize over 10000 + samples, its only the final point in the chain for all the walkers. I guess I can try retraining to see if I get anything different."
   ]
  },
  {
   "cell_type": "code",
   "execution_count": 37,
   "id": "0a0523a7",
   "metadata": {},
   "outputs": [
    {
     "data": {
      "text/plain": [
       "False"
      ]
     },
     "execution_count": 37,
     "metadata": {},
     "output_type": "execute_result"
    }
   ],
   "source": [
    "sampled_Xs[0].requires_grad"
   ]
  },
  {
   "cell_type": "code",
   "execution_count": 38,
   "id": "3bd98783",
   "metadata": {},
   "outputs": [
    {
     "name": "stderr",
     "output_type": "stream",
     "text": [
      "C:\\Users\\Parv\\AppData\\Local\\Temp\\ipykernel_6644\\1817326841.py:6: UserWarning: To copy construct from a tensor, it is recommended to use sourceTensor.clone().detach() or sourceTensor.clone().detach().requires_grad_(True), rather than torch.tensor(sourceTensor).\n",
      "  grad_Xs = torch.tensor(grad_Xs, dtype=torch.float32, requires_grad=True)\n"
     ]
    }
   ],
   "source": [
    "r1 = torch.norm(sampled_Xs[:, :, :3], dim=2, keepdim=True)\n",
    "r2 = torch.norm(sampled_Xs[:, :, 3:], dim=2, keepdim=True)\n",
    "r12 = torch.norm(sampled_Xs[:, :, :3] - sampled_Xs[:, :, 3:], dim=2, keepdim=True)\n",
    "grad_Xs = torch.cat([r1, r2, r12], dim=2)\n",
    "\n",
    "grad_Xs = torch.tensor(grad_Xs, dtype=torch.float32, requires_grad=True)\n"
   ]
  },
  {
   "cell_type": "code",
   "execution_count": 39,
   "id": "bac25ea1",
   "metadata": {},
   "outputs": [],
   "source": [
    "log_psis = model(grad_Xs.to(device)).shape"
   ]
  },
  {
   "cell_type": "code",
   "execution_count": 40,
   "id": "a9fc11c5",
   "metadata": {},
   "outputs": [
    {
     "ename": "AttributeError",
     "evalue": "'int' object has no attribute 'requires_grad'",
     "output_type": "error",
     "traceback": [
      "\u001b[1;31m---------------------------------------------------------------------------\u001b[0m",
      "\u001b[1;31mAttributeError\u001b[0m                            Traceback (most recent call last)",
      "Cell \u001b[1;32mIn[40], line 1\u001b[0m\n\u001b[1;32m----> 1\u001b[0m t \u001b[38;5;241m=\u001b[39m \u001b[43mtorch\u001b[49m\u001b[38;5;241;43m.\u001b[39;49m\u001b[43mautograd\u001b[49m\u001b[38;5;241;43m.\u001b[39;49m\u001b[43mgrad\u001b[49m\u001b[43m(\u001b[49m\u001b[43mlog_psis\u001b[49m\u001b[43m,\u001b[49m\u001b[43m \u001b[49m\u001b[43mmodel\u001b[49m\u001b[38;5;241;43m.\u001b[39;49m\u001b[43mparameters\u001b[49m\u001b[43m(\u001b[49m\u001b[43m)\u001b[49m\u001b[43m,\u001b[49m\u001b[43m \u001b[49m\u001b[43mretain_graph\u001b[49m\u001b[38;5;241;43m=\u001b[39;49m\u001b[38;5;28;43;01mTrue\u001b[39;49;00m\u001b[43m,\u001b[49m\u001b[43m \u001b[49m\u001b[43mcreate_graph\u001b[49m\u001b[38;5;241;43m=\u001b[39;49m\u001b[38;5;28;43;01mTrue\u001b[39;49;00m\u001b[43m)\u001b[49m\n",
      "File \u001b[1;32mc:\\Users\\Parv\\anaconda3\\envs\\pytorch_gpu\\Lib\\site-packages\\torch\\autograd\\__init__.py:385\u001b[0m, in \u001b[0;36mgrad\u001b[1;34m(outputs, inputs, grad_outputs, retain_graph, create_graph, only_inputs, allow_unused, is_grads_batched, materialize_grads)\u001b[0m\n\u001b[0;32m    378\u001b[0m     warnings\u001b[38;5;241m.\u001b[39mwarn(\n\u001b[0;32m    379\u001b[0m         \u001b[38;5;124m\"\u001b[39m\u001b[38;5;124monly_inputs argument is deprecated and is ignored now \u001b[39m\u001b[38;5;124m\"\u001b[39m\n\u001b[0;32m    380\u001b[0m         \u001b[38;5;124m\"\u001b[39m\u001b[38;5;124m(defaults to True). To accumulate gradient for other \u001b[39m\u001b[38;5;124m\"\u001b[39m\n\u001b[0;32m    381\u001b[0m         \u001b[38;5;124m\"\u001b[39m\u001b[38;5;124mparts of the graph, please use torch.autograd.backward.\u001b[39m\u001b[38;5;124m\"\u001b[39m\n\u001b[0;32m    382\u001b[0m     )\n\u001b[0;32m    384\u001b[0m grad_outputs_ \u001b[38;5;241m=\u001b[39m _tensor_or_tensors_to_tuple(grad_outputs, \u001b[38;5;28mlen\u001b[39m(t_outputs))\n\u001b[1;32m--> 385\u001b[0m grad_outputs_ \u001b[38;5;241m=\u001b[39m \u001b[43m_make_grads\u001b[49m\u001b[43m(\u001b[49m\n\u001b[0;32m    386\u001b[0m \u001b[43m    \u001b[49m\u001b[43mt_outputs\u001b[49m\u001b[43m,\u001b[49m\u001b[43m \u001b[49m\u001b[43mgrad_outputs_\u001b[49m\u001b[43m,\u001b[49m\u001b[43m \u001b[49m\u001b[43mis_grads_batched\u001b[49m\u001b[38;5;241;43m=\u001b[39;49m\u001b[43mis_grads_batched\u001b[49m\n\u001b[0;32m    387\u001b[0m \u001b[43m\u001b[49m\u001b[43m)\u001b[49m\n\u001b[0;32m    389\u001b[0m \u001b[38;5;28;01mif\u001b[39;00m retain_graph \u001b[38;5;129;01mis\u001b[39;00m \u001b[38;5;28;01mNone\u001b[39;00m:\n\u001b[0;32m    390\u001b[0m     retain_graph \u001b[38;5;241m=\u001b[39m create_graph\n",
      "File \u001b[1;32mc:\\Users\\Parv\\anaconda3\\envs\\pytorch_gpu\\Lib\\site-packages\\torch\\autograd\\__init__.py:131\u001b[0m, in \u001b[0;36m_make_grads\u001b[1;34m(outputs, grads, is_grads_batched)\u001b[0m\n\u001b[0;32m    129\u001b[0m     new_grads\u001b[38;5;241m.\u001b[39mappend(grad)\n\u001b[0;32m    130\u001b[0m \u001b[38;5;28;01melif\u001b[39;00m grad \u001b[38;5;129;01mis\u001b[39;00m \u001b[38;5;28;01mNone\u001b[39;00m:\n\u001b[1;32m--> 131\u001b[0m     \u001b[38;5;28;01mif\u001b[39;00m \u001b[43mout\u001b[49m\u001b[38;5;241;43m.\u001b[39;49m\u001b[43mrequires_grad\u001b[49m:\n\u001b[0;32m    132\u001b[0m         \u001b[38;5;28;01mif\u001b[39;00m out\u001b[38;5;241m.\u001b[39mnumel() \u001b[38;5;241m!=\u001b[39m \u001b[38;5;241m1\u001b[39m:\n\u001b[0;32m    133\u001b[0m             \u001b[38;5;28;01mraise\u001b[39;00m \u001b[38;5;167;01mRuntimeError\u001b[39;00m(\n\u001b[0;32m    134\u001b[0m                 \u001b[38;5;124m\"\u001b[39m\u001b[38;5;124mgrad can be implicitly created only for scalar outputs\u001b[39m\u001b[38;5;124m\"\u001b[39m\n\u001b[0;32m    135\u001b[0m             )\n",
      "\u001b[1;31mAttributeError\u001b[0m: 'int' object has no attribute 'requires_grad'"
     ]
    }
   ],
   "source": [
    "t = torch.autograd.grad(log_psis, model.parameters(), retain_graph=True, create_graph=True)"
   ]
  },
  {
   "cell_type": "code",
   "execution_count": 30,
   "id": "bd5e5dab",
   "metadata": {},
   "outputs": [
    {
     "data": {
      "text/plain": [
       "tensor([-2.9020, -2.9037, -2.9028, -2.9040, -2.9027, -2.9053, -2.9031, -2.9036,\n",
       "        -2.9046, -2.9029, -2.9059, -2.9038, -2.9050, -2.9032, -2.9037, -2.9024,\n",
       "        -2.9035, -2.9041, -2.9040, -2.9031, -2.9028, -2.9027, -2.9043, -2.9032,\n",
       "        -2.9041, -2.9043, -2.9040, -2.9037, -2.9012, -2.9043, -2.9034, -2.8995,\n",
       "        -2.9035, -2.9043, -2.9048, -2.9033, -2.9042, -2.9059, -2.9046, -2.9040,\n",
       "        -2.9046, -2.9056, -2.9038, -2.9039, -2.9038, -2.9029, -2.9044, -2.9035,\n",
       "        -2.9031, -2.9048], device='cuda:0', grad_fn=<MeanBackward1>)"
      ]
     },
     "execution_count": 30,
     "metadata": {},
     "output_type": "execute_result"
    }
   ],
   "source": [
    "torch.mean(energies_full[0], dim=1)"
   ]
  },
  {
   "cell_type": "code",
   "execution_count": 76,
   "id": "3cc8dbf9",
   "metadata": {},
   "outputs": [
    {
     "data": {
      "text/plain": [
       "tensor(-2.9038, device='cuda:0', grad_fn=<MeanBackward0>)"
      ]
     },
     "execution_count": 76,
     "metadata": {},
     "output_type": "execute_result"
    }
   ],
   "source": [
    "torch.mean(t)"
   ]
  },
  {
   "cell_type": "code",
   "execution_count": 78,
   "id": "d46fab1d",
   "metadata": {},
   "outputs": [
    {
     "data": {
      "text/plain": [
       "(tensor(7.6561e-07), tensor(0.0005))"
      ]
     },
     "execution_count": 78,
     "metadata": {},
     "output_type": "execute_result"
    }
   ],
   "source": [
    "get_variances(t.detach().cpu())"
   ]
  },
  {
   "cell_type": "code",
   "execution_count": 28,
   "id": "8c889687",
   "metadata": {},
   "outputs": [
    {
     "data": {
      "text/plain": [
       "(tensor(1.2284e-06), tensor(0.0005))"
      ]
     },
     "execution_count": 28,
     "metadata": {},
     "output_type": "execute_result"
    }
   ],
   "source": [
    "get_variances(energies_full[0].detach().cpu())"
   ]
  },
  {
   "cell_type": "code",
   "execution_count": 54,
   "id": "63009029",
   "metadata": {},
   "outputs": [],
   "source": [
    "t = torch.stack(energies_full)\n",
    "t = t.reshape(150, 4500)"
   ]
  },
  {
   "cell_type": "code",
   "execution_count": 55,
   "id": "6647da09",
   "metadata": {},
   "outputs": [
    {
     "data": {
      "text/plain": [
       "torch.Size([150, 4500])"
      ]
     },
     "execution_count": 55,
     "metadata": {},
     "output_type": "execute_result"
    }
   ],
   "source": [
    "t.shape"
   ]
  },
  {
   "cell_type": "code",
   "execution_count": 63,
   "id": "37109f48",
   "metadata": {},
   "outputs": [],
   "source": [
    "running_avg = running_average(torch.mean(t, dim=0), 5).detach().cpu()"
   ]
  },
  {
   "cell_type": "code",
   "execution_count": 73,
   "id": "65c92183",
   "metadata": {},
   "outputs": [],
   "source": [
    "exp_running_avg = running_exponential_average(torch.mean(t, dim=0), 5, decay=0.99).detach().cpu()"
   ]
  },
  {
   "cell_type": "code",
   "execution_count": 75,
   "id": "a4d34f6d",
   "metadata": {},
   "outputs": [
    {
     "data": {
      "text/plain": [
       "Text(0, 0.5, 'localE')"
      ]
     },
     "execution_count": 75,
     "metadata": {},
     "output_type": "execute_result"
    },
    {
     "data": {
      "image/png": "[encoded data removed]",
      "text/plain": [
       "<Figure size 640x480 with 1 Axes>"
      ]
     },
     "metadata": {},
     "output_type": "display_data"
    }
   ],
   "source": [
    "plt.plot(running_avg)\n",
    "plt.title(f\"Running average (window=10) averaged over {150} walkers\")\n",
    "plt.xlabel(\"MC steps (skipped first 500)\")\n",
    "plt.ylabel(\"localE\")"
   ]
  },
  {
   "cell_type": "code",
   "execution_count": 74,
   "id": "029d3b1d",
   "metadata": {},
   "outputs": [
    {
     "data": {
      "text/plain": [
       "Text(0.5, 1.0, 'Running average (window=10) averaged over 150 walkers')"
      ]
     },
     "execution_count": 74,
     "metadata": {},
     "output_type": "execute_result"
    },
    {
     "data": {
      "image/png": "[encoded data removed]",
      "text/plain": [
       "<Figure size 640x480 with 1 Axes>"
      ]
     },
     "metadata": {},
     "output_type": "display_data"
    }
   ],
   "source": [
    "plt.plot(exp_running_avg)\n",
    "plt.title(f\"Running average (window=10) averaged over {150} walkers\")"
   ]
  },
  {
   "cell_type": "code",
   "execution_count": 77,
   "id": "53806e95",
   "metadata": {},
   "outputs": [
    {
     "data": {
      "text/plain": [
       "[<matplotlib.lines.Line2D at 0x200cba5adb0>]"
      ]
     },
     "execution_count": 77,
     "metadata": {},
     "output_type": "execute_result"
    },
    {
     "data": {
      "image/png": "[encoded data removed]",
      "text/plain": [
       "<Figure size 640x480 with 1 Axes>"
      ]
     },
     "metadata": {},
     "output_type": "display_data"
    }
   ],
   "source": [
    "plt.plot(torch.stack(energies).detach())"
   ]
  },
  {
   "cell_type": "markdown",
   "id": "06718e62",
   "metadata": {},
   "source": [
    "Incoporate skipping the first n steps in local energy and gradient calulations"
   ]
  }
 ],
 "metadata": {
  "kernelspec": {
   "display_name": "pytorch_gpu",
   "language": "python",
   "name": "python3"
  },
  "language_info": {
   "codemirror_mode": {
    "name": "ipython",
    "version": 3
   },
   "file_extension": ".py",
   "mimetype": "text/x-python",
   "name": "python",
   "nbconvert_exporter": "python",
   "pygments_lexer": "ipython3",
   "version": "3.12.3"
  }
 },
 "nbformat": 4,
 "nbformat_minor": 5
}
