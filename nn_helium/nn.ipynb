{
 "cells": [
  {
   "cell_type": "markdown",
   "id": "9273957a",
   "metadata": {},
   "source": [
    "## Starter notebook for MLP ansatz for Helium"
   ]
  },
  {
   "cell_type": "markdown",
   "id": "ec64533c",
   "metadata": {},
   "source": [
    "1. Energy - using Hessian,\n",
    "2. Gradients - using known formula (update manually),\n",
    "3. Optimization - ADAM.\n",
    "\n",
    "First, non-symmetric, without Jastrow factor, to slowly add complexity"
   ]
  },
  {
   "cell_type": "code",
   "execution_count": 1,
   "id": "76d0d661",
   "metadata": {},
   "outputs": [],
   "source": [
    "import torch\n",
    "import torch.nn as nn\n",
    "import numpy as np\n",
    "from tqdm import tqdm\n",
    "from torch import vmap\n",
    "from functorch import make_functional, vmap, grad\n",
    "import matplotlib.pyplot as plt\n",
    "from nn import model, psi_nn"
   ]
  },
  {
   "cell_type": "markdown",
   "id": "131c2d90",
   "metadata": {},
   "source": [
    "### Model definition"
   ]
  },
  {
   "cell_type": "code",
   "execution_count": 2,
   "id": "848ea277",
   "metadata": {},
   "outputs": [],
   "source": [
    "device = torch.device('cuda')\n",
    "cpu = torch.device('cpu')"
   ]
  },
  {
   "cell_type": "markdown",
   "id": "c227514a",
   "metadata": {},
   "source": [
    "### Metropolis sampling"
   ]
  },
  {
   "cell_type": "code",
   "execution_count": 3,
   "id": "7287c031",
   "metadata": {},
   "outputs": [],
   "source": [
    "def metropolis(N: int, n_runs: int, model):  \n",
    "    \n",
    "    L = 0.5\n",
    "    \n",
    "    r1 = torch.rand(n_runs, 3)\n",
    "    r2 = torch.rand(n_runs, 3)\n",
    "\n",
    "    sampled_Xs = []\n",
    "    accept_count = 0\n",
    "\n",
    "    for _ in tqdm(range(N)):\n",
    "        chose = torch.rand(n_runs, 1)\n",
    "\n",
    "        perturbed_r1 = r1 + L * torch.randn(n_runs, 3)\n",
    "        perturbed_r2 = r2 + L * torch.randn(n_runs, 3)\n",
    "\n",
    "        r1_trial = torch.where(chose < 0.5, perturbed_r1, r1)\n",
    "        r2_trial = torch.where(chose >= 0.5, perturbed_r2, r2)\n",
    "\n",
    "        x_old = torch.cat((r1, r2), dim=1)\n",
    "        x_trial = torch.cat((r1_trial, r2_trial), dim=1)\n",
    "\n",
    "        psi_val = psi_nn(x_old, model, return_log=True)\n",
    "        psi_trial_val = psi_nn(x_trial, model, return_log=True)\n",
    "\n",
    "        #psi_ratio = (psi_trial_val / psi_val) ** 2\n",
    "        psi_ratio = torch.exp(2 * (psi_trial_val - psi_val)) \n",
    "\n",
    "        rand_uniform = torch.rand(n_runs)\n",
    "\n",
    "        accepted = psi_ratio > rand_uniform\n",
    "        accept_count += accepted.sum().item()\n",
    "\n",
    "        mask = accepted.unsqueeze(1)\n",
    "\n",
    "        r1 = torch.where(mask, r1_trial, r1)\n",
    "        r2 = torch.where(mask, r2_trial, r2)\n",
    "\n",
    "        sampled_Xs.append(torch.cat((r1, r2), dim=1))\n",
    "\n",
    "    acceptance_ratio = accept_count / (N * n_runs)\n",
    "    print(f\"Acceptance ratio: {acceptance_ratio:.4f}\")\n",
    "\n",
    "    return torch.stack(sampled_Xs)\n"
   ]
  },
  {
   "cell_type": "markdown",
   "id": "7e84de57",
   "metadata": {},
   "source": [
    "### Local energy"
   ]
  },
  {
   "cell_type": "code",
   "execution_count": 4,
   "id": "675510e8",
   "metadata": {},
   "outputs": [],
   "source": [
    "\n",
    "\n",
    "def local_energy(positions, model):\n",
    "    positions = positions.clone().detach().requires_grad_(True)\n",
    "\n",
    "    # Split into r1, r2 vectors\n",
    "    r1_vec = positions[:, 0:3]\n",
    "    r2_vec = positions[:, 3:6]\n",
    "\n",
    "    # Scalar distances\n",
    "    r1 = torch.norm(r1_vec, dim=1, keepdim=True)\n",
    "    r2 = torch.norm(r2_vec, dim=1, keepdim=True)\n",
    "    r12 = torch.norm(r1_vec - r2_vec, dim=1, keepdim=True)\n",
    "\n",
    "    # Prepare input for NN\n",
    "    scalar_features = torch.cat([r1, r2, r12], dim=1)\n",
    "\n",
    "    # Evaluate log ψ\n",
    "    log_psi_val = psi_nn(positions, model, return_log=False)\n",
    "\n",
    "    # Gradient ∇ log(ψ)\n",
    "    grad_log_psi = torch.autograd.grad(log_psi_val.sum(), positions, create_graph=True)[0]\n",
    "    grad_norm_sq = (grad_log_psi ** 2).sum(dim=1)\n",
    "\n",
    "    # Laplacian ∇² log(ψ)\n",
    "    laplacian = torch.zeros_like(log_psi_val)\n",
    "    for i in range(positions.shape[1]):\n",
    "        grad_i = grad_log_psi[:, i]\n",
    "        grad2_i = torch.autograd.grad(\n",
    "            grad_i.sum(), positions, create_graph=True\n",
    "        )[0][:, i]\n",
    "        laplacian += grad2_i\n",
    "\n",
    "    kinetic = -0.5 * (laplacian/log_psi_val)\n",
    "\n",
    "    # Potential energy: -2/r1 -2/r2 + 1/r12\n",
    "    eps = 1e-8  # avoid div by 0\n",
    "    potential = -2 / (r1.squeeze() + eps) - 2 / (r2.squeeze() + eps) + 1 / (r12.squeeze() + eps)\n",
    "\n",
    "    return kinetic + potential\n",
    "\n",
    "\n",
    "def get_local_energy(sampled_Xs, model):\n",
    "\n",
    "    mc_steps = sampled_Xs.shape[0]\n",
    "    walkers = sampled_Xs.shape[1]\n",
    "    reshaped_Xs = sampled_Xs.permute(1, 0, 2) # N_walkers, N, input_dim\n",
    "    flattened_Xs = reshaped_Xs.flatten(end_dim=1) # N_walkers * N, input_dim\n",
    "    local_E = local_energy(flattened_Xs, model) # N_walkers * N, 1\n",
    "    return local_E.reshape(walkers, mc_steps)\n",
    " "
   ]
  },
  {
   "cell_type": "markdown",
   "id": "3aa37532",
   "metadata": {},
   "source": [
    "### Gradients"
   ]
  },
  {
   "cell_type": "code",
   "execution_count": 5,
   "id": "8ed2efc7",
   "metadata": {},
   "outputs": [],
   "source": [
    "\n",
    "def parameter_gradients(x, E, model, n_walkers, mc_steps):\n",
    "    \n",
    "    fmodel, params = make_functional(model)\n",
    "\n",
    "    def psi_func(params, x):\n",
    "        return fmodel(params, x.unsqueeze(0)).squeeze()\n",
    "\n",
    "    grad_log_psi = grad(psi_func)\n",
    "\n",
    "    grads = vmap(grad_log_psi, in_dims=(None, 0))(params, x)\n",
    "    flat_grads = torch.cat([g.reshape(x.shape[0], -1) for g in grads], dim=1)\n",
    "\n",
    "    n_parameters = flat_grads.shape[-1]\n",
    "    \n",
    "    #psi_val = psi(x, model).unsqueeze(1).repeat(1, n_parameters)\n",
    "    \n",
    "    #flat_grads = flat_grads / psi_val\n",
    "\n",
    "\n",
    "    #mean_grad = torch.mean(flat_grads, axis=0)\n",
    "    E = E.flatten()\n",
    "    mean_E = torch.mean(E)\n",
    "\n",
    "    centered_E = E - mean_E\n",
    "    centered_grads = flat_grads # - mean_grad.unsqueeze(0).repeat(mc_steps, 1)\n",
    "\n",
    "    grads = torch.mean(centered_grads.T * centered_E, axis=1)\n",
    "\n",
    "    \n",
    "    return grads.reshape(n_parameters, 1)\n",
    "\n",
    "def get_parameter_gradients(sampled_Xs, local_E, model):\n",
    "\n",
    "    mc_steps = sampled_Xs.shape[0]\n",
    "    n_walkers = sampled_Xs.shape[1]\n",
    "    reshaped_Xs = sampled_Xs.permute(1, 0, 2) # N_walkers, N, input_dim\n",
    "    flattened_Xs = reshaped_Xs.flatten(end_dim=1) # N_walkers * N, input_dim\n",
    "\n",
    "    return parameter_gradients(flattened_Xs, local_E, model, n_walkers, mc_steps)\n"
   ]
  },
  {
   "cell_type": "markdown",
   "id": "1e226ce8",
   "metadata": {},
   "source": [
    "### Assigning gradients to model"
   ]
  },
  {
   "cell_type": "code",
   "execution_count": 6,
   "id": "55f3ba0e",
   "metadata": {},
   "outputs": [],
   "source": [
    "def assign_gradients_to_model(parameter_gradients, model):\n",
    "    \"\"\"Assign a flattened gradient vector to model parameters.\"\"\"\n",
    "    pointer = 0\n",
    "    for p in model.parameters():\n",
    "        numel = p.numel()\n",
    "        p.grad = parameter_gradients[pointer:pointer + numel].view_as(p).clone()\n",
    "        pointer += numel\n",
    "\n",
    "    return"
   ]
  },
  {
   "cell_type": "markdown",
   "id": "e9218e59",
   "metadata": {},
   "source": [
    "### Utils"
   ]
  },
  {
   "cell_type": "code",
   "execution_count": 7,
   "id": "494e720b",
   "metadata": {},
   "outputs": [],
   "source": [
    "def running_average(tensor, window_size=None):\n",
    "    cumsum = torch.cumsum(tensor, dim=0)\n",
    "    if window_size is None:\n",
    "        # For the full running average (over all elements)\n",
    "        return cumsum / torch.arange(1, len(tensor) + 1, device=tensor.device, dtype=torch.float32)\n",
    "    else:\n",
    "        # For a moving average with a fixed window size\n",
    "        window = torch.ones(window_size, device=tensor.device)\n",
    "        conv = torch.conv1d(tensor.unsqueeze(0).unsqueeze(0), window.unsqueeze(0).unsqueeze(0), padding=window_size//2)\n",
    "        return conv.squeeze(0).squeeze(0)\n",
    "    \n",
    "def get_variances(E):\n",
    "    # Variance in random walkers mean energy\n",
    "    random_walker_variance = torch.mean((torch.mean(E.to(cpu), axis=1) - torch.mean(E)) ** 2)\n",
    "    # Mean along the sample dimension (dim=1)\n",
    "    mean_E_trial = E.mean(dim=1)                 # shape: (n_trials,)\n",
    "\n",
    "    # Broadcasting: subtract column‑wise, then average again along dim=1\n",
    "    var_E_trial  = torch.mean(((E - mean_E_trial[:, None]) ** 2).mean(dim=1))\n",
    "\n",
    "    return random_walker_variance, var_E_trial"
   ]
  },
  {
   "cell_type": "code",
   "execution_count": null,
   "id": "f0aac884",
   "metadata": {},
   "outputs": [],
   "source": [
    "sampled_Xs.shape\n",
    "\n",
    "r1 = torch.norm(sampled_Xs[:, :, :3], dim=2, keepdim=True)\n",
    "r2 = torch.norm(sampled_Xs[:, :, 3:], dim=2, keepdim=True)\n",
    "r12 = torch.norm(sampled_Xs[:, :, :3] - sampled_Xs[:, :, 3:], dim=2, keepdim=True)\n",
    "torch.cat([r1, r2, r12], dim=2).shape"
   ]
  },
  {
   "cell_type": "code",
   "execution_count": 24,
   "id": "9cc452e1",
   "metadata": {},
   "outputs": [
    {
     "data": {
      "text/plain": [
       "torch.Size([4500, 20, 3])"
      ]
     },
     "execution_count": 24,
     "metadata": {},
     "output_type": "execute_result"
    }
   ],
   "source": [
    "torch.cat([r1, r2, r12], dim=2).shape"
   ]
  },
  {
   "cell_type": "code",
   "execution_count": 21,
   "id": "9bc61bec",
   "metadata": {},
   "outputs": [
    {
     "data": {
      "text/plain": [
       "torch.Size([4500, 20, 1])"
      ]
     },
     "execution_count": 21,
     "metadata": {},
     "output_type": "execute_result"
    }
   ],
   "source": [
    "r1.shape"
   ]
  },
  {
   "cell_type": "code",
   "execution_count": 31,
   "id": "96ab042e",
   "metadata": {},
   "outputs": [
    {
     "ename": "AttributeError",
     "evalue": "'torch.Size' object has no attribute 'shape'",
     "output_type": "error",
     "traceback": [
      "\u001b[1;31m---------------------------------------------------------------------------\u001b[0m",
      "\u001b[1;31mAttributeError\u001b[0m                            Traceback (most recent call last)",
      "Cell \u001b[1;32mIn[31], line 1\u001b[0m\n\u001b[1;32m----> 1\u001b[0m grads \u001b[38;5;241m=\u001b[39m \u001b[43mget_parameter_gradients\u001b[49m\u001b[43m(\u001b[49m\u001b[43mgrad_Xs\u001b[49m\u001b[43m,\u001b[49m\u001b[43m \u001b[49m\u001b[43mlocal_E\u001b[49m\u001b[43m,\u001b[49m\u001b[43m \u001b[49m\u001b[43mmodel\u001b[49m\u001b[43m)\u001b[49m\n",
      "Cell \u001b[1;32mIn[30], line 34\u001b[0m, in \u001b[0;36mget_parameter_gradients\u001b[1;34m(sampled_Xs, local_E, model)\u001b[0m\n\u001b[0;32m     32\u001b[0m \u001b[38;5;28;01mdef\u001b[39;00m \u001b[38;5;21mget_parameter_gradients\u001b[39m(sampled_Xs, local_E, model):\n\u001b[1;32m---> 34\u001b[0m     mc_steps \u001b[38;5;241m=\u001b[39m \u001b[43msampled_Xs\u001b[49m\u001b[38;5;241;43m.\u001b[39;49m\u001b[43mshape\u001b[49m[\u001b[38;5;241m0\u001b[39m]\n\u001b[0;32m     35\u001b[0m     n_walkers \u001b[38;5;241m=\u001b[39m sampled_Xs\u001b[38;5;241m.\u001b[39mshape[\u001b[38;5;241m1\u001b[39m]\n\u001b[0;32m     36\u001b[0m     reshaped_Xs \u001b[38;5;241m=\u001b[39m sampled_Xs\u001b[38;5;241m.\u001b[39mpermute(\u001b[38;5;241m1\u001b[39m, \u001b[38;5;241m0\u001b[39m, \u001b[38;5;241m2\u001b[39m) \u001b[38;5;66;03m# N_walkers, N, input_dim\u001b[39;00m\n",
      "\u001b[1;31mAttributeError\u001b[0m: 'torch.Size' object has no attribute 'shape'"
     ]
    }
   ],
   "source": [
    "grads = get_parameter_gradients(grad_Xs, local_E, model)"
   ]
  },
  {
   "cell_type": "markdown",
   "id": "5769655f",
   "metadata": {},
   "source": [
    "### Training loop"
   ]
  },
  {
   "cell_type": "code",
   "execution_count": null,
   "id": "120888eb",
   "metadata": {},
   "outputs": [],
   "source": [
    "plt.plot(energies)"
   ]
  },
  {
   "cell_type": "code",
   "execution_count": null,
   "id": "17dd55f0",
   "metadata": {},
   "outputs": [],
   "source": [
    "\n",
    "energies = []\n",
    "optimizer = torch.optim.Adam(model.parameters())\n",
    "\n",
    "for i in range(100):\n",
    "    N = 5000\n",
    "    n_walkers = 20\n",
    "\n",
    "    sampled_Xs = metropolis(N, n_walkers, model.to(cpu))[500:]\n",
    "\n",
    "    local_E = get_local_energy(\n",
    "        sampled_Xs, model)\n",
    "    print(f\"Mean energy is {torch.mean(local_E)}\")\n",
    "    energies.append(torch.mean(local_E))\n",
    "\n",
    "    r1 = torch.norm(sampled_Xs[:, :, :3], dim=2, keepdim=True)\n",
    "    r2 = torch.norm(sampled_Xs[:, :, 3:], dim=2, keepdim=True)\n",
    "    r12 = torch.norm(sampled_Xs[:, :, :3] - sampled_Xs[:, :, 3:], dim=2, keepdim=True)\n",
    "    grad_Xs = torch.cat([r1, r2, r12], dim=2)\n",
    "\n",
    "    grads = get_parameter_gradients(grad_Xs, local_E, model)\n",
    "\n",
    "    #print(grads.shape)\n",
    "    assign_gradients_to_model(grads, model)\n",
    "\n",
    "    optimizer.step()  # apply gradients\n",
    "    torch.cuda.empty_cache()\n",
    "\n",
    "    \n"
   ]
  },
  {
   "cell_type": "code",
   "execution_count": 17,
   "id": "37109f48",
   "metadata": {},
   "outputs": [],
   "source": [
    "running_avg = running_average(local_E[0], 200)"
   ]
  },
  {
   "cell_type": "code",
   "execution_count": 18,
   "id": "a4d34f6d",
   "metadata": {},
   "outputs": [
    {
     "data": {
      "text/plain": [
       "[<matplotlib.lines.Line2D at 0x1e1b5b505c0>]"
      ]
     },
     "execution_count": 18,
     "metadata": {},
     "output_type": "execute_result"
    },
    {
     "data": {
      "image/png": "[encoded data removed]",
      "text/plain": [
       "<Figure size 640x480 with 1 Axes>"
      ]
     },
     "metadata": {},
     "output_type": "display_data"
    }
   ],
   "source": [
    "plt.plot(running_average(local_E[0].detach()))"
   ]
  },
  {
   "cell_type": "code",
   "execution_count": 77,
   "id": "53806e95",
   "metadata": {},
   "outputs": [
    {
     "data": {
      "text/plain": [
       "[<matplotlib.lines.Line2D at 0x200cba5adb0>]"
      ]
     },
     "execution_count": 77,
     "metadata": {},
     "output_type": "execute_result"
    },
    {
     "data": {
      "image/png": "[encoded data removed]",
      "text/plain": [
       "<Figure size 640x480 with 1 Axes>"
      ]
     },
     "metadata": {},
     "output_type": "display_data"
    }
   ],
   "source": [
    "plt.plot(torch.stack(energies).detach())"
   ]
  },
  {
   "cell_type": "markdown",
   "id": "06718e62",
   "metadata": {},
   "source": [
    "Incoporate skipping the first n steps in local energy and gradient calulations"
   ]
  }
 ],
 "metadata": {
  "kernelspec": {
   "display_name": "pytorch_gpu",
   "language": "python",
   "name": "python3"
  },
  "language_info": {
   "codemirror_mode": {
    "name": "ipython",
    "version": 3
   },
   "file_extension": ".py",
   "mimetype": "text/x-python",
   "name": "python",
   "nbconvert_exporter": "python",
   "pygments_lexer": "ipython3",
   "version": "3.12.3"
  }
 },
 "nbformat": 4,
 "nbformat_minor": 5
}
