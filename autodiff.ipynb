{
 "cells": [
  {
   "cell_type": "markdown",
   "id": "f363b1ff",
   "metadata": {},
   "source": [
    "### Reverse mode autodiff"
   ]
  },
  {
   "cell_type": "code",
   "execution_count": 11,
   "id": "5cc31dfd",
   "metadata": {},
   "outputs": [],
   "source": [
    "from typing import List\n",
    "from collections import defaultdict\n",
    "import numpy as np"
   ]
  },
  {
   "cell_type": "code",
   "execution_count": 12,
   "id": "0cfd5dcb",
   "metadata": {},
   "outputs": [],
   "source": [
    "class Variable:\n",
    "    def __init__(self, value, local_gradients=[]):\n",
    "        self.value = value\n",
    "        self.local_gradients = local_gradients\n",
    "    \n",
    "    def __add__(self, other):\n",
    "        return add(self, other)\n",
    "    \n",
    "    def __mul__(self, other):\n",
    "        return mul(self, other)\n",
    "    \n",
    "    def __sub__(self, other):\n",
    "        return add(self, neg(other))\n",
    "    \n",
    "    def __truediv__(self, other):\n",
    "        return mul(self, inv(other))\n",
    "    \n",
    "    def __pow__(self, other):\n",
    "        return pow(self, other)\n",
    "    \n",
    "    def __str__(self):\n",
    "        return f\"Value {self.value}\"\n",
    "\n",
    "# constants\n",
    "ONE = Variable(1.)\n",
    "NEG_ONE = Variable(-1.)    \n",
    "\n",
    "def add(a, b):\n",
    "    value = a.value + b.value    \n",
    "    local_gradients = (\n",
    "        (a, 1),\n",
    "        (b, 1)\n",
    "    )\n",
    "    return Variable(value, local_gradients)\n",
    "\n",
    "\n",
    "def mul(a, b):\n",
    "    value = a.value * b.value    \n",
    "    local_gradients = (\n",
    "        (a, b.value),\n",
    "        (b, a.value)\n",
    "    )\n",
    "    return Variable(value, local_gradients)\n",
    "\n",
    "def neg(a):\n",
    "    value = -1 * a.value\n",
    "    local_gradients = (\n",
    "        (a, -1),\n",
    "    )\n",
    "    return Variable(value, local_gradients)\n",
    "\n",
    "def inv(a):\n",
    "    value = 1. / a.value\n",
    "    local_gradients = (\n",
    "        (a, -1 / a.value**2),\n",
    "    )\n",
    "    return Variable(value, local_gradients)\n",
    "\n",
    "def sqrt(a):\n",
    "    value = np.sqrt(a.value)\n",
    "    local_gradients = (\n",
    "        (a, 1 / (2 * np.sqrt(a.value)))\n",
    "    )\n",
    "    return Variable(value, local_gradients)\n",
    "\n",
    "def pow(a, b):\n",
    "    value = a.value ** b\n",
    "    local_gradients = (\n",
    "        (a, b * (a.value ** (b - 1))),\n",
    "    )\n",
    "\n",
    "    return Variable(value, local_gradients)"
   ]
  },
  {
   "cell_type": "code",
   "execution_count": 5,
   "id": "f07c3ee4",
   "metadata": {},
   "outputs": [],
   "source": [
    "def sin(a):\n",
    "    value = np.sin(a.value)\n",
    "    local_gradients = (\n",
    "        (a, np.cos(a.value)),\n",
    "    )\n",
    "    return Variable(value, local_gradients)\n",
    "\n",
    "def exp(a):\n",
    "    value = np.exp(a.value)\n",
    "    local_gradients = (\n",
    "        (a, value),\n",
    "    )\n",
    "    return Variable(value, local_gradients)\n",
    "    \n",
    "def log(a):\n",
    "    value = np.log(a.value)\n",
    "    local_gradients = (\n",
    "        (a, 1. / a.value),\n",
    "    )\n",
    "    return Variable(value, local_gradients)\n"
   ]
  },
  {
   "cell_type": "code",
   "execution_count": 6,
   "id": "b72fc16d",
   "metadata": {},
   "outputs": [],
   "source": [
    "def get_gradients(variable):\n",
    "    \"\"\" Compute the first derivatives of `variable` \n",
    "    with respect to child variables.\n",
    "    \"\"\"\n",
    "    gradients = defaultdict(lambda: 0)\n",
    "    \n",
    "    def compute_gradients(variable, path_value):\n",
    "        for child_variable, local_gradient in variable.local_gradients:\n",
    "            # \"Multiply the edges of a path\":\n",
    "            value_of_path_to_child = path_value * local_gradient\n",
    "            # \"Add together the different paths\":\n",
    "            gradients[child_variable] += value_of_path_to_child\n",
    "            # recurse through graph:\n",
    "            compute_gradients(child_variable, value_of_path_to_child)\n",
    "    \n",
    "    compute_gradients(variable, path_value=1)\n",
    "    # (path_value=1 is from `variable` differentiated w.r.t. itself)\n",
    "    return gradients"
   ]
  },
  {
   "cell_type": "code",
   "execution_count": 7,
   "id": "e85e8777",
   "metadata": {},
   "outputs": [],
   "source": [
    "def f(a, b, c):\n",
    "    f = sin(a * b) + exp(Variable(-3) * c - (a / b))\n",
    "    return log(f * f) * c\n",
    "\n",
    "def f1(a, b, c):\n",
    "    f = exp(Variable(-2) * (a * a + b * b + c * c) ** 0.5)\n",
    "    return f\n",
    "\n",
    "def vanilla_E(r1, r2, alpha):\n",
    "    norm_r1 = np.linalg.norm(r1)\n",
    "    norm_r2 = np.linalg.norm(r2)\n",
    "    r12 = np.linalg.norm(r1 - r2)\n",
    "\n",
    "    dot_product = np.dot(r1 / norm_r1 - r2 / norm_r2, r1 - r2)\n",
    "\n",
    "    energy = - 4 + dot_product / (r12 * (1 + alpha * r12)**2) - 1 / (r12 * (1 + alpha * r12)**3) - 1/(4 * (1 + alpha * r12)**4) + 1 / r12 \n",
    "    return energy\n",
    "\n",
    "def E(a1, b1, c1, a2, b2, c2, alpha):\n",
    "    r1 = (a1 ** 2 + b1 ** 2 + c1 ** 2) ** 0.5\n",
    "    r2 = (a2 ** 2 + b2 ** 2 + c2 ** 2) ** 0.5\n",
    "    r12 = ((a1 - a2) ** 2 + (b1 - b2) ** 2 + (c1 - c2) ** 2) ** 0.5\n",
    "    dot_product = (a1 / r1) * (a2 / r2) + (b1 / r1) * (b2 / r2) + (c1 / r1) * (c2 / r2)\n",
    "\n",
    "    E = Variable(-4) + dot_product / (r12 * (Variable(1) + alpha * r12) ** 2) - Variable(1) / (r12 * (Variable(1) + alpha * r12) ** 3) - Variable(1)/(Variable(4) * (Variable(1) + alpha * r12)**4) + Variable(1) / r12\n",
    "\n",
    "    return E"
   ]
  },
  {
   "cell_type": "code",
   "execution_count": 8,
   "id": "04df4eee",
   "metadata": {},
   "outputs": [
    {
     "ename": "NameError",
     "evalue": "name 'np' is not defined",
     "output_type": "error",
     "traceback": [
      "\u001b[1;31m---------------------------------------------------------------------------\u001b[0m",
      "\u001b[1;31mNameError\u001b[0m                                 Traceback (most recent call last)",
      "Cell \u001b[1;32mIn[8], line 8\u001b[0m\n\u001b[0;32m      5\u001b[0m b2 \u001b[38;5;241m=\u001b[39m Variable(\u001b[38;5;241m3\u001b[39m)\n\u001b[0;32m      6\u001b[0m c2 \u001b[38;5;241m=\u001b[39m Variable(\u001b[38;5;241m-\u001b[39m\u001b[38;5;241m3\u001b[39m)\n\u001b[1;32m----> 8\u001b[0m r1 \u001b[38;5;241m=\u001b[39m \u001b[43mnp\u001b[49m\u001b[38;5;241m.\u001b[39marray([a1\u001b[38;5;241m.\u001b[39mvalue, b1\u001b[38;5;241m.\u001b[39mvalue, c1\u001b[38;5;241m.\u001b[39mvalue])\n\u001b[0;32m      9\u001b[0m r2 \u001b[38;5;241m=\u001b[39m np\u001b[38;5;241m.\u001b[39marray([a2\u001b[38;5;241m.\u001b[39mvalue, b2\u001b[38;5;241m.\u001b[39mvalue, c2\u001b[38;5;241m.\u001b[39mvalue])\n\u001b[0;32m     11\u001b[0m alpha \u001b[38;5;241m=\u001b[39m \u001b[38;5;241m0.3\u001b[39m\n",
      "\u001b[1;31mNameError\u001b[0m: name 'np' is not defined"
     ]
    }
   ],
   "source": [
    "a1 = Variable(3)\n",
    "b1 = Variable(3)\n",
    "c1 = Variable(2)\n",
    "a2 = Variable(5)\n",
    "b2 = Variable(3)\n",
    "c2 = Variable(-3)\n",
    "\n",
    "r1 = np.array([a1.value, b1.value, c1.value])\n",
    "r2 = np.array([a2.value, b2.value, c2.value])\n",
    "\n",
    "alpha = 0.3"
   ]
  },
  {
   "cell_type": "code",
   "execution_count": 9,
   "id": "85ec8289",
   "metadata": {},
   "outputs": [],
   "source": [
    "alpha_ = Variable(0.3)"
   ]
  },
  {
   "cell_type": "code",
   "execution_count": 10,
   "id": "ee413d95",
   "metadata": {},
   "outputs": [],
   "source": [
    "t = E(a1, b1, c1, a2, b2, c2, alpha_)"
   ]
  },
  {
   "cell_type": "markdown",
   "id": "e9d657d1",
   "metadata": {},
   "source": [
    "## Nth derivatives"
   ]
  },
  {
   "cell_type": "code",
   "execution_count": null,
   "id": "636104ea",
   "metadata": {},
   "outputs": [],
   "source": [
    "\n",
    "class Variable_:\n",
    "    def __init__(self, value, local_gradients=()):\n",
    "        self.value = value\n",
    "        self.local_gradients = local_gradients\n",
    "\n",
    "    def __add__(a, b):\n",
    "        return add(a, b)\n",
    "    \n",
    "    def __sub__(a, b):\n",
    "        return add(a, neg(b))\n",
    "    \n",
    "    def __mul__(a, b):\n",
    "        return mul(a, b)\n",
    "    \n",
    "    def __truediv__(a, b):\n",
    "        return div(a, b)\n",
    "    \n",
    "    def __pow__(a, b):\n",
    "        return pow(a, b)\n",
    "\n",
    "# Useful constants:\n",
    "ONE = Variable_(1.)\n",
    "NEG_ONE = Variable_(-1.)\n",
    "\n",
    "def add(a, b):\n",
    "    value = a.value + b.value    \n",
    "    local_gradients = (\n",
    "        # Note that local_gradients now contains lambda functions.\n",
    "        (a, lambda path_value: path_value),\n",
    "        # local gradient is 1, so multiply path_value by 1.\n",
    "        (b, lambda path_value: path_value)\n",
    "        # local gradient is 1, so multiply path_value by 1.\n",
    "    )\n",
    "    return Variable_(value, local_gradients)\n",
    "\n",
    "def mul(a, b):\n",
    "    value = a.value * b.value\n",
    "    local_gradients = (\n",
    "        (a, lambda path_value: path_value * b),\n",
    "        # local gradient for a is b, so multiply path_value by b.\n",
    "        (b, lambda path_value : path_value * a)\n",
    "        # local gradient for b is a, so multiply path_value by a.\n",
    "    )\n",
    "    return Variable_(value, local_gradients)\n",
    "\n",
    "def div(a, b):\n",
    "    value = a.value / b.value\n",
    "    local_gradients = (\n",
    "        (a, lambda path_value : path_value * ONE/b),\n",
    "        (b, lambda path_value : path_value * NEG_ONE * a/(b*b))\n",
    "    )\n",
    "    return Variable_(value, local_gradients)\n",
    "\n",
    "def exp(a):\n",
    "    value = np.exp(a.value)\n",
    "    local_gradients = (\n",
    "        (a, lambda path_value: path_value * a),\n",
    "    )\n",
    "    return Variable_(value, local_gradients)\n",
    "\n",
    "def pow(a, b):\n",
    "    value = a.value ** b.value\n",
    "    local_gradients = (\n",
    "        (a, lambda path_value: path_value * b * (a ** (b - ONE))),\n",
    "        (b, lambda path_value: (a ** b) * ln(b))\n",
    "    )\n",
    "\n",
    "    return Variable_(value, local_gradients)\n",
    "\n",
    "def neg(a):\n",
    "    value = NEG_ONE * a.value\n",
    "    local_gradients = (\n",
    "        (a, lambda path_value: path_value * NEG_ONE),\n",
    "    )\n",
    "    return Variable_(value, local_gradients)\n"
   ]
  },
  {
   "cell_type": "code",
   "execution_count": 133,
   "id": "f4b26905",
   "metadata": {},
   "outputs": [],
   "source": [
    "def get_gradients(variable):\n",
    "    \"\"\" Compute the first derivatives of `variable` \n",
    "    with respect to child variables.\n",
    "    \"\"\"\n",
    "    gradients = defaultdict(lambda: Variable(0))\n",
    "    \n",
    "    def compute_gradients(variable, path_value):\n",
    "        for child_variable, multiply_by_locgrad in variable.local_gradients:\n",
    "            # \"Multiply the edges of a path\":\n",
    "            value_of_path_to_child = multiply_by_locgrad(path_value)  # Now a function is used here.\n",
    "            # \"Add together the different paths\":\n",
    "            gradients[child_variable] += value_of_path_to_child\n",
    "            # recurse through graph:\n",
    "            compute_gradients(child_variable, value_of_path_to_child)\n",
    "    \n",
    "    compute_gradients(variable, path_value=ONE)  # Now path_value is a Variable.\n",
    "    # (path_value=1 is from `variable` differentiated w.r.t. itself)\n",
    "    return gradients"
   ]
  },
  {
   "cell_type": "code",
   "execution_count": 134,
   "id": "df516265",
   "metadata": {},
   "outputs": [],
   "source": [
    "a = Variable_(0.2)\n",
    "b = Variable_(0.1)\n",
    "c = Variable_(-0.3)"
   ]
  },
  {
   "cell_type": "code",
   "execution_count": 135,
   "id": "d4a0d4bb",
   "metadata": {},
   "outputs": [
    {
     "name": "stdout",
     "output_type": "stream",
     "text": [
      "y.value = 9\n",
      "The derivative of y with respect to x = 6.0\n",
      "The 2nd derivative of y with respect to x = 2.0\n"
     ]
    }
   ],
   "source": [
    "\"\"\"\n",
    "A 2nd derivative example.\n",
    "y = x*x = x**2\n",
    "y' = 2x (= 2*3 = 6)\n",
    "y'' = 2\n",
    "\"\"\"\n",
    "\n",
    "x = Variable(3)\n",
    "y = x * x\n",
    "\n",
    "derivs_1 = get_gradients(y)\n",
    "dy_by_dx = derivs_1[x]\n",
    "\n",
    "print('y.value =', y.value)\n",
    "print(\"The derivative of y with respect to x =\", dy_by_dx.value)\n",
    "\n",
    "derivs_2 = get_gradients(dy_by_dx)\n",
    "dy_by_dx2 = derivs_2[x]\n",
    "print(\"The 2nd derivative of y with respect to x =\", dy_by_dx2.value)"
   ]
  },
  {
   "cell_type": "code",
   "execution_count": 137,
   "id": "113f44e7",
   "metadata": {},
   "outputs": [
    {
     "ename": "TypeError",
     "evalue": "unsupported operand type(s) for *: 'float' and 'Variable'",
     "output_type": "error",
     "traceback": [
      "\u001b[1;31m---------------------------------------------------------------------------\u001b[0m",
      "\u001b[1;31mTypeError\u001b[0m                                 Traceback (most recent call last)",
      "Cell \u001b[1;32mIn[137], line 2\u001b[0m\n\u001b[0;32m      1\u001b[0m f \u001b[38;5;241m=\u001b[39m exp(a \u001b[38;5;241m*\u001b[39m\u001b[38;5;241m*\u001b[39m Variable(\u001b[38;5;241m2\u001b[39m))\n\u001b[1;32m----> 2\u001b[0m \u001b[43mget_gradients\u001b[49m\u001b[43m(\u001b[49m\u001b[43mf\u001b[49m\u001b[43m)\u001b[49m[a]\n",
      "Cell \u001b[1;32mIn[133], line 16\u001b[0m, in \u001b[0;36mget_gradients\u001b[1;34m(variable)\u001b[0m\n\u001b[0;32m     13\u001b[0m         \u001b[38;5;66;03m# recurse through graph:\u001b[39;00m\n\u001b[0;32m     14\u001b[0m         compute_gradients(child_variable, value_of_path_to_child)\n\u001b[1;32m---> 16\u001b[0m \u001b[43mcompute_gradients\u001b[49m\u001b[43m(\u001b[49m\u001b[43mvariable\u001b[49m\u001b[43m,\u001b[49m\u001b[43m \u001b[49m\u001b[43mpath_value\u001b[49m\u001b[38;5;241;43m=\u001b[39;49m\u001b[43mONE\u001b[49m\u001b[43m)\u001b[49m  \u001b[38;5;66;03m# Now path_value is a Variable.\u001b[39;00m\n\u001b[0;32m     17\u001b[0m \u001b[38;5;66;03m# (path_value=1 is from `variable` differentiated w.r.t. itself)\u001b[39;00m\n\u001b[0;32m     18\u001b[0m \u001b[38;5;28;01mreturn\u001b[39;00m gradients\n",
      "Cell \u001b[1;32mIn[133], line 14\u001b[0m, in \u001b[0;36mget_gradients.<locals>.compute_gradients\u001b[1;34m(variable, path_value)\u001b[0m\n\u001b[0;32m     12\u001b[0m gradients[child_variable] \u001b[38;5;241m+\u001b[39m\u001b[38;5;241m=\u001b[39m value_of_path_to_child\n\u001b[0;32m     13\u001b[0m \u001b[38;5;66;03m# recurse through graph:\u001b[39;00m\n\u001b[1;32m---> 14\u001b[0m \u001b[43mcompute_gradients\u001b[49m\u001b[43m(\u001b[49m\u001b[43mchild_variable\u001b[49m\u001b[43m,\u001b[49m\u001b[43m \u001b[49m\u001b[43mvalue_of_path_to_child\u001b[49m\u001b[43m)\u001b[49m\n",
      "Cell \u001b[1;32mIn[133], line 10\u001b[0m, in \u001b[0;36mget_gradients.<locals>.compute_gradients\u001b[1;34m(variable, path_value)\u001b[0m\n\u001b[0;32m      7\u001b[0m \u001b[38;5;28;01mdef\u001b[39;00m \u001b[38;5;21mcompute_gradients\u001b[39m(variable, path_value):\n\u001b[0;32m      8\u001b[0m     \u001b[38;5;28;01mfor\u001b[39;00m child_variable, multiply_by_locgrad \u001b[38;5;129;01min\u001b[39;00m variable\u001b[38;5;241m.\u001b[39mlocal_gradients:\n\u001b[0;32m      9\u001b[0m         \u001b[38;5;66;03m# \"Multiply the edges of a path\":\u001b[39;00m\n\u001b[1;32m---> 10\u001b[0m         value_of_path_to_child \u001b[38;5;241m=\u001b[39m \u001b[43mmultiply_by_locgrad\u001b[49m\u001b[43m(\u001b[49m\u001b[43mpath_value\u001b[49m\u001b[43m)\u001b[49m  \u001b[38;5;66;03m# Now a function is used here.\u001b[39;00m\n\u001b[0;32m     11\u001b[0m         \u001b[38;5;66;03m# \"Add together the different paths\":\u001b[39;00m\n\u001b[0;32m     12\u001b[0m         gradients[child_variable] \u001b[38;5;241m+\u001b[39m\u001b[38;5;241m=\u001b[39m value_of_path_to_child\n",
      "Cell \u001b[1;32mIn[132], line 64\u001b[0m, in \u001b[0;36mpow.<locals>.<lambda>\u001b[1;34m(path_value)\u001b[0m\n\u001b[0;32m     61\u001b[0m \u001b[38;5;28;01mdef\u001b[39;00m \u001b[38;5;21mpow\u001b[39m(a, b):\n\u001b[0;32m     62\u001b[0m     value \u001b[38;5;241m=\u001b[39m a\u001b[38;5;241m.\u001b[39mvalue \u001b[38;5;241m*\u001b[39m\u001b[38;5;241m*\u001b[39m b\u001b[38;5;241m.\u001b[39mvalue\n\u001b[0;32m     63\u001b[0m     local_gradients \u001b[38;5;241m=\u001b[39m (\n\u001b[1;32m---> 64\u001b[0m         (a, \u001b[38;5;28;01mlambda\u001b[39;00m path_value: \u001b[43mpath_value\u001b[49m\u001b[43m \u001b[49m\u001b[38;5;241;43m*\u001b[39;49m\u001b[43m \u001b[49m\u001b[43mVariable\u001b[49m\u001b[43m(\u001b[49m\u001b[43mb\u001b[49m\u001b[43m)\u001b[49m \u001b[38;5;241m*\u001b[39m (a \u001b[38;5;241m*\u001b[39m\u001b[38;5;241m*\u001b[39m (Variable(b) \u001b[38;5;241m-\u001b[39m ONE))),\n\u001b[0;32m     65\u001b[0m     )\n\u001b[0;32m     67\u001b[0m     \u001b[38;5;28;01mreturn\u001b[39;00m Variable_(value, local_gradients)\n",
      "Cell \u001b[1;32mIn[132], line 13\u001b[0m, in \u001b[0;36mVariable_.__mul__\u001b[1;34m(a, b)\u001b[0m\n\u001b[0;32m     12\u001b[0m \u001b[38;5;28;01mdef\u001b[39;00m \u001b[38;5;21m__mul__\u001b[39m(a, b):\n\u001b[1;32m---> 13\u001b[0m     \u001b[38;5;28;01mreturn\u001b[39;00m \u001b[43mmul\u001b[49m\u001b[43m(\u001b[49m\u001b[43ma\u001b[49m\u001b[43m,\u001b[49m\u001b[43m \u001b[49m\u001b[43mb\u001b[49m\u001b[43m)\u001b[49m\n",
      "Cell \u001b[1;32mIn[132], line 37\u001b[0m, in \u001b[0;36mmul\u001b[1;34m(a, b)\u001b[0m\n\u001b[0;32m     36\u001b[0m \u001b[38;5;28;01mdef\u001b[39;00m \u001b[38;5;21mmul\u001b[39m(a, b):\n\u001b[1;32m---> 37\u001b[0m     value \u001b[38;5;241m=\u001b[39m \u001b[43ma\u001b[49m\u001b[38;5;241;43m.\u001b[39;49m\u001b[43mvalue\u001b[49m\u001b[43m \u001b[49m\u001b[38;5;241;43m*\u001b[39;49m\u001b[43m \u001b[49m\u001b[43mb\u001b[49m\u001b[38;5;241;43m.\u001b[39;49m\u001b[43mvalue\u001b[49m\n\u001b[0;32m     38\u001b[0m     local_gradients \u001b[38;5;241m=\u001b[39m (\n\u001b[0;32m     39\u001b[0m         (a, \u001b[38;5;28;01mlambda\u001b[39;00m path_value: path_value \u001b[38;5;241m*\u001b[39m b),\n\u001b[0;32m     40\u001b[0m         \u001b[38;5;66;03m# local gradient for a is b, so multiply path_value by b.\u001b[39;00m\n\u001b[0;32m     41\u001b[0m         (b, \u001b[38;5;28;01mlambda\u001b[39;00m path_value : path_value \u001b[38;5;241m*\u001b[39m a)\n\u001b[0;32m     42\u001b[0m         \u001b[38;5;66;03m# local gradient for b is a, so multiply path_value by a.\u001b[39;00m\n\u001b[0;32m     43\u001b[0m     )\n\u001b[0;32m     44\u001b[0m     \u001b[38;5;28;01mreturn\u001b[39;00m Variable_(value, local_gradients)\n",
      "\u001b[1;31mTypeError\u001b[0m: unsupported operand type(s) for *: 'float' and 'Variable'"
     ]
    }
   ],
   "source": [
    "f = exp(a ** Variable(2))\n",
    "get_gradients(f)[a]"
   ]
  },
  {
   "cell_type": "code",
   "execution_count": 107,
   "id": "2a440500",
   "metadata": {},
   "outputs": [],
   "source": [
    "def f1(a, b, c):\n",
    "    f = exp(Variable(-2) * (a * a + b * b + c * c) ** Variable_(0.5))\n",
    "    return f"
   ]
  },
  {
   "cell_type": "code",
   "execution_count": null,
   "id": "b3af1b57",
   "metadata": {},
   "outputs": [],
   "source": []
  },
  {
   "cell_type": "code",
   "execution_count": 108,
   "id": "cc53d18e",
   "metadata": {},
   "outputs": [
    {
     "ename": "AttributeError",
     "evalue": "'float' object has no attribute 'value'",
     "output_type": "error",
     "traceback": [
      "\u001b[1;31m---------------------------------------------------------------------------\u001b[0m",
      "\u001b[1;31mAttributeError\u001b[0m                            Traceback (most recent call last)",
      "Cell \u001b[1;32mIn[108], line 1\u001b[0m\n\u001b[1;32m----> 1\u001b[0m deriv_1 \u001b[38;5;241m=\u001b[39m \u001b[43mget_gradients\u001b[49m\u001b[43m(\u001b[49m\u001b[43mf1\u001b[49m\u001b[43m(\u001b[49m\u001b[43ma\u001b[49m\u001b[43m,\u001b[49m\u001b[43m \u001b[49m\u001b[43mb\u001b[49m\u001b[43m,\u001b[49m\u001b[43m \u001b[49m\u001b[43mc\u001b[49m\u001b[43m)\u001b[49m\u001b[43m)\u001b[49m\n",
      "Cell \u001b[1;32mIn[99], line 16\u001b[0m, in \u001b[0;36mget_gradients\u001b[1;34m(variable)\u001b[0m\n\u001b[0;32m     13\u001b[0m         \u001b[38;5;66;03m# recurse through graph:\u001b[39;00m\n\u001b[0;32m     14\u001b[0m         compute_gradients(child_variable, value_of_path_to_child)\n\u001b[1;32m---> 16\u001b[0m \u001b[43mcompute_gradients\u001b[49m\u001b[43m(\u001b[49m\u001b[43mvariable\u001b[49m\u001b[43m,\u001b[49m\u001b[43m \u001b[49m\u001b[43mpath_value\u001b[49m\u001b[38;5;241;43m=\u001b[39;49m\u001b[43mONE\u001b[49m\u001b[43m)\u001b[49m  \u001b[38;5;66;03m# Now path_value is a Variable.\u001b[39;00m\n\u001b[0;32m     17\u001b[0m \u001b[38;5;66;03m# (path_value=1 is from `variable` differentiated w.r.t. itself)\u001b[39;00m\n\u001b[0;32m     18\u001b[0m \u001b[38;5;28;01mreturn\u001b[39;00m gradients\n",
      "Cell \u001b[1;32mIn[99], line 14\u001b[0m, in \u001b[0;36mget_gradients.<locals>.compute_gradients\u001b[1;34m(variable, path_value)\u001b[0m\n\u001b[0;32m     12\u001b[0m gradients[child_variable] \u001b[38;5;241m+\u001b[39m\u001b[38;5;241m=\u001b[39m value_of_path_to_child\n\u001b[0;32m     13\u001b[0m \u001b[38;5;66;03m# recurse through graph:\u001b[39;00m\n\u001b[1;32m---> 14\u001b[0m \u001b[43mcompute_gradients\u001b[49m\u001b[43m(\u001b[49m\u001b[43mchild_variable\u001b[49m\u001b[43m,\u001b[49m\u001b[43m \u001b[49m\u001b[43mvalue_of_path_to_child\u001b[49m\u001b[43m)\u001b[49m\n",
      "Cell \u001b[1;32mIn[99], line 14\u001b[0m, in \u001b[0;36mget_gradients.<locals>.compute_gradients\u001b[1;34m(variable, path_value)\u001b[0m\n\u001b[0;32m     12\u001b[0m gradients[child_variable] \u001b[38;5;241m+\u001b[39m\u001b[38;5;241m=\u001b[39m value_of_path_to_child\n\u001b[0;32m     13\u001b[0m \u001b[38;5;66;03m# recurse through graph:\u001b[39;00m\n\u001b[1;32m---> 14\u001b[0m \u001b[43mcompute_gradients\u001b[49m\u001b[43m(\u001b[49m\u001b[43mchild_variable\u001b[49m\u001b[43m,\u001b[49m\u001b[43m \u001b[49m\u001b[43mvalue_of_path_to_child\u001b[49m\u001b[43m)\u001b[49m\n",
      "Cell \u001b[1;32mIn[99], line 10\u001b[0m, in \u001b[0;36mget_gradients.<locals>.compute_gradients\u001b[1;34m(variable, path_value)\u001b[0m\n\u001b[0;32m      7\u001b[0m \u001b[38;5;28;01mdef\u001b[39;00m \u001b[38;5;21mcompute_gradients\u001b[39m(variable, path_value):\n\u001b[0;32m      8\u001b[0m     \u001b[38;5;28;01mfor\u001b[39;00m child_variable, multiply_by_locgrad \u001b[38;5;129;01min\u001b[39;00m variable\u001b[38;5;241m.\u001b[39mlocal_gradients:\n\u001b[0;32m      9\u001b[0m         \u001b[38;5;66;03m# \"Multiply the edges of a path\":\u001b[39;00m\n\u001b[1;32m---> 10\u001b[0m         value_of_path_to_child \u001b[38;5;241m=\u001b[39m \u001b[43mmultiply_by_locgrad\u001b[49m\u001b[43m(\u001b[49m\u001b[43mpath_value\u001b[49m\u001b[43m)\u001b[49m  \u001b[38;5;66;03m# Now a function is used here.\u001b[39;00m\n\u001b[0;32m     11\u001b[0m         \u001b[38;5;66;03m# \"Add together the different paths\":\u001b[39;00m\n\u001b[0;32m     12\u001b[0m         gradients[child_variable] \u001b[38;5;241m+\u001b[39m\u001b[38;5;241m=\u001b[39m value_of_path_to_child\n",
      "Cell \u001b[1;32mIn[97], line 64\u001b[0m, in \u001b[0;36mpow.<locals>.<lambda>\u001b[1;34m(path_value)\u001b[0m\n\u001b[0;32m     61\u001b[0m \u001b[38;5;28;01mdef\u001b[39;00m \u001b[38;5;21mpow\u001b[39m(a, b):\n\u001b[0;32m     62\u001b[0m     value \u001b[38;5;241m=\u001b[39m a\u001b[38;5;241m.\u001b[39mvalue \u001b[38;5;241m*\u001b[39m\u001b[38;5;241m*\u001b[39m b\u001b[38;5;241m.\u001b[39mvalue\n\u001b[0;32m     63\u001b[0m     local_gradients \u001b[38;5;241m=\u001b[39m (\n\u001b[1;32m---> 64\u001b[0m         (a, \u001b[38;5;28;01mlambda\u001b[39;00m path_value: path_value \u001b[38;5;241m*\u001b[39m b \u001b[38;5;241m*\u001b[39m (a \u001b[38;5;241m*\u001b[39m\u001b[38;5;241m*\u001b[39m (\u001b[43mb\u001b[49m\u001b[43m \u001b[49m\u001b[38;5;241;43m-\u001b[39;49m\u001b[43m \u001b[49m\u001b[43mONE\u001b[49m))),\n\u001b[0;32m     65\u001b[0m     )\n\u001b[0;32m     67\u001b[0m     \u001b[38;5;28;01mreturn\u001b[39;00m Variable_(value, local_gradients)\n",
      "Cell \u001b[1;32mIn[97], line 10\u001b[0m, in \u001b[0;36mVariable_.__sub__\u001b[1;34m(a, b)\u001b[0m\n\u001b[0;32m      9\u001b[0m \u001b[38;5;28;01mdef\u001b[39;00m \u001b[38;5;21m__sub__\u001b[39m(a, b):\n\u001b[1;32m---> 10\u001b[0m     \u001b[38;5;28;01mreturn\u001b[39;00m add(a, \u001b[43mneg\u001b[49m\u001b[43m(\u001b[49m\u001b[43mb\u001b[49m\u001b[43m)\u001b[49m)\n",
      "Cell \u001b[1;32mIn[97], line 70\u001b[0m, in \u001b[0;36mneg\u001b[1;34m(a)\u001b[0m\n\u001b[0;32m     69\u001b[0m \u001b[38;5;28;01mdef\u001b[39;00m \u001b[38;5;21mneg\u001b[39m(a):\n\u001b[1;32m---> 70\u001b[0m     value \u001b[38;5;241m=\u001b[39m \u001b[43mNEG_ONE\u001b[49m\u001b[43m \u001b[49m\u001b[38;5;241;43m*\u001b[39;49m\u001b[43m \u001b[49m\u001b[43ma\u001b[49m\u001b[38;5;241;43m.\u001b[39;49m\u001b[43mvalue\u001b[49m\n\u001b[0;32m     71\u001b[0m     local_gradients \u001b[38;5;241m=\u001b[39m (\n\u001b[0;32m     72\u001b[0m         (a, \u001b[38;5;28;01mlambda\u001b[39;00m path_value: path_value \u001b[38;5;241m*\u001b[39m NEG_ONE),\n\u001b[0;32m     73\u001b[0m     )\n\u001b[0;32m     74\u001b[0m     \u001b[38;5;28;01mreturn\u001b[39;00m Variable_(value, local_gradients)\n",
      "Cell \u001b[1;32mIn[97], line 13\u001b[0m, in \u001b[0;36mVariable_.__mul__\u001b[1;34m(a, b)\u001b[0m\n\u001b[0;32m     12\u001b[0m \u001b[38;5;28;01mdef\u001b[39;00m \u001b[38;5;21m__mul__\u001b[39m(a, b):\n\u001b[1;32m---> 13\u001b[0m     \u001b[38;5;28;01mreturn\u001b[39;00m \u001b[43mmul\u001b[49m\u001b[43m(\u001b[49m\u001b[43ma\u001b[49m\u001b[43m,\u001b[49m\u001b[43m \u001b[49m\u001b[43mb\u001b[49m\u001b[43m)\u001b[49m\n",
      "Cell \u001b[1;32mIn[97], line 37\u001b[0m, in \u001b[0;36mmul\u001b[1;34m(a, b)\u001b[0m\n\u001b[0;32m     36\u001b[0m \u001b[38;5;28;01mdef\u001b[39;00m \u001b[38;5;21mmul\u001b[39m(a, b):\n\u001b[1;32m---> 37\u001b[0m     value \u001b[38;5;241m=\u001b[39m a\u001b[38;5;241m.\u001b[39mvalue \u001b[38;5;241m*\u001b[39m \u001b[43mb\u001b[49m\u001b[38;5;241;43m.\u001b[39;49m\u001b[43mvalue\u001b[49m\n\u001b[0;32m     38\u001b[0m     local_gradients \u001b[38;5;241m=\u001b[39m (\n\u001b[0;32m     39\u001b[0m         (a, \u001b[38;5;28;01mlambda\u001b[39;00m path_value: path_value \u001b[38;5;241m*\u001b[39m b),\n\u001b[0;32m     40\u001b[0m         \u001b[38;5;66;03m# local gradient for a is b, so multiply path_value by b.\u001b[39;00m\n\u001b[0;32m     41\u001b[0m         (b, \u001b[38;5;28;01mlambda\u001b[39;00m path_value : path_value \u001b[38;5;241m*\u001b[39m a)\n\u001b[0;32m     42\u001b[0m         \u001b[38;5;66;03m# local gradient for b is a, so multiply path_value by a.\u001b[39;00m\n\u001b[0;32m     43\u001b[0m     )\n\u001b[0;32m     44\u001b[0m     \u001b[38;5;28;01mreturn\u001b[39;00m Variable_(value, local_gradients)\n",
      "\u001b[1;31mAttributeError\u001b[0m: 'float' object has no attribute 'value'"
     ]
    }
   ],
   "source": [
    "deriv_1 = get_gradients(f1(a, b, c))"
   ]
  },
  {
   "cell_type": "code",
   "execution_count": 106,
   "id": "1b20e7fa",
   "metadata": {},
   "outputs": [
    {
     "data": {
      "text/plain": [
       "-0.336"
      ]
     },
     "execution_count": 106,
     "metadata": {},
     "output_type": "execute_result"
    }
   ],
   "source": [
    "deriv_1[c].value"
   ]
  },
  {
   "cell_type": "code",
   "execution_count": null,
   "id": "cc8d17d7",
   "metadata": {},
   "outputs": [],
   "source": []
  }
 ],
 "metadata": {
  "kernelspec": {
   "display_name": "pytorch_gpu",
   "language": "python",
   "name": "python3"
  },
  "language_info": {
   "codemirror_mode": {
    "name": "ipython",
    "version": 3
   },
   "file_extension": ".py",
   "mimetype": "text/x-python",
   "name": "python",
   "nbconvert_exporter": "python",
   "pygments_lexer": "ipython3",
   "version": "3.12.3"
  }
 },
 "nbformat": 4,
 "nbformat_minor": 5
}
