{
 "cells": [
  {
   "cell_type": "markdown",
   "id": "f363b1ff",
   "metadata": {},
   "source": [
    "### Reverse mode autodiff"
   ]
  },
  {
   "cell_type": "code",
   "execution_count": 13,
   "id": "5cc31dfd",
   "metadata": {},
   "outputs": [],
   "source": [
    "from typing import List\n",
    "from collections import defaultdict\n",
    "import numpy as np"
   ]
  },
  {
   "cell_type": "markdown",
   "id": "9319795b",
   "metadata": {},
   "source": [
    "1. Make computational graph\n",
    "2. Use relations to generate adjoints\n",
    "3. Test on a few cases"
   ]
  },
  {
   "cell_type": "code",
   "execution_count": null,
   "id": "0cfd5dcb",
   "metadata": {},
   "outputs": [],
   "source": [
    "class Variable:\n",
    "    def __init__(self, value, local_gradients=[]):\n",
    "        self.value = value\n",
    "        self.local_gradients = local_gradients\n",
    "    \n",
    "    def __add__(self, other):\n",
    "        return add(self, other)\n",
    "    \n",
    "    def __radd__(self, other):\n",
    "        self.value += other\n",
    "        return self\n",
    "    \n",
    "    def __mul__(self, other):\n",
    "        return mul(self, other)\n",
    "    \n",
    "    def __rmul__(self, other):\n",
    "        self.value *= other\n",
    "        self.local_gradients\n",
    "    \n",
    "    def __sub__(self, other):\n",
    "        return add(self, neg(other))\n",
    "    \n",
    "    def __rsub__(self, other):\n",
    "        return add(self, -other)\n",
    "\n",
    "    def __truediv__(self, other):\n",
    "        return mul(self, inv(other))\n",
    "    \n",
    "    def __rtruediv__(self, other):\n",
    "        return mul(self, 1 / other)\n",
    "    \n",
    "    def __str__(self):\n",
    "        return f\"Value {self.value}\"\n",
    "    \n",
    "def add(a, b):\n",
    "    value = a.value + b.value    \n",
    "    local_gradients = (\n",
    "        (a, 1),\n",
    "        (b, 1)\n",
    "    )\n",
    "    return Variable(value, local_gradients)\n",
    "\n",
    "\n",
    "def mul(a, b):\n",
    "    value = a.value * b.value    \n",
    "    local_gradients = (\n",
    "        (a, b.value),\n",
    "        (b, a.value)\n",
    "    )\n",
    "    return Variable(value, local_gradients)\n",
    "\n",
    "def neg(a):\n",
    "    value = -1 * a.value\n",
    "    local_gradients = (\n",
    "        (a, -1),\n",
    "    )\n",
    "    return Variable(value, local_gradients)\n",
    "\n",
    "def inv(a):\n",
    "    value = 1. / a.value\n",
    "    local_gradients = (\n",
    "        (a, -1 / a.value**2),\n",
    "    )\n",
    "    return Variable(value, local_gradients)     "
   ]
  },
  {
   "cell_type": "code",
   "execution_count": 17,
   "id": "f07c3ee4",
   "metadata": {},
   "outputs": [],
   "source": [
    "def sin(a):\n",
    "    value = np.sin(a.value)\n",
    "    local_gradients = (\n",
    "        (a, np.cos(a.value)),\n",
    "    )\n",
    "    return Variable(value, local_gradients)\n",
    "\n",
    "def exp(a):\n",
    "    value = np.exp(a.value)\n",
    "    local_gradients = (\n",
    "        (a, value),\n",
    "    )\n",
    "    return Variable(value, local_gradients)\n",
    "    \n",
    "def log(a):\n",
    "    value = np.log(a.value)\n",
    "    local_gradients = (\n",
    "        (a, 1. / a.value),\n",
    "    )\n",
    "    return Variable(value, local_gradients)"
   ]
  },
  {
   "cell_type": "code",
   "execution_count": 18,
   "id": "b72fc16d",
   "metadata": {},
   "outputs": [],
   "source": [
    "def get_gradients(variable):\n",
    "    \"\"\" Compute the first derivatives of `variable` \n",
    "    with respect to child variables.\n",
    "    \"\"\"\n",
    "    gradients = defaultdict(lambda: 0)\n",
    "    \n",
    "    def compute_gradients(variable, path_value):\n",
    "        for child_variable, local_gradient in variable.local_gradients:\n",
    "            # \"Multiply the edges of a path\":\n",
    "            value_of_path_to_child = path_value * local_gradient\n",
    "            # \"Add together the different paths\":\n",
    "            gradients[child_variable] += value_of_path_to_child\n",
    "            # recurse through graph:\n",
    "            compute_gradients(child_variable, value_of_path_to_child)\n",
    "    \n",
    "    compute_gradients(variable, path_value=1)\n",
    "    # (path_value=1 is from `variable` differentiated w.r.t. itself)\n",
    "    return gradients"
   ]
  },
  {
   "cell_type": "code",
   "execution_count": 19,
   "id": "ba1c3864",
   "metadata": {},
   "outputs": [
    {
     "ename": "TypeError",
     "evalue": "unsupported operand type(s) for *: 'float' and 'Variable'",
     "output_type": "error",
     "traceback": [
      "\u001b[1;31m---------------------------------------------------------------------------\u001b[0m",
      "\u001b[1;31mTypeError\u001b[0m                                 Traceback (most recent call last)",
      "Cell \u001b[1;32mIn[19], line 1\u001b[0m\n\u001b[1;32m----> 1\u001b[0m \u001b[38;5;28mprint\u001b[39m(\u001b[43ma\u001b[49m\u001b[43m \u001b[49m\u001b[38;5;241;43m*\u001b[39;49m\u001b[43m \u001b[49m\u001b[43mb\u001b[49m)\n",
      "Cell \u001b[1;32mIn[8], line 13\u001b[0m, in \u001b[0;36mVariable.__mul__\u001b[1;34m(self, other)\u001b[0m\n\u001b[0;32m     12\u001b[0m \u001b[38;5;28;01mdef\u001b[39;00m \u001b[38;5;21m__mul__\u001b[39m(\u001b[38;5;28mself\u001b[39m, other):\n\u001b[1;32m---> 13\u001b[0m     \u001b[38;5;28;01mreturn\u001b[39;00m \u001b[43mmul\u001b[49m\u001b[43m(\u001b[49m\u001b[38;5;28;43mself\u001b[39;49m\u001b[43m,\u001b[49m\u001b[43m \u001b[49m\u001b[43mother\u001b[49m\u001b[43m)\u001b[49m\n",
      "Cell \u001b[1;32mIn[16], line 60\u001b[0m, in \u001b[0;36mmul\u001b[1;34m(a, b)\u001b[0m\n\u001b[0;32m     54\u001b[0m     local_gradients \u001b[38;5;241m=\u001b[39m (\n\u001b[0;32m     55\u001b[0m         (a, b\u001b[38;5;241m.\u001b[39mvalue),\n\u001b[0;32m     56\u001b[0m         (b, a\u001b[38;5;241m.\u001b[39mvalue)\n\u001b[0;32m     57\u001b[0m     )\n\u001b[0;32m     59\u001b[0m \u001b[38;5;28;01melse\u001b[39;00m:\n\u001b[1;32m---> 60\u001b[0m     value \u001b[38;5;241m=\u001b[39m \u001b[43ma\u001b[49m\u001b[38;5;241;43m.\u001b[39;49m\u001b[43mvalue\u001b[49m\u001b[43m \u001b[49m\u001b[38;5;241;43m*\u001b[39;49m\u001b[43m \u001b[49m\u001b[43mb\u001b[49m\n\u001b[0;32m     61\u001b[0m     local_gradients \u001b[38;5;241m=\u001b[39m (\n\u001b[0;32m     62\u001b[0m         (a, b)\n\u001b[0;32m     63\u001b[0m     )\n\u001b[0;32m     65\u001b[0m \u001b[38;5;28;01mreturn\u001b[39;00m Variable(value, local_gradients)\n",
      "\u001b[1;31mTypeError\u001b[0m: unsupported operand type(s) for *: 'float' and 'Variable'"
     ]
    }
   ],
   "source": [
    "print(a * b)"
   ]
  },
  {
   "cell_type": "code",
   "execution_count": null,
   "id": "6d6fc830",
   "metadata": {},
   "outputs": [],
   "source": []
  },
  {
   "cell_type": "code",
   "execution_count": null,
   "id": "e85e8777",
   "metadata": {},
   "outputs": [
    {
     "ename": "TypeError",
     "evalue": "unsupported operand type(s) for +: 'NoneType' and 'NoneType'",
     "output_type": "error",
     "traceback": [
      "\u001b[1;31m---------------------------------------------------------------------------\u001b[0m",
      "\u001b[1;31mTypeError\u001b[0m                                 Traceback (most recent call last)",
      "Cell \u001b[1;32mIn[11], line 9\u001b[0m\n\u001b[0;32m      7\u001b[0m b \u001b[38;5;241m=\u001b[39m Variable(\u001b[38;5;241m33.2\u001b[39m)\n\u001b[0;32m      8\u001b[0m c \u001b[38;5;241m=\u001b[39m Variable(\u001b[38;5;241m23.3\u001b[39m)\n\u001b[1;32m----> 9\u001b[0m y \u001b[38;5;241m=\u001b[39m \u001b[43mf\u001b[49m\u001b[43m(\u001b[49m\u001b[43ma\u001b[49m\u001b[43m,\u001b[49m\u001b[43m \u001b[49m\u001b[43mb\u001b[49m\u001b[43m,\u001b[49m\u001b[43m \u001b[49m\u001b[43mc\u001b[49m\u001b[43m)\u001b[49m\n\u001b[0;32m     11\u001b[0m gradients \u001b[38;5;241m=\u001b[39m get_gradients(y)\n\u001b[0;32m     13\u001b[0m \u001b[38;5;28mprint\u001b[39m(\u001b[38;5;124m\"\u001b[39m\u001b[38;5;124mThe partial derivative of y with respect to a =\u001b[39m\u001b[38;5;124m\"\u001b[39m, gradients[a])\n",
      "Cell \u001b[1;32mIn[11], line 2\u001b[0m, in \u001b[0;36mf\u001b[1;34m(a, b, c)\u001b[0m\n\u001b[0;32m      1\u001b[0m \u001b[38;5;28;01mdef\u001b[39;00m \u001b[38;5;21mf\u001b[39m(a, b, c):\n\u001b[1;32m----> 2\u001b[0m     \u001b[38;5;28;01mreturn\u001b[39;00m \u001b[43ma\u001b[49m\u001b[38;5;241;43m*\u001b[39;49m\u001b[43mb\u001b[49m\u001b[43m \u001b[49m\u001b[38;5;241;43m+\u001b[39;49m\u001b[43m \u001b[49m\u001b[43mb\u001b[49m\u001b[38;5;241;43m*\u001b[39;49m\u001b[43mc\u001b[49m\n",
      "\u001b[1;31mTypeError\u001b[0m: unsupported operand type(s) for +: 'NoneType' and 'NoneType'"
     ]
    }
   ],
   "source": [
    "def f(a, b, c):\n",
    "    return a*b + b*c\n",
    "\n",
    "\n",
    "a = Variable(230.3)\n",
    "b = Variable(33.2)\n",
    "c = Variable(23.3)\n",
    "y = f(a, b, c)\n",
    "\n",
    "gradients = get_gradients(y)\n",
    "\n",
    "print(\"The partial derivative of y with respect to a =\", gradients[a])\n",
    "print(\"The partial derivative of y with respect to b =\", gradients[b])\n",
    "print(gradients[c])"
   ]
  },
  {
   "cell_type": "code",
   "execution_count": 81,
   "id": "3958e9c8",
   "metadata": {},
   "outputs": [
    {
     "data": {
      "text/plain": [
       "defaultdict(<function __main__.get_gradients.<locals>.<lambda>()>,\n",
       "            {<__main__.Variable at 0x1f0fe9327b0>: 1,\n",
       "             <__main__.Variable at 0x1f0ec628b90>: 33.2,\n",
       "             <__main__.Variable at 0x1f0fe933350>: 253.60000000000002,\n",
       "             <__main__.Variable at 0x1f0fe933770>: 1,\n",
       "             <__main__.Variable at 0x1f0fe932f00>: 33.2})"
      ]
     },
     "execution_count": 81,
     "metadata": {},
     "output_type": "execute_result"
    }
   ],
   "source": [
    "gradients"
   ]
  },
  {
   "cell_type": "code",
   "execution_count": null,
   "id": "04df4eee",
   "metadata": {},
   "outputs": [],
   "source": []
  }
 ],
 "metadata": {
  "kernelspec": {
   "display_name": "pytorch_gpu",
   "language": "python",
   "name": "python3"
  },
  "language_info": {
   "codemirror_mode": {
    "name": "ipython",
    "version": 3
   },
   "file_extension": ".py",
   "mimetype": "text/x-python",
   "name": "python",
   "nbconvert_exporter": "python",
   "pygments_lexer": "ipython3",
   "version": "3.12.3"
  }
 },
 "nbformat": 4,
 "nbformat_minor": 5
}
