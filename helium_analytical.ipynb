{
 "cells": [
  {
   "cell_type": "code",
   "execution_count": 85,
   "id": "44f837ae",
   "metadata": {},
   "outputs": [
    {
     "name": "stdout",
     "output_type": "stream",
     "text": [
      "The autoreload extension is already loaded. To reload it, use:\n",
      "  %reload_ext autoreload\n"
     ]
    }
   ],
   "source": [
    "%load_ext autoreload\n",
    "%autoreload 2"
   ]
  },
  {
   "cell_type": "code",
   "execution_count": 112,
   "id": "397dc826",
   "metadata": {},
   "outputs": [
    {
     "name": "stdout",
     "output_type": "stream",
     "text": [
      "Alpha:  0.38 <E>:  -2.8661267187654578 VarE:  0.08583457673619321 ratio =  0.6011199999999501\n",
      "Alpha:  0.34248509998858256 <E>:  -2.8675591323514213 VarE:  0.08463307548222687 ratio =  0.6013689999999501\n",
      "Alpha:  0.3060321346785905 <E>:  -2.8708454535018273 VarE:  0.0842238620007798 ratio =  0.6042109999999498\n",
      "Alpha:  0.27088748679090136 <E>:  -2.873930621631521 VarE:  0.0865424778983428 ratio =  0.6060949999999496\n",
      "Alpha:  0.23929423938755046 <E>:  -2.8727821953702124 VarE:  0.08968752662175561 ratio =  0.6062369999999495\n",
      "Alpha:  0.2108073218495078 <E>:  -2.87668914302869 VarE:  0.09417188769877605 ratio =  0.6092039999999492\n",
      "Alpha:  0.1880236257268929 <E>:  -2.8761841397409076 VarE:  0.0998772684316318 ratio =  0.610803999999949\n",
      "Alpha:  0.17141897555251473 <E>:  -2.878127938513277 VarE:  0.10385225734711767 ratio =  0.6123889999999489\n",
      "Alpha:  0.16035817189968793 <E>:  -2.8769068387490133 VarE:  0.10819543399027509 ratio =  0.611729999999949\n",
      "Alpha:  0.15275844941526528 <E>:  -2.8777706872958406 VarE:  0.1107585743916708 ratio =  0.611757999999949\n",
      "Alpha:  0.14955692946379895 <E>:  -2.8784616664814124 VarE:  0.11241971688266617 ratio =  0.6142649999999487\n",
      "Alpha:  0.147213622741723 <E>:  -2.876604977775187 VarE:  0.11272093420753926 ratio =  0.6134739999999487\n",
      "Alpha:  0.14513916476046862 <E>:  -2.8764858512971756 VarE:  0.11331807597312604 ratio =  0.6137339999999488\n",
      "Alpha:  0.14415142134604653 <E>:  -2.876955952856797 VarE:  0.11417258621937698 ratio =  0.6140739999999486\n",
      "Alpha:  0.1437048903036754 <E>:  -2.879036948791475 VarE:  0.11464179232239502 ratio =  0.6150949999999485\n",
      "Alpha:  0.14438589021336845 <E>:  -2.878866295569659 VarE:  0.11407245343898964 ratio =  0.6145489999999486\n",
      "Alpha:  0.14368851998426801 <E>:  -2.876502998989033 VarE:  0.11468858824473394 ratio =  0.6131369999999489\n",
      "Alpha:  0.14348348759047325 <E>:  -2.8744714234550264 VarE:  0.11407117423818036 ratio =  0.6137839999999488\n",
      "Alpha:  0.14359411402463473 <E>:  -2.8808900108696007 VarE:  0.11449778602020722 ratio =  0.6154259999999485\n",
      "Alpha:  0.1433707284908895 <E>:  -2.8784516392533073 VarE:  0.1135481980067059 ratio =  0.6146839999999485\n",
      "Alpha:  0.14335639278210188 <E>:  -2.8782235584402884 VarE:  0.11431481529568366 ratio =  0.6143529999999486\n",
      "Alpha:  0.14350563919320825 <E>:  -2.8764939904001947 VarE:  0.1139468814804161 ratio =  0.6131449999999488\n",
      "Alpha:  0.14404346849880134 <E>:  -2.877528365548132 VarE:  0.11393523264800898 ratio =  0.6133619999999488\n",
      "Alpha:  0.14276430524553485 <E>:  -2.876906022387965 VarE:  0.11375354274259664 ratio =  0.6140429999999487\n",
      "Alpha:  0.1421885155102821 <E>:  -2.8768220910673574 VarE:  0.11504912191043815 ratio =  0.6139789999999486\n",
      "Alpha:  0.14310849448880847 <E>:  -2.881012850759964 VarE:  0.11393337441019291 ratio =  0.6144379999999487\n",
      "Alpha:  0.14195177588253405 <E>:  -2.876302184032543 VarE:  0.1149071380996265 ratio =  0.6143319999999486\n",
      "Alpha:  0.14252272360091378 <E>:  -2.877060794771182 VarE:  0.11431430164399714 ratio =  0.6147589999999485\n",
      "Alpha:  0.1422168276807153 <E>:  -2.8779017002700282 VarE:  0.11500590253367449 ratio =  0.6139059999999487\n",
      "Alpha:  0.14157543404694584 <E>:  -2.8771437518970773 VarE:  0.1147629573958433 ratio =  0.6147059999999487\n",
      "Alpha:  0.14129707061354624 <E>:  -2.877164640145479 VarE:  0.11490797373083339 ratio =  0.6141189999999487\n",
      "Alpha:  0.14325884555337864 <E>:  -2.8782046723264068 VarE:  0.11462289521882596 ratio =  0.6147339999999486\n",
      "Alpha:  0.1428769229313992 <E>:  -2.876992972247418 VarE:  0.11492889528067884 ratio =  0.6140389999999487\n",
      "Alpha:  0.14351587420700473 <E>:  -2.877263429693214 VarE:  0.11350230859209098 ratio =  0.6148119999999487\n",
      "Alpha:  0.14435526697326873 <E>:  -2.879689948127528 VarE:  0.11335663905413007 ratio =  0.6143919999999485\n"
     ]
    },
    {
     "ename": "KeyboardInterrupt",
     "evalue": "",
     "output_type": "error",
     "traceback": [
      "\u001b[1;31m---------------------------------------------------------------------------\u001b[0m",
      "\u001b[1;31mKeyboardInterrupt\u001b[0m                         Traceback (most recent call last)",
      "Cell \u001b[1;32mIn[112], line 30\u001b[0m\n\u001b[0;32m     27\u001b[0m rejection_ratio \u001b[38;5;241m=\u001b[39m \u001b[38;5;241m0\u001b[39m\n\u001b[0;32m     28\u001b[0m alpha_step \u001b[38;5;241m=\u001b[39m \u001b[38;5;241m0.01\u001b[39m\n\u001b[1;32m---> 30\u001b[0m E_met, E2_met, Eln_met, ln_met, rejections_met \u001b[38;5;241m=\u001b[39m \u001b[43msim\u001b[49m\u001b[38;5;241;43m.\u001b[39;49m\u001b[43mmetropolis\u001b[49m\u001b[43m(\u001b[49m\u001b[43mN_metropolis\u001b[49m\u001b[43m)\u001b[49m\n\u001b[0;32m     31\u001b[0m E \u001b[38;5;241m=\u001b[39m np\u001b[38;5;241m.\u001b[39msum(E_met) \u001b[38;5;241m/\u001b[39m \u001b[38;5;28mlen\u001b[39m(E_met)\n\u001b[0;32m     32\u001b[0m E2 \u001b[38;5;241m=\u001b[39m np\u001b[38;5;241m.\u001b[39msum(E2_met) \u001b[38;5;241m/\u001b[39m \u001b[38;5;28mlen\u001b[39m(E2_met)\n",
      "File \u001b[1;32mc:\\Users\\Parv\\Doc\\RA\\Projects\\QVMC\\vmc.py:125\u001b[0m, in \u001b[0;36mVMCvec.metropolis\u001b[1;34m(self, N)\u001b[0m\n\u001b[0;32m    122\u001b[0m step \u001b[38;5;241m=\u001b[39m step \u001b[38;5;241m+\u001b[39m \u001b[38;5;241m1\u001b[39m\n\u001b[0;32m    124\u001b[0m perturbed_r1 \u001b[38;5;241m=\u001b[39m r1 \u001b[38;5;241m+\u001b[39m \u001b[38;5;241m0.5\u001b[39m \u001b[38;5;241m*\u001b[39m (np\u001b[38;5;241m.\u001b[39mrandom\u001b[38;5;241m.\u001b[39mrand(\u001b[38;5;28mself\u001b[39m\u001b[38;5;241m.\u001b[39mruns, \u001b[38;5;241m3\u001b[39m) \u001b[38;5;241m*\u001b[39m \u001b[38;5;241m2\u001b[39m \u001b[38;5;241m*\u001b[39m L \u001b[38;5;241m-\u001b[39m L)\n\u001b[1;32m--> 125\u001b[0m perturbed_r2 \u001b[38;5;241m=\u001b[39m r2 \u001b[38;5;241m+\u001b[39m \u001b[38;5;241m0.5\u001b[39m \u001b[38;5;241m*\u001b[39m (\u001b[43mnp\u001b[49m\u001b[38;5;241;43m.\u001b[39;49m\u001b[43mrandom\u001b[49m\u001b[38;5;241;43m.\u001b[39;49m\u001b[43mrand\u001b[49m\u001b[43m(\u001b[49m\u001b[38;5;28;43mself\u001b[39;49m\u001b[38;5;241;43m.\u001b[39;49m\u001b[43mruns\u001b[49m\u001b[43m,\u001b[49m\u001b[43m \u001b[49m\u001b[38;5;241;43m3\u001b[39;49m\u001b[43m)\u001b[49m \u001b[38;5;241m*\u001b[39m \u001b[38;5;241m2\u001b[39m \u001b[38;5;241m*\u001b[39m L \u001b[38;5;241m-\u001b[39m L)\n\u001b[0;32m    127\u001b[0m r1_trial \u001b[38;5;241m=\u001b[39m np\u001b[38;5;241m.\u001b[39mwhere(chose \u001b[38;5;241m<\u001b[39m \u001b[38;5;241m0.5\u001b[39m, perturbed_r1, r1)\n\u001b[0;32m    128\u001b[0m r2_trial \u001b[38;5;241m=\u001b[39m np\u001b[38;5;241m.\u001b[39mwhere(chose \u001b[38;5;241m>\u001b[39m\u001b[38;5;241m=\u001b[39m \u001b[38;5;241m0.5\u001b[39m, perturbed_r2, r2)\n",
      "\u001b[1;31mKeyboardInterrupt\u001b[0m: "
     ]
    }
   ],
   "source": [
    "\n",
    "import numpy as np\n",
    "from vmc import VMCvec, VMC\n",
    "from trial_wavefunctions import helium_1_param_vec, helium_1_param\n",
    "\n",
    "\n",
    "psi = helium_1_param_vec\n",
    "\n",
    "'''Initial parameters'''\n",
    "alpha = np.ones(100) * 0.38\n",
    "alpha_iterations = 50\n",
    "N_metropolis = 10000\n",
    "random_walkers = 1\n",
    "gamma = 0.5\n",
    "\n",
    "energy_plot = np.array([])\n",
    "alpha_plot = np.array([])\n",
    "variance_plot = np.array([])\n",
    "\n",
    "for i in range(alpha_iterations):\n",
    "    \n",
    "    sim = VMCvec(alpha, psi)\n",
    "    E = 0\n",
    "    E2 = 0\n",
    "    dE_dalpha = 0\n",
    "    Eln = 0\n",
    "    ln = 0\n",
    "    rejection_ratio = 0\n",
    "    alpha_step = 0.01\n",
    "\n",
    "    E_met, E2_met, Eln_met, ln_met, rejections_met = sim.metropolis(N_metropolis)\n",
    "    E = np.sum(E_met) / len(E_met)\n",
    "    E2 = np.sum(E2_met) / len(E2_met)\n",
    "    Eln = np.sum(Eln_met) / len(Eln_met)\n",
    "    ln = np.sum(ln_met) / len(ln_met)\n",
    "    rejection_ratio = np.sum(rejections_met) / len(rejections_met) \n",
    "\n",
    "    '''Define next alpha'''\n",
    "    dE_dalpha = 2 * (Eln - E * ln)\n",
    "    print('Alpha: ', alpha[0], '<E>: ', E, 'VarE: ', E2 - E **2, 'ratio = ', rejection_ratio)\n",
    "    #alpha = alpha + alpha_step\n",
    "    alpha = alpha - gamma * dE_dalpha\n",
    "\n",
    "    '''Plot'''    \n",
    "    energy_plot = np.append(energy_plot, E)\n",
    "    alpha_plot = np.append(alpha_plot, alpha)\n",
    "    variance_plot = np.append(variance_plot, E2-E**2)"
   ]
  },
  {
   "cell_type": "code",
   "execution_count": 111,
   "id": "014764bc",
   "metadata": {},
   "outputs": [
    {
     "name": "stdout",
     "output_type": "stream",
     "text": [
      "Alpha:  0.38 <E>:  -2.8516674667369415 VarE:  0.08715746205829866 ratio =  0.4012599999999721\n",
      "Alpha:  0.34236052605503187 <E>:  -2.874008312440419 VarE:  0.07953550924910147 ratio =  0.3974199999999726\n",
      "Alpha:  0.31178042132123285 <E>:  -2.8684673348679937 VarE:  0.08349745811906928 ratio =  0.39493999999997276\n",
      "Alpha:  0.27631422079193635 <E>:  -2.8795343816819923 VarE:  0.08529991793522207 ratio =  0.3925999999999731\n",
      "Alpha:  0.24074669549751804 <E>:  -2.872258314261832 VarE:  0.09335360594191577 ratio =  0.393679999999973\n",
      "Alpha:  0.21400344058634546 <E>:  -2.8859099203237775 VarE:  0.09211220618656668 ratio =  0.39453999999997286\n",
      "Alpha:  0.19208536901736684 <E>:  -2.8851133343131936 VarE:  0.09938047485525736 ratio =  0.3906599999999733\n",
      "Alpha:  0.17048980938972413 <E>:  -2.8821942304697727 VarE:  0.10078786436434584 ratio =  0.3910799999999732\n",
      "Alpha:  0.160065615453998 <E>:  -2.873679653463587 VarE:  0.10268804363070849 ratio =  0.38593999999997386\n",
      "Alpha:  0.153630495763856 <E>:  -2.872626014201885 VarE:  0.10979846609200905 ratio =  0.38967999999997344\n",
      "Alpha:  0.14443220538491175 <E>:  -2.8728476088668367 VarE:  0.11360534864604865 ratio =  0.3870599999999737\n",
      "Alpha:  0.1408544810538891 <E>:  -2.8799603503965403 VarE:  0.11599218396936806 ratio =  0.38647999999997373\n",
      "Alpha:  0.14390847647739735 <E>:  -2.8713224671962645 VarE:  0.11382444235127842 ratio =  0.3861999999999738\n",
      "Alpha:  0.14331506805114336 <E>:  -2.8680668410927668 VarE:  0.11205014018172754 ratio =  0.38695999999997377\n"
     ]
    },
    {
     "ename": "KeyboardInterrupt",
     "evalue": "",
     "output_type": "error",
     "traceback": [
      "\u001b[1;31m---------------------------------------------------------------------------\u001b[0m",
      "\u001b[1;31mKeyboardInterrupt\u001b[0m                         Traceback (most recent call last)",
      "Cell \u001b[1;32mIn[111], line 27\u001b[0m\n\u001b[0;32m     24\u001b[0m alpha_step \u001b[38;5;241m=\u001b[39m \u001b[38;5;241m0.01\u001b[39m\n\u001b[0;32m     26\u001b[0m \u001b[38;5;28;01mfor\u001b[39;00m j \u001b[38;5;129;01min\u001b[39;00m \u001b[38;5;28mrange\u001b[39m(random_walkers): \u001b[38;5;66;03m#We use more than one random_walkers in case one gets stuck at some X\u001b[39;00m\n\u001b[1;32m---> 27\u001b[0m     E_met, E2_met, Eln_met, ln_met, rejections_met \u001b[38;5;241m=\u001b[39m \u001b[43msim\u001b[49m\u001b[38;5;241;43m.\u001b[39;49m\u001b[43mmetropolis\u001b[49m\u001b[43m(\u001b[49m\u001b[43mN_metropolis\u001b[49m\u001b[43m)\u001b[49m\n\u001b[0;32m     28\u001b[0m     E \u001b[38;5;241m+\u001b[39m\u001b[38;5;241m=\u001b[39m E_met\u001b[38;5;241m/\u001b[39mrandom_walkers\n\u001b[0;32m     29\u001b[0m     E2 \u001b[38;5;241m+\u001b[39m\u001b[38;5;241m=\u001b[39m E2_met\u001b[38;5;241m/\u001b[39mrandom_walkers\n",
      "File \u001b[1;32mc:\\Users\\Parv\\Doc\\RA\\Projects\\QVMC\\vmc.py:73\u001b[0m, in \u001b[0;36mVMC.metropolis\u001b[1;34m(self, N)\u001b[0m\n\u001b[0;32m     71\u001b[0m \u001b[38;5;28;01mif\u001b[39;00m step \u001b[38;5;241m>\u001b[39m max_steps:\n\u001b[0;32m     72\u001b[0m     E \u001b[38;5;241m+\u001b[39m\u001b[38;5;241m=\u001b[39m \u001b[38;5;28mself\u001b[39m\u001b[38;5;241m.\u001b[39mE_local(r1, r2) \u001b[38;5;241m/\u001b[39m (N \u001b[38;5;241m-\u001b[39m max_steps)\n\u001b[1;32m---> 73\u001b[0m     E2 \u001b[38;5;241m+\u001b[39m\u001b[38;5;241m=\u001b[39m \u001b[38;5;28;43mself\u001b[39;49m\u001b[38;5;241;43m.\u001b[39;49m\u001b[43mE_local\u001b[49m\u001b[43m(\u001b[49m\u001b[43mr1\u001b[49m\u001b[43m,\u001b[49m\u001b[43m \u001b[49m\u001b[43mr2\u001b[49m\u001b[43m)\u001b[49m \u001b[38;5;241m*\u001b[39m\u001b[38;5;241m*\u001b[39m \u001b[38;5;241m2\u001b[39m \u001b[38;5;241m/\u001b[39m (N \u001b[38;5;241m-\u001b[39m max_steps)\n\u001b[0;32m     74\u001b[0m     r12 \u001b[38;5;241m=\u001b[39m np\u001b[38;5;241m.\u001b[39mlinalg\u001b[38;5;241m.\u001b[39mnorm(r1 \u001b[38;5;241m-\u001b[39m r2)\n\u001b[0;32m     75\u001b[0m     Eln_average \u001b[38;5;241m+\u001b[39m\u001b[38;5;241m=\u001b[39m (\u001b[38;5;28mself\u001b[39m\u001b[38;5;241m.\u001b[39mE_local(r1,r2) \u001b[38;5;241m*\u001b[39m \u001b[38;5;241m-\u001b[39mr12 \u001b[38;5;241m*\u001b[39m\u001b[38;5;241m*\u001b[39m \u001b[38;5;241m2\u001b[39m \u001b[38;5;241m/\u001b[39m (\u001b[38;5;241m2\u001b[39m \u001b[38;5;241m*\u001b[39m (\u001b[38;5;241m1\u001b[39m \u001b[38;5;241m+\u001b[39m \u001b[38;5;28mself\u001b[39m\u001b[38;5;241m.\u001b[39malpha \u001b[38;5;241m*\u001b[39m r12) \u001b[38;5;241m*\u001b[39m\u001b[38;5;241m*\u001b[39m \u001b[38;5;241m2\u001b[39m))\u001b[38;5;241m/\u001b[39m(N \u001b[38;5;241m-\u001b[39m max_steps)\n",
      "File \u001b[1;32mc:\\Users\\Parv\\Doc\\RA\\Projects\\QVMC\\vmc.py:31\u001b[0m, in \u001b[0;36mVMC.E_local\u001b[1;34m(self, r1, r2)\u001b[0m\n\u001b[0;32m     29\u001b[0m     dot_product \u001b[38;5;241m=\u001b[39m np\u001b[38;5;241m.\u001b[39mdiag(np\u001b[38;5;241m.\u001b[39mdot(r1 \u001b[38;5;241m/\u001b[39m norm_r1 \u001b[38;5;241m-\u001b[39m r2 \u001b[38;5;241m/\u001b[39m norm_r2, (r1 \u001b[38;5;241m-\u001b[39m r2)\u001b[38;5;241m.\u001b[39mT))\n\u001b[0;32m     30\u001b[0m \u001b[38;5;28;01melse\u001b[39;00m:\n\u001b[1;32m---> 31\u001b[0m     dot_product \u001b[38;5;241m=\u001b[39m \u001b[43mnp\u001b[49m\u001b[38;5;241;43m.\u001b[39;49m\u001b[43mdot\u001b[49m\u001b[43m(\u001b[49m\u001b[43mr1\u001b[49m\u001b[43m \u001b[49m\u001b[38;5;241;43m/\u001b[39;49m\u001b[43m \u001b[49m\u001b[43mnorm_r1\u001b[49m\u001b[43m \u001b[49m\u001b[38;5;241;43m-\u001b[39;49m\u001b[43m \u001b[49m\u001b[43mr2\u001b[49m\u001b[43m \u001b[49m\u001b[38;5;241;43m/\u001b[39;49m\u001b[43m \u001b[49m\u001b[43mnorm_r2\u001b[49m\u001b[43m,\u001b[49m\u001b[43m \u001b[49m\u001b[43mr1\u001b[49m\u001b[43m \u001b[49m\u001b[38;5;241;43m-\u001b[39;49m\u001b[43m \u001b[49m\u001b[43mr2\u001b[49m\u001b[43m)\u001b[49m\n\u001b[0;32m     33\u001b[0m energy \u001b[38;5;241m=\u001b[39m \u001b[38;5;241m-\u001b[39m \u001b[38;5;241m4\u001b[39m \u001b[38;5;241m+\u001b[39m dot_product \u001b[38;5;241m/\u001b[39m (r12 \u001b[38;5;241m*\u001b[39m (\u001b[38;5;241m1\u001b[39m \u001b[38;5;241m+\u001b[39m \u001b[38;5;28mself\u001b[39m\u001b[38;5;241m.\u001b[39malpha \u001b[38;5;241m*\u001b[39m r12)\u001b[38;5;241m*\u001b[39m\u001b[38;5;241m*\u001b[39m\u001b[38;5;241m2\u001b[39m) \u001b[38;5;241m-\u001b[39m \u001b[38;5;241m1\u001b[39m \u001b[38;5;241m/\u001b[39m (r12 \u001b[38;5;241m*\u001b[39m (\u001b[38;5;241m1\u001b[39m \u001b[38;5;241m+\u001b[39m \u001b[38;5;28mself\u001b[39m\u001b[38;5;241m.\u001b[39malpha \u001b[38;5;241m*\u001b[39m r12)\u001b[38;5;241m*\u001b[39m\u001b[38;5;241m*\u001b[39m\u001b[38;5;241m3\u001b[39m) \u001b[38;5;241m-\u001b[39m \u001b[38;5;241m1\u001b[39m\u001b[38;5;241m/\u001b[39m(\u001b[38;5;241m4\u001b[39m \u001b[38;5;241m*\u001b[39m (\u001b[38;5;241m1\u001b[39m \u001b[38;5;241m+\u001b[39m \u001b[38;5;28mself\u001b[39m\u001b[38;5;241m.\u001b[39malpha \u001b[38;5;241m*\u001b[39m r12)\u001b[38;5;241m*\u001b[39m\u001b[38;5;241m*\u001b[39m\u001b[38;5;241m4\u001b[39m) \u001b[38;5;241m+\u001b[39m \u001b[38;5;241m1\u001b[39m \u001b[38;5;241m/\u001b[39m r12 \n\u001b[0;32m     35\u001b[0m \u001b[38;5;28;01mreturn\u001b[39;00m energy\n",
      "\u001b[1;31mKeyboardInterrupt\u001b[0m: "
     ]
    }
   ],
   "source": [
    "# Standard loop\n",
    "psi = helium_1_param\n",
    "\n",
    "'''Initial parameters'''\n",
    "alpha = 0.38\n",
    "alpha_iterations = 50\n",
    "N_metropolis = 10000\n",
    "random_walkers = 5\n",
    "gamma = 0.5\n",
    "\n",
    "energy_plot = np.array([])\n",
    "alpha_plot = np.array([])\n",
    "variance_plot = np.array([])\n",
    "\n",
    "for i in range(alpha_iterations):\n",
    "    \n",
    "    sim = VMC(alpha, psi)\n",
    "    E = 0\n",
    "    E2 = 0\n",
    "    dE_dalpha = 0\n",
    "    Eln = 0\n",
    "    ln = 0\n",
    "    rejection_ratio = 0\n",
    "    alpha_step = 0.01\n",
    "\n",
    "    for j in range(random_walkers): #We use more than one random_walkers in case one gets stuck at some X\n",
    "        E_met, E2_met, Eln_met, ln_met, rejections_met = sim.metropolis(N_metropolis)\n",
    "        E += E_met/random_walkers\n",
    "        E2 += E2_met/random_walkers\n",
    "        Eln += Eln_met/random_walkers\n",
    "        ln += ln_met/random_walkers\n",
    "        rejection_ratio += rejections_met/random_walkers \n",
    "\n",
    "    '''Define next alpha'''\n",
    "    dE_dalpha = 2 * (Eln - E * ln)\n",
    "    print('Alpha: ', alpha, '<E>: ', E, 'VarE: ', E2 - E **2, 'ratio = ', rejection_ratio)\n",
    "    #alpha = alpha + alpha_step\n",
    "    alpha = alpha - gamma * dE_dalpha\n",
    "\n",
    "    '''Plot'''    \n",
    "    energy_plot = np.append(energy_plot, E)\n",
    "    alpha_plot = np.append(alpha_plot, alpha)\n",
    "    variance_plot = np.append(variance_plot, E2-E**2)\n"
   ]
  },
  {
   "cell_type": "markdown",
   "id": "8cdfbe08",
   "metadata": {},
   "source": [
    "### Analytical expressions using sympy"
   ]
  },
  {
   "cell_type": "code",
   "execution_count": 19,
   "id": "54de3776",
   "metadata": {},
   "outputs": [],
   "source": [
    "from sympy import *\n",
    "import math"
   ]
  },
  {
   "cell_type": "code",
   "execution_count": 12,
   "id": "16a83813",
   "metadata": {},
   "outputs": [],
   "source": [
    "x1, y1, z1 = symbols('x_1 y_1 z_1')\n",
    "x2, y2, z2 = symbols('x_2 y_2 z_2')\n",
    "init_printing(use_unicode=True)"
   ]
  },
  {
   "cell_type": "code",
   "execution_count": 17,
   "id": "2adc075b",
   "metadata": {},
   "outputs": [],
   "source": [
    "r1 = (x1, y1, z1)\n",
    "r2 = (x2, y2, z2)"
   ]
  },
  {
   "cell_type": "code",
   "execution_count": 18,
   "id": "6e08201a",
   "metadata": {},
   "outputs": [],
   "source": [
    "r1_ = sqrt(x1 ** 2 + y1 **2 + z1 **2)\n",
    "r2_ = sqrt(x2 ** 2 + y2 **2 + z2 **2)"
   ]
  },
  {
   "cell_type": "code",
   "execution_count": 23,
   "id": "81c408a1",
   "metadata": {},
   "outputs": [],
   "source": [
    "G = exp(-2 * (r1_ + r2_))"
   ]
  },
  {
   "cell_type": "code",
   "execution_count": 24,
   "id": "1115f6b9",
   "metadata": {},
   "outputs": [
    {
     "data": {
      "image/png": "[encoded data removed]",
      "text/latex": [
       "$\\displaystyle e^{- 2 \\sqrt{x_{1}^{2} + y_{1}^{2} + z_{1}^{2}} - 2 \\sqrt{x_{2}^{2} + y_{2}^{2} + z_{2}^{2}}}$"
      ],
      "text/plain": [
       "        _________________        _________________\n",
       "       ╱   2     2     2        ╱   2     2     2 \n",
       " - 2⋅╲╱  x₁  + y₁  + z₁   - 2⋅╲╱  x₂  + y₂  + z₂  \n",
       "ℯ                                                 "
      ]
     },
     "execution_count": 24,
     "metadata": {},
     "output_type": "execute_result"
    }
   ],
   "source": [
    "G"
   ]
  },
  {
   "cell_type": "code",
   "execution_count": 27,
   "id": "8787080f",
   "metadata": {},
   "outputs": [
    {
     "data": {
      "image/png": "[encoded data removed]",
      "text/latex": [
       "$\\displaystyle - \\frac{2 x_{1} e^{- 2 \\sqrt{x_{1}^{2} + y_{1}^{2} + z_{1}^{2}} - 2 \\sqrt{x_{2}^{2} + y_{2}^{2} + z_{2}^{2}}}}{\\sqrt{x_{1}^{2} + y_{1}^{2} + z_{1}^{2}}}$"
      ],
      "text/plain": [
       "              _________________        _________________ \n",
       "             ╱   2     2     2        ╱   2     2     2  \n",
       "       - 2⋅╲╱  x₁  + y₁  + z₁   - 2⋅╲╱  x₂  + y₂  + z₂   \n",
       "-2⋅x₁⋅ℯ                                                  \n",
       "─────────────────────────────────────────────────────────\n",
       "                      _________________                  \n",
       "                     ╱   2     2     2                   \n",
       "                   ╲╱  x₁  + y₁  + z₁                    "
      ]
     },
     "execution_count": 27,
     "metadata": {},
     "output_type": "execute_result"
    }
   ],
   "source": [
    "diff(G, x1)"
   ]
  },
  {
   "cell_type": "code",
   "execution_count": null,
   "id": "7a8d1a4f",
   "metadata": {},
   "outputs": [],
   "source": []
  }
 ],
 "metadata": {
  "kernelspec": {
   "display_name": "pytorch_gpu",
   "language": "python",
   "name": "python3"
  },
  "language_info": {
   "codemirror_mode": {
    "name": "ipython",
    "version": 3
   },
   "file_extension": ".py",
   "mimetype": "text/x-python",
   "name": "python",
   "nbconvert_exporter": "python",
   "pygments_lexer": "ipython3",
   "version": "3.12.3"
  }
 },
 "nbformat": 4,
 "nbformat_minor": 5
}
