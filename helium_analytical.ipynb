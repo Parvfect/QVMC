{
 "cells": [
  {
   "cell_type": "code",
   "execution_count": null,
   "id": "44f837ae",
   "metadata": {},
   "outputs": [],
   "source": [
    "%load_ext autoreload\n",
    "%autoreload 2"
   ]
  },
  {
   "cell_type": "code",
   "execution_count": 3,
   "id": "397dc826",
   "metadata": {},
   "outputs": [
    {
     "name": "stdout",
     "output_type": "stream",
     "text": [
      "Alpha:  0.38 <E>:  -2.865945506222205 VarE:  0.08575011348536066 ratio =  0.6002450999999503\n",
      "Alpha:  0.3427907945456533 <E>:  -2.868526402096966 VarE:  0.08456241769367878 ratio =  0.60172449999995\n",
      "Alpha:  0.3063388397963055 <E>:  -2.870623450903122 VarE:  0.08453309527865649 ratio =  0.6034159999999499\n",
      "Alpha:  0.2719308569664315 <E>:  -2.8727957601208827 VarE:  0.08634834291463278 ratio =  0.6052308999999496\n",
      "Alpha:  0.2400816238236948 <E>:  -2.8755780136933016 VarE:  0.08960863439761901 ratio =  0.6070963999999495\n",
      "Alpha:  0.2124739154731018 <E>:  -2.876746022770386 VarE:  0.09426097902156805 ratio =  0.6089831999999492\n",
      "Alpha:  0.1894944550877241 <E>:  -2.877853675491392 VarE:  0.09936913978210526 ratio =  0.6106119999999491\n",
      "Alpha:  0.17233137511481667 <E>:  -2.878117323329092 VarE:  0.10425507702495906 ratio =  0.611795699999949\n",
      "Alpha:  0.1602926268946897 <E>:  -2.8781868140184805 VarE:  0.10795023015165839 ratio =  0.6128758999999488\n",
      "Alpha:  0.1530929356768157 <E>:  -2.8788760326997216 VarE:  0.11046558221716651 ratio =  0.6137459999999487\n",
      "Alpha:  0.14837006921314277 <E>:  -2.8783793784747775 VarE:  0.11234538830774987 ratio =  0.6139626999999487\n",
      "Alpha:  0.14545678808681728 <E>:  -2.8788261271806106 VarE:  0.11369177599543434 ratio =  0.6141260999999486\n",
      "Alpha:  0.1443953928422389 <E>:  -2.8777327662727794 VarE:  0.11377004334829266 ratio =  0.6142274999999487\n",
      "Alpha:  0.14391631900397928 <E>:  -2.8782261758634804 VarE:  0.11402548984792915 ratio =  0.6144267999999486\n",
      "Alpha:  0.14359471447128558 <E>:  -2.878614124624922 VarE:  0.11416145342443329 ratio =  0.6145894999999486\n",
      "Alpha:  0.143575853635452 <E>:  -2.8786857652809728 VarE:  0.11423344546530423 ratio =  0.6144692999999486\n",
      "Alpha:  0.14322177274504055 <E>:  -2.878218689430174 VarE:  0.11426852528568432 ratio =  0.6143541999999486\n",
      "Alpha:  0.14338971853042304 <E>:  -2.878824680423777 VarE:  0.11437796849614834 ratio =  0.6146490999999485\n",
      "Alpha:  0.14318659664867373 <E>:  -2.8787221143789603 VarE:  0.1145413342489654 ratio =  0.6141904999999487\n",
      "Alpha:  0.14348875112526016 <E>:  -2.8777173028503205 VarE:  0.11392990290270255 ratio =  0.6141917999999487\n",
      "Alpha:  0.1431973520684614 <E>:  -2.878525984798058 VarE:  0.11456907103227998 ratio =  0.6145722999999487\n",
      "Alpha:  0.1434027677111639 <E>:  -2.878001090244598 VarE:  0.11438118443923884 ratio =  0.6139696999999488\n",
      "Alpha:  0.1439316950277466 <E>:  -2.87843497403945 VarE:  0.11444854986098996 ratio =  0.6142227999999487\n",
      "Alpha:  0.14348824485482925 <E>:  -2.8784931287473783 VarE:  0.11425894769448597 ratio =  0.6145611999999487\n",
      "Alpha:  0.14340109453666627 <E>:  -2.8787826908220633 VarE:  0.11439810251603788 ratio =  0.6143155999999488\n",
      "Alpha:  0.14351447249309668 <E>:  -2.878424953743148 VarE:  0.11457392735094984 ratio =  0.6140249999999488\n",
      "Alpha:  0.14349950977890036 <E>:  -2.879047825369464 VarE:  0.11437218107532665 ratio =  0.6141341999999488\n",
      "Alpha:  0.14348991211774942 <E>:  -2.878485619471021 VarE:  0.11417310947383719 ratio =  0.6144590999999486\n",
      "Alpha:  0.14367144181866898 <E>:  -2.8776890915078903 VarE:  0.11423908512466596 ratio =  0.6142095999999486\n",
      "Alpha:  0.14345118730124906 <E>:  -2.877856125929399 VarE:  0.11442900450771631 ratio =  0.6141145999999488\n",
      "Alpha:  0.14344413098879694 <E>:  -2.878151084383154 VarE:  0.11442283086099536 ratio =  0.6145385999999488\n",
      "Alpha:  0.14339261788140945 <E>:  -2.8773631113976745 VarE:  0.1143397907621928 ratio =  0.6141709999999486\n",
      "Alpha:  0.14360098016347467 <E>:  -2.878425683603453 VarE:  0.11413197334777969 ratio =  0.6142392999999485\n",
      "Alpha:  0.14338413739859057 <E>:  -2.8783442259556797 VarE:  0.11437145880939958 ratio =  0.6142380999999486\n",
      "Alpha:  0.1437583404181183 <E>:  -2.8781899383151868 VarE:  0.11416873100241176 ratio =  0.6141394999999488\n",
      "Alpha:  0.14356373202944306 <E>:  -2.878588909982719 VarE:  0.11411580845396152 ratio =  0.6148054999999486\n",
      "Alpha:  0.14356054451085754 <E>:  -2.8778120097470627 VarE:  0.11418494131160273 ratio =  0.6142277999999486\n",
      "Alpha:  0.14315648434922668 <E>:  -2.8778611608411775 VarE:  0.11427742262233664 ratio =  0.6139168999999487\n",
      "Alpha:  0.1424953138869619 <E>:  -2.8781649369275915 VarE:  0.11455524278991369 ratio =  0.6144499999999486\n",
      "Alpha:  0.14340265017174036 <E>:  -2.8781771632822637 VarE:  0.11480257841469488 ratio =  0.6140838999999487\n",
      "Alpha:  0.1437162751487463 <E>:  -2.8781635884848265 VarE:  0.11435139365633695 ratio =  0.6140104999999487\n",
      "Alpha:  0.14343476995058635 <E>:  -2.8787031161324617 VarE:  0.114266936707077 ratio =  0.6142580999999486\n",
      "Alpha:  0.1433710988843967 <E>:  -2.879037831227772 VarE:  0.1144558215944027 ratio =  0.6146117999999486\n",
      "Alpha:  0.14318263799395636 <E>:  -2.877953254332254 VarE:  0.11400854221696477 ratio =  0.6143299999999486\n",
      "Alpha:  0.14339184918884829 <E>:  -2.878466452008375 VarE:  0.11448344370643504 ratio =  0.6140658999999488\n",
      "Alpha:  0.14310903522249008 <E>:  -2.877746031332306 VarE:  0.114456248772699 ratio =  0.6145291999999486\n",
      "Alpha:  0.1431985521462017 <E>:  -2.877892422175931 VarE:  0.11456270281308889 ratio =  0.6142921999999487\n",
      "Alpha:  0.14312199565351313 <E>:  -2.878862869204052 VarE:  0.11454595445280802 ratio =  0.6144191999999487\n",
      "Alpha:  0.14313550981549328 <E>:  -2.878752811345168 VarE:  0.11423052939308853 ratio =  0.6145094999999486\n",
      "Alpha:  0.14305560004018558 <E>:  -2.877807706005399 VarE:  0.11454755149906859 ratio =  0.6143466999999486\n"
     ]
    }
   ],
   "source": [
    "\n",
    "import numpy as np\n",
    "from vmc import VMCvec, VMC\n",
    "from trial_wavefunctions import helium_1_param_vec, helium_1_param\n",
    "\n",
    "\n",
    "psi = helium_1_param_vec\n",
    "\n",
    "'''Initial parameters'''\n",
    "alpha = np.ones(1000) * 0.38\n",
    "alpha_iterations = 50\n",
    "N_metropolis = 10000\n",
    "random_walkers = 1\n",
    "gamma = 0.5\n",
    "\n",
    "energy_plot = np.array([])\n",
    "alpha_plot = np.array([])\n",
    "variance_plot = np.array([])\n",
    "\n",
    "for i in range(alpha_iterations):\n",
    "    \n",
    "    sim = VMCvec(alpha, psi)\n",
    "    E = 0\n",
    "    E2 = 0\n",
    "    dE_dalpha = 0\n",
    "    Eln = 0\n",
    "    ln = 0\n",
    "    rejection_ratio = 0\n",
    "    alpha_step = 0.01\n",
    "\n",
    "    E_met, E2_met, Eln_met, ln_met, rejections_met = sim.metropolis(N_metropolis)\n",
    "    E = np.sum(E_met) / len(E_met)\n",
    "    E2 = np.sum(E2_met) / len(E2_met)\n",
    "    Eln = np.sum(Eln_met) / len(Eln_met)\n",
    "    ln = np.sum(ln_met) / len(ln_met)\n",
    "    rejection_ratio = np.sum(rejections_met) / len(rejections_met) \n",
    "\n",
    "    '''Define next alpha'''\n",
    "    dE_dalpha = 2 * (Eln - E * ln)\n",
    "    print('Alpha: ', alpha[0], '<E>: ', E, 'VarE: ', E2 - E **2, 'ratio = ', rejection_ratio)\n",
    "    #alpha = al pha + alpha_step\n",
    "    alpha = alpha - gamma * dE_dalpha\n",
    "\n",
    "    '''Plot'''    \n",
    "    energy_plot = np.append(energy_plot, E)\n",
    "    alpha_plot = np.append(alpha_plot, alpha)\n",
    "    variance_plot = np.append(variance_plot, E2-E**2)"
   ]
  },
  {
   "cell_type": "code",
   "execution_count": null,
   "id": "014764bc",
   "metadata": {},
   "outputs": [
    {
     "name": "stdout",
     "output_type": "stream",
     "text": [
      "Alpha:  0.38 <E>:  -2.8516674667369415 VarE:  0.08715746205829866 ratio =  0.4012599999999721\n",
      "Alpha:  0.34236052605503187 <E>:  -2.874008312440419 VarE:  0.07953550924910147 ratio =  0.3974199999999726\n",
      "Alpha:  0.31178042132123285 <E>:  -2.8684673348679937 VarE:  0.08349745811906928 ratio =  0.39493999999997276\n",
      "Alpha:  0.27631422079193635 <E>:  -2.8795343816819923 VarE:  0.08529991793522207 ratio =  0.3925999999999731\n",
      "Alpha:  0.24074669549751804 <E>:  -2.872258314261832 VarE:  0.09335360594191577 ratio =  0.393679999999973\n",
      "Alpha:  0.21400344058634546 <E>:  -2.8859099203237775 VarE:  0.09211220618656668 ratio =  0.39453999999997286\n",
      "Alpha:  0.19208536901736684 <E>:  -2.8851133343131936 VarE:  0.09938047485525736 ratio =  0.3906599999999733\n",
      "Alpha:  0.17048980938972413 <E>:  -2.8821942304697727 VarE:  0.10078786436434584 ratio =  0.3910799999999732\n",
      "Alpha:  0.160065615453998 <E>:  -2.873679653463587 VarE:  0.10268804363070849 ratio =  0.38593999999997386\n",
      "Alpha:  0.153630495763856 <E>:  -2.872626014201885 VarE:  0.10979846609200905 ratio =  0.38967999999997344\n",
      "Alpha:  0.14443220538491175 <E>:  -2.8728476088668367 VarE:  0.11360534864604865 ratio =  0.3870599999999737\n",
      "Alpha:  0.1408544810538891 <E>:  -2.8799603503965403 VarE:  0.11599218396936806 ratio =  0.38647999999997373\n",
      "Alpha:  0.14390847647739735 <E>:  -2.8713224671962645 VarE:  0.11382444235127842 ratio =  0.3861999999999738\n",
      "Alpha:  0.14331506805114336 <E>:  -2.8680668410927668 VarE:  0.11205014018172754 ratio =  0.38695999999997377\n"
     ]
    },
    {
     "ename": "KeyboardInterrupt",
     "evalue": "",
     "output_type": "error",
     "traceback": [
      "\u001b[1;31m---------------------------------------------------------------------------\u001b[0m",
      "\u001b[1;31mKeyboardInterrupt\u001b[0m                         Traceback (most recent call last)",
      "Cell \u001b[1;32mIn[111], line 27\u001b[0m\n\u001b[0;32m     24\u001b[0m alpha_step \u001b[38;5;241m=\u001b[39m \u001b[38;5;241m0.01\u001b[39m\n\u001b[0;32m     26\u001b[0m \u001b[38;5;28;01mfor\u001b[39;00m j \u001b[38;5;129;01min\u001b[39;00m \u001b[38;5;28mrange\u001b[39m(random_walkers): \u001b[38;5;66;03m#We use more than one random_walkers in case one gets stuck at some X\u001b[39;00m\n\u001b[1;32m---> 27\u001b[0m     E_met, E2_met, Eln_met, ln_met, rejections_met \u001b[38;5;241m=\u001b[39m \u001b[43msim\u001b[49m\u001b[38;5;241;43m.\u001b[39;49m\u001b[43mmetropolis\u001b[49m\u001b[43m(\u001b[49m\u001b[43mN_metropolis\u001b[49m\u001b[43m)\u001b[49m\n\u001b[0;32m     28\u001b[0m     E \u001b[38;5;241m+\u001b[39m\u001b[38;5;241m=\u001b[39m E_met\u001b[38;5;241m/\u001b[39mrandom_walkers\n\u001b[0;32m     29\u001b[0m     E2 \u001b[38;5;241m+\u001b[39m\u001b[38;5;241m=\u001b[39m E2_met\u001b[38;5;241m/\u001b[39mrandom_walkers\n",
      "File \u001b[1;32mc:\\Users\\Parv\\Doc\\RA\\Projects\\QVMC\\vmc.py:73\u001b[0m, in \u001b[0;36mVMC.metropolis\u001b[1;34m(self, N)\u001b[0m\n\u001b[0;32m     71\u001b[0m \u001b[38;5;28;01mif\u001b[39;00m step \u001b[38;5;241m>\u001b[39m max_steps:\n\u001b[0;32m     72\u001b[0m     E \u001b[38;5;241m+\u001b[39m\u001b[38;5;241m=\u001b[39m \u001b[38;5;28mself\u001b[39m\u001b[38;5;241m.\u001b[39mE_local(r1, r2) \u001b[38;5;241m/\u001b[39m (N \u001b[38;5;241m-\u001b[39m max_steps)\n\u001b[1;32m---> 73\u001b[0m     E2 \u001b[38;5;241m+\u001b[39m\u001b[38;5;241m=\u001b[39m \u001b[38;5;28;43mself\u001b[39;49m\u001b[38;5;241;43m.\u001b[39;49m\u001b[43mE_local\u001b[49m\u001b[43m(\u001b[49m\u001b[43mr1\u001b[49m\u001b[43m,\u001b[49m\u001b[43m \u001b[49m\u001b[43mr2\u001b[49m\u001b[43m)\u001b[49m \u001b[38;5;241m*\u001b[39m\u001b[38;5;241m*\u001b[39m \u001b[38;5;241m2\u001b[39m \u001b[38;5;241m/\u001b[39m (N \u001b[38;5;241m-\u001b[39m max_steps)\n\u001b[0;32m     74\u001b[0m     r12 \u001b[38;5;241m=\u001b[39m np\u001b[38;5;241m.\u001b[39mlinalg\u001b[38;5;241m.\u001b[39mnorm(r1 \u001b[38;5;241m-\u001b[39m r2)\n\u001b[0;32m     75\u001b[0m     Eln_average \u001b[38;5;241m+\u001b[39m\u001b[38;5;241m=\u001b[39m (\u001b[38;5;28mself\u001b[39m\u001b[38;5;241m.\u001b[39mE_local(r1,r2) \u001b[38;5;241m*\u001b[39m \u001b[38;5;241m-\u001b[39mr12 \u001b[38;5;241m*\u001b[39m\u001b[38;5;241m*\u001b[39m \u001b[38;5;241m2\u001b[39m \u001b[38;5;241m/\u001b[39m (\u001b[38;5;241m2\u001b[39m \u001b[38;5;241m*\u001b[39m (\u001b[38;5;241m1\u001b[39m \u001b[38;5;241m+\u001b[39m \u001b[38;5;28mself\u001b[39m\u001b[38;5;241m.\u001b[39malpha \u001b[38;5;241m*\u001b[39m r12) \u001b[38;5;241m*\u001b[39m\u001b[38;5;241m*\u001b[39m \u001b[38;5;241m2\u001b[39m))\u001b[38;5;241m/\u001b[39m(N \u001b[38;5;241m-\u001b[39m max_steps)\n",
      "File \u001b[1;32mc:\\Users\\Parv\\Doc\\RA\\Projects\\QVMC\\vmc.py:31\u001b[0m, in \u001b[0;36mVMC.E_local\u001b[1;34m(self, r1, r2)\u001b[0m\n\u001b[0;32m     29\u001b[0m     dot_product \u001b[38;5;241m=\u001b[39m np\u001b[38;5;241m.\u001b[39mdiag(np\u001b[38;5;241m.\u001b[39mdot(r1 \u001b[38;5;241m/\u001b[39m norm_r1 \u001b[38;5;241m-\u001b[39m r2 \u001b[38;5;241m/\u001b[39m norm_r2, (r1 \u001b[38;5;241m-\u001b[39m r2)\u001b[38;5;241m.\u001b[39mT))\n\u001b[0;32m     30\u001b[0m \u001b[38;5;28;01melse\u001b[39;00m:\n\u001b[1;32m---> 31\u001b[0m     dot_product \u001b[38;5;241m=\u001b[39m \u001b[43mnp\u001b[49m\u001b[38;5;241;43m.\u001b[39;49m\u001b[43mdot\u001b[49m\u001b[43m(\u001b[49m\u001b[43mr1\u001b[49m\u001b[43m \u001b[49m\u001b[38;5;241;43m/\u001b[39;49m\u001b[43m \u001b[49m\u001b[43mnorm_r1\u001b[49m\u001b[43m \u001b[49m\u001b[38;5;241;43m-\u001b[39;49m\u001b[43m \u001b[49m\u001b[43mr2\u001b[49m\u001b[43m \u001b[49m\u001b[38;5;241;43m/\u001b[39;49m\u001b[43m \u001b[49m\u001b[43mnorm_r2\u001b[49m\u001b[43m,\u001b[49m\u001b[43m \u001b[49m\u001b[43mr1\u001b[49m\u001b[43m \u001b[49m\u001b[38;5;241;43m-\u001b[39;49m\u001b[43m \u001b[49m\u001b[43mr2\u001b[49m\u001b[43m)\u001b[49m\n\u001b[0;32m     33\u001b[0m energy \u001b[38;5;241m=\u001b[39m \u001b[38;5;241m-\u001b[39m \u001b[38;5;241m4\u001b[39m \u001b[38;5;241m+\u001b[39m dot_product \u001b[38;5;241m/\u001b[39m (r12 \u001b[38;5;241m*\u001b[39m (\u001b[38;5;241m1\u001b[39m \u001b[38;5;241m+\u001b[39m \u001b[38;5;28mself\u001b[39m\u001b[38;5;241m.\u001b[39malpha \u001b[38;5;241m*\u001b[39m r12)\u001b[38;5;241m*\u001b[39m\u001b[38;5;241m*\u001b[39m\u001b[38;5;241m2\u001b[39m) \u001b[38;5;241m-\u001b[39m \u001b[38;5;241m1\u001b[39m \u001b[38;5;241m/\u001b[39m (r12 \u001b[38;5;241m*\u001b[39m (\u001b[38;5;241m1\u001b[39m \u001b[38;5;241m+\u001b[39m \u001b[38;5;28mself\u001b[39m\u001b[38;5;241m.\u001b[39malpha \u001b[38;5;241m*\u001b[39m r12)\u001b[38;5;241m*\u001b[39m\u001b[38;5;241m*\u001b[39m\u001b[38;5;241m3\u001b[39m) \u001b[38;5;241m-\u001b[39m \u001b[38;5;241m1\u001b[39m\u001b[38;5;241m/\u001b[39m(\u001b[38;5;241m4\u001b[39m \u001b[38;5;241m*\u001b[39m (\u001b[38;5;241m1\u001b[39m \u001b[38;5;241m+\u001b[39m \u001b[38;5;28mself\u001b[39m\u001b[38;5;241m.\u001b[39malpha \u001b[38;5;241m*\u001b[39m r12)\u001b[38;5;241m*\u001b[39m\u001b[38;5;241m*\u001b[39m\u001b[38;5;241m4\u001b[39m) \u001b[38;5;241m+\u001b[39m \u001b[38;5;241m1\u001b[39m \u001b[38;5;241m/\u001b[39m r12 \n\u001b[0;32m     35\u001b[0m \u001b[38;5;28;01mreturn\u001b[39;00m energy\n",
      "\u001b[1;31mKeyboardInterrupt\u001b[0m: "
     ]
    }
   ],
   "source": [
    "# Standard loop\n",
    "psi = helium_1_param\n",
    "    \n",
    "'''Initial parameters'''\n",
    "alpha = 0.38\n",
    "alpha_iterations = 50\n",
    "N_metropolis = 10000\n",
    "random_walkers = 5\n",
    "gamma = 0.5\n",
    "\n",
    "energy_plot = np.array([])\n",
    "alpha_plot = np.array([])\n",
    "variance_plot = np.array([])\n",
    "\n",
    "for i in range(alpha_iterations):\n",
    "    \n",
    "    sim = VMC(alpha, psi)\n",
    "    E = 0\n",
    "    E2 = 0\n",
    "    dE_dalpha = 0\n",
    "    Eln = 0\n",
    "    ln = 0\n",
    "    rejection_ratio = 0\n",
    "    alpha_step = 0.01\n",
    "\n",
    "    for j in range(random_walkers): #We use more than one random_walkers in case one gets stuck at some X\n",
    "        E_met, E2_met, Eln_met, ln_met, rejections_met = sim.metropolis(N_metropolis)\n",
    "        E += E_met/random_walkers\n",
    "        E2 += E2_met/random_walkers\n",
    "        Eln += Eln_met/random_walkers\n",
    "        ln += ln_met/random_walkers\n",
    "        rejection_ratio += rejections_met/random_walkers \n",
    "\n",
    "    '''Define next alpha'''\n",
    "    dE_dalpha = 2 * (Eln - E * ln)\n",
    "    print('Alpha: ', alpha, '<E>: ', E, 'VarE: ', E2 - E **2, 'ratio = ', rejection_ratio)\n",
    "    #alpha = alpha + alpha_step\n",
    "    alpha = alpha - gamma * dE_dalpha\n",
    "\n",
    "    '''Plot'''    \n",
    "    energy_plot = np.append(energy_plot, E)\n",
    "    alpha_plot = np.append(alpha_plot, alpha)\n",
    "    variance_plot = np.append(variance_plot, E2-E**2)\n"
   ]
  },
  {
   "cell_type": "markdown",
   "id": "8cdfbe08",
   "metadata": {},
   "source": [
    "### Analytical expressions using sympy"
   ]
  },
  {
   "cell_type": "code",
   "execution_count": 4,
   "id": "54de3776",
   "metadata": {},
   "outputs": [],
   "source": [
    "from sympy import *\n",
    "import math"
   ]
  },
  {
   "cell_type": "code",
   "execution_count": null,
   "id": "16a83813",
   "metadata": {},
   "outputs": [],
   "source": [
    "x1, y1, z1 = symbols('x_1 y_1 z_1')\n",
    "x2, y2, z2 = symbols('x_2 y_2 z_2')\n",
    "init_printing(use_unicode=True)"
   ]
  },
  {
   "cell_type": "code",
   "execution_count": 21,
   "id": "08d190ef",
   "metadata": {},
   "outputs": [],
   "source": [
    "alpha1, alpha2, alpha3, alpha4 = symbols('alpha_1 alpha_2 alpha_3 alpha_4')"
   ]
  },
  {
   "cell_type": "code",
   "execution_count": 22,
   "id": "778a9564",
   "metadata": {},
   "outputs": [
    {
     "data": {
      "image/png": "[encoded data removed]",
      "text/latex": [
       "$\\displaystyle \\alpha_{1}$"
      ],
      "text/plain": [
       "α₁"
      ]
     },
     "execution_count": 22,
     "metadata": {},
     "output_type": "execute_result"
    }
   ],
   "source": [
    "alpha1"
   ]
  },
  {
   "cell_type": "code",
   "execution_count": 6,
   "id": "2adc075b",
   "metadata": {},
   "outputs": [],
   "source": [
    "r1 = (x1, y1, z1)\n",
    "r2 = (x2, y2, z2)"
   ]
  },
  {
   "cell_type": "code",
   "execution_count": 7,
   "id": "6e08201a",
   "metadata": {},
   "outputs": [],
   "source": [
    "r1_ = sqrt(x1 ** 2 + y1 **2 + z1 **2)\n",
    "r2_ = sqrt(x2 ** 2 + y2 **2 + z2 **2)"
   ]
  },
  {
   "cell_type": "code",
   "execution_count": 17,
   "id": "d17b06f9",
   "metadata": {},
   "outputs": [],
   "source": [
    "r12 = sqrt((x2 - x1) ** 2 + (y2 - y1) ** 2 + (z2 - z1) ** 2)"
   ]
  },
  {
   "cell_type": "code",
   "execution_count": 26,
   "id": "81c408a1",
   "metadata": {},
   "outputs": [],
   "source": [
    "G = exp(-2 * (r1_ + r2_))\n",
    "M = 1 + 1/2 * r12 * exp(-alpha1*r12)\n",
    "H = 1 + alpha2 * (r1_ + r2_)*(r12) + alpha3 * (r1_ - r2_) ** 2 - alpha4 * r12"
   ]
  },
  {
   "cell_type": "code",
   "execution_count": 28,
   "id": "dcb1d750",
   "metadata": {},
   "outputs": [],
   "source": [
    "def laplacian_1(exp):\n",
    "    return simplify(diff(diff(exp, x1), x1) + diff(diff(exp, y1), y1) + diff(diff(exp, z1), z1))\n",
    "\n",
    "def laplacian_2(exp):\n",
    "    return simplify(diff(diff(exp, x1), x1) + diff(diff(exp, y1), y1) + diff(diff(exp, z1), z1))"
   ]
  },
  {
   "cell_type": "code",
   "execution_count": 31,
   "id": "8b258db4",
   "metadata": {},
   "outputs": [],
   "source": [
    "lap_G_1 = laplacian_1(G)\n",
    "lap_M_1 = laplacian_1(M)\n",
    "lap_H_1 = laplacian_1(H)"
   ]
  },
  {
   "cell_type": "code",
   "execution_count": 33,
   "id": "6650ecb7",
   "metadata": {},
   "outputs": [
    {
     "ename": "KeyboardInterrupt",
     "evalue": "",
     "output_type": "error",
     "traceback": [
      "\u001b[1;31m---------------------------------------------------------------------------\u001b[0m",
      "\u001b[1;31mKeyboardInterrupt\u001b[0m                         Traceback (most recent call last)",
      "Cell \u001b[1;32mIn[33], line 1\u001b[0m\n\u001b[1;32m----> 1\u001b[0m simp_lap_1 \u001b[38;5;241m=\u001b[39m \u001b[43msimplify\u001b[49m\u001b[43m(\u001b[49m\u001b[43mlap_G_1\u001b[49m\u001b[43m \u001b[49m\u001b[38;5;241;43m+\u001b[39;49m\u001b[43m \u001b[49m\u001b[43mlap_M_1\u001b[49m\u001b[43m \u001b[49m\u001b[38;5;241;43m+\u001b[39;49m\u001b[43m \u001b[49m\u001b[43mlap_H_1\u001b[49m\u001b[43m)\u001b[49m\n",
      "File \u001b[1;32mc:\\Users\\Parv\\anaconda3\\envs\\pytorch_gpu\\Lib\\site-packages\\sympy\\simplify\\simplify.py:645\u001b[0m, in \u001b[0;36msimplify\u001b[1;34m(expr, ratio, measure, rational, inverse, doit, **kwargs)\u001b[0m\n\u001b[0;32m    643\u001b[0m expr \u001b[38;5;241m=\u001b[39m Mul(\u001b[38;5;241m*\u001b[39mpowsimp(expr)\u001b[38;5;241m.\u001b[39mas_content_primitive())\n\u001b[0;32m    644\u001b[0m _e \u001b[38;5;241m=\u001b[39m cancel(expr)\n\u001b[1;32m--> 645\u001b[0m expr1 \u001b[38;5;241m=\u001b[39m shorter(_e, \u001b[43m_mexpand\u001b[49m\u001b[43m(\u001b[49m\u001b[43m_e\u001b[49m\u001b[43m)\u001b[49m\u001b[38;5;241;43m.\u001b[39;49m\u001b[43mcancel\u001b[49m\u001b[43m(\u001b[49m\u001b[43m)\u001b[49m)  \u001b[38;5;66;03m# issue 6829\u001b[39;00m\n\u001b[0;32m    646\u001b[0m expr2 \u001b[38;5;241m=\u001b[39m shorter(together(expr, deep\u001b[38;5;241m=\u001b[39m\u001b[38;5;28;01mTrue\u001b[39;00m), together(expr1, deep\u001b[38;5;241m=\u001b[39m\u001b[38;5;28;01mTrue\u001b[39;00m))\n\u001b[0;32m    648\u001b[0m \u001b[38;5;28;01mif\u001b[39;00m ratio \u001b[38;5;129;01mis\u001b[39;00m S\u001b[38;5;241m.\u001b[39mInfinity:\n",
      "File \u001b[1;32mc:\\Users\\Parv\\anaconda3\\envs\\pytorch_gpu\\Lib\\site-packages\\sympy\\core\\expr.py:3791\u001b[0m, in \u001b[0;36mExpr.cancel\u001b[1;34m(self, *gens, **args)\u001b[0m\n\u001b[0;32m   3789\u001b[0m \u001b[38;5;250m\u001b[39m\u001b[38;5;124;03m\"\"\"See the cancel function in sympy.polys\"\"\"\u001b[39;00m\n\u001b[0;32m   3790\u001b[0m \u001b[38;5;28;01mfrom\u001b[39;00m \u001b[38;5;21;01msympy\u001b[39;00m\u001b[38;5;21;01m.\u001b[39;00m\u001b[38;5;21;01mpolys\u001b[39;00m\u001b[38;5;21;01m.\u001b[39;00m\u001b[38;5;21;01mpolytools\u001b[39;00m \u001b[38;5;28;01mimport\u001b[39;00m cancel\n\u001b[1;32m-> 3791\u001b[0m \u001b[38;5;28;01mreturn\u001b[39;00m \u001b[43mcancel\u001b[49m\u001b[43m(\u001b[49m\u001b[38;5;28;43mself\u001b[39;49m\u001b[43m,\u001b[49m\u001b[43m \u001b[49m\u001b[38;5;241;43m*\u001b[39;49m\u001b[43mgens\u001b[49m\u001b[43m,\u001b[49m\u001b[43m \u001b[49m\u001b[38;5;241;43m*\u001b[39;49m\u001b[38;5;241;43m*\u001b[39;49m\u001b[43margs\u001b[49m\u001b[43m)\u001b[49m\n",
      "File \u001b[1;32mc:\\Users\\Parv\\anaconda3\\envs\\pytorch_gpu\\Lib\\site-packages\\sympy\\polys\\polytools.py:6890\u001b[0m, in \u001b[0;36mcancel\u001b[1;34m(f, _signsimp, *gens, **args)\u001b[0m\n\u001b[0;32m   6887\u001b[0m                 \u001b[38;5;28;01mpass\u001b[39;00m\n\u001b[0;32m   6888\u001b[0m         \u001b[38;5;28;01mreturn\u001b[39;00m f\u001b[38;5;241m.\u001b[39mxreplace(\u001b[38;5;28mdict\u001b[39m(reps))\n\u001b[1;32m-> 6890\u001b[0m c, (P, Q) \u001b[38;5;241m=\u001b[39m \u001b[38;5;241m1\u001b[39m, \u001b[43mF\u001b[49m\u001b[38;5;241;43m.\u001b[39;49m\u001b[43mcancel\u001b[49m\u001b[43m(\u001b[49m\u001b[43mG\u001b[49m\u001b[43m)\u001b[49m\n\u001b[0;32m   6891\u001b[0m \u001b[38;5;28;01mif\u001b[39;00m opt\u001b[38;5;241m.\u001b[39mget(\u001b[38;5;124m'\u001b[39m\u001b[38;5;124mpolys\u001b[39m\u001b[38;5;124m'\u001b[39m, \u001b[38;5;28;01mFalse\u001b[39;00m) \u001b[38;5;129;01mand\u001b[39;00m \u001b[38;5;124m'\u001b[39m\u001b[38;5;124mgens\u001b[39m\u001b[38;5;124m'\u001b[39m \u001b[38;5;129;01mnot\u001b[39;00m \u001b[38;5;129;01min\u001b[39;00m opt:\n\u001b[0;32m   6892\u001b[0m     opt[\u001b[38;5;124m'\u001b[39m\u001b[38;5;124mgens\u001b[39m\u001b[38;5;124m'\u001b[39m] \u001b[38;5;241m=\u001b[39m R\u001b[38;5;241m.\u001b[39msymbols\n",
      "File \u001b[1;32mc:\\Users\\Parv\\anaconda3\\envs\\pytorch_gpu\\Lib\\site-packages\\sympy\\polys\\rings.py:2242\u001b[0m, in \u001b[0;36mPolyElement.cancel\u001b[1;34m(self, g)\u001b[0m\n\u001b[0;32m   2239\u001b[0m domain \u001b[38;5;241m=\u001b[39m ring\u001b[38;5;241m.\u001b[39mdomain\n\u001b[0;32m   2241\u001b[0m \u001b[38;5;28;01mif\u001b[39;00m \u001b[38;5;129;01mnot\u001b[39;00m (domain\u001b[38;5;241m.\u001b[39mis_Field \u001b[38;5;129;01mand\u001b[39;00m domain\u001b[38;5;241m.\u001b[39mhas_assoc_Ring):\n\u001b[1;32m-> 2242\u001b[0m     _, p, q \u001b[38;5;241m=\u001b[39m \u001b[43mf\u001b[49m\u001b[38;5;241;43m.\u001b[39;49m\u001b[43mcofactors\u001b[49m\u001b[43m(\u001b[49m\u001b[43mg\u001b[49m\u001b[43m)\u001b[49m\n\u001b[0;32m   2243\u001b[0m \u001b[38;5;28;01melse\u001b[39;00m:\n\u001b[0;32m   2244\u001b[0m     new_ring \u001b[38;5;241m=\u001b[39m ring\u001b[38;5;241m.\u001b[39mclone(domain\u001b[38;5;241m=\u001b[39mdomain\u001b[38;5;241m.\u001b[39mget_ring())\n",
      "File \u001b[1;32mc:\\Users\\Parv\\anaconda3\\envs\\pytorch_gpu\\Lib\\site-packages\\sympy\\polys\\rings.py:2158\u001b[0m, in \u001b[0;36mPolyElement.cofactors\u001b[1;34m(f, g)\u001b[0m\n\u001b[0;32m   2155\u001b[0m     \u001b[38;5;28;01mreturn\u001b[39;00m h, cff, cfg\n\u001b[0;32m   2157\u001b[0m J, (f, g) \u001b[38;5;241m=\u001b[39m f\u001b[38;5;241m.\u001b[39mdeflate(g)\n\u001b[1;32m-> 2158\u001b[0m h, cff, cfg \u001b[38;5;241m=\u001b[39m \u001b[43mf\u001b[49m\u001b[38;5;241;43m.\u001b[39;49m\u001b[43m_gcd\u001b[49m\u001b[43m(\u001b[49m\u001b[43mg\u001b[49m\u001b[43m)\u001b[49m\n\u001b[0;32m   2160\u001b[0m \u001b[38;5;28;01mreturn\u001b[39;00m (h\u001b[38;5;241m.\u001b[39minflate(J), cff\u001b[38;5;241m.\u001b[39minflate(J), cfg\u001b[38;5;241m.\u001b[39minflate(J))\n",
      "File \u001b[1;32mc:\\Users\\Parv\\anaconda3\\envs\\pytorch_gpu\\Lib\\site-packages\\sympy\\polys\\rings.py:2193\u001b[0m, in \u001b[0;36mPolyElement._gcd\u001b[1;34m(f, g)\u001b[0m\n\u001b[0;32m   2191\u001b[0m     \u001b[38;5;28;01mreturn\u001b[39;00m f\u001b[38;5;241m.\u001b[39m_gcd_ZZ(g)\n\u001b[0;32m   2192\u001b[0m \u001b[38;5;28;01melse\u001b[39;00m: \u001b[38;5;66;03m# TODO: don't use dense representation (port PRS algorithms)\u001b[39;00m\n\u001b[1;32m-> 2193\u001b[0m     \u001b[38;5;28;01mreturn\u001b[39;00m \u001b[43mring\u001b[49m\u001b[38;5;241;43m.\u001b[39;49m\u001b[43mdmp_inner_gcd\u001b[49m\u001b[43m(\u001b[49m\u001b[43mf\u001b[49m\u001b[43m,\u001b[49m\u001b[43m \u001b[49m\u001b[43mg\u001b[49m\u001b[43m)\u001b[49m\n",
      "File \u001b[1;32mc:\\Users\\Parv\\anaconda3\\envs\\pytorch_gpu\\Lib\\site-packages\\sympy\\polys\\compatibility.py:663\u001b[0m, in \u001b[0;36mIPolys.dmp_inner_gcd\u001b[1;34m(self, f, g)\u001b[0m\n\u001b[0;32m    662\u001b[0m \u001b[38;5;28;01mdef\u001b[39;00m \u001b[38;5;21mdmp_inner_gcd\u001b[39m(\u001b[38;5;28mself\u001b[39m, f, g):\n\u001b[1;32m--> 663\u001b[0m     H, F, G \u001b[38;5;241m=\u001b[39m \u001b[43mdmp_inner_gcd\u001b[49m\u001b[43m(\u001b[49m\u001b[38;5;28;43mself\u001b[39;49m\u001b[38;5;241;43m.\u001b[39;49m\u001b[43mto_dense\u001b[49m\u001b[43m(\u001b[49m\u001b[43mf\u001b[49m\u001b[43m)\u001b[49m\u001b[43m,\u001b[49m\u001b[43m \u001b[49m\u001b[38;5;28;43mself\u001b[39;49m\u001b[38;5;241;43m.\u001b[39;49m\u001b[43mto_dense\u001b[49m\u001b[43m(\u001b[49m\u001b[43mg\u001b[49m\u001b[43m)\u001b[49m\u001b[43m,\u001b[49m\u001b[43m \u001b[49m\u001b[38;5;28;43mself\u001b[39;49m\u001b[38;5;241;43m.\u001b[39;49m\u001b[43mngens\u001b[49m\u001b[38;5;241;43m-\u001b[39;49m\u001b[38;5;241;43m1\u001b[39;49m\u001b[43m,\u001b[49m\u001b[43m \u001b[49m\u001b[38;5;28;43mself\u001b[39;49m\u001b[38;5;241;43m.\u001b[39;49m\u001b[43mdomain\u001b[49m\u001b[43m)\u001b[49m\n\u001b[0;32m    664\u001b[0m     \u001b[38;5;28;01mreturn\u001b[39;00m (\u001b[38;5;28mself\u001b[39m\u001b[38;5;241m.\u001b[39mfrom_dense(H), \u001b[38;5;28mself\u001b[39m\u001b[38;5;241m.\u001b[39mfrom_dense(F), \u001b[38;5;28mself\u001b[39m\u001b[38;5;241m.\u001b[39mfrom_dense(G))\n",
      "File \u001b[1;32mc:\\Users\\Parv\\anaconda3\\envs\\pytorch_gpu\\Lib\\site-packages\\sympy\\polys\\euclidtools.py:1584\u001b[0m, in \u001b[0;36mdmp_inner_gcd\u001b[1;34m(f, g, u, K)\u001b[0m\n\u001b[0;32m   1581\u001b[0m     \u001b[38;5;28;01mreturn\u001b[39;00m dup_inner_gcd(f, g, K)\n\u001b[0;32m   1583\u001b[0m J, (f, g) \u001b[38;5;241m=\u001b[39m dmp_multi_deflate((f, g), u, K)\n\u001b[1;32m-> 1584\u001b[0m h, cff, cfg \u001b[38;5;241m=\u001b[39m \u001b[43m_dmp_inner_gcd\u001b[49m\u001b[43m(\u001b[49m\u001b[43mf\u001b[49m\u001b[43m,\u001b[49m\u001b[43m \u001b[49m\u001b[43mg\u001b[49m\u001b[43m,\u001b[49m\u001b[43m \u001b[49m\u001b[43mu\u001b[49m\u001b[43m,\u001b[49m\u001b[43m \u001b[49m\u001b[43mK\u001b[49m\u001b[43m)\u001b[49m\n\u001b[0;32m   1586\u001b[0m \u001b[38;5;28;01mreturn\u001b[39;00m (dmp_inflate(h, J, u, K),\n\u001b[0;32m   1587\u001b[0m         dmp_inflate(cff, J, u, K),\n\u001b[0;32m   1588\u001b[0m         dmp_inflate(cfg, J, u, K))\n",
      "File \u001b[1;32mc:\\Users\\Parv\\anaconda3\\envs\\pytorch_gpu\\Lib\\site-packages\\sympy\\polys\\euclidtools.py:1535\u001b[0m, in \u001b[0;36m_dmp_inner_gcd\u001b[1;34m(f, g, u, K)\u001b[0m\n\u001b[0;32m   1532\u001b[0m f \u001b[38;5;241m=\u001b[39m dmp_convert(f, u, K, exact)\n\u001b[0;32m   1533\u001b[0m g \u001b[38;5;241m=\u001b[39m dmp_convert(g, u, K, exact)\n\u001b[1;32m-> 1535\u001b[0m h, cff, cfg \u001b[38;5;241m=\u001b[39m \u001b[43m_dmp_inner_gcd\u001b[49m\u001b[43m(\u001b[49m\u001b[43mf\u001b[49m\u001b[43m,\u001b[49m\u001b[43m \u001b[49m\u001b[43mg\u001b[49m\u001b[43m,\u001b[49m\u001b[43m \u001b[49m\u001b[43mu\u001b[49m\u001b[43m,\u001b[49m\u001b[43m \u001b[49m\u001b[43mexact\u001b[49m\u001b[43m)\u001b[49m\n\u001b[0;32m   1537\u001b[0m h \u001b[38;5;241m=\u001b[39m dmp_convert(h, u, exact, K)\n\u001b[0;32m   1538\u001b[0m cff \u001b[38;5;241m=\u001b[39m dmp_convert(cff, u, exact, K)\n",
      "File \u001b[1;32mc:\\Users\\Parv\\anaconda3\\envs\\pytorch_gpu\\Lib\\site-packages\\sympy\\polys\\euclidtools.py:1545\u001b[0m, in \u001b[0;36m_dmp_inner_gcd\u001b[1;34m(f, g, u, K)\u001b[0m\n\u001b[0;32m   1543\u001b[0m \u001b[38;5;28;01mif\u001b[39;00m K\u001b[38;5;241m.\u001b[39mis_QQ \u001b[38;5;129;01mand\u001b[39;00m query(\u001b[38;5;124m'\u001b[39m\u001b[38;5;124mUSE_HEU_GCD\u001b[39m\u001b[38;5;124m'\u001b[39m):\n\u001b[0;32m   1544\u001b[0m     \u001b[38;5;28;01mtry\u001b[39;00m:\n\u001b[1;32m-> 1545\u001b[0m         \u001b[38;5;28;01mreturn\u001b[39;00m \u001b[43mdmp_qq_heu_gcd\u001b[49m\u001b[43m(\u001b[49m\u001b[43mf\u001b[49m\u001b[43m,\u001b[49m\u001b[43m \u001b[49m\u001b[43mg\u001b[49m\u001b[43m,\u001b[49m\u001b[43m \u001b[49m\u001b[43mu\u001b[49m\u001b[43m,\u001b[49m\u001b[43m \u001b[49m\u001b[43mK\u001b[49m\u001b[43m)\u001b[49m\n\u001b[0;32m   1546\u001b[0m     \u001b[38;5;28;01mexcept\u001b[39;00m HeuristicGCDFailed:\n\u001b[0;32m   1547\u001b[0m         \u001b[38;5;28;01mpass\u001b[39;00m\n",
      "File \u001b[1;32mc:\\Users\\Parv\\anaconda3\\envs\\pytorch_gpu\\Lib\\site-packages\\sympy\\polys\\euclidtools.py:1444\u001b[0m, in \u001b[0;36mdmp_qq_heu_gcd\u001b[1;34m(f, g, u, K0)\u001b[0m\n\u001b[0;32m   1424\u001b[0m \u001b[38;5;28;01mdef\u001b[39;00m \u001b[38;5;21mdmp_qq_heu_gcd\u001b[39m(f, g, u, K0):\n\u001b[0;32m   1425\u001b[0m \u001b[38;5;250m    \u001b[39m\u001b[38;5;124;03m\"\"\"\u001b[39;00m\n\u001b[0;32m   1426\u001b[0m \u001b[38;5;124;03m    Heuristic polynomial GCD in `Q[X]`.\u001b[39;00m\n\u001b[0;32m   1427\u001b[0m \n\u001b[1;32m   (...)\u001b[0m\n\u001b[0;32m   1442\u001b[0m \n\u001b[0;32m   1443\u001b[0m \u001b[38;5;124;03m    \"\"\"\u001b[39;00m\n\u001b[1;32m-> 1444\u001b[0m     result \u001b[38;5;241m=\u001b[39m \u001b[43m_dmp_ff_trivial_gcd\u001b[49m\u001b[43m(\u001b[49m\u001b[43mf\u001b[49m\u001b[43m,\u001b[49m\u001b[43m \u001b[49m\u001b[43mg\u001b[49m\u001b[43m,\u001b[49m\u001b[43m \u001b[49m\u001b[43mu\u001b[49m\u001b[43m,\u001b[49m\u001b[43m \u001b[49m\u001b[43mK0\u001b[49m\u001b[43m)\u001b[49m\n\u001b[0;32m   1446\u001b[0m     \u001b[38;5;28;01mif\u001b[39;00m result \u001b[38;5;129;01mis\u001b[39;00m \u001b[38;5;129;01mnot\u001b[39;00m \u001b[38;5;28;01mNone\u001b[39;00m:\n\u001b[0;32m   1447\u001b[0m         \u001b[38;5;28;01mreturn\u001b[39;00m result\n",
      "File \u001b[1;32mc:\\Users\\Parv\\anaconda3\\envs\\pytorch_gpu\\Lib\\site-packages\\sympy\\polys\\euclidtools.py:933\u001b[0m, in \u001b[0;36m_dmp_ff_trivial_gcd\u001b[1;34m(f, g, u, K)\u001b[0m\n\u001b[0;32m    929\u001b[0m     \u001b[38;5;28;01mreturn\u001b[39;00m (dmp_ground_monic(f, u, K),\n\u001b[0;32m    930\u001b[0m             dmp_ground(dmp_ground_LC(f, u, K), u),\n\u001b[0;32m    931\u001b[0m             dmp_zero(u))\n\u001b[0;32m    932\u001b[0m \u001b[38;5;28;01melif\u001b[39;00m query(\u001b[38;5;124m'\u001b[39m\u001b[38;5;124mUSE_SIMPLIFY_GCD\u001b[39m\u001b[38;5;124m'\u001b[39m):\n\u001b[1;32m--> 933\u001b[0m     \u001b[38;5;28;01mreturn\u001b[39;00m \u001b[43m_dmp_simplify_gcd\u001b[49m\u001b[43m(\u001b[49m\u001b[43mf\u001b[49m\u001b[43m,\u001b[49m\u001b[43m \u001b[49m\u001b[43mg\u001b[49m\u001b[43m,\u001b[49m\u001b[43m \u001b[49m\u001b[43mu\u001b[49m\u001b[43m,\u001b[49m\u001b[43m \u001b[49m\u001b[43mK\u001b[49m\u001b[43m)\u001b[49m\n\u001b[0;32m    934\u001b[0m \u001b[38;5;28;01melse\u001b[39;00m:\n\u001b[0;32m    935\u001b[0m     \u001b[38;5;28;01mreturn\u001b[39;00m \u001b[38;5;28;01mNone\u001b[39;00m\n",
      "File \u001b[1;32mc:\\Users\\Parv\\anaconda3\\envs\\pytorch_gpu\\Lib\\site-packages\\sympy\\polys\\euclidtools.py:960\u001b[0m, in \u001b[0;36m_dmp_simplify_gcd\u001b[1;34m(f, g, u, K)\u001b[0m\n\u001b[0;32m    957\u001b[0m v \u001b[38;5;241m=\u001b[39m u \u001b[38;5;241m-\u001b[39m \u001b[38;5;241m1\u001b[39m\n\u001b[0;32m    958\u001b[0m h \u001b[38;5;241m=\u001b[39m dmp_gcd(F, G, v, K)\n\u001b[1;32m--> 960\u001b[0m cff \u001b[38;5;241m=\u001b[39m [ \u001b[43mdmp_quo\u001b[49m\u001b[43m(\u001b[49m\u001b[43mcf\u001b[49m\u001b[43m,\u001b[49m\u001b[43m \u001b[49m\u001b[43mh\u001b[49m\u001b[43m,\u001b[49m\u001b[43m \u001b[49m\u001b[43mv\u001b[49m\u001b[43m,\u001b[49m\u001b[43m \u001b[49m\u001b[43mK\u001b[49m\u001b[43m)\u001b[49m \u001b[38;5;28;01mfor\u001b[39;00m cf \u001b[38;5;129;01min\u001b[39;00m f ]\n\u001b[0;32m    961\u001b[0m cfg \u001b[38;5;241m=\u001b[39m [ dmp_quo(cg, h, v, K) \u001b[38;5;28;01mfor\u001b[39;00m cg \u001b[38;5;129;01min\u001b[39;00m g ]\n\u001b[0;32m    963\u001b[0m \u001b[38;5;28;01mreturn\u001b[39;00m [h], cff, cfg\n",
      "File \u001b[1;32mc:\\Users\\Parv\\anaconda3\\envs\\pytorch_gpu\\Lib\\site-packages\\sympy\\polys\\densearith.py:1671\u001b[0m, in \u001b[0;36mdmp_quo\u001b[1;34m(f, g, u, K)\u001b[0m\n\u001b[0;32m   1653\u001b[0m \u001b[38;5;28;01mdef\u001b[39;00m \u001b[38;5;21mdmp_quo\u001b[39m(f, g, u, K):\n\u001b[0;32m   1654\u001b[0m \u001b[38;5;250m    \u001b[39m\u001b[38;5;124;03m\"\"\"\u001b[39;00m\n\u001b[0;32m   1655\u001b[0m \u001b[38;5;124;03m    Returns exact polynomial quotient in ``K[X]``.\u001b[39;00m\n\u001b[0;32m   1656\u001b[0m \n\u001b[1;32m   (...)\u001b[0m\n\u001b[0;32m   1669\u001b[0m \n\u001b[0;32m   1670\u001b[0m \u001b[38;5;124;03m    \"\"\"\u001b[39;00m\n\u001b[1;32m-> 1671\u001b[0m     \u001b[38;5;28;01mreturn\u001b[39;00m \u001b[43mdmp_div\u001b[49m\u001b[43m(\u001b[49m\u001b[43mf\u001b[49m\u001b[43m,\u001b[49m\u001b[43m \u001b[49m\u001b[43mg\u001b[49m\u001b[43m,\u001b[49m\u001b[43m \u001b[49m\u001b[43mu\u001b[49m\u001b[43m,\u001b[49m\u001b[43m \u001b[49m\u001b[43mK\u001b[49m\u001b[43m)\u001b[49m[\u001b[38;5;241m0\u001b[39m]\n",
      "File \u001b[1;32mc:\\Users\\Parv\\anaconda3\\envs\\pytorch_gpu\\Lib\\site-packages\\sympy\\polys\\densearith.py:1627\u001b[0m, in \u001b[0;36mdmp_div\u001b[1;34m(f, g, u, K)\u001b[0m\n\u001b[0;32m   1609\u001b[0m \u001b[38;5;250m\u001b[39m\u001b[38;5;124;03m\"\"\"\u001b[39;00m\n\u001b[0;32m   1610\u001b[0m \u001b[38;5;124;03mPolynomial division with remainder in ``K[X]``.\u001b[39;00m\n\u001b[0;32m   1611\u001b[0m \n\u001b[1;32m   (...)\u001b[0m\n\u001b[0;32m   1624\u001b[0m \n\u001b[0;32m   1625\u001b[0m \u001b[38;5;124;03m\"\"\"\u001b[39;00m\n\u001b[0;32m   1626\u001b[0m \u001b[38;5;28;01mif\u001b[39;00m K\u001b[38;5;241m.\u001b[39mis_Field:\n\u001b[1;32m-> 1627\u001b[0m     \u001b[38;5;28;01mreturn\u001b[39;00m \u001b[43mdmp_ff_div\u001b[49m\u001b[43m(\u001b[49m\u001b[43mf\u001b[49m\u001b[43m,\u001b[49m\u001b[43m \u001b[49m\u001b[43mg\u001b[49m\u001b[43m,\u001b[49m\u001b[43m \u001b[49m\u001b[43mu\u001b[49m\u001b[43m,\u001b[49m\u001b[43m \u001b[49m\u001b[43mK\u001b[49m\u001b[43m)\u001b[49m\n\u001b[0;32m   1628\u001b[0m \u001b[38;5;28;01melse\u001b[39;00m:\n\u001b[0;32m   1629\u001b[0m     \u001b[38;5;28;01mreturn\u001b[39;00m dmp_rr_div(f, g, u, K)\n",
      "File \u001b[1;32mc:\\Users\\Parv\\anaconda3\\envs\\pytorch_gpu\\Lib\\site-packages\\sympy\\polys\\densearith.py:1494\u001b[0m, in \u001b[0;36mdmp_ff_div\u001b[1;34m(f, g, u, K)\u001b[0m\n\u001b[0;32m   1492\u001b[0m \u001b[38;5;28;01mwhile\u001b[39;00m \u001b[38;5;28;01mTrue\u001b[39;00m:\n\u001b[0;32m   1493\u001b[0m     lc_r \u001b[38;5;241m=\u001b[39m dmp_LC(r, K)\n\u001b[1;32m-> 1494\u001b[0m     c, R \u001b[38;5;241m=\u001b[39m \u001b[43mdmp_ff_div\u001b[49m\u001b[43m(\u001b[49m\u001b[43mlc_r\u001b[49m\u001b[43m,\u001b[49m\u001b[43m \u001b[49m\u001b[43mlc_g\u001b[49m\u001b[43m,\u001b[49m\u001b[43m \u001b[49m\u001b[43mv\u001b[49m\u001b[43m,\u001b[49m\u001b[43m \u001b[49m\u001b[43mK\u001b[49m\u001b[43m)\u001b[49m\n\u001b[0;32m   1496\u001b[0m     \u001b[38;5;28;01mif\u001b[39;00m \u001b[38;5;129;01mnot\u001b[39;00m dmp_zero_p(R, v):\n\u001b[0;32m   1497\u001b[0m         \u001b[38;5;28;01mbreak\u001b[39;00m\n",
      "File \u001b[1;32mc:\\Users\\Parv\\anaconda3\\envs\\pytorch_gpu\\Lib\\site-packages\\sympy\\polys\\densearith.py:1502\u001b[0m, in \u001b[0;36mdmp_ff_div\u001b[1;34m(f, g, u, K)\u001b[0m\n\u001b[0;32m   1499\u001b[0m j \u001b[38;5;241m=\u001b[39m dr \u001b[38;5;241m-\u001b[39m dg\n\u001b[0;32m   1501\u001b[0m q \u001b[38;5;241m=\u001b[39m dmp_add_term(q, c, j, u, K)\n\u001b[1;32m-> 1502\u001b[0m h \u001b[38;5;241m=\u001b[39m \u001b[43mdmp_mul_term\u001b[49m\u001b[43m(\u001b[49m\u001b[43mg\u001b[49m\u001b[43m,\u001b[49m\u001b[43m \u001b[49m\u001b[43mc\u001b[49m\u001b[43m,\u001b[49m\u001b[43m \u001b[49m\u001b[43mj\u001b[49m\u001b[43m,\u001b[49m\u001b[43m \u001b[49m\u001b[43mu\u001b[49m\u001b[43m,\u001b[49m\u001b[43m \u001b[49m\u001b[43mK\u001b[49m\u001b[43m)\u001b[49m\n\u001b[0;32m   1503\u001b[0m r \u001b[38;5;241m=\u001b[39m dmp_sub(r, h, u, K)\n\u001b[0;32m   1505\u001b[0m _dr, dr \u001b[38;5;241m=\u001b[39m dr, dmp_degree(r, u)\n",
      "File \u001b[1;32mc:\\Users\\Parv\\anaconda3\\envs\\pytorch_gpu\\Lib\\site-packages\\sympy\\polys\\densearith.py:184\u001b[0m, in \u001b[0;36mdmp_mul_term\u001b[1;34m(f, c, i, u, K)\u001b[0m\n\u001b[0;32m    182\u001b[0m     \u001b[38;5;28;01mreturn\u001b[39;00m dmp_zero(u)\n\u001b[0;32m    183\u001b[0m \u001b[38;5;28;01melse\u001b[39;00m:\n\u001b[1;32m--> 184\u001b[0m     \u001b[38;5;28;01mreturn\u001b[39;00m [ \u001b[43mdmp_mul\u001b[49m\u001b[43m(\u001b[49m\u001b[43mcf\u001b[49m\u001b[43m,\u001b[49m\u001b[43m \u001b[49m\u001b[43mc\u001b[49m\u001b[43m,\u001b[49m\u001b[43m \u001b[49m\u001b[43mv\u001b[49m\u001b[43m,\u001b[49m\u001b[43m \u001b[49m\u001b[43mK\u001b[49m\u001b[43m)\u001b[49m \u001b[38;5;28;01mfor\u001b[39;00m cf \u001b[38;5;129;01min\u001b[39;00m f ] \u001b[38;5;241m+\u001b[39m dmp_zeros(i, v, K)\n",
      "File \u001b[1;32mc:\\Users\\Parv\\anaconda3\\envs\\pytorch_gpu\\Lib\\site-packages\\sympy\\polys\\densearith.py:828\u001b[0m, in \u001b[0;36mdmp_mul\u001b[1;34m(f, g, u, K)\u001b[0m\n\u001b[0;32m    825\u001b[0m     coeff \u001b[38;5;241m=\u001b[39m dmp_zero(v)\n\u001b[0;32m    827\u001b[0m     \u001b[38;5;28;01mfor\u001b[39;00m j \u001b[38;5;129;01min\u001b[39;00m \u001b[38;5;28mrange\u001b[39m(\u001b[38;5;28mmax\u001b[39m(\u001b[38;5;241m0\u001b[39m, i \u001b[38;5;241m-\u001b[39m dg), \u001b[38;5;28mmin\u001b[39m(df, i) \u001b[38;5;241m+\u001b[39m \u001b[38;5;241m1\u001b[39m):\n\u001b[1;32m--> 828\u001b[0m         coeff \u001b[38;5;241m=\u001b[39m dmp_add(coeff, \u001b[43mdmp_mul\u001b[49m\u001b[43m(\u001b[49m\u001b[43mf\u001b[49m\u001b[43m[\u001b[49m\u001b[43mj\u001b[49m\u001b[43m]\u001b[49m\u001b[43m,\u001b[49m\u001b[43m \u001b[49m\u001b[43mg\u001b[49m\u001b[43m[\u001b[49m\u001b[43mi\u001b[49m\u001b[43m \u001b[49m\u001b[38;5;241;43m-\u001b[39;49m\u001b[43m \u001b[49m\u001b[43mj\u001b[49m\u001b[43m]\u001b[49m\u001b[43m,\u001b[49m\u001b[43m \u001b[49m\u001b[43mv\u001b[49m\u001b[43m,\u001b[49m\u001b[43m \u001b[49m\u001b[43mK\u001b[49m\u001b[43m)\u001b[49m, v, K)\n\u001b[0;32m    830\u001b[0m     h\u001b[38;5;241m.\u001b[39mappend(coeff)\n\u001b[0;32m    832\u001b[0m \u001b[38;5;28;01mreturn\u001b[39;00m dmp_strip(h, u)\n",
      "File \u001b[1;32mc:\\Users\\Parv\\anaconda3\\envs\\pytorch_gpu\\Lib\\site-packages\\sympy\\polys\\densearith.py:828\u001b[0m, in \u001b[0;36mdmp_mul\u001b[1;34m(f, g, u, K)\u001b[0m\n\u001b[0;32m    825\u001b[0m     coeff \u001b[38;5;241m=\u001b[39m dmp_zero(v)\n\u001b[0;32m    827\u001b[0m     \u001b[38;5;28;01mfor\u001b[39;00m j \u001b[38;5;129;01min\u001b[39;00m \u001b[38;5;28mrange\u001b[39m(\u001b[38;5;28mmax\u001b[39m(\u001b[38;5;241m0\u001b[39m, i \u001b[38;5;241m-\u001b[39m dg), \u001b[38;5;28mmin\u001b[39m(df, i) \u001b[38;5;241m+\u001b[39m \u001b[38;5;241m1\u001b[39m):\n\u001b[1;32m--> 828\u001b[0m         coeff \u001b[38;5;241m=\u001b[39m dmp_add(coeff, \u001b[43mdmp_mul\u001b[49m\u001b[43m(\u001b[49m\u001b[43mf\u001b[49m\u001b[43m[\u001b[49m\u001b[43mj\u001b[49m\u001b[43m]\u001b[49m\u001b[43m,\u001b[49m\u001b[43m \u001b[49m\u001b[43mg\u001b[49m\u001b[43m[\u001b[49m\u001b[43mi\u001b[49m\u001b[43m \u001b[49m\u001b[38;5;241;43m-\u001b[39;49m\u001b[43m \u001b[49m\u001b[43mj\u001b[49m\u001b[43m]\u001b[49m\u001b[43m,\u001b[49m\u001b[43m \u001b[49m\u001b[43mv\u001b[49m\u001b[43m,\u001b[49m\u001b[43m \u001b[49m\u001b[43mK\u001b[49m\u001b[43m)\u001b[49m, v, K)\n\u001b[0;32m    830\u001b[0m     h\u001b[38;5;241m.\u001b[39mappend(coeff)\n\u001b[0;32m    832\u001b[0m \u001b[38;5;28;01mreturn\u001b[39;00m dmp_strip(h, u)\n",
      "    \u001b[1;31m[... skipping similar frames: dmp_mul at line 828 (8 times)]\u001b[0m\n",
      "File \u001b[1;32mc:\\Users\\Parv\\anaconda3\\envs\\pytorch_gpu\\Lib\\site-packages\\sympy\\polys\\densearith.py:828\u001b[0m, in \u001b[0;36mdmp_mul\u001b[1;34m(f, g, u, K)\u001b[0m\n\u001b[0;32m    825\u001b[0m     coeff \u001b[38;5;241m=\u001b[39m dmp_zero(v)\n\u001b[0;32m    827\u001b[0m     \u001b[38;5;28;01mfor\u001b[39;00m j \u001b[38;5;129;01min\u001b[39;00m \u001b[38;5;28mrange\u001b[39m(\u001b[38;5;28mmax\u001b[39m(\u001b[38;5;241m0\u001b[39m, i \u001b[38;5;241m-\u001b[39m dg), \u001b[38;5;28mmin\u001b[39m(df, i) \u001b[38;5;241m+\u001b[39m \u001b[38;5;241m1\u001b[39m):\n\u001b[1;32m--> 828\u001b[0m         coeff \u001b[38;5;241m=\u001b[39m \u001b[43mdmp_add\u001b[49m\u001b[43m(\u001b[49m\u001b[43mcoeff\u001b[49m\u001b[43m,\u001b[49m\u001b[43m \u001b[49m\u001b[43mdmp_mul\u001b[49m\u001b[43m(\u001b[49m\u001b[43mf\u001b[49m\u001b[43m[\u001b[49m\u001b[43mj\u001b[49m\u001b[43m]\u001b[49m\u001b[43m,\u001b[49m\u001b[43m \u001b[49m\u001b[43mg\u001b[49m\u001b[43m[\u001b[49m\u001b[43mi\u001b[49m\u001b[43m \u001b[49m\u001b[38;5;241;43m-\u001b[39;49m\u001b[43m \u001b[49m\u001b[43mj\u001b[49m\u001b[43m]\u001b[49m\u001b[43m,\u001b[49m\u001b[43m \u001b[49m\u001b[43mv\u001b[49m\u001b[43m,\u001b[49m\u001b[43m \u001b[49m\u001b[43mK\u001b[49m\u001b[43m)\u001b[49m\u001b[43m,\u001b[49m\u001b[43m \u001b[49m\u001b[43mv\u001b[49m\u001b[43m,\u001b[49m\u001b[43m \u001b[49m\u001b[43mK\u001b[49m\u001b[43m)\u001b[49m\n\u001b[0;32m    830\u001b[0m     h\u001b[38;5;241m.\u001b[39mappend(coeff)\n\u001b[0;32m    832\u001b[0m \u001b[38;5;28;01mreturn\u001b[39;00m dmp_strip(h, u)\n",
      "File \u001b[1;32mc:\\Users\\Parv\\anaconda3\\envs\\pytorch_gpu\\Lib\\site-packages\\sympy\\polys\\densearith.py:567\u001b[0m, in \u001b[0;36mdmp_add\u001b[1;34m(f, g, u, K)\u001b[0m\n\u001b[0;32m    563\u001b[0m     \u001b[38;5;28;01mreturn\u001b[39;00m dup_add(f, g, K)\n\u001b[0;32m    565\u001b[0m df \u001b[38;5;241m=\u001b[39m dmp_degree(f, u)\n\u001b[1;32m--> 567\u001b[0m \u001b[38;5;28;01mif\u001b[39;00m \u001b[43mdf\u001b[49m\u001b[43m \u001b[49m\u001b[38;5;241;43m<\u001b[39;49m\u001b[43m \u001b[49m\u001b[38;5;241;43m0\u001b[39;49m:\n\u001b[0;32m    568\u001b[0m     \u001b[38;5;28;01mreturn\u001b[39;00m g\n\u001b[0;32m    570\u001b[0m dg \u001b[38;5;241m=\u001b[39m dmp_degree(g, u)\n",
      "File \u001b[1;32mc:\\Users\\Parv\\anaconda3\\envs\\pytorch_gpu\\Lib\\site-packages\\sympy\\core\\decorators.py:236\u001b[0m, in \u001b[0;36m_SympifyWrapper.make_wrapped.<locals>._func\u001b[1;34m(self, other)\u001b[0m\n\u001b[0;32m    234\u001b[0m \u001b[38;5;28;01mif\u001b[39;00m \u001b[38;5;129;01mnot\u001b[39;00m \u001b[38;5;28misinstance\u001b[39m(other, expectedcls):\n\u001b[0;32m    235\u001b[0m     \u001b[38;5;28;01mreturn\u001b[39;00m retval\n\u001b[1;32m--> 236\u001b[0m \u001b[38;5;28;01mreturn\u001b[39;00m \u001b[43mfunc\u001b[49m\u001b[43m(\u001b[49m\u001b[38;5;28;43mself\u001b[39;49m\u001b[43m,\u001b[49m\u001b[43m \u001b[49m\u001b[43mother\u001b[49m\u001b[43m)\u001b[49m\n",
      "File \u001b[1;32mc:\\Users\\Parv\\anaconda3\\envs\\pytorch_gpu\\Lib\\site-packages\\sympy\\core\\expr.py:376\u001b[0m, in \u001b[0;36mExpr.__lt__\u001b[1;34m(self, other)\u001b[0m\n\u001b[0;32m    373\u001b[0m \u001b[38;5;129m@sympify_return\u001b[39m([(\u001b[38;5;124m'\u001b[39m\u001b[38;5;124mother\u001b[39m\u001b[38;5;124m'\u001b[39m, \u001b[38;5;124m'\u001b[39m\u001b[38;5;124mExpr\u001b[39m\u001b[38;5;124m'\u001b[39m)], \u001b[38;5;28mNotImplemented\u001b[39m)\n\u001b[0;32m    374\u001b[0m \u001b[38;5;28;01mdef\u001b[39;00m \u001b[38;5;21m__lt__\u001b[39m(\u001b[38;5;28mself\u001b[39m, other):\n\u001b[0;32m    375\u001b[0m     \u001b[38;5;28;01mfrom\u001b[39;00m \u001b[38;5;21;01m.\u001b[39;00m\u001b[38;5;21;01mrelational\u001b[39;00m \u001b[38;5;28;01mimport\u001b[39;00m StrictLessThan\n\u001b[1;32m--> 376\u001b[0m     \u001b[38;5;28;01mreturn\u001b[39;00m \u001b[43mStrictLessThan\u001b[49m\u001b[43m(\u001b[49m\u001b[38;5;28;43mself\u001b[39;49m\u001b[43m,\u001b[49m\u001b[43m \u001b[49m\u001b[43mother\u001b[49m\u001b[43m)\u001b[49m\n",
      "File \u001b[1;32mc:\\Users\\Parv\\anaconda3\\envs\\pytorch_gpu\\Lib\\site-packages\\sympy\\core\\relational.py:833\u001b[0m, in \u001b[0;36m_Inequality.__new__\u001b[1;34m(cls, lhs, rhs, **options)\u001b[0m\n\u001b[0;32m    824\u001b[0m             \u001b[38;5;28;01mraise\u001b[39;00m \u001b[38;5;167;01mTypeError\u001b[39;00m(\u001b[38;5;124m\"\u001b[39m\u001b[38;5;124mInvalid NaN comparison\u001b[39m\u001b[38;5;124m\"\u001b[39m)\n\u001b[0;32m    825\u001b[0m     \u001b[38;5;66;03m# First we invoke the appropriate inequality method of `lhs`\u001b[39;00m\n\u001b[0;32m    826\u001b[0m     \u001b[38;5;66;03m# (e.g., `lhs.__lt__`).  That method will try to reduce to\u001b[39;00m\n\u001b[0;32m    827\u001b[0m     \u001b[38;5;66;03m# boolean or raise an exception.  It may keep calling\u001b[39;00m\n\u001b[1;32m   (...)\u001b[0m\n\u001b[0;32m    831\u001b[0m     \u001b[38;5;66;03m# exception).  In that case, it must call us with\u001b[39;00m\n\u001b[0;32m    832\u001b[0m     \u001b[38;5;66;03m# `evaluate=False` to prevent infinite recursion.\u001b[39;00m\n\u001b[1;32m--> 833\u001b[0m     \u001b[38;5;28;01mreturn\u001b[39;00m \u001b[38;5;28;43mcls\u001b[39;49m\u001b[38;5;241;43m.\u001b[39;49m\u001b[43m_eval_relation\u001b[49m\u001b[43m(\u001b[49m\u001b[43mlhs\u001b[49m\u001b[43m,\u001b[49m\u001b[43m \u001b[49m\u001b[43mrhs\u001b[49m\u001b[43m,\u001b[49m\u001b[43m \u001b[49m\u001b[38;5;241;43m*\u001b[39;49m\u001b[38;5;241;43m*\u001b[39;49m\u001b[43moptions\u001b[49m\u001b[43m)\u001b[49m\n\u001b[0;32m    835\u001b[0m \u001b[38;5;66;03m# make a \"non-evaluated\" Expr for the inequality\u001b[39;00m\n\u001b[0;32m    836\u001b[0m \u001b[38;5;28;01mreturn\u001b[39;00m Relational\u001b[38;5;241m.\u001b[39m\u001b[38;5;21m__new__\u001b[39m(\u001b[38;5;28mcls\u001b[39m, lhs, rhs, \u001b[38;5;241m*\u001b[39m\u001b[38;5;241m*\u001b[39moptions)\n",
      "File \u001b[1;32mc:\\Users\\Parv\\anaconda3\\envs\\pytorch_gpu\\Lib\\site-packages\\sympy\\core\\relational.py:844\u001b[0m, in \u001b[0;36m_Inequality._eval_relation\u001b[1;34m(cls, lhs, rhs, **options)\u001b[0m\n\u001b[0;32m    842\u001b[0m     \u001b[38;5;28;01mreturn\u001b[39;00m \u001b[38;5;28mcls\u001b[39m(lhs, rhs, evaluate\u001b[38;5;241m=\u001b[39m\u001b[38;5;28;01mFalse\u001b[39;00m)\n\u001b[0;32m    843\u001b[0m \u001b[38;5;28;01melse\u001b[39;00m:\n\u001b[1;32m--> 844\u001b[0m     \u001b[38;5;28;01mreturn\u001b[39;00m \u001b[43m_sympify\u001b[49m\u001b[43m(\u001b[49m\u001b[43mval\u001b[49m\u001b[43m)\u001b[49m\n",
      "File \u001b[1;32mc:\\Users\\Parv\\anaconda3\\envs\\pytorch_gpu\\Lib\\site-packages\\sympy\\core\\sympify.py:528\u001b[0m, in \u001b[0;36m_sympify\u001b[1;34m(a)\u001b[0m\n\u001b[0;32m    502\u001b[0m \u001b[38;5;28;01mdef\u001b[39;00m \u001b[38;5;21m_sympify\u001b[39m(a):\n\u001b[0;32m    503\u001b[0m \u001b[38;5;250m    \u001b[39m\u001b[38;5;124;03m\"\"\"\u001b[39;00m\n\u001b[0;32m    504\u001b[0m \u001b[38;5;124;03m    Short version of :func:`~.sympify` for internal usage for ``__add__`` and\u001b[39;00m\n\u001b[0;32m    505\u001b[0m \u001b[38;5;124;03m    ``__eq__`` methods where it is ok to allow some things (like Python\u001b[39;00m\n\u001b[1;32m   (...)\u001b[0m\n\u001b[0;32m    526\u001b[0m \n\u001b[0;32m    527\u001b[0m \u001b[38;5;124;03m    \"\"\"\u001b[39;00m\n\u001b[1;32m--> 528\u001b[0m     \u001b[38;5;28;01mreturn\u001b[39;00m \u001b[43msympify\u001b[49m\u001b[43m(\u001b[49m\u001b[43ma\u001b[49m\u001b[43m,\u001b[49m\u001b[43m \u001b[49m\u001b[43mstrict\u001b[49m\u001b[38;5;241;43m=\u001b[39;49m\u001b[38;5;28;43;01mTrue\u001b[39;49;00m\u001b[43m)\u001b[49m\n",
      "File \u001b[1;32mc:\\Users\\Parv\\anaconda3\\envs\\pytorch_gpu\\Lib\\site-packages\\sympy\\core\\sympify.py:376\u001b[0m, in \u001b[0;36msympify\u001b[1;34m(a, locals, convert_xor, strict, rational, evaluate)\u001b[0m\n\u001b[0;32m    373\u001b[0m \u001b[38;5;28mcls\u001b[39m \u001b[38;5;241m=\u001b[39m \u001b[38;5;28mgetattr\u001b[39m(a, \u001b[38;5;124m\"\u001b[39m\u001b[38;5;124m__class__\u001b[39m\u001b[38;5;124m\"\u001b[39m, \u001b[38;5;28;01mNone\u001b[39;00m)\n\u001b[0;32m    375\u001b[0m \u001b[38;5;66;03m#Check if there exists a converter for any of the types in the mro\u001b[39;00m\n\u001b[1;32m--> 376\u001b[0m \u001b[38;5;28;01mfor\u001b[39;00m superclass \u001b[38;5;129;01min\u001b[39;00m \u001b[43mgetmro\u001b[49m\u001b[43m(\u001b[49m\u001b[38;5;28;43mcls\u001b[39;49m\u001b[43m)\u001b[49m:\n\u001b[0;32m    377\u001b[0m     \u001b[38;5;66;03m#First check for user defined converters\u001b[39;00m\n\u001b[0;32m    378\u001b[0m     conv \u001b[38;5;241m=\u001b[39m _external_converter\u001b[38;5;241m.\u001b[39mget(superclass)\n\u001b[0;32m    379\u001b[0m     \u001b[38;5;28;01mif\u001b[39;00m conv \u001b[38;5;129;01mis\u001b[39;00m \u001b[38;5;28;01mNone\u001b[39;00m:\n\u001b[0;32m    380\u001b[0m         \u001b[38;5;66;03m#if none exists, check for SymPy defined converters\u001b[39;00m\n",
      "File \u001b[1;32mc:\\Users\\Parv\\anaconda3\\envs\\pytorch_gpu\\Lib\\inspect.py:741\u001b[0m, in \u001b[0;36mgetmro\u001b[1;34m(cls)\u001b[0m\n\u001b[0;32m    737\u001b[0m     \u001b[38;5;28;01mreturn\u001b[39;00m result\n\u001b[0;32m    739\u001b[0m \u001b[38;5;66;03m# ----------------------------------------------------------- class helpers\u001b[39;00m\n\u001b[1;32m--> 741\u001b[0m \u001b[38;5;28;01mdef\u001b[39;00m \u001b[38;5;21mgetmro\u001b[39m(\u001b[38;5;28mcls\u001b[39m):\n\u001b[0;32m    742\u001b[0m     \u001b[38;5;124m\"\u001b[39m\u001b[38;5;124mReturn tuple of base classes (including cls) in method resolution order.\u001b[39m\u001b[38;5;124m\"\u001b[39m\n\u001b[0;32m    743\u001b[0m     \u001b[38;5;28;01mreturn\u001b[39;00m \u001b[38;5;28mcls\u001b[39m\u001b[38;5;241m.\u001b[39m\u001b[38;5;18m__mro__\u001b[39m\n",
      "\u001b[1;31mKeyboardInterrupt\u001b[0m: "
     ]
    }
   ],
   "source": [
    "simp_lap_1 = simplify(lap_G_1 + lap_M_1 + lap_H_1)"
   ]
  },
  {
   "cell_type": "code",
   "execution_count": 32,
   "id": "c10c8dd5",
   "metadata": {},
   "outputs": [
    {
     "data": {
      "image/png": "[encoded data removed]",
      "text/latex": [
       "$\\displaystyle \\frac{\\left(- 2.0 \\alpha_{1} \\left(\\left(x_{1} - x_{2}\\right)^{2} + \\left(y_{1} - y_{2}\\right)^{2} + \\left(z_{1} - z_{2}\\right)^{2}\\right)^{3} + \\left(\\left(x_{1} - x_{2}\\right)^{2} + \\left(y_{1} - y_{2}\\right)^{2} + \\left(z_{1} - z_{2}\\right)^{2}\\right)^{\\frac{5}{2}} \\cdot \\left(0.5 \\alpha_{1}^{2} \\left(x_{1} - x_{2}\\right)^{2} + 0.5 \\alpha_{1}^{2} \\left(y_{1} - y_{2}\\right)^{2} + 0.5 \\alpha_{1}^{2} \\left(z_{1} - z_{2}\\right)^{2} + 1.5\\right) - 0.5 \\left(\\left(x_{1} - x_{2}\\right)^{2} + \\left(y_{1} - y_{2}\\right)^{2} + \\left(z_{1} - z_{2}\\right)^{2}\\right)^{\\frac{5}{2}}\\right) e^{- \\alpha_{1} \\sqrt{\\left(x_{1} - x_{2}\\right)^{2} + \\left(y_{1} - y_{2}\\right)^{2} + \\left(z_{1} - z_{2}\\right)^{2}}}}{\\left(\\left(x_{1} - x_{2}\\right)^{2} + \\left(y_{1} - y_{2}\\right)^{2} + \\left(z_{1} - z_{2}\\right)^{2}\\right)^{3}}$"
      ],
      "text/plain": [
       "                                                                              \n",
       "⎛                                               3                             \n",
       "⎜         ⎛         2            2            2⎞    ⎛         2            2  \n",
       "⎝- 2.0⋅α₁⋅⎝(x₁ - x₂)  + (y₁ - y₂)  + (z₁ - z₂) ⎠  + ⎝(x₁ - x₂)  + (y₁ - y₂)  +\n",
       "──────────────────────────────────────────────────────────────────────────────\n",
       "                                                                              \n",
       "                                                                              \n",
       "                                                                              \n",
       "\n",
       "                                                                              \n",
       "            5/2                                                               \n",
       "          2⎞    ⎛      2          2         2          2         2          2 \n",
       " (z₁ - z₂) ⎠   ⋅⎝0.5⋅α₁ ⋅(x₁ - x₂)  + 0.5⋅α₁ ⋅(y₁ - y₂)  + 0.5⋅α₁ ⋅(z₁ - z₂)  \n",
       "──────────────────────────────────────────────────────────────────────────────\n",
       "                                                                     3        \n",
       "                               ⎛         2            2            2⎞         \n",
       "                               ⎝(x₁ - x₂)  + (y₁ - y₂)  + (z₁ - z₂) ⎠         \n",
       "\n",
       "                                                                ______________\n",
       "                                                   5/2⎞        ╱          2   \n",
       "     ⎞       ⎛         2            2            2⎞   ⎟  -α₁⋅╲╱  (x₁ - x₂)  + \n",
       "+ 1.5⎠ - 0.5⋅⎝(x₁ - x₂)  + (y₁ - y₂)  + (z₁ - z₂) ⎠   ⎠⋅ℯ                     \n",
       "──────────────────────────────────────────────────────────────────────────────\n",
       "                                                                              \n",
       "                                                                              \n",
       "                                                                              \n",
       "\n",
       "________________________\n",
       "         2            2 \n",
       "(y₁ - y₂)  + (z₁ - z₂)  \n",
       "                        \n",
       "────────────────────────\n",
       "                        \n",
       "                        \n",
       "                        "
      ]
     },
     "execution_count": 32,
     "metadata": {},
     "output_type": "execute_result"
    }
   ],
   "source": [
    "lap_M_1"
   ]
  },
  {
   "cell_type": "code",
   "execution_count": 30,
   "id": "ac336df6",
   "metadata": {},
   "outputs": [
    {
     "ename": "KeyboardInterrupt",
     "evalue": "",
     "output_type": "error",
     "traceback": [
      "\u001b[1;31m---------------------------------------------------------------------------\u001b[0m",
      "\u001b[1;31mKeyboardInterrupt\u001b[0m                         Traceback (most recent call last)",
      "Cell \u001b[1;32mIn[30], line 1\u001b[0m\n\u001b[1;32m----> 1\u001b[0m \u001b[43msimplify\u001b[49m\u001b[43m(\u001b[49m\u001b[43mlaplacian_1\u001b[49m\u001b[43m(\u001b[49m\u001b[43mG\u001b[49m\u001b[43m)\u001b[49m\u001b[43m \u001b[49m\u001b[38;5;241;43m+\u001b[39;49m\u001b[43m \u001b[49m\u001b[43mlaplacian_1\u001b[49m\u001b[43m(\u001b[49m\u001b[43mM\u001b[49m\u001b[43m)\u001b[49m\u001b[43m \u001b[49m\u001b[38;5;241;43m+\u001b[39;49m\u001b[43m \u001b[49m\u001b[43mlaplacian_1\u001b[49m\u001b[43m(\u001b[49m\u001b[43mH\u001b[49m\u001b[43m)\u001b[49m\u001b[43m)\u001b[49m\n",
      "File \u001b[1;32mc:\\Users\\Parv\\anaconda3\\envs\\pytorch_gpu\\Lib\\site-packages\\sympy\\simplify\\simplify.py:644\u001b[0m, in \u001b[0;36msimplify\u001b[1;34m(expr, ratio, measure, rational, inverse, doit, **kwargs)\u001b[0m\n\u001b[0;32m    642\u001b[0m expr \u001b[38;5;241m=\u001b[39m _bottom_up(expr, \u001b[38;5;28;01mlambda\u001b[39;00m w: \u001b[38;5;28mgetattr\u001b[39m(w, \u001b[38;5;124m'\u001b[39m\u001b[38;5;124mnormal\u001b[39m\u001b[38;5;124m'\u001b[39m, \u001b[38;5;28;01mlambda\u001b[39;00m: w)())\n\u001b[0;32m    643\u001b[0m expr \u001b[38;5;241m=\u001b[39m Mul(\u001b[38;5;241m*\u001b[39mpowsimp(expr)\u001b[38;5;241m.\u001b[39mas_content_primitive())\n\u001b[1;32m--> 644\u001b[0m _e \u001b[38;5;241m=\u001b[39m \u001b[43mcancel\u001b[49m\u001b[43m(\u001b[49m\u001b[43mexpr\u001b[49m\u001b[43m)\u001b[49m\n\u001b[0;32m    645\u001b[0m expr1 \u001b[38;5;241m=\u001b[39m shorter(_e, _mexpand(_e)\u001b[38;5;241m.\u001b[39mcancel())  \u001b[38;5;66;03m# issue 6829\u001b[39;00m\n\u001b[0;32m    646\u001b[0m expr2 \u001b[38;5;241m=\u001b[39m shorter(together(expr, deep\u001b[38;5;241m=\u001b[39m\u001b[38;5;28;01mTrue\u001b[39;00m), together(expr1, deep\u001b[38;5;241m=\u001b[39m\u001b[38;5;28;01mTrue\u001b[39;00m))\n",
      "File \u001b[1;32mc:\\Users\\Parv\\anaconda3\\envs\\pytorch_gpu\\Lib\\site-packages\\sympy\\polys\\polytools.py:6859\u001b[0m, in \u001b[0;36mcancel\u001b[1;34m(f, _signsimp, *gens, **args)\u001b[0m\n\u001b[0;32m   6857\u001b[0m \u001b[38;5;28;01mif\u001b[39;00m f\u001b[38;5;241m.\u001b[39mhas(Piecewise):\n\u001b[0;32m   6858\u001b[0m     \u001b[38;5;28;01mraise\u001b[39;00m PolynomialError()\n\u001b[1;32m-> 6859\u001b[0m R, (F, G) \u001b[38;5;241m=\u001b[39m \u001b[43msring\u001b[49m\u001b[43m(\u001b[49m\u001b[43m(\u001b[49m\u001b[43mp\u001b[49m\u001b[43m,\u001b[49m\u001b[43m \u001b[49m\u001b[43mq\u001b[49m\u001b[43m)\u001b[49m\u001b[43m,\u001b[49m\u001b[43m \u001b[49m\u001b[38;5;241;43m*\u001b[39;49m\u001b[43mgens\u001b[49m\u001b[43m,\u001b[49m\u001b[43m \u001b[49m\u001b[38;5;241;43m*\u001b[39;49m\u001b[38;5;241;43m*\u001b[39;49m\u001b[43margs\u001b[49m\u001b[43m)\u001b[49m\n\u001b[0;32m   6860\u001b[0m \u001b[38;5;28;01mif\u001b[39;00m \u001b[38;5;129;01mnot\u001b[39;00m R\u001b[38;5;241m.\u001b[39mngens:\n\u001b[0;32m   6861\u001b[0m     \u001b[38;5;28;01mif\u001b[39;00m \u001b[38;5;129;01mnot\u001b[39;00m \u001b[38;5;28misinstance\u001b[39m(f, (\u001b[38;5;28mtuple\u001b[39m, Tuple)):\n",
      "File \u001b[1;32mc:\\Users\\Parv\\anaconda3\\envs\\pytorch_gpu\\Lib\\site-packages\\sympy\\polys\\rings.py:163\u001b[0m, in \u001b[0;36msring\u001b[1;34m(exprs, *symbols, **options)\u001b[0m\n\u001b[0;32m    160\u001b[0m opt \u001b[38;5;241m=\u001b[39m build_options(symbols, options)\n\u001b[0;32m    162\u001b[0m \u001b[38;5;66;03m# TODO: rewrite this so that it doesn't use expand() (see poly()).\u001b[39;00m\n\u001b[1;32m--> 163\u001b[0m reps, opt \u001b[38;5;241m=\u001b[39m \u001b[43m_parallel_dict_from_expr\u001b[49m\u001b[43m(\u001b[49m\u001b[43mexprs\u001b[49m\u001b[43m,\u001b[49m\u001b[43m \u001b[49m\u001b[43mopt\u001b[49m\u001b[43m)\u001b[49m\n\u001b[0;32m    165\u001b[0m \u001b[38;5;28;01mif\u001b[39;00m opt\u001b[38;5;241m.\u001b[39mdomain \u001b[38;5;129;01mis\u001b[39;00m \u001b[38;5;28;01mNone\u001b[39;00m:\n\u001b[0;32m    166\u001b[0m     coeffs \u001b[38;5;241m=\u001b[39m \u001b[38;5;28msum\u001b[39m([ \u001b[38;5;28mlist\u001b[39m(rep\u001b[38;5;241m.\u001b[39mvalues()) \u001b[38;5;28;01mfor\u001b[39;00m rep \u001b[38;5;129;01min\u001b[39;00m reps ], [])\n",
      "File \u001b[1;32mc:\\Users\\Parv\\anaconda3\\envs\\pytorch_gpu\\Lib\\site-packages\\sympy\\polys\\polyutils.py:326\u001b[0m, in \u001b[0;36m_parallel_dict_from_expr\u001b[1;34m(exprs, opt)\u001b[0m\n\u001b[0;32m    324\u001b[0m \u001b[38;5;250m\u001b[39m\u001b[38;5;124;03m\"\"\"Transform expressions into a multinomial form. \"\"\"\u001b[39;00m\n\u001b[0;32m    325\u001b[0m \u001b[38;5;28;01mif\u001b[39;00m opt\u001b[38;5;241m.\u001b[39mexpand \u001b[38;5;129;01mis\u001b[39;00m \u001b[38;5;129;01mnot\u001b[39;00m \u001b[38;5;28;01mFalse\u001b[39;00m:\n\u001b[1;32m--> 326\u001b[0m     exprs \u001b[38;5;241m=\u001b[39m [ \u001b[43mexpr\u001b[49m\u001b[38;5;241;43m.\u001b[39;49m\u001b[43mexpand\u001b[49m\u001b[43m(\u001b[49m\u001b[43m)\u001b[49m \u001b[38;5;28;01mfor\u001b[39;00m expr \u001b[38;5;129;01min\u001b[39;00m exprs ]\n\u001b[0;32m    328\u001b[0m \u001b[38;5;28;01mif\u001b[39;00m \u001b[38;5;28many\u001b[39m(expr\u001b[38;5;241m.\u001b[39mis_commutative \u001b[38;5;129;01mis\u001b[39;00m \u001b[38;5;28;01mFalse\u001b[39;00m \u001b[38;5;28;01mfor\u001b[39;00m expr \u001b[38;5;129;01min\u001b[39;00m exprs):\n\u001b[0;32m    329\u001b[0m     \u001b[38;5;28;01mraise\u001b[39;00m PolynomialError(\u001b[38;5;124m'\u001b[39m\u001b[38;5;124mnon-commutative expressions are not supported\u001b[39m\u001b[38;5;124m'\u001b[39m)\n",
      "File \u001b[1;32mc:\\Users\\Parv\\anaconda3\\envs\\pytorch_gpu\\Lib\\site-packages\\sympy\\core\\cache.py:72\u001b[0m, in \u001b[0;36m__cacheit.<locals>.func_wrapper.<locals>.wrapper\u001b[1;34m(*args, **kwargs)\u001b[0m\n\u001b[0;32m     69\u001b[0m \u001b[38;5;129m@wraps\u001b[39m(func)\n\u001b[0;32m     70\u001b[0m \u001b[38;5;28;01mdef\u001b[39;00m \u001b[38;5;21mwrapper\u001b[39m(\u001b[38;5;241m*\u001b[39margs, \u001b[38;5;241m*\u001b[39m\u001b[38;5;241m*\u001b[39mkwargs):\n\u001b[0;32m     71\u001b[0m     \u001b[38;5;28;01mtry\u001b[39;00m:\n\u001b[1;32m---> 72\u001b[0m         retval \u001b[38;5;241m=\u001b[39m \u001b[43mcfunc\u001b[49m\u001b[43m(\u001b[49m\u001b[38;5;241;43m*\u001b[39;49m\u001b[43margs\u001b[49m\u001b[43m,\u001b[49m\u001b[43m \u001b[49m\u001b[38;5;241;43m*\u001b[39;49m\u001b[38;5;241;43m*\u001b[39;49m\u001b[43mkwargs\u001b[49m\u001b[43m)\u001b[49m\n\u001b[0;32m     73\u001b[0m     \u001b[38;5;28;01mexcept\u001b[39;00m \u001b[38;5;167;01mTypeError\u001b[39;00m \u001b[38;5;28;01mas\u001b[39;00m e:\n\u001b[0;32m     74\u001b[0m         \u001b[38;5;28;01mif\u001b[39;00m \u001b[38;5;129;01mnot\u001b[39;00m e\u001b[38;5;241m.\u001b[39margs \u001b[38;5;129;01mor\u001b[39;00m \u001b[38;5;129;01mnot\u001b[39;00m e\u001b[38;5;241m.\u001b[39margs[\u001b[38;5;241m0\u001b[39m]\u001b[38;5;241m.\u001b[39mstartswith(\u001b[38;5;124m'\u001b[39m\u001b[38;5;124munhashable type:\u001b[39m\u001b[38;5;124m'\u001b[39m):\n",
      "File \u001b[1;32mc:\\Users\\Parv\\anaconda3\\envs\\pytorch_gpu\\Lib\\site-packages\\sympy\\core\\expr.py:3690\u001b[0m, in \u001b[0;36mExpr.expand\u001b[1;34m(self, deep, modulus, power_base, power_exp, mul, log, multinomial, basic, **hints)\u001b[0m\n\u001b[0;32m   3687\u001b[0m     expr, _ \u001b[38;5;241m=\u001b[39m Expr\u001b[38;5;241m.\u001b[39m_expand_hint(\n\u001b[0;32m   3688\u001b[0m         expr, \u001b[38;5;124m'\u001b[39m\u001b[38;5;124m_eval_expand_multinomial\u001b[39m\u001b[38;5;124m'\u001b[39m, deep\u001b[38;5;241m=\u001b[39mdeep, \u001b[38;5;241m*\u001b[39m\u001b[38;5;241m*\u001b[39mhints)\n\u001b[0;32m   3689\u001b[0m \u001b[38;5;28;01mif\u001b[39;00m hints\u001b[38;5;241m.\u001b[39mget(\u001b[38;5;124m'\u001b[39m\u001b[38;5;124mmul\u001b[39m\u001b[38;5;124m'\u001b[39m, \u001b[38;5;28;01mFalse\u001b[39;00m):\n\u001b[1;32m-> 3690\u001b[0m     expr, _ \u001b[38;5;241m=\u001b[39m \u001b[43mExpr\u001b[49m\u001b[38;5;241;43m.\u001b[39;49m\u001b[43m_expand_hint\u001b[49m\u001b[43m(\u001b[49m\n\u001b[0;32m   3691\u001b[0m \u001b[43m        \u001b[49m\u001b[43mexpr\u001b[49m\u001b[43m,\u001b[49m\u001b[43m \u001b[49m\u001b[38;5;124;43m'\u001b[39;49m\u001b[38;5;124;43m_eval_expand_mul\u001b[39;49m\u001b[38;5;124;43m'\u001b[39;49m\u001b[43m,\u001b[49m\u001b[43m \u001b[49m\u001b[43mdeep\u001b[49m\u001b[38;5;241;43m=\u001b[39;49m\u001b[43mdeep\u001b[49m\u001b[43m,\u001b[49m\u001b[43m \u001b[49m\u001b[38;5;241;43m*\u001b[39;49m\u001b[38;5;241;43m*\u001b[39;49m\u001b[43mhints\u001b[49m\u001b[43m)\u001b[49m\n\u001b[0;32m   3692\u001b[0m \u001b[38;5;28;01mif\u001b[39;00m hints\u001b[38;5;241m.\u001b[39mget(\u001b[38;5;124m'\u001b[39m\u001b[38;5;124mlog\u001b[39m\u001b[38;5;124m'\u001b[39m, \u001b[38;5;28;01mFalse\u001b[39;00m):\n\u001b[0;32m   3693\u001b[0m     expr, _ \u001b[38;5;241m=\u001b[39m Expr\u001b[38;5;241m.\u001b[39m_expand_hint(\n\u001b[0;32m   3694\u001b[0m         expr, \u001b[38;5;124m'\u001b[39m\u001b[38;5;124m_eval_expand_log\u001b[39m\u001b[38;5;124m'\u001b[39m, deep\u001b[38;5;241m=\u001b[39mdeep, \u001b[38;5;241m*\u001b[39m\u001b[38;5;241m*\u001b[39mhints)\n",
      "File \u001b[1;32mc:\\Users\\Parv\\anaconda3\\envs\\pytorch_gpu\\Lib\\site-packages\\sympy\\core\\expr.py:3615\u001b[0m, in \u001b[0;36mExpr._expand_hint\u001b[1;34m(expr, hint, deep, **hints)\u001b[0m\n\u001b[0;32m   3613\u001b[0m sargs \u001b[38;5;241m=\u001b[39m []\n\u001b[0;32m   3614\u001b[0m \u001b[38;5;28;01mfor\u001b[39;00m arg \u001b[38;5;129;01min\u001b[39;00m expr\u001b[38;5;241m.\u001b[39margs:\n\u001b[1;32m-> 3615\u001b[0m     arg, arghit \u001b[38;5;241m=\u001b[39m \u001b[43mExpr\u001b[49m\u001b[38;5;241;43m.\u001b[39;49m\u001b[43m_expand_hint\u001b[49m\u001b[43m(\u001b[49m\u001b[43marg\u001b[49m\u001b[43m,\u001b[49m\u001b[43m \u001b[49m\u001b[43mhint\u001b[49m\u001b[43m,\u001b[49m\u001b[43m \u001b[49m\u001b[38;5;241;43m*\u001b[39;49m\u001b[38;5;241;43m*\u001b[39;49m\u001b[43mhints\u001b[49m\u001b[43m)\u001b[49m\n\u001b[0;32m   3616\u001b[0m     hit \u001b[38;5;241m|\u001b[39m\u001b[38;5;241m=\u001b[39m arghit\n\u001b[0;32m   3617\u001b[0m     sargs\u001b[38;5;241m.\u001b[39mappend(arg)\n",
      "File \u001b[1;32mc:\\Users\\Parv\\anaconda3\\envs\\pytorch_gpu\\Lib\\site-packages\\sympy\\core\\expr.py:3623\u001b[0m, in \u001b[0;36mExpr._expand_hint\u001b[1;34m(expr, hint, deep, **hints)\u001b[0m\n\u001b[0;32m   3620\u001b[0m         expr \u001b[38;5;241m=\u001b[39m expr\u001b[38;5;241m.\u001b[39mfunc(\u001b[38;5;241m*\u001b[39msargs)\n\u001b[0;32m   3622\u001b[0m \u001b[38;5;28;01mif\u001b[39;00m \u001b[38;5;28mhasattr\u001b[39m(expr, hint):\n\u001b[1;32m-> 3623\u001b[0m     newexpr \u001b[38;5;241m=\u001b[39m \u001b[38;5;28;43mgetattr\u001b[39;49m\u001b[43m(\u001b[49m\u001b[43mexpr\u001b[49m\u001b[43m,\u001b[49m\u001b[43m \u001b[49m\u001b[43mhint\u001b[49m\u001b[43m)\u001b[49m\u001b[43m(\u001b[49m\u001b[38;5;241;43m*\u001b[39;49m\u001b[38;5;241;43m*\u001b[39;49m\u001b[43mhints\u001b[49m\u001b[43m)\u001b[49m\n\u001b[0;32m   3624\u001b[0m     \u001b[38;5;28;01mif\u001b[39;00m newexpr \u001b[38;5;241m!=\u001b[39m expr:\n\u001b[0;32m   3625\u001b[0m         \u001b[38;5;28;01mreturn\u001b[39;00m (newexpr, \u001b[38;5;28;01mTrue\u001b[39;00m)\n",
      "File \u001b[1;32mc:\\Users\\Parv\\anaconda3\\envs\\pytorch_gpu\\Lib\\site-packages\\sympy\\core\\mul.py:950\u001b[0m, in \u001b[0;36mMul._eval_expand_mul\u001b[1;34m(self, **hints)\u001b[0m\n\u001b[0;32m    948\u001b[0m args \u001b[38;5;241m=\u001b[39m []\n\u001b[0;32m    949\u001b[0m \u001b[38;5;28;01mfor\u001b[39;00m term \u001b[38;5;129;01min\u001b[39;00m terms:\n\u001b[1;32m--> 950\u001b[0m     t \u001b[38;5;241m=\u001b[39m \u001b[38;5;28;43mself\u001b[39;49m\u001b[38;5;241;43m.\u001b[39;49m\u001b[43mfunc\u001b[49m\u001b[43m(\u001b[49m\u001b[43mplain\u001b[49m\u001b[43m,\u001b[49m\u001b[43m \u001b[49m\u001b[43mterm\u001b[49m\u001b[43m)\u001b[49m\n\u001b[0;32m    951\u001b[0m     \u001b[38;5;28;01mif\u001b[39;00m t\u001b[38;5;241m.\u001b[39mis_Mul \u001b[38;5;129;01mand\u001b[39;00m \u001b[38;5;28many\u001b[39m(a\u001b[38;5;241m.\u001b[39mis_Add \u001b[38;5;28;01mfor\u001b[39;00m a \u001b[38;5;129;01min\u001b[39;00m t\u001b[38;5;241m.\u001b[39margs) \u001b[38;5;129;01mand\u001b[39;00m deep:\n\u001b[0;32m    952\u001b[0m         t \u001b[38;5;241m=\u001b[39m t\u001b[38;5;241m.\u001b[39m_eval_expand_mul()\n",
      "File \u001b[1;32mc:\\Users\\Parv\\anaconda3\\envs\\pytorch_gpu\\Lib\\site-packages\\sympy\\core\\cache.py:72\u001b[0m, in \u001b[0;36m__cacheit.<locals>.func_wrapper.<locals>.wrapper\u001b[1;34m(*args, **kwargs)\u001b[0m\n\u001b[0;32m     69\u001b[0m \u001b[38;5;129m@wraps\u001b[39m(func)\n\u001b[0;32m     70\u001b[0m \u001b[38;5;28;01mdef\u001b[39;00m \u001b[38;5;21mwrapper\u001b[39m(\u001b[38;5;241m*\u001b[39margs, \u001b[38;5;241m*\u001b[39m\u001b[38;5;241m*\u001b[39mkwargs):\n\u001b[0;32m     71\u001b[0m     \u001b[38;5;28;01mtry\u001b[39;00m:\n\u001b[1;32m---> 72\u001b[0m         retval \u001b[38;5;241m=\u001b[39m \u001b[43mcfunc\u001b[49m\u001b[43m(\u001b[49m\u001b[38;5;241;43m*\u001b[39;49m\u001b[43margs\u001b[49m\u001b[43m,\u001b[49m\u001b[43m \u001b[49m\u001b[38;5;241;43m*\u001b[39;49m\u001b[38;5;241;43m*\u001b[39;49m\u001b[43mkwargs\u001b[49m\u001b[43m)\u001b[49m\n\u001b[0;32m     73\u001b[0m     \u001b[38;5;28;01mexcept\u001b[39;00m \u001b[38;5;167;01mTypeError\u001b[39;00m \u001b[38;5;28;01mas\u001b[39;00m e:\n\u001b[0;32m     74\u001b[0m         \u001b[38;5;28;01mif\u001b[39;00m \u001b[38;5;129;01mnot\u001b[39;00m e\u001b[38;5;241m.\u001b[39margs \u001b[38;5;129;01mor\u001b[39;00m \u001b[38;5;129;01mnot\u001b[39;00m e\u001b[38;5;241m.\u001b[39margs[\u001b[38;5;241m0\u001b[39m]\u001b[38;5;241m.\u001b[39mstartswith(\u001b[38;5;124m'\u001b[39m\u001b[38;5;124munhashable type:\u001b[39m\u001b[38;5;124m'\u001b[39m):\n",
      "File \u001b[1;32mc:\\Users\\Parv\\anaconda3\\envs\\pytorch_gpu\\Lib\\site-packages\\sympy\\core\\operations.py:98\u001b[0m, in \u001b[0;36mAssocOp.__new__\u001b[1;34m(cls, evaluate, _sympify, *args)\u001b[0m\n\u001b[0;32m     95\u001b[0m \u001b[38;5;28;01mif\u001b[39;00m \u001b[38;5;28mlen\u001b[39m(args) \u001b[38;5;241m==\u001b[39m \u001b[38;5;241m1\u001b[39m:\n\u001b[0;32m     96\u001b[0m     \u001b[38;5;28;01mreturn\u001b[39;00m args[\u001b[38;5;241m0\u001b[39m]\n\u001b[1;32m---> 98\u001b[0m c_part, nc_part, order_symbols \u001b[38;5;241m=\u001b[39m \u001b[38;5;28;43mcls\u001b[39;49m\u001b[38;5;241;43m.\u001b[39;49m\u001b[43mflatten\u001b[49m\u001b[43m(\u001b[49m\u001b[43margs\u001b[49m\u001b[43m)\u001b[49m\n\u001b[0;32m     99\u001b[0m is_commutative \u001b[38;5;241m=\u001b[39m \u001b[38;5;129;01mnot\u001b[39;00m nc_part\n\u001b[0;32m    100\u001b[0m obj \u001b[38;5;241m=\u001b[39m \u001b[38;5;28mcls\u001b[39m\u001b[38;5;241m.\u001b[39m_from_args(c_part \u001b[38;5;241m+\u001b[39m nc_part, is_commutative)\n",
      "File \u001b[1;32mc:\\Users\\Parv\\anaconda3\\envs\\pytorch_gpu\\Lib\\site-packages\\sympy\\core\\mul.py:526\u001b[0m, in \u001b[0;36mMul.flatten\u001b[1;34m(cls, seq)\u001b[0m\n\u001b[0;32m    524\u001b[0m     p \u001b[38;5;241m=\u001b[39m b\n\u001b[0;32m    525\u001b[0m \u001b[38;5;28;01mif\u001b[39;00m e \u001b[38;5;129;01mis\u001b[39;00m \u001b[38;5;129;01mnot\u001b[39;00m S\u001b[38;5;241m.\u001b[39mOne:\n\u001b[1;32m--> 526\u001b[0m     p \u001b[38;5;241m=\u001b[39m \u001b[43mPow\u001b[49m\u001b[43m(\u001b[49m\u001b[43mb\u001b[49m\u001b[43m,\u001b[49m\u001b[43m \u001b[49m\u001b[43me\u001b[49m\u001b[43m)\u001b[49m\n\u001b[0;32m    527\u001b[0m     \u001b[38;5;66;03m# check to make sure that the base doesn't change\u001b[39;00m\n\u001b[0;32m    528\u001b[0m     \u001b[38;5;66;03m# after exponentiation; to allow for unevaluated\u001b[39;00m\n\u001b[0;32m    529\u001b[0m     \u001b[38;5;66;03m# Pow, we only do so if b is not already a Pow\u001b[39;00m\n\u001b[0;32m    530\u001b[0m     \u001b[38;5;28;01mif\u001b[39;00m p\u001b[38;5;241m.\u001b[39mis_Pow \u001b[38;5;129;01mand\u001b[39;00m \u001b[38;5;129;01mnot\u001b[39;00m b\u001b[38;5;241m.\u001b[39mis_Pow:\n",
      "File \u001b[1;32mc:\\Users\\Parv\\anaconda3\\envs\\pytorch_gpu\\Lib\\site-packages\\sympy\\core\\cache.py:72\u001b[0m, in \u001b[0;36m__cacheit.<locals>.func_wrapper.<locals>.wrapper\u001b[1;34m(*args, **kwargs)\u001b[0m\n\u001b[0;32m     69\u001b[0m \u001b[38;5;129m@wraps\u001b[39m(func)\n\u001b[0;32m     70\u001b[0m \u001b[38;5;28;01mdef\u001b[39;00m \u001b[38;5;21mwrapper\u001b[39m(\u001b[38;5;241m*\u001b[39margs, \u001b[38;5;241m*\u001b[39m\u001b[38;5;241m*\u001b[39mkwargs):\n\u001b[0;32m     71\u001b[0m     \u001b[38;5;28;01mtry\u001b[39;00m:\n\u001b[1;32m---> 72\u001b[0m         retval \u001b[38;5;241m=\u001b[39m \u001b[43mcfunc\u001b[49m\u001b[43m(\u001b[49m\u001b[38;5;241;43m*\u001b[39;49m\u001b[43margs\u001b[49m\u001b[43m,\u001b[49m\u001b[43m \u001b[49m\u001b[38;5;241;43m*\u001b[39;49m\u001b[38;5;241;43m*\u001b[39;49m\u001b[43mkwargs\u001b[49m\u001b[43m)\u001b[49m\n\u001b[0;32m     73\u001b[0m     \u001b[38;5;28;01mexcept\u001b[39;00m \u001b[38;5;167;01mTypeError\u001b[39;00m \u001b[38;5;28;01mas\u001b[39;00m e:\n\u001b[0;32m     74\u001b[0m         \u001b[38;5;28;01mif\u001b[39;00m \u001b[38;5;129;01mnot\u001b[39;00m e\u001b[38;5;241m.\u001b[39margs \u001b[38;5;129;01mor\u001b[39;00m \u001b[38;5;129;01mnot\u001b[39;00m e\u001b[38;5;241m.\u001b[39margs[\u001b[38;5;241m0\u001b[39m]\u001b[38;5;241m.\u001b[39mstartswith(\u001b[38;5;124m'\u001b[39m\u001b[38;5;124munhashable type:\u001b[39m\u001b[38;5;124m'\u001b[39m):\n",
      "File \u001b[1;32mc:\\Users\\Parv\\anaconda3\\envs\\pytorch_gpu\\Lib\\site-packages\\sympy\\core\\numbers.py:2290\u001b[0m, in \u001b[0;36mInteger.__hash__\u001b[1;34m(self)\u001b[0m\n\u001b[0;32m   2289\u001b[0m \u001b[38;5;28;01mdef\u001b[39;00m \u001b[38;5;21m__hash__\u001b[39m(\u001b[38;5;28mself\u001b[39m):\n\u001b[1;32m-> 2290\u001b[0m     \u001b[38;5;28;01mreturn\u001b[39;00m \u001b[38;5;28;43mhash\u001b[39;49m\u001b[43m(\u001b[49m\u001b[38;5;28;43mself\u001b[39;49m\u001b[38;5;241;43m.\u001b[39;49m\u001b[43mp\u001b[49m\u001b[43m)\u001b[49m\n",
      "\u001b[1;31mKeyboardInterrupt\u001b[0m: "
     ]
    }
   ],
   "source": [
    "simplify(laplacian_1(G) + laplacian_1(M) + laplacian_1(H))"
   ]
  },
  {
   "cell_type": "code",
   "execution_count": null,
   "id": "9ade061a",
   "metadata": {},
   "outputs": [],
   "source": [
    "simplify(laplacian_2(G) + laplacian_2(M) + laplacian_2(H))"
   ]
  }
 ],
 "metadata": {
  "kernelspec": {
   "display_name": "pytorch_gpu",
   "language": "python",
   "name": "python3"
  },
  "language_info": {
   "codemirror_mode": {
    "name": "ipython",
    "version": 3
   },
   "file_extension": ".py",
   "mimetype": "text/x-python",
   "name": "python",
   "nbconvert_exporter": "python",
   "pygments_lexer": "ipython3",
   "version": "3.12.3"
  }
 },
 "nbformat": 4,
 "nbformat_minor": 5
}
