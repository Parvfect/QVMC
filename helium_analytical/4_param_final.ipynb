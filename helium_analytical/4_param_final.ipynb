{
 "cells": [
  {
   "cell_type": "code",
   "execution_count": 1,
   "id": "a31561eb",
   "metadata": {},
   "outputs": [],
   "source": [
    "import torch\n",
    "import numpy as np\n",
    "from tqdm import tqdm\n",
    "from analytical_expressions import local_energy\n",
    "from torch.autograd.functional import jacobian\n",
    "from torch.func import jacrev\n",
    "import matplotlib.pyplot as plt\n",
    "from torch.func import vmap"
   ]
  },
  {
   "cell_type": "code",
   "execution_count": 2,
   "id": "1012fd08",
   "metadata": {},
   "outputs": [],
   "source": [
    "%load_ext autoreload\n",
    "%autoreload 2"
   ]
  },
  {
   "cell_type": "code",
   "execution_count": 3,
   "id": "06526d9d",
   "metadata": {},
   "outputs": [],
   "source": [
    "def psi(X):\n",
    "    x = X[:3]\n",
    "    y = X[3:6]\n",
    "    alpha_1, alpha_2, alpha_3, alpha_4 = X[6:]\n",
    "    r1 = torch.norm(x)\n",
    "    r2 = torch.norm(y)\n",
    "    r12 = torch.norm(x - y)\n",
    "\n",
    "    term1 = torch.exp(-2 * (r1 + r2))\n",
    "    term2 = 1 + 0.5 * r12 * torch.exp(-alpha_1 * r12)\n",
    "    term3 = 1 + alpha_2 * (r1 + r2) * r12 + alpha_3 * (r1 - r2) ** 2 - alpha_4 * (r12) ** 2\n",
    "\n",
    "    return term1 * term2 * term3"
   ]
  },
  {
   "cell_type": "code",
   "execution_count": 4,
   "id": "0704f13e",
   "metadata": {},
   "outputs": [],
   "source": [
    "psi_vec = vmap(psi)"
   ]
  },
  {
   "cell_type": "code",
   "execution_count": 5,
   "id": "d6f7a445",
   "metadata": {},
   "outputs": [],
   "source": [
    "def metropolis(N: int, n_runs: int, alphas: torch.tensor):  \n",
    "    \"\"\"\n",
    "    Vectorized metropolis loop\n",
    "    Over N steps, for n_runs. \n",
    "    Alphas passes in must be of same dim as n_runs\n",
    "    \"\"\"  \n",
    "    assert alphas.shape[0] == n_runs        \n",
    "    L = 1\n",
    "    r1 = (torch.rand(n_runs, 3) * 2 * L - L)\n",
    "    r2 = (torch.rand(n_runs, 3) * 2 * L - L)\n",
    "    max_steps = 500\n",
    "    sampled_Xs = []\n",
    "    rejection_ratio = 0\n",
    "\n",
    "    for i in tqdm(range(N)):\n",
    "        chose = torch.rand(n_runs).reshape(n_runs, 1)\n",
    "        dummy = torch.rand(n_runs)\n",
    "\n",
    "        perturbed_r1 = r1 + 0.5 * (torch.rand(n_runs, 3) * 2 * L - L)\n",
    "        perturbed_r2 = r2 + 0.5 * (torch.rand(n_runs, 3) * 2 * L - L)\n",
    "\n",
    "        r1_trial = torch.where(chose < 0.5, perturbed_r1, r1)\n",
    "        r2_trial = torch.where(chose >= 0.5, perturbed_r2, r2)\n",
    "        psi_val = psi_vec(torch.cat((r1, r2, alphas), axis=1))\n",
    "        psi_trial_val = psi_vec(torch.cat((r1_trial, r2_trial, alphas), axis=1))      \n",
    "        \n",
    "        psi_ratio = (psi_trial_val / psi_val) ** 2\n",
    "\n",
    "        #density_comp = psi_trial_val >= psi_val\n",
    "        dummy_comp = dummy < psi_ratio\n",
    "\n",
    "        condition = dummy_comp\n",
    "\n",
    "        rejection_ratio += torch.where(condition, 1./N, 0.0)\n",
    "\n",
    "        condition = condition.reshape(condition.shape[0], 1)\n",
    "\n",
    "        # Careful with overwriting\n",
    "        r1 = torch.where(condition, r1_trial, r1)\n",
    "        r2 = torch.where(condition, r2_trial, r2)\n",
    "                \n",
    "        if i > max_steps:\n",
    "            sampled_Xs.append(torch.cat((r1, r2, alphas), axis=1))\n",
    "\n",
    "    #print(f\"Rejection ratio is {torch.mean(rejection_ratio)}\")\n",
    "\n",
    "    return torch.stack(sampled_Xs)"
   ]
  },
  {
   "cell_type": "code",
   "execution_count": 6,
   "id": "81121059",
   "metadata": {},
   "outputs": [],
   "source": [
    "local_e_vec = vmap(local_energy)\n",
    "local_e_vec_vec = vmap(local_e_vec)\n",
    "\n",
    "def get_local_energies(X):\n",
    "    reshaped_X = X.reshape(\n",
    "        X.shape[1], X.shape[0], X.shape[2])\n",
    "    return local_e_vec_vec(reshaped_X)\n",
    "\n",
    "def get_mean_energies(E):\n",
    "    return torch.mean(torch.mean(E, dim=1))"
   ]
  },
  {
   "cell_type": "code",
   "execution_count": 7,
   "id": "f9a30834",
   "metadata": {},
   "outputs": [],
   "source": [
    "def dE_dalpha(input):\n",
    "    return jacrev(local_energy)(input)\n",
    "\n",
    "dE_dalpha_vec = vmap(dE_dalpha)\n",
    "dE_dalpha_vec_vec = vmap(dE_dalpha_vec)\n",
    "\n",
    "def get_dE_dX(X):\n",
    "    reshaped_X = X.reshape(\n",
    "        X.shape[1], X.shape[0], X.shape[2])\n",
    "    return dE_dalpha_vec_vec(X)"
   ]
  },
  {
   "cell_type": "code",
   "execution_count": 8,
   "id": "93c28601",
   "metadata": {},
   "outputs": [],
   "source": [
    "from gradient_expressions import get_psi_alpha\n",
    "\n",
    "def get_gradients_from_expression(X_, E_):\n",
    "    psi_alpha = vmap(get_psi_alpha)(X_)\n",
    "\n",
    "    part_1 = psi_alpha - torch.mean(psi_alpha, axis=0)\n",
    "    part_2 = E_ - torch.mean(E_)\n",
    "    return torch.mean(part_1.T * part_2, axis=1)\n",
    "\n",
    "dE_dalpha = vmap(get_gradients_from_expression)"
   ]
  },
  {
   "cell_type": "code",
   "execution_count": 9,
   "id": "ac777f3a",
   "metadata": {},
   "outputs": [],
   "source": [
    "alpha_1 = torch.tensor(1.013, dtype=torch.float64, requires_grad=True) # 1.013\n",
    "alpha_2 = torch.tensor(0.2119, dtype=torch.float64, requires_grad=True)\n",
    "alpha_3 = torch.tensor(0.1406, dtype=torch.float64, requires_grad=True)\n",
    "alpha_4 = torch.tensor(0.003, dtype=torch.float64, requires_grad=True)"
   ]
  },
  {
   "cell_type": "code",
   "execution_count": 10,
   "id": "d5bf74e7",
   "metadata": {},
   "outputs": [],
   "source": [
    "device = torch.device(\"cuda\")\n",
    "cpu = torch.device(\"cpu\")"
   ]
  },
  {
   "cell_type": "code",
   "execution_count": 11,
   "id": "274bb960",
   "metadata": {},
   "outputs": [],
   "source": [
    "def running_average(tensor, window_size=None):\n",
    "    cumsum = torch.cumsum(tensor, dim=0)\n",
    "    if window_size is None:\n",
    "        # For the full running average (over all elements)\n",
    "        return cumsum / torch.arange(1, len(tensor) + 1, device=tensor.device, dtype=torch.float32)\n",
    "    else:\n",
    "        # For a moving average with a fixed window size\n",
    "        window = torch.ones(window_size, device=tensor.device)\n",
    "        conv = torch.conv1d(tensor.unsqueeze(0).unsqueeze(0), window.unsqueeze(0).unsqueeze(0), padding=window_size//2)\n",
    "        return conv.squeeze(0).squeeze(0)"
   ]
  },
  {
   "cell_type": "code",
   "execution_count": 12,
   "id": "39a853e5",
   "metadata": {},
   "outputs": [],
   "source": [
    "def get_variances(E):\n",
    "    # Variance in random walkers mean energy\n",
    "    random_walker_variance = torch.mean((torch.mean(E.to(cpu), axis=1) - torch.mean(E)) ** 2)\n",
    "    # Mean along the sample dimension (dim=1)\n",
    "    mean_E_trial = E.mean(dim=1)                 # shape: (n_trials,)\n",
    "\n",
    "    # Broadcasting: subtract column‑wise, then average again along dim=1\n",
    "    var_E_trial  = torch.mean(((E - mean_E_trial[:, None]) ** 2).mean(dim=1))\n",
    "\n",
    "    return random_walker_variance, var_E_trial"
   ]
  },
  {
   "cell_type": "markdown",
   "id": "9d15d5d9",
   "metadata": {},
   "source": [
    "## Start of simulation"
   ]
  },
  {
   "cell_type": "code",
   "execution_count": 15,
   "id": "0ef97886",
   "metadata": {},
   "outputs": [],
   "source": [
    "alpha_1 = torch.tensor(1.013, dtype=torch.float64) # 1.013\n",
    "alpha_2 = torch.tensor(0.2119, dtype=torch.float64)\n",
    "alpha_3 = torch.tensor(0.1406, dtype=torch.float64)\n",
    "alpha_4 = torch.tensor(0.003, dtype=torch.float64)"
   ]
  },
  {
   "cell_type": "code",
   "execution_count": 32,
   "id": "0cebb066",
   "metadata": {},
   "outputs": [],
   "source": [
    "alpha_1 = torch.tensor(0.9835901260825561, dtype=torch.float64, requires_grad=True) # 1.013\n",
    "alpha_2 = torch.tensor(0.2506295944182726, dtype=torch.float64, requires_grad=True) # 1.013\n",
    "alpha_3 = torch.tensor(0.1491996571267765, dtype=torch.float64, requires_grad=True) # 1.013\n",
    "alpha_4 = torch.tensor(0.04866937595848507, dtype=torch.float64, requires_grad=True)"
   ]
  },
  {
   "cell_type": "code",
   "execution_count": 68,
   "id": "6b232e03",
   "metadata": {},
   "outputs": [
    {
     "name": "stderr",
     "output_type": "stream",
     "text": [
      "100%|██████████| 50000/50000 [01:00<00:00, 820.35it/s] \n"
     ]
    }
   ],
   "source": [
    "n_steps = 100\n",
    "mc_steps = 50000\n",
    "alphas = torch.tensor([alpha_1, alpha_2, alpha_3, alpha_4]).unsqueeze(0).repeat(n_steps, 1)\n",
    "sampled_Xs = metropolis(mc_steps, n_steps, alphas=alphas)"
   ]
  },
  {
   "cell_type": "code",
   "execution_count": 69,
   "id": "ba9afae9",
   "metadata": {},
   "outputs": [
    {
     "name": "stdout",
     "output_type": "stream",
     "text": [
      "Mean energy is -2.901356691736226\n"
     ]
    }
   ],
   "source": [
    "E = get_local_energies(sampled_Xs.to(device))\n",
    "mean_E = get_mean_energies(E.to(cpu))\n",
    "print(f\"Mean energy is {torch.mean(torch.mean(E, axis=1))}\")"
   ]
  },
  {
   "cell_type": "code",
   "execution_count": 70,
   "id": "55d5c090",
   "metadata": {},
   "outputs": [
    {
     "data": {
      "text/plain": [
       "(tensor(5.3782e-06, dtype=torch.float64), tensor(0.0442, dtype=torch.float64))"
      ]
     },
     "execution_count": 70,
     "metadata": {},
     "output_type": "execute_result"
    }
   ],
   "source": [
    "get_variances(E.to(cpu))"
   ]
  },
  {
   "cell_type": "code",
   "execution_count": 29,
   "id": "d4147e41",
   "metadata": {},
   "outputs": [],
   "source": [
    "reshaped_X = sampled_Xs.reshape(\n",
    "        sampled_Xs.shape[1], sampled_Xs.shape[0], sampled_Xs.shape[2])"
   ]
  },
  {
   "cell_type": "code",
   "execution_count": 53,
   "id": "e2e350a0",
   "metadata": {},
   "outputs": [],
   "source": [
    "cumulative_average_energy = running_average(torch.mean(E.detach().cpu(), axis=0))"
   ]
  },
  {
   "cell_type": "code",
   "execution_count": 54,
   "id": "8146e02a",
   "metadata": {},
   "outputs": [
    {
     "data": {
      "image/png": "[encoded data removed]",
      "text/plain": [
       "<Figure size 640x480 with 1 Axes>"
      ]
     },
     "metadata": {},
     "output_type": "display_data"
    }
   ],
   "source": [
    "plt.plot(cumulative_average_energy)\n",
    "plt.title(\"Running average of the local energy (averaged over walkers)\")\n",
    "plt.grid()"
   ]
  },
  {
   "cell_type": "code",
   "execution_count": 23,
   "id": "1dea6c43",
   "metadata": {},
   "outputs": [
    {
     "data": {
      "text/plain": [
       "(tensor(5.5374e-05, dtype=torch.float64), tensor(0.0404, dtype=torch.float64))"
      ]
     },
     "execution_count": 23,
     "metadata": {},
     "output_type": "execute_result"
    }
   ],
   "source": [
    "get_variances(E.to(cpu))"
   ]
  },
  {
   "cell_type": "code",
   "execution_count": 59,
   "id": "3e3e6f6b",
   "metadata": {},
   "outputs": [
    {
     "data": {
      "text/plain": [
       "tensor(0.0002, device='cuda:0', dtype=torch.float64)"
      ]
     },
     "execution_count": 59,
     "metadata": {},
     "output_type": "execute_result"
    }
   ],
   "source": [
    "torch.mean((torch.mean(E, axis=1) - torch.mean(E)) ** 2)"
   ]
  },
  {
   "cell_type": "markdown",
   "id": "9a547600",
   "metadata": {},
   "source": [
    "Energy value should be −2.901188\n",
    "\n",
    "The actual value is −2.9037243770"
   ]
  },
  {
   "cell_type": "markdown",
   "id": "8313238f",
   "metadata": {},
   "source": [
    "## Optimization loop"
   ]
  },
  {
   "cell_type": "code",
   "execution_count": 19,
   "id": "e6373e04",
   "metadata": {},
   "outputs": [],
   "source": [
    "import math"
   ]
  },
  {
   "cell_type": "code",
   "execution_count": 27,
   "id": "769fd0df",
   "metadata": {},
   "outputs": [],
   "source": [
    "E_true = -2.9037243770"
   ]
  },
  {
   "cell_type": "code",
   "execution_count": 28,
   "id": "dda49d74",
   "metadata": {},
   "outputs": [],
   "source": [
    "alpha_1 = torch.tensor(0.1827, dtype=torch.float64, requires_grad=True) # 1.013\n",
    "alpha_2 = torch.tensor(0.4789, dtype=torch.float64, requires_grad=True) # 0.2119\n",
    "alpha_3 = torch.tensor(0.5004, dtype=torch.float64, requires_grad=True) # 0.1406\n",
    "alpha_4 = torch.tensor(0.7603, dtype=torch.float64, requires_grad=True) # 0.003"
   ]
  },
  {
   "cell_type": "code",
   "execution_count": 29,
   "id": "b7f94beb",
   "metadata": {},
   "outputs": [],
   "source": [
    "device = torch.device(\"cuda\")\n",
    "cpu = torch.device(\"cpu\")"
   ]
  },
  {
   "cell_type": "code",
   "execution_count": null,
   "id": "d3904007",
   "metadata": {},
   "outputs": [],
   "source": [
    "# Naive approach - define loss as true energy - found energy\n",
    "\n",
    "epochs = 2000\n",
    "alphas = [alpha_1, alpha_2, alpha_3, alpha_4]\n",
    "losses = []\n",
    "n_walkers = 50\n",
    "met_steps = 5000\n",
    "optimizer = torch.optim.Adam(alphas, lr=0.01)\n",
    "\n",
    "for i in range(epochs):\n",
    "\n",
    "    alphas_metropolis = torch.tensor(alphas).unsqueeze(0).repeat(n_walkers, 1)\n",
    "    sampled_Xs = metropolis(met_steps, n_walkers, alphas=alphas_metropolis)\n",
    "\n",
    "    with torch.no_grad():\n",
    "        E = get_local_energies(sampled_Xs)\n",
    "        mean_E = get_mean_energies(E)\n",
    "        variances = get_variances(E.to(cpu))\n",
    "        loss = torch.abs(E_true - mean_E)\n",
    "\n",
    "        print(f\"Mean energy is {mean_E}\\n\"\n",
    "              f\"Loss is {loss}\\n\"\n",
    "              f\"Random walker variance {variances[0]}\\n\"\n",
    "              f\"Local energy variance {variances[1]}\"\n",
    "        )\n",
    "\n",
    "        losses.append(loss.item())\n",
    "\n",
    "        reshaped_X = sampled_Xs.reshape(\n",
    "            sampled_Xs.shape[1], sampled_Xs.shape[0], sampled_Xs.shape[2])\n",
    "        gradients = dE_dalpha(reshaped_X, E).to(cpu)\n",
    "\n",
    "        # Now, assume you already have gradients computed externally:\n",
    "        # Example: for step t, these are your gradients (replace with actual values)\n",
    "        gradients = torch.mean(gradients, axis=0)\n",
    "        external_grads = gradients.detach()\n",
    "\n",
    "        # Step 3: Assign gradients manually\n",
    "        for p, g in zip(alphas, external_grads):\n",
    "            p.grad = g  # assign your externally computed gradient\n",
    "\n",
    "    # Step 4: Optimizer step\n",
    "    optimizer.step()\n",
    "    optimizer.zero_grad()\n",
    "\n",
    "    torch.cuda.empty_cache()\n",
    "    del sampled_Xs\n",
    "    del reshaped_X\n",
    "    del E\n",
    "\n",
    "\n"
   ]
  },
  {
   "cell_type": "code",
   "execution_count": 32,
   "id": "70fe0076",
   "metadata": {},
   "outputs": [
    {
     "data": {
      "text/plain": [
       "[tensor(0.2652, dtype=torch.float64, requires_grad=True),\n",
       " tensor(0.6591, dtype=torch.float64, requires_grad=True),\n",
       " tensor(0.2239, dtype=torch.float64, requires_grad=True),\n",
       " tensor(0.5498, dtype=torch.float64, requires_grad=True)]"
      ]
     },
     "execution_count": 32,
     "metadata": {},
     "output_type": "execute_result"
    }
   ],
   "source": [
    "alphas"
   ]
  },
  {
   "cell_type": "code",
   "execution_count": 93,
   "id": "672d1f75",
   "metadata": {},
   "outputs": [
    {
     "data": {
      "text/plain": [
       "[tensor(0.1809, dtype=torch.float64),\n",
       " tensor(0.7604, dtype=torch.float64),\n",
       " tensor(0.4517, dtype=torch.float64),\n",
       " tensor(0.6952, dtype=torch.float64)]"
      ]
     },
     "execution_count": 93,
     "metadata": {},
     "output_type": "execute_result"
    }
   ],
   "source": [
    "alphas"
   ]
  },
  {
   "cell_type": "code",
   "execution_count": 41,
   "id": "73600484",
   "metadata": {},
   "outputs": [
    {
     "name": "stdout",
     "output_type": "stream",
     "text": [
      "[tensor(1.0066, dtype=torch.float64), tensor(0.2158, dtype=torch.float64), tensor(0.1529, dtype=torch.float64), tensor(0.0154, dtype=torch.float64)]\n"
     ]
    }
   ],
   "source": [
    "print(alphas)"
   ]
  },
  {
   "cell_type": "code",
   "execution_count": 26,
   "id": "2a315675",
   "metadata": {},
   "outputs": [
    {
     "name": "stdout",
     "output_type": "stream",
     "text": [
      "tensor([-0.0752,  3.5492, -0.0362, -0.6221], dtype=torch.float64,\n",
      "       grad_fn=<MeanBackward1>)\n"
     ]
    }
   ],
   "source": [
    "print(gradients)"
   ]
  },
  {
   "cell_type": "code",
   "execution_count": 27,
   "id": "5054dd47",
   "metadata": {},
   "outputs": [
    {
     "name": "stdout",
     "output_type": "stream",
     "text": [
      "[tensor(0.5331, dtype=torch.float64, requires_grad=True), tensor(-0.0537, dtype=torch.float64, requires_grad=True), tensor(0.7332, dtype=torch.float64, requires_grad=True), tensor(-0.0505, dtype=torch.float64, requires_grad=True)]\n"
     ]
    }
   ],
   "source": [
    "print(alphas)"
   ]
  },
  {
   "cell_type": "code",
   "execution_count": 137,
   "id": "4cea79ee",
   "metadata": {},
   "outputs": [],
   "source": [
    "alpha_1 = torch.tensor(2.013, dtype=torch.float64, requires_grad=True) # 1.013\n",
    "alpha_2 = torch.tensor(0.6419, dtype=torch.float64, requires_grad=True) # 0.2119\n",
    "alpha_3 = torch.tensor(2.1406, dtype=torch.float64, requires_grad=True) # 0.1406\n",
    "alpha_4 = torch.tensor(3.003, dtype=torch.float64, requires_grad=True) # 0.003"
   ]
  },
  {
   "cell_type": "code",
   "execution_count": 113,
   "id": "888e7b57",
   "metadata": {},
   "outputs": [
    {
     "data": {
      "text/plain": [
       "tensor(2.0130, dtype=torch.float64, requires_grad=True)"
      ]
     },
     "execution_count": 113,
     "metadata": {},
     "output_type": "execute_result"
    }
   ],
   "source": [
    "alpha_1"
   ]
  },
  {
   "cell_type": "code",
   "execution_count": 106,
   "id": "177295f4",
   "metadata": {},
   "outputs": [
    {
     "data": {
      "text/plain": [
       "tensor([-0.0080,  0.0429,  0.0155, -0.0305], dtype=torch.float64)"
      ]
     },
     "execution_count": 106,
     "metadata": {},
     "output_type": "execute_result"
    }
   ],
   "source": [
    "external_grads"
   ]
  },
  {
   "cell_type": "markdown",
   "id": "7ce6ff3b",
   "metadata": {},
   "source": [
    "## Gradient values"
   ]
  },
  {
   "cell_type": "code",
   "execution_count": 34,
   "id": "7af58e75",
   "metadata": {},
   "outputs": [],
   "source": [
    "def dE_dalpha(input):\n",
    "    return jacrev(local_energy)(input)\n",
    "\n",
    "t = dE_dalpha_vec(torch.stack(inputs_arr[0]))"
   ]
  },
  {
   "cell_type": "code",
   "execution_count": 72,
   "id": "4a8a808c",
   "metadata": {},
   "outputs": [],
   "source": [
    "dE_dalpha_mean = torch.mean(t, axis=0)"
   ]
  },
  {
   "cell_type": "code",
   "execution_count": 36,
   "id": "fc628ca9",
   "metadata": {},
   "outputs": [],
   "source": [
    "psi_vmap = vmap(psi)"
   ]
  },
  {
   "cell_type": "code",
   "execution_count": 38,
   "id": "673d69a7",
   "metadata": {},
   "outputs": [],
   "source": [
    "psi_values = psi_vmap(torch.stack(inputs_arr[0]))"
   ]
  },
  {
   "cell_type": "code",
   "execution_count": 61,
   "id": "9ad60892",
   "metadata": {},
   "outputs": [],
   "source": [
    "mean_energy = sum(energies[0])/(len(energies[0]))"
   ]
  },
  {
   "cell_type": "code",
   "execution_count": 63,
   "id": "236e0ab6",
   "metadata": {},
   "outputs": [],
   "source": [
    "El_Etheta = energies[0] - mean_energy"
   ]
  },
  {
   "cell_type": "code",
   "execution_count": 65,
   "id": "c949bd49",
   "metadata": {},
   "outputs": [],
   "source": [
    "mean_psi = torch.mean(psi_values)"
   ]
  },
  {
   "cell_type": "code",
   "execution_count": 73,
   "id": "0863c591",
   "metadata": {},
   "outputs": [
    {
     "data": {
      "text/plain": [
       "torch.Size([10])"
      ]
     },
     "execution_count": 73,
     "metadata": {},
     "output_type": "execute_result"
    }
   ],
   "source": [
    "dE_dalpha_mean.shape"
   ]
  },
  {
   "cell_type": "code",
   "execution_count": 86,
   "id": "9541751e",
   "metadata": {},
   "outputs": [
    {
     "data": {
      "text/plain": [
       "torch.Size([10])"
      ]
     },
     "execution_count": 86,
     "metadata": {},
     "output_type": "execute_result"
    }
   ],
   "source": [
    "t[0].shape"
   ]
  },
  {
   "cell_type": "code",
   "execution_count": 89,
   "id": "016a8b00",
   "metadata": {},
   "outputs": [
    {
     "data": {
      "text/plain": [
       "torch.Size([9500])"
      ]
     },
     "execution_count": 89,
     "metadata": {},
     "output_type": "execute_result"
    }
   ],
   "source": [
    "psi_values.shape"
   ]
  },
  {
   "cell_type": "code",
   "execution_count": 92,
   "id": "3befeb0a",
   "metadata": {},
   "outputs": [],
   "source": [
    "psi_dalph = torch.stack([psi_values[i] * t[i] for i in range(len(t))])"
   ]
  },
  {
   "cell_type": "code",
   "execution_count": 97,
   "id": "f7ce5b2f",
   "metadata": {},
   "outputs": [
    {
     "data": {
      "text/plain": [
       "torch.Size([9500, 10])"
      ]
     },
     "execution_count": 97,
     "metadata": {},
     "output_type": "execute_result"
    }
   ],
   "source": [
    "psi_dalph.shape"
   ]
  },
  {
   "cell_type": "code",
   "execution_count": 98,
   "id": "d083d2d4",
   "metadata": {},
   "outputs": [
    {
     "data": {
      "text/plain": [
       "torch.Size([10])"
      ]
     },
     "execution_count": 98,
     "metadata": {},
     "output_type": "execute_result"
    }
   ],
   "source": [
    "dE_dalpha_mean.shape"
   ]
  },
  {
   "cell_type": "code",
   "execution_count": 95,
   "id": "36378e26",
   "metadata": {},
   "outputs": [
    {
     "data": {
      "text/plain": [
       "tensor(0.0207, dtype=torch.float64, grad_fn=<MeanBackward0>)"
      ]
     },
     "execution_count": 95,
     "metadata": {},
     "output_type": "execute_result"
    }
   ],
   "source": [
    "mean_psi"
   ]
  },
  {
   "cell_type": "code",
   "execution_count": 77,
   "id": "c80f39eb",
   "metadata": {},
   "outputs": [
    {
     "data": {
      "text/plain": [
       "torch.Size([9500, 10])"
      ]
     },
     "execution_count": 77,
     "metadata": {},
     "output_type": "execute_result"
    }
   ],
   "source": [
    "t.shape"
   ]
  },
  {
   "cell_type": "code",
   "execution_count": 111,
   "id": "84d9a555",
   "metadata": {},
   "outputs": [],
   "source": [
    "a = psi_values.unsqueeze(1).repeat(1, 10) * t"
   ]
  },
  {
   "cell_type": "code",
   "execution_count": 110,
   "id": "afb6ba3b",
   "metadata": {},
   "outputs": [],
   "source": [
    "b = (mean_psi * dE_dalpha_mean).unsqueeze(0).repeat(9500, 1)"
   ]
  },
  {
   "cell_type": "code",
   "execution_count": 119,
   "id": "01eb27cf",
   "metadata": {},
   "outputs": [],
   "source": [
    "c = (energies[0] - mean_energy).unsqueeze(1).repeat(1, 10)"
   ]
  },
  {
   "cell_type": "code",
   "execution_count": 115,
   "id": "c54710ec",
   "metadata": {},
   "outputs": [
    {
     "data": {
      "text/plain": [
       "torch.Size([])"
      ]
     },
     "execution_count": 115,
     "metadata": {},
     "output_type": "execute_result"
    }
   ],
   "source": [
    "mean_energy.shape"
   ]
  },
  {
   "cell_type": "code",
   "execution_count": 120,
   "id": "4fd1249d",
   "metadata": {},
   "outputs": [],
   "source": [
    "gradients = (a - b) * (c)"
   ]
  },
  {
   "cell_type": "code",
   "execution_count": 124,
   "id": "ec6e08f1",
   "metadata": {},
   "outputs": [
    {
     "data": {
      "text/plain": [
       "tensor([ 0.0652,  0.4838,  0.4329,  0.0146,  0.1017,  0.0883,  0.0167, -0.0222,\n",
       "        -0.0307,  0.0271], dtype=torch.float64, grad_fn=<MeanBackward1>)"
      ]
     },
     "execution_count": 124,
     "metadata": {},
     "output_type": "execute_result"
    }
   ],
   "source": [
    "torch.mean(gradients, axis=0)"
   ]
  },
  {
   "cell_type": "code",
   "execution_count": 52,
   "id": "0d47368b",
   "metadata": {},
   "outputs": [
    {
     "data": {
      "text/plain": [
       "tensor(-1.6312, dtype=torch.float64, grad_fn=<SelectBackward0>)"
      ]
     },
     "execution_count": 52,
     "metadata": {},
     "output_type": "execute_result"
    }
   ],
   "source": [
    "energies[0][1]"
   ]
  },
  {
   "cell_type": "code",
   "execution_count": 53,
   "id": "f7f23a65",
   "metadata": {},
   "outputs": [],
   "source": [
    "E_fixed = [energies[0][i] / psi_values[i] for i in range(len(inputs_arr[0]))]"
   ]
  },
  {
   "cell_type": "code",
   "execution_count": 55,
   "id": "4a25ea1d",
   "metadata": {},
   "outputs": [
    {
     "data": {
      "text/plain": [
       "tensor(-2546.7772, dtype=torch.float64, grad_fn=<MeanBackward0>)"
      ]
     },
     "execution_count": 55,
     "metadata": {},
     "output_type": "execute_result"
    }
   ],
   "source": [
    "torch.mean(torch.stack(E_fixed))"
   ]
  }
 ],
 "metadata": {
  "kernelspec": {
   "display_name": "pytorch_gpu",
   "language": "python",
   "name": "python3"
  },
  "language_info": {
   "codemirror_mode": {
    "name": "ipython",
    "version": 3
   },
   "file_extension": ".py",
   "mimetype": "text/x-python",
   "name": "python",
   "nbconvert_exporter": "python",
   "pygments_lexer": "ipython3",
   "version": "3.12.3"
  }
 },
 "nbformat": 4,
 "nbformat_minor": 5
}
