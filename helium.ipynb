{
 "cells": [
  {
   "cell_type": "markdown",
   "id": "9bed257b",
   "metadata": {},
   "source": [
    "### Metropolis Sampling"
   ]
  },
  {
   "cell_type": "code",
   "execution_count": 15,
   "id": "ea653501",
   "metadata": {},
   "outputs": [],
   "source": [
    "import matplotlib.pyplot as plt"
   ]
  },
  {
   "cell_type": "code",
   "execution_count": 50,
   "id": "02301577",
   "metadata": {},
   "outputs": [],
   "source": [
    "import numpy as np\n",
    "\n",
    "class VMCSolver:\n",
    "    def __init__(self, n_particles, n_dimensions, n_cycles, step_length, h, h2, charge, alpha, rng_function=None):\n",
    "        self.n_particles = n_particles\n",
    "        self.n_dimensions = n_dimensions\n",
    "        self.n_cycles = n_cycles\n",
    "        self.step_length = step_length\n",
    "        self.h = h\n",
    "        self.h2 = h2\n",
    "        self.charge = charge\n",
    "        self.alpha = alpha\n",
    "        self.rng = rng_function if rng_function is not None else np.random.rand\n",
    "\n",
    "    def wave_function(self, r):\n",
    "        argument = 0.0\n",
    "        for i in range(self.n_particles):\n",
    "            r_single_particle = np.sum(r[i] ** 2)\n",
    "            argument += np.sqrt(r_single_particle)\n",
    "        return np.exp(-argument * self.alpha)\n",
    "\n",
    "    def local_energy(self, r):\n",
    "        r_plus = np.copy(r)\n",
    "        r_minus = np.copy(r)\n",
    "        wave_function_current = self.wave_function(r)\n",
    "\n",
    "        kinetic_energy = 0.0\n",
    "        for i in range(self.n_particles):\n",
    "            for j in range(self.n_dimensions):\n",
    "                r_plus[i, j] += self.h\n",
    "                r_minus[i, j] -= self.h\n",
    "\n",
    "                wave_function_plus = self.wave_function(r_plus)\n",
    "                wave_function_minus = self.wave_function(r_minus)\n",
    "\n",
    "                kinetic_energy -= (wave_function_minus + wave_function_plus - 2 * wave_function_current)\n",
    "\n",
    "                r_plus[i, j] = r[i, j]\n",
    "                r_minus[i, j] = r[i, j]\n",
    "\n",
    "        kinetic_energy *= 0.5 * self.h2 / wave_function_current\n",
    "\n",
    "        potential_energy = 0.0\n",
    "        for i in range(self.n_particles):\n",
    "            r_single_particle = np.sum(r[i] ** 2)\n",
    "            potential_energy -= self.charge / np.sqrt(r_single_particle)\n",
    "\n",
    "        for i in range(self.n_particles):\n",
    "            for j in range(i + 1, self.n_particles):\n",
    "                r12 = np.sum((r[i] - r[j]) ** 2)\n",
    "                potential_energy += 1.0 / np.sqrt(r12)\n",
    "\n",
    "        return kinetic_energy + potential_energy\n",
    "\n",
    "    def run_monte_carlo_integration(self):\n",
    "        r_old = np.zeros((self.n_particles, self.n_dimensions))\n",
    "        r_new = np.zeros((self.n_particles, self.n_dimensions))\n",
    "        accepted_samples = 0\n",
    "\n",
    "        for i in range(self.n_particles):\n",
    "            for j in range(self.n_dimensions):\n",
    "                r_old[i, j] = self.step_length * (self.rng() - 0.5)\n",
    "\n",
    "        r_new[:] = r_old\n",
    "        energy_sum = 0.0\n",
    "        energy_squared_sum = 0.0\n",
    "\n",
    "        for cycle in range(self.n_cycles):\n",
    "            wave_function_old = self.wave_function(r_old)\n",
    "\n",
    "            for i in range(self.n_particles):\n",
    "                for j in range(self.n_dimensions):\n",
    "                    r_new[i, j] = r_old[i, j] + self.step_length * (self.rng() - 0.5)\n",
    "\n",
    "                wave_function_new = self.wave_function(r_new)\n",
    "\n",
    "                acceptance_ratio = (wave_function_new ** 2) / (wave_function_old ** 2)\n",
    "\n",
    "                if self.rng() <= acceptance_ratio:\n",
    "                    r_old[i] = r_new[i]\n",
    "                    wave_function_old = wave_function_new\n",
    "                    accepted_samples += 1\n",
    "                else:\n",
    "                    r_new[i] = r_old[i]\n",
    "\n",
    "                delta_e = self.local_energy(r_new)\n",
    "                energy_sum += delta_e\n",
    "                energy_squared_sum += delta_e ** 2\n",
    "\n",
    "        total_samples = self.n_cycles * self.n_particles\n",
    "        energy = energy_sum / total_samples\n",
    "        energy_squared = energy_squared_sum / total_samples\n",
    "        variance = energy_squared - energy ** 2\n",
    "        acceptance_ratio = accepted_samples / total_samples\n",
    "\n",
    "        return energy, variance, acceptance_ratio\n"
   ]
  },
  {
   "cell_type": "code",
   "execution_count": 51,
   "id": "f5da6f26",
   "metadata": {},
   "outputs": [
    {
     "data": {
      "text/plain": [
       "(np.float64(10553.450314223297), np.float64(199603765.96177465), 0.7629)"
      ]
     },
     "execution_count": 51,
     "metadata": {},
     "output_type": "execute_result"
    }
   ],
   "source": [
    "solver = VMCSolver(\n",
    "    n_particles=2,\n",
    "    n_dimensions=3,\n",
    "    n_cycles=10000,\n",
    "    step_length=1.0,\n",
    "    h=1e-3,\n",
    "    h2=1e10,  # example value; in C++ it's usually 1/h²\n",
    "    charge=2.0,\n",
    "    alpha=0.5 * 2.0\n",
    ")\n",
    "\n",
    "solver.run_monte_carlo_integration()"
   ]
  },
  {
   "cell_type": "code",
   "execution_count": 35,
   "id": "7d36541c",
   "metadata": {},
   "outputs": [
    {
     "name": "stdout",
     "output_type": "stream",
     "text": [
      "0.46881531446500835\n"
     ]
    },
    {
     "data": {
      "text/plain": [
       "np.float64(-0.07793874254379418)"
      ]
     },
     "execution_count": 35,
     "metadata": {},
     "output_type": "execute_result"
    }
   ],
   "source": [
    "solver.local_energy(r=np.array([[1.0, 0.3, 0.2], [2.0, -0.2, 0.1]]))\n"
   ]
  },
  {
   "cell_type": "code",
   "execution_count": 26,
   "id": "21fa266f",
   "metadata": {},
   "outputs": [
    {
     "name": "stdout",
     "output_type": "stream",
     "text": [
      "For alpha 0.0, E = -3.559448350326813, variance = 51.24847747525467\n",
      "For alpha 0.05, E = -4.56728179788205, variance = 15.92457537338542\n",
      "For alpha 0.1, E = -4.9941384172611425, variance = 67.74681576415112\n",
      "For alpha 0.15000000000000002, E = -3.7257332103633503, variance = 130.04928894142324\n",
      "For alpha 0.2, E = -6.134942716547516, variance = 162.6486178440742\n",
      "For alpha 0.25, E = -6.550264736249938, variance = 189.70535116904819\n",
      "For alpha 0.30000000000000004, E = -3.910251014344564, variance = 33.279758241360426\n",
      "For alpha 0.35000000000000003, E = -2.7380712347164087, variance = 16.42367958027666\n",
      "For alpha 0.4, E = -4.079696830711997, variance = 18.32471161603887\n",
      "For alpha 0.45, E = -3.8560093562240496, variance = 11.103643118597388\n",
      "For alpha 0.5, E = -3.1971438778110373, variance = 3.450124020128973\n",
      "For alpha 0.55, E = -3.214810704998128, variance = 9.692667194086365\n",
      "For alpha 0.6000000000000001, E = -3.4922759797636034, variance = 6.718290824261125\n",
      "For alpha 0.65, E = -1.9066967621848678, variance = 8.355867071049635\n",
      "For alpha 0.7000000000000001, E = -1.9386350548168194, variance = 2.139359801831819\n",
      "For alpha 0.75, E = -1.5939249159696198, variance = 4.016758178476205\n",
      "For alpha 0.8, E = -0.962886361937563, variance = 1.6376867684842533\n",
      "For alpha 0.8500000000000001, E = -1.2818702555129744, variance = 0.9060805249287887\n",
      "For alpha 0.9, E = -0.8697492971086038, variance = 0.39397688115079543\n",
      "For alpha 0.9500000000000001, E = -0.6577599869848088, variance = 0.30179942645904\n",
      "For alpha 1.0, E = -0.5000000349772582, variance = 3.775590950994001e-12\n",
      "For alpha 1.05, E = -0.2815911499159444, variance = 0.13630181699779634\n",
      "For alpha 1.1, E = 0.36556380107559566, variance = 0.5992503711154188\n",
      "For alpha 1.1500000000000001, E = 0.32287828351961945, variance = 2.3246540839259495\n",
      "For alpha 1.2000000000000002, E = 0.947450898408505, variance = 3.1620094228828237\n",
      "For alpha 1.25, E = 0.6259211589500507, variance = 5.476611296588952\n",
      "For alpha 1.3, E = 0.6569572344868222, variance = 5.623519536465397\n",
      "For alpha 1.35, E = 3.3098095554144544, variance = 20.264202934851447\n",
      "For alpha 1.4000000000000001, E = 0.7599538139180662, variance = 7.9714303778007105\n",
      "For alpha 1.4500000000000002, E = 1.801915980944217, variance = 19.466140561658403\n",
      "For alpha 1.5, E = 1.493149223515655, variance = 3.3688481759323916\n",
      "For alpha 1.55, E = 2.2672435223923855, variance = 20.814775510997464\n",
      "For alpha 1.6, E = 5.219687273044365, variance = 33.08473622152672\n",
      "For alpha 1.6500000000000001, E = 2.628992728165919, variance = 25.278469679488403\n",
      "For alpha 1.7000000000000002, E = 1.5596163299405272, variance = 13.539004015662005\n",
      "For alpha 1.75, E = 0.5283648282851423, variance = 6.589380034030923\n",
      "For alpha 1.8, E = 2.3845183494896327, variance = 49.97091580504402\n",
      "For alpha 1.85, E = 5.7451857830106805, variance = 55.44726315821723\n",
      "For alpha 1.9000000000000001, E = 3.4969151977860076, variance = 63.09755648583968\n",
      "For alpha 1.9500000000000002, E = 2.262196929053205, variance = 18.50041451291596\n",
      "For alpha 2.0, E = 9.239216181155092, variance = 345.36714296460457\n",
      "For alpha 2.0500000000000003, E = 2.774736795839139, variance = 62.12956219756362\n",
      "For alpha 2.1, E = 7.271360436004118, variance = 122.09637542125213\n",
      "For alpha 2.15, E = 3.307850203817698, variance = 109.76103969374424\n",
      "For alpha 2.2, E = 7.081203508866958, variance = 54.21036131916885\n",
      "For alpha 2.25, E = 3.2470089639137, variance = 183.1592805978667\n",
      "For alpha 2.3000000000000003, E = 7.7189371506834705, variance = 146.23810985163948\n",
      "For alpha 2.35, E = 4.334891800877315, variance = 59.758317158888005\n",
      "For alpha 2.4000000000000004, E = 6.216763395051097, variance = 65.26596583212583\n",
      "For alpha 2.45, E = 8.733167407451756, variance = 138.08514379697112\n",
      "For alpha 2.5, E = 8.782293681742825, variance = 189.36209971960602\n",
      "For alpha 2.5500000000000003, E = 6.314678885049937, variance = 158.65618672142205\n",
      "For alpha 2.6, E = 5.92833011108781, variance = 1010.8472266869757\n",
      "For alpha 2.6500000000000004, E = 8.79051310270104, variance = 279.74964218898447\n",
      "For alpha 2.7, E = 3.914132717676695, variance = 182.3211501624299\n",
      "For alpha 2.75, E = 8.657012024642109, variance = 68.24870289215872\n",
      "For alpha 2.8000000000000003, E = 16.608906121854606, variance = 323.6305703669237\n",
      "For alpha 2.85, E = 4.2360577650414095, variance = 164.44236740313892\n",
      "For alpha 2.9000000000000004, E = 11.882424864412965, variance = 402.044728739825\n",
      "For alpha 2.95, E = 7.494591267138625, variance = 163.3563851889234\n"
     ]
    }
   ],
   "source": [
    "energies = []\n",
    "variances = []\n",
    "\n",
    "# Stepping alpha\n",
    "alpha_arr = np.arange(0, 3.0, 0.05)\n",
    "\n",
    "for alpha in alpha_arr:\n",
    "    solver.alpha = alpha\n",
    "    energy, variance = solver.run_monte_carlo_integration()\n",
    "    print(f\"For alpha {alpha}, E = {energy}, variance = {variance}\")\n",
    "\n",
    "    energies.append(energy)\n",
    "    variances.append(variance)\n",
    "    "
   ]
  },
  {
   "cell_type": "code",
   "execution_count": 27,
   "id": "bab6c441",
   "metadata": {},
   "outputs": [
    {
     "data": {
      "text/plain": [
       "[<matplotlib.lines.Line2D at 0x2430cfd8ef0>]"
      ]
     },
     "execution_count": 27,
     "metadata": {},
     "output_type": "execute_result"
    },
    {
     "data": {
      "image/png": "[encoded data removed]",
      "text/plain": [
       "<Figure size 640x480 with 1 Axes>"
      ]
     },
     "metadata": {},
     "output_type": "display_data"
    }
   ],
   "source": [
    "plt.plot(alpha_arr, energies)"
   ]
  },
  {
   "cell_type": "code",
   "execution_count": 28,
   "id": "f6b3ebe6",
   "metadata": {},
   "outputs": [
    {
     "data": {
      "text/plain": [
       "[<matplotlib.lines.Line2D at 0x2430d048cb0>]"
      ]
     },
     "execution_count": 28,
     "metadata": {},
     "output_type": "execute_result"
    },
    {
     "data": {
      "image/png": "[encoded data removed]",
      "text/plain": [
       "<Figure size 640x480 with 1 Axes>"
      ]
     },
     "metadata": {},
     "output_type": "display_data"
    }
   ],
   "source": [
    "plt.plot(alpha_arr, variances)"
   ]
  },
  {
   "cell_type": "markdown",
   "id": "5effcf8d",
   "metadata": {},
   "source": [
    "## Parallelizing to speed up"
   ]
  },
  {
   "cell_type": "code",
   "execution_count": null,
   "id": "2045266a",
   "metadata": {},
   "outputs": [],
   "source": [
    "import numpy as np\n",
    "\n",
    "class VMCSolverP:\n",
    "    def __init__(self, n_particles, n_dimensions, n_cycles, step_length, h, h2, charge, alpha, rng_function=None):\n",
    "        self.n_particles = n_particles\n",
    "        self.n_dimensions = n_dimensions\n",
    "        self.n_cycles = n_cycles\n",
    "        self.step_length = step_length\n",
    "        self.h = h\n",
    "        self.h2 = h2\n",
    "        self.charge = charge\n",
    "        self.alpha = alpha\n",
    "        self.rng = rng_function if rng_function is not None else np.random.rand\n",
    "\n",
    "    def wave_function(self, r):\n",
    "        argument = 0.0\n",
    "        for i in range(self.n_particles):\n",
    "            r_single_particle = np.sum(r[i] ** 2)\n",
    "            argument += np.sqrt(r_single_particle)\n",
    "        return np.exp(-argument * self.alpha)\n",
    "\n",
    "    def local_energy(self, r):\n",
    "        r_plus = np.copy(r)\n",
    "        r_minus = np.copy(r)\n",
    "        wave_function_current = self.wave_function(r)\n",
    "\n",
    "        kinetic_energy = 0.0\n",
    "        for i in range(self.n_particles):\n",
    "            for j in range(self.n_dimensions):\n",
    "                r_plus[i, j] += self.h\n",
    "                r_minus[i, j] -= self.h\n",
    "\n",
    "                wave_function_plus = self.wave_function(r_plus)\n",
    "                wave_function_minus = self.wave_function(r_minus)\n",
    "\n",
    "                kinetic_energy -= (wave_function_minus + wave_function_plus - 2 * wave_function_current)\n",
    "\n",
    "                r_plus[i, j] = r[i, j]\n",
    "                r_minus[i, j] = r[i, j]\n",
    "\n",
    "        kinetic_energy *= 0.5 * self.h2 / wave_function_current\n",
    "\n",
    "        potential_energy = 0.0\n",
    "        for i in range(self.n_particles):\n",
    "            r_single_particle = np.sum(r[i] ** 2)\n",
    "            potential_energy -= self.charge / np.sqrt(r_single_particle)\n",
    "\n",
    "        for i in range(self.n_particles):\n",
    "            for j in range(i + 1, self.n_particles):\n",
    "                r12 = np.sum((r[i] - r[j]) ** 2)\n",
    "                potential_energy += 1.0 / np.sqrt(r12)\n",
    "\n",
    "        return kinetic_energy + potential_energy\n",
    "\n",
    "    def run_monte_carlo_integration(self):\n",
    "        r_old = np.zeros((self.n_particles, self.n_dimensions))\n",
    "        r_new = np.zeros((self.n_particles, self.n_dimensions))\n",
    "        accepted_samples = 0\n",
    "\n",
    "\n",
    "        # Initial trial positions\n",
    "        r_old = np.random.rand(self.n_particles,   self.n_dimensions) - 0.5\n",
    "\n",
    "        r_new[:] = r_old\n",
    "        energy_sum = 0.0\n",
    "        energy_squared_sum = 0.0\n",
    "\n",
    "        psis = np.array([self.wave_function(r_old)])\n",
    "        delta_es = np.zeros((self.n_cycles, self.n_particles))\n",
    "\n",
    "        psis[:]\n",
    "\n",
    "        for cycle in range(self.n_cycles):\n",
    "            wave_function_old = self.wave_function(r_old)\n",
    "\n",
    "            for i in range(self.n_particles):\n",
    "                for j in range(self.n_dimensions):\n",
    "                    r_new[i, j] = r_old[i, j] + self.step_length * (self.rng() - 0.5)\n",
    "\n",
    "                wave_function_new = self.wave_function(r_new)\n",
    "\n",
    "                acceptance_ratio = (wave_function_new ** 2) / (wave_function_old ** 2)\n",
    "\n",
    "                if self.rng() <= acceptance_ratio:\n",
    "                    r_old[i] = r_new[i]\n",
    "                    wave_function_old = wave_function_new\n",
    "                    accepted_samples += 1\n",
    "                else:\n",
    "                    r_new[i] = r_old[i]\n",
    "\n",
    "                delta_e = self.local_energy(r_new)\n",
    "                energy_sum += delta_e\n",
    "                energy_squared_sum += delta_e ** 2\n",
    "\n",
    "        total_samples = self.n_cycles * self.n_particles\n",
    "        energy = energy_sum / total_samples\n",
    "        energy_squared = energy_squared_sum / total_samples\n",
    "        variance = energy_squared - energy ** 2\n",
    "        acceptance_ratio = accepted_samples / total_samples\n",
    "\n",
    "        return energy, variance, acceptance_ratio\n"
   ]
  },
  {
   "cell_type": "code",
   "execution_count": 70,
   "id": "10d2eda2",
   "metadata": {},
   "outputs": [
    {
     "data": {
      "text/plain": [
       "(np.float64(10296.883636307573), np.float64(218923286.2127804), 0.76705)"
      ]
     },
     "execution_count": 70,
     "metadata": {},
     "output_type": "execute_result"
    }
   ],
   "source": [
    "solver = VMCSolverP(\n",
    "    n_particles=2,\n",
    "    n_dimensions=3,\n",
    "    n_cycles=10000,\n",
    "    step_length=1.0,\n",
    "    h=1e-3,\n",
    "    h2=1e10,  # example value; in C++ it's usually 1/h²\n",
    "    charge=2.0,\n",
    "    alpha=0.5 * 2.0\n",
    ")\n",
    "\n",
    "solver.run_monte_carlo_integration()"
   ]
  },
  {
   "cell_type": "code",
   "execution_count": 67,
   "id": "2adfb278",
   "metadata": {},
   "outputs": [
    {
     "data": {
      "text/plain": [
       "0.42460767652768705"
      ]
     },
     "execution_count": 67,
     "metadata": {},
     "output_type": "execute_result"
    }
   ],
   "source": [
    "np.random.rand()"
   ]
  },
  {
   "cell_type": "code",
   "execution_count": 55,
   "id": "111bf3ff",
   "metadata": {},
   "outputs": [],
   "source": [
    "t = np.random.rand(2,3)"
   ]
  },
  {
   "cell_type": "code",
   "execution_count": 63,
   "id": "02e454c8",
   "metadata": {},
   "outputs": [],
   "source": [
    "t = np.zeros((int(1e6), 4, 2))"
   ]
  },
  {
   "cell_type": "code",
   "execution_count": 64,
   "id": "d3834d6e",
   "metadata": {},
   "outputs": [
    {
     "data": {
      "text/plain": [
       "(1000000, 4, 2)"
      ]
     },
     "execution_count": 64,
     "metadata": {},
     "output_type": "execute_result"
    }
   ],
   "source": [
    "t.shape"
   ]
  },
  {
   "cell_type": "code",
   "execution_count": 65,
   "id": "8f47f5d1",
   "metadata": {},
   "outputs": [
    {
     "data": {
      "text/plain": [
       "array([[[0., 0.],\n",
       "        [0., 0.],\n",
       "        [0., 0.],\n",
       "        [0., 0.]],\n",
       "\n",
       "       [[0., 0.],\n",
       "        [0., 0.],\n",
       "        [0., 0.],\n",
       "        [0., 0.]],\n",
       "\n",
       "       [[0., 0.],\n",
       "        [0., 0.],\n",
       "        [0., 0.],\n",
       "        [0., 0.]],\n",
       "\n",
       "       ...,\n",
       "\n",
       "       [[0., 0.],\n",
       "        [0., 0.],\n",
       "        [0., 0.],\n",
       "        [0., 0.]],\n",
       "\n",
       "       [[0., 0.],\n",
       "        [0., 0.],\n",
       "        [0., 0.],\n",
       "        [0., 0.]],\n",
       "\n",
       "       [[0., 0.],\n",
       "        [0., 0.],\n",
       "        [0., 0.],\n",
       "        [0., 0.]]])"
      ]
     },
     "execution_count": 65,
     "metadata": {},
     "output_type": "execute_result"
    }
   ],
   "source": [
    "t"
   ]
  },
  {
   "cell_type": "code",
   "execution_count": null,
   "id": "fc316610",
   "metadata": {},
   "outputs": [],
   "source": []
  }
 ],
 "metadata": {
  "kernelspec": {
   "display_name": "pytorch_gpu",
   "language": "python",
   "name": "python3"
  },
  "language_info": {
   "codemirror_mode": {
    "name": "ipython",
    "version": 3
   },
   "file_extension": ".py",
   "mimetype": "text/x-python",
   "name": "python",
   "nbconvert_exporter": "python",
   "pygments_lexer": "ipython3",
   "version": "3.12.3"
  }
 },
 "nbformat": 4,
 "nbformat_minor": 5
}
