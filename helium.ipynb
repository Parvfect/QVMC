{
 "cells": [
  {
   "cell_type": "markdown",
   "id": "9bed257b",
   "metadata": {},
   "source": [
    "### Metropolis Sampling"
   ]
  },
  {
   "cell_type": "code",
   "execution_count": 12,
   "id": "ea653501",
   "metadata": {},
   "outputs": [],
   "source": [
    "import matplotlib.pyplot as plt"
   ]
  },
  {
   "cell_type": "code",
   "execution_count": 8,
   "id": "02301577",
   "metadata": {},
   "outputs": [],
   "source": [
    "import numpy as np\n",
    "\n",
    "# Add ion force\n",
    "# Cross check values\n",
    "# Opt for hydrogen\n",
    "# Fokker plank sampling\n",
    "\n",
    "class VMCSolver:\n",
    "    def __init__(self, n_particles, n_dimensions, n_cycles, step_length, h, h2, charge, alpha, rng_function=None):\n",
    "        self.n_particles = n_particles\n",
    "        self.n_dimensions = n_dimensions\n",
    "        self.n_cycles = n_cycles\n",
    "        self.step_length = step_length\n",
    "        self.h = h\n",
    "        self.h2 = h2\n",
    "        self.charge = charge\n",
    "        self.alpha = alpha\n",
    "        self.rng = rng_function if rng_function is not None else np.random.rand\n",
    "\n",
    "    def wave_function(self, r):\n",
    "        argument = 0.0\n",
    "        for i in range(self.n_particles):\n",
    "            r_single_particle = np.sum(r[i] ** 2)\n",
    "            argument += np.sqrt(r_single_particle)\n",
    "        return np.exp(-argument * self.alpha)\n",
    "\n",
    "    def local_energy(self, r):\n",
    "        r_plus = np.copy(r)\n",
    "        r_minus = np.copy(r)\n",
    "        wave_function_current = self.wave_function(r)\n",
    "\n",
    "        kinetic_energy = 0.0\n",
    "        for i in range(self.n_particles):\n",
    "            for j in range(self.n_dimensions):\n",
    "                r_plus[i, j] += self.h\n",
    "                r_minus[i, j] -= self.h\n",
    "\n",
    "                wave_function_plus = self.wave_function(r_plus)\n",
    "                wave_function_minus = self.wave_function(r_minus)\n",
    "\n",
    "                kinetic_energy -= (wave_function_minus + wave_function_plus - 2 * wave_function_current)\n",
    "\n",
    "                r_plus[i, j] = r[i, j]\n",
    "                r_minus[i, j] = r[i, j]\n",
    "\n",
    "        # Kinetic energy\n",
    "        kinetic_energy *= 0.5 * self.h2 / wave_function_current\n",
    "\n",
    "        # Ion-electron attraction\n",
    "        potential_energy = 0.0\n",
    "        for i in range(self.n_particles):\n",
    "            r_single_particle = np.sum(r[i] ** 2)\n",
    "            potential_energy -= self.charge / np.sqrt(r_single_particle)\n",
    "\n",
    "        # Inter-electron repulsion\n",
    "        for i in range(self.n_particles):\n",
    "            for j in range(i + 1, self.n_particles):\n",
    "                r12 = np.sum((r[i] - r[j]) ** 2)\n",
    "                potential_energy += 1.0 / np.sqrt(r12)\n",
    "\n",
    "        return kinetic_energy + potential_energy\n",
    "\n",
    "    def run_monte_carlo_integration(self):\n",
    "        r_old = np.zeros((self.n_particles, self.n_dimensions))\n",
    "        r_new = np.zeros((self.n_particles, self.n_dimensions))\n",
    "        accepted_samples = 0\n",
    "\n",
    "        for i in range(self.n_particles):\n",
    "            for j in range(self.n_dimensions):\n",
    "                r_old[i, j] = self.step_length * (self.rng() - 0.5)\n",
    "\n",
    "        r_new[:] = r_old\n",
    "        energy_sum = 0.0\n",
    "        energy_squared_sum = 0.0\n",
    "\n",
    "        for cycle in range(self.n_cycles):\n",
    "            wave_function_old = self.wave_function(r_old)\n",
    "\n",
    "            for i in range(self.n_particles):\n",
    "                for j in range(self.n_dimensions):\n",
    "                    r_new[i, j] = r_old[i, j] + self.step_length * (self.rng() - 0.5)\n",
    "\n",
    "                wave_function_new = self.wave_function(r_new)\n",
    "\n",
    "                acceptance_ratio = (wave_function_new ** 2) / (wave_function_old ** 2)\n",
    "\n",
    "                if self.rng() <= acceptance_ratio:\n",
    "                    r_old[i] = r_new[i]\n",
    "                    wave_function_old = wave_function_new\n",
    "                    accepted_samples += 1\n",
    "                else:\n",
    "                    r_new[i] = r_old[i]\n",
    "\n",
    "                delta_e = self.local_energy(r_new)\n",
    "                energy_sum += delta_e\n",
    "                energy_squared_sum += delta_e ** 2\n",
    "\n",
    "        total_samples = self.n_cycles * self.n_particles\n",
    "        energy = energy_sum / total_samples\n",
    "        energy_squared = energy_squared_sum / total_samples\n",
    "        variance = energy_squared - energy ** 2\n",
    "        acceptance_ratio = accepted_samples / total_samples\n",
    "\n",
    "        return energy, variance\n"
   ]
  },
  {
   "cell_type": "code",
   "execution_count": 14,
   "id": "f5da6f26",
   "metadata": {},
   "outputs": [
    {
     "data": {
      "text/plain": [
       "(np.float64(10438.957520114063), np.float64(281390540.71796316))"
      ]
     },
     "execution_count": 14,
     "metadata": {},
     "output_type": "execute_result"
    }
   ],
   "source": [
    "solver = VMCSolver(\n",
    "    n_particles=2,\n",
    "    n_dimensions=3,\n",
    "    n_cycles=10000,\n",
    "    step_length=1.5,\n",
    "    h=1e-3,\n",
    "    h2=1e10,  # example value; in C++ it's usually 1/h²\n",
    "    charge=2.0,\n",
    "    alpha=0.5 * 2.0\n",
    ")\n",
    "\n",
    "solver.run_monte_carlo_integration()"
   ]
  },
  {
   "cell_type": "code",
   "execution_count": 4,
   "id": "7d36541c",
   "metadata": {},
   "outputs": [
    {
     "data": {
      "text/plain": [
       "np.float64(4405.325351224653)"
      ]
     },
     "execution_count": 4,
     "metadata": {},
     "output_type": "execute_result"
    }
   ],
   "source": [
    "solver.local_energy(r=np.array([[1.0, 0.3, 0.2], [2.0, -0.2, 0.1]]))\n"
   ]
  },
  {
   "cell_type": "code",
   "execution_count": 10,
   "id": "21fa266f",
   "metadata": {},
   "outputs": [
    {
     "name": "stdout",
     "output_type": "stream",
     "text": [
      "For alpha 0.0, E = -0.050679657554867086, variance = 0.004189410564735605\n",
      "For alpha 0.05, E = 29.0127660601144, variance = 2175.262367899004\n",
      "For alpha 0.1, E = 72.12120878008879, variance = 12367.142606949412\n",
      "For alpha 0.15000000000000002, E = 135.9052707658293, variance = 101686.93644862875\n",
      "For alpha 0.2, E = 241.1918596496426, variance = 158448.20653797445\n",
      "For alpha 0.25, E = 273.0164728232473, variance = 267924.5660026062\n",
      "For alpha 0.30000000000000004, E = 478.10693924753934, variance = 712586.7189629737\n",
      "For alpha 0.35000000000000003, E = 394.26932107985766, variance = 949848.7038263305\n",
      "For alpha 0.4, E = 744.4479239111624, variance = 2904301.5946055558\n",
      "For alpha 0.45, E = 1176.8749219299891, variance = 4607774.20124043\n",
      "For alpha 0.5, E = 1074.1546758535487, variance = 4708735.976819543\n",
      "For alpha 0.55, E = 1698.3529665066455, variance = 28179176.30952761\n",
      "For alpha 0.6000000000000001, E = 1688.3761447052807, variance = 10615616.179376887\n",
      "For alpha 0.65, E = 2214.7338947401086, variance = 18593545.26524637\n",
      "For alpha 0.7000000000000001, E = 2129.127600361349, variance = 15127635.019216344\n",
      "For alpha 0.75, E = 2467.1340254471293, variance = 25252079.418872282\n",
      "For alpha 0.8, E = 2788.215420094635, variance = 29558261.34310551\n",
      "For alpha 0.8500000000000001, E = 3184.704564503644, variance = 37222674.734128945\n",
      "For alpha 0.9, E = 4211.657193625284, variance = 91633818.79085612\n",
      "For alpha 0.9500000000000001, E = 4093.82603970832, variance = 57095931.0162417\n",
      "For alpha 1.0, E = 5400.649860911488, variance = 83288346.05799773\n",
      "For alpha 1.05, E = 5512.972078355064, variance = 87211561.62950848\n",
      "For alpha 1.1, E = 6472.126117607329, variance = 158151287.29081443\n",
      "For alpha 1.1500000000000001, E = 6900.438510564156, variance = 171823011.74610913\n",
      "For alpha 1.2000000000000002, E = 7762.162419099986, variance = 197748727.9819227\n",
      "For alpha 1.25, E = 6828.285690909816, variance = 159239447.92119813\n",
      "For alpha 1.3, E = 8215.631309952121, variance = 210263904.98780096\n",
      "For alpha 1.35, E = 9051.192697624017, variance = 213878254.89486754\n",
      "For alpha 1.4000000000000001, E = 9913.61866018099, variance = 272719260.47574186\n",
      "For alpha 1.4500000000000002, E = 9753.533066848411, variance = 274725727.59474146\n",
      "For alpha 1.5, E = 12371.103043549492, variance = 570573286.4449519\n",
      "For alpha 1.55, E = 12924.142227585398, variance = 2564479981.041527\n",
      "For alpha 1.6, E = 14901.073458542049, variance = 1396540818.2594495\n",
      "For alpha 1.6500000000000001, E = 15423.19565590204, variance = 809446058.5575477\n",
      "For alpha 1.7000000000000002, E = 14884.36203244054, variance = 641447069.6297992\n",
      "For alpha 1.75, E = 15805.370907057715, variance = 2154836377.2177224\n",
      "For alpha 1.8, E = 17846.498489836238, variance = 1093119929.3265333\n",
      "For alpha 1.85, E = 16594.718447275238, variance = 917843612.8505532\n",
      "For alpha 1.9000000000000001, E = 18501.644954716732, variance = 797221159.1147106\n",
      "For alpha 1.9500000000000002, E = 17531.712903774445, variance = 977018751.2129879\n",
      "For alpha 2.0, E = 19248.256965963472, variance = 1258782692.1371377\n",
      "For alpha 2.0500000000000003, E = 20923.379987707205, variance = 2592205344.2420106\n",
      "For alpha 2.1, E = 22049.08091090682, variance = 1568209251.0176578\n",
      "For alpha 2.15, E = 25037.34757923152, variance = 3427256499.050427\n",
      "For alpha 2.2, E = 24097.62735556629, variance = 1770843711.1887717\n",
      "For alpha 2.25, E = 26554.37600438368, variance = 1931688719.0057898\n",
      "For alpha 2.3000000000000003, E = 26627.703694904907, variance = 1877760733.986683\n",
      "For alpha 2.35, E = 28406.61364504965, variance = 3831243381.1774383\n",
      "For alpha 2.4000000000000004, E = 31054.13931707349, variance = 2199228995.0874686\n",
      "For alpha 2.45, E = 31682.8421590162, variance = 5713349571.858076\n",
      "For alpha 2.5, E = 30964.144496488072, variance = 4325198145.785505\n",
      "For alpha 2.5500000000000003, E = 35901.620401899636, variance = 3237947238.580026\n",
      "For alpha 2.6, E = 40343.04266829444, variance = 8235611443.409009\n",
      "For alpha 2.6500000000000004, E = 37239.556559017736, variance = 7124401538.843445\n",
      "For alpha 2.7, E = 32353.0911354208, variance = 4426955322.990846\n",
      "For alpha 2.75, E = 30520.87107182255, variance = 2262728912.134992\n",
      "For alpha 2.8000000000000003, E = 40556.970081569496, variance = 6700938720.039864\n",
      "For alpha 2.85, E = 41802.54390697443, variance = 6392690094.619575\n",
      "For alpha 2.9000000000000004, E = 42775.355273717476, variance = 5005745667.0480175\n",
      "For alpha 2.95, E = 36367.48001891981, variance = 4493574748.071487\n"
     ]
    }
   ],
   "source": [
    "energies = []\n",
    "variances = []\n",
    "\n",
    "# Stepping alpha\n",
    "alpha_arr = np.arange(0, 3.0, 0.05)\n",
    "\n",
    "for alpha in alpha_arr:\n",
    "    solver.alpha = alpha\n",
    "    energy, variance = solver.run_monte_carlo_integration()\n",
    "    print(f\"For alpha {alpha}, E = {energy}, variance = {variance}\")\n",
    "\n",
    "    energies.append(energy)\n",
    "    variances.append(variance)\n",
    "    "
   ]
  },
  {
   "cell_type": "code",
   "execution_count": 13,
   "id": "bab6c441",
   "metadata": {},
   "outputs": [
    {
     "data": {
      "text/plain": [
       "[<matplotlib.lines.Line2D at 0x2006a766fc0>]"
      ]
     },
     "execution_count": 13,
     "metadata": {},
     "output_type": "execute_result"
    },
    {
     "data": {
      "image/png": "[encoded data removed]",
      "text/plain": [
       "<Figure size 640x480 with 1 Axes>"
      ]
     },
     "metadata": {},
     "output_type": "display_data"
    }
   ],
   "source": [
    "plt.plot(alpha_arr, energies)"
   ]
  },
  {
   "cell_type": "code",
   "execution_count": 28,
   "id": "f6b3ebe6",
   "metadata": {},
   "outputs": [
    {
     "data": {
      "text/plain": [
       "[<matplotlib.lines.Line2D at 0x2430d048cb0>]"
      ]
     },
     "execution_count": 28,
     "metadata": {},
     "output_type": "execute_result"
    },
    {
     "data": {
      "image/png": "[encoded data removed]",
      "text/plain": [
       "<Figure size 640x480 with 1 Axes>"
      ]
     },
     "metadata": {},
     "output_type": "display_data"
    }
   ],
   "source": [
    "plt.plot(alpha_arr, variances)"
   ]
  },
  {
   "cell_type": "markdown",
   "id": "5effcf8d",
   "metadata": {},
   "source": [
    "## Parallelizing to speed up"
   ]
  },
  {
   "cell_type": "code",
   "execution_count": 71,
   "id": "2045266a",
   "metadata": {},
   "outputs": [],
   "source": [
    "import numpy as np\n",
    "\n",
    "class VMCSolverP:\n",
    "    def __init__(self, n_particles, n_dimensions, n_cycles, step_length, h, h2, charge, alpha, rng_function=None):\n",
    "        self.n_particles = n_particles\n",
    "        self.n_dimensions = n_dimensions\n",
    "        self.n_cycles = n_cycles\n",
    "        self.step_length = step_length\n",
    "        self.h = h\n",
    "        self.h2 = h2\n",
    "        self.charge = charge\n",
    "        self.alpha = alpha\n",
    "        self.rng = rng_function if rng_function is not None else np.random.rand\n",
    "\n",
    "    def wave_function(self, r):\n",
    "        argument = 0.0\n",
    "        for i in range(self.n_particles):\n",
    "            r_single_particle = np.sum(r[i] ** 2)\n",
    "            argument += np.sqrt(r_single_particle)\n",
    "        return np.exp(-argument * self.alpha)\n",
    "\n",
    "    def local_energy(self, r):\n",
    "        r_plus = np.copy(r)\n",
    "        r_minus = np.copy(r)\n",
    "        wave_function_current = self.wave_function(r)\n",
    "\n",
    "        kinetic_energy = 0.0\n",
    "        for i in range(self.n_particles):\n",
    "            for j in range(self.n_dimensions):\n",
    "                r_plus[i, j] += self.h\n",
    "                r_minus[i, j] -= self.h\n",
    "\n",
    "                wave_function_plus = self.wave_function(r_plus)\n",
    "                wave_function_minus = self.wave_function(r_minus)\n",
    "\n",
    "                kinetic_energy -= (wave_function_minus + wave_function_plus - 2 * wave_function_current)\n",
    "\n",
    "                r_plus[i, j] = r[i, j]\n",
    "                r_minus[i, j] = r[i, j]\n",
    "\n",
    "        kinetic_energy *= 0.5 * self.h2 / wave_function_current\n",
    "\n",
    "        potential_energy = 0.0\n",
    "        for i in range(self.n_particles):\n",
    "            r_single_particle = np.sum(r[i] ** 2)\n",
    "            potential_energy -= self.charge / np.sqrt(r_single_particle)\n",
    "\n",
    "        for i in range(self.n_particles):\n",
    "            for j in range(i + 1, self.n_particles):\n",
    "                r12 = np.sum((r[i] - r[j]) ** 2)\n",
    "                potential_energy += 1.0 / np.sqrt(r12)\n",
    "\n",
    "        return kinetic_energy + potential_energy\n",
    "\n",
    "    def run_monte_carlo_integration(self):\n",
    "        r_old = np.zeros((self.n_particles, self.n_dimensions))\n",
    "        r_new = np.zeros((self.n_particles, self.n_dimensions))\n",
    "        accepted_samples = 0\n",
    "\n",
    "\n",
    "        # Initial trial positions\n",
    "        r_old = np.random.rand(self.n_particles,   self.n_dimensions) - 0.5\n",
    "\n",
    "        r_new[:] = r_old\n",
    "        energy_sum = 0.0\n",
    "        energy_squared_sum = 0.0\n",
    "\n",
    "        psis = np.array([self.wave_function(r_old)])\n",
    "        delta_es = np.zeros((self.n_cycles, self.n_particles))\n",
    "\n",
    "        psis[:]\n",
    "\n",
    "        for cycle in range(self.n_cycles):\n",
    "            wave_function_old = self.wave_function(r_old)\n",
    "\n",
    "            for i in range(self.n_particles):\n",
    "                for j in range(self.n_dimensions):\n",
    "                    r_new[i, j] = r_old[i, j] + self.step_length * (self.rng() - 0.5)\n",
    "\n",
    "                wave_function_new = self.wave_function(r_new)\n",
    "\n",
    "                acceptance_ratio = (wave_function_new ** 2) / (wave_function_old ** 2)\n",
    "\n",
    "                if self.rng() <= acceptance_ratio:\n",
    "                    r_old[i] = r_new[i]\n",
    "                    wave_function_old = wave_function_new\n",
    "                    accepted_samples += 1\n",
    "                else:\n",
    "                    r_new[i] = r_old[i]\n",
    "\n",
    "                delta_e = self.local_energy(r_new)\n",
    "                energy_sum += delta_e\n",
    "                energy_squared_sum += delta_e ** 2\n",
    "\n",
    "        total_samples = self.n_cycles * self.n_particles\n",
    "        energy = energy_sum / total_samples\n",
    "        energy_squared = energy_squared_sum / total_samples\n",
    "        variance = energy_squared - energy ** 2\n",
    "        acceptance_ratio = accepted_samples / total_samples\n",
    "\n",
    "        return energy, variance, acceptance_ratio\n"
   ]
  },
  {
   "cell_type": "code",
   "execution_count": 72,
   "id": "10d2eda2",
   "metadata": {},
   "outputs": [
    {
     "data": {
      "text/plain": [
       "(np.float64(9136.300683416854), np.float64(132590082.74250285), 0.7707)"
      ]
     },
     "execution_count": 72,
     "metadata": {},
     "output_type": "execute_result"
    }
   ],
   "source": [
    "solver = VMCSolverP(\n",
    "    n_particles=2,\n",
    "    n_dimensions=3,\n",
    "    n_cycles=10000,\n",
    "    step_length=1.0,\n",
    "    h=1e-3,\n",
    "    h2=1e10,  # example value; in C++ it's usually 1/h²\n",
    "    charge=2.0,\n",
    "    alpha=0.5 * 2.0\n",
    ")\n",
    "\n",
    "solver.run_monte_carlo_integration()"
   ]
  },
  {
   "cell_type": "code",
   "execution_count": null,
   "id": "fc316610",
   "metadata": {},
   "outputs": [],
   "source": []
  }
 ],
 "metadata": {
  "kernelspec": {
   "display_name": "pytorch_gpu",
   "language": "python",
   "name": "python3"
  },
  "language_info": {
   "codemirror_mode": {
    "name": "ipython",
    "version": 3
   },
   "file_extension": ".py",
   "mimetype": "text/x-python",
   "name": "python",
   "nbconvert_exporter": "python",
   "pygments_lexer": "ipython3",
   "version": "3.12.3"
  }
 },
 "nbformat": 4,
 "nbformat_minor": 5
}
