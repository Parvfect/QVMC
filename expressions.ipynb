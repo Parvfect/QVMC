{
 "cells": [
  {
   "cell_type": "code",
   "execution_count": 5,
   "id": "1470859d",
   "metadata": {},
   "outputs": [],
   "source": [
    "from sympy import *"
   ]
  },
  {
   "cell_type": "code",
   "execution_count": 6,
   "id": "6b9a7ba4",
   "metadata": {},
   "outputs": [],
   "source": [
    "x1, y1, z1 = symbols('x_1 y_1 z_1')\n",
    "x2, y2, z2 = symbols('x_2 y_2 z_2')\n",
    "r1, r2, r1_, r2_, r12 = symbols('r_1, r_2, r1_, r2_, r12')"
   ]
  },
  {
   "cell_type": "code",
   "execution_count": 7,
   "id": "551770d3",
   "metadata": {},
   "outputs": [],
   "source": [
    "r1_ = sqrt(x1 ** 2 + y1 **2 + z1 **2)\n",
    "r2_ = sqrt(x2 ** 2 + y2 **2 + z2 **2)\n",
    "r12 = sqrt((x2 - x1) ** 2 + (y2 - y1) ** 2 + (z2 - z1) ** 2)"
   ]
  },
  {
   "cell_type": "code",
   "execution_count": 8,
   "id": "f3754da6",
   "metadata": {},
   "outputs": [],
   "source": [
    "def gradient_1(exp):\n",
    "    return simplify(diff(exp, x1) + diff(exp, y1) + diff(exp, z1))\n",
    "\n",
    "def gradient_2(exp):\n",
    "    return simplify(diff(exp, x2) + diff(exp, y2) + diff(exp, z2))"
   ]
  },
  {
   "cell_type": "code",
   "execution_count": 19,
   "id": "fac2ef0a",
   "metadata": {},
   "outputs": [
    {
     "data": {
      "text/latex": [
       "$\\displaystyle \\frac{3 \\left(x_{1} - x_{2}\\right)^{2} + 3 \\left(y_{1} - y_{2}\\right)^{2} + 3 \\left(z_{1} - z_{2}\\right)^{2} - \\left(- x_{1} + x_{2} - y_{1} + y_{2} - z_{1} + z_{2}\\right)^{2}}{\\left(\\left(x_{1} - x_{2}\\right)^{2} + \\left(y_{1} - y_{2}\\right)^{2} + \\left(z_{1} - z_{2}\\right)^{2}\\right)^{\\frac{3}{2}}}$"
      ],
      "text/plain": [
       "(3*(x_1 - x_2)**2 + 3*(y_1 - y_2)**2 + 3*(z_1 - z_2)**2 - (-x_1 + x_2 - y_1 + y_2 - z_1 + z_2)**2)/((x_1 - x_2)**2 + (y_1 - y_2)**2 + (z_1 - z_2)**2)**(3/2)"
      ]
     },
     "execution_count": 19,
     "metadata": {},
     "output_type": "execute_result"
    }
   ],
   "source": [
    "gradient_1(gradient_1(r12))"
   ]
  },
  {
   "cell_type": "code",
   "execution_count": 14,
   "id": "eaac273e",
   "metadata": {},
   "outputs": [
    {
     "data": {
      "text/latex": [
       "$\\displaystyle \\frac{3 \\left(x_{1} - x_{2}\\right)^{2} + 3 \\left(y_{1} - y_{2}\\right)^{2} + 3 \\left(z_{1} - z_{2}\\right)^{2} - \\left(- x_{1} + x_{2} - y_{1} + y_{2} - z_{1} + z_{2}\\right)^{2}}{\\left(\\left(x_{1} - x_{2}\\right)^{2} + \\left(y_{1} - y_{2}\\right)^{2} + \\left(z_{1} - z_{2}\\right)^{2}\\right)^{\\frac{3}{2}}}$"
      ],
      "text/plain": [
       "(3*(x_1 - x_2)**2 + 3*(y_1 - y_2)**2 + 3*(z_1 - z_2)**2 - (-x_1 + x_2 - y_1 + y_2 - z_1 + z_2)**2)/((x_1 - x_2)**2 + (y_1 - y_2)**2 + (z_1 - z_2)**2)**(3/2)"
      ]
     },
     "execution_count": 14,
     "metadata": {},
     "output_type": "execute_result"
    }
   ],
   "source": [
    "gradient_2(gradient_2(r12))"
   ]
  },
  {
   "cell_type": "code",
   "execution_count": 16,
   "id": "ccbec233",
   "metadata": {},
   "outputs": [
    {
     "data": {
      "text/latex": [
       "$\\displaystyle \\frac{x_{1} - x_{2} + y_{1} - y_{2} + z_{1} - z_{2}}{\\sqrt{\\left(x_{1} - x_{2}\\right)^{2} + \\left(y_{1} - y_{2}\\right)^{2} + \\left(z_{1} - z_{2}\\right)^{2}}}$"
      ],
      "text/plain": [
       "(x_1 - x_2 + y_1 - y_2 + z_1 - z_2)/sqrt((x_1 - x_2)**2 + (y_1 - y_2)**2 + (z_1 - z_2)**2)"
      ]
     },
     "execution_count": 16,
     "metadata": {},
     "output_type": "execute_result"
    }
   ],
   "source": [
    "gradient_1(r12)"
   ]
  },
  {
   "cell_type": "code",
   "execution_count": 17,
   "id": "c126e286",
   "metadata": {},
   "outputs": [
    {
     "data": {
      "text/latex": [
       "$\\displaystyle \\frac{- x_{1} + x_{2} - y_{1} + y_{2} - z_{1} + z_{2}}{\\sqrt{\\left(x_{1} - x_{2}\\right)^{2} + \\left(y_{1} - y_{2}\\right)^{2} + \\left(z_{1} - z_{2}\\right)^{2}}}$"
      ],
      "text/plain": [
       "(-x_1 + x_2 - y_1 + y_2 - z_1 + z_2)/sqrt((x_1 - x_2)**2 + (y_1 - y_2)**2 + (z_1 - z_2)**2)"
      ]
     },
     "execution_count": 17,
     "metadata": {},
     "output_type": "execute_result"
    }
   ],
   "source": [
    "gradient_2(r12)"
   ]
  },
  {
   "cell_type": "code",
   "execution_count": null,
   "id": "059d8760",
   "metadata": {},
   "outputs": [],
   "source": []
  }
 ],
 "metadata": {
  "kernelspec": {
   "display_name": "pytorch_gpu",
   "language": "python",
   "name": "python3"
  },
  "language_info": {
   "codemirror_mode": {
    "name": "ipython",
    "version": 3
   },
   "file_extension": ".py",
   "mimetype": "text/x-python",
   "name": "python",
   "nbconvert_exporter": "python",
   "pygments_lexer": "ipython3",
   "version": "3.12.3"
  }
 },
 "nbformat": 4,
 "nbformat_minor": 5
}
