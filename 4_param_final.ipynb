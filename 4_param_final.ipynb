{
 "cells": [
  {
   "cell_type": "code",
   "execution_count": 1,
   "id": "a31561eb",
   "metadata": {},
   "outputs": [],
   "source": [
    "import torch\n",
    "import numpy as np\n",
    "from tqdm import tqdm\n",
    "from analytical_expressions import local_energy\n",
    "from torch.autograd.functional import jacobian\n",
    "from torch.func import jacrev\n",
    "import matplotlib.pyplot as plt\n",
    "from torch.func import vmap"
   ]
  },
  {
   "cell_type": "code",
   "execution_count": 2,
   "id": "1012fd08",
   "metadata": {},
   "outputs": [],
   "source": [
    "%load_ext autoreload\n",
    "%autoreload 2"
   ]
  },
  {
   "cell_type": "code",
   "execution_count": 3,
   "id": "06526d9d",
   "metadata": {},
   "outputs": [],
   "source": [
    "def psi(X):\n",
    "    x = X[:3]\n",
    "    y = X[3:6]\n",
    "    alpha_1, alpha_2, alpha_3, alpha_4 = X[6:]\n",
    "    r1 = torch.norm(x)\n",
    "    r2 = torch.norm(y)\n",
    "    r12 = torch.norm(x - y)\n",
    "\n",
    "    term1 = torch.exp(-2 * (r1 + r2))\n",
    "    term2 = 1 + 0.5 * r12 * torch.exp(-alpha_1 * r12)\n",
    "    term3 = 1 + alpha_2 * (r1 + r2) * r12 + alpha_3 * (r1 - r2)**2 - alpha_4 * r12\n",
    "\n",
    "    return term1 * term2 * term3"
   ]
  },
  {
   "cell_type": "code",
   "execution_count": 4,
   "id": "c2407912",
   "metadata": {},
   "outputs": [
    {
     "name": "stderr",
     "output_type": "stream",
     "text": [
      "100%|██████████| 10000/10000 [00:04<00:00, 2197.79it/s]\n",
      "100%|██████████| 10000/10000 [00:05<00:00, 1972.91it/s]\n",
      "100%|██████████| 10000/10000 [00:04<00:00, 2007.29it/s]\n",
      "100%|██████████| 10000/10000 [00:05<00:00, 1987.73it/s]\n",
      "100%|██████████| 10000/10000 [00:04<00:00, 2044.88it/s]\n"
     ]
    }
   ],
   "source": [
    "L = 1\n",
    "r1 = torch.rand(3, requires_grad=False) * 2 * L - L\n",
    "r2 = torch.rand(3, requires_grad=False) * 2 * L - L #random number from -L to L\n",
    "alpha_1 = torch.tensor(1.013, dtype=torch.float64, requires_grad=True) # 1.013\n",
    "alpha_2 = torch.tensor(0.2119, dtype=torch.float64, requires_grad=True)\n",
    "alpha_3 = torch.tensor(0.1406, dtype=torch.float64, requires_grad=True)\n",
    "alpha_4 = torch.tensor(0.003, dtype=torch.float64, requires_grad=True)\n",
    "E = 0\n",
    "E2 = 0\n",
    "Eln_average = 0\n",
    "ln_average = 0\n",
    "rejection_ratio = 0\n",
    "step = 0\n",
    "max_steps = 500\n",
    "N = 10000\n",
    "dlap_dalpha = 0\n",
    "inputs_arr = []\n",
    "n_walkers = 5\n",
    "\n",
    "for walkers in range(n_walkers):\n",
    "    inputs = []\n",
    "    for i in tqdm(range(N)):\n",
    "\n",
    "        chose = np.random.rand()\n",
    "        step = step + 1\n",
    "        if chose < 0.5:\n",
    "            r1_trial = r1 + 0.5 * (torch.rand(3) * 2 * L-L)\n",
    "            r2_trial = r2\n",
    "        else:\n",
    "            r2_trial = r2 + 0.5 * (torch.rand(3) * 2 * L-L)\n",
    "            r1_trial = r1\n",
    "\n",
    "\n",
    "        X = torch.tensor(\n",
    "            [*r1, *r2, alpha_1, alpha_2, alpha_3, alpha_4])\n",
    "        X_trial = torch.tensor(\n",
    "            [*r1_trial, *r2_trial, alpha_1, alpha_2, alpha_3, alpha_4])\n",
    "\n",
    "        psi_val = psi(X)\n",
    "        psi_trial_val = psi(X_trial)\n",
    "\n",
    "\n",
    "        if psi_trial_val >= psi_val:\n",
    "            r1 = r1_trial\n",
    "            r2 = r2_trial\n",
    "            \n",
    "        else:\n",
    "            dummy = np.random.rand()\n",
    "            if dummy < psi_trial_val / psi_val:\n",
    "                r1 = r1_trial\n",
    "                r2 = r2_trial\n",
    "            else:\n",
    "                rejection_ratio += 1./N\n",
    "                    \n",
    "        if step > max_steps:\n",
    "            \n",
    "            X_final = torch.tensor(\n",
    "            [*r1, *r2, alpha_1, alpha_2, alpha_3, alpha_4], requires_grad=True)\n",
    "\n",
    "            #local_E = local_energy(X_final)\n",
    "            #E += local_E / (N - max_steps)\n",
    "            #dlap_dalpha += torch.autograd.grad(local_E, X_final, retain_graph=True)[0][6:] / (N - max_steps)\n",
    "            inputs.append(X_final)\n",
    "\n",
    "    inputs_arr.append(inputs)\n",
    "\n",
    "\n"
   ]
  },
  {
   "cell_type": "code",
   "execution_count": 5,
   "id": "0704f13e",
   "metadata": {},
   "outputs": [],
   "source": [
    "psi_vec = vmap(psi)"
   ]
  },
  {
   "cell_type": "code",
   "execution_count": 6,
   "id": "d6f7a445",
   "metadata": {},
   "outputs": [],
   "source": [
    "def metropolis(N: int, n_runs: int, alphas: torch.tensor):  \n",
    "    \"\"\"\n",
    "    Vectorized metropolis loop\n",
    "    Over N steps, for n_runs. \n",
    "    Alphas passes in must be of same dim as n_runs\n",
    "    \"\"\"  \n",
    "    assert alphas.shape[0] == n_runs        \n",
    "    L = 1\n",
    "    r1 = (torch.rand(n_runs, 3, requires_grad=True) * 2 * L - L)\n",
    "    r2 = (torch.rand(n_runs, 3, requires_grad=True) * 2 * L - L)\n",
    "    max_steps = 1000\n",
    "    sampled_Xs = []\n",
    "    rejection_ratio = 0\n",
    "\n",
    "    for i in tqdm(range(N)):\n",
    "        chose = torch.rand(n_runs).reshape(n_runs, 1)\n",
    "        dummy = torch.rand(n_runs)\n",
    "\n",
    "        perturbed_r1 = r1 + 0.5 * (torch.rand(n_runs, 3) * 2 * L - L)\n",
    "        perturbed_r2 = r2 + 0.5 * (torch.rand(n_runs, 3) * 2 * L - L)\n",
    "\n",
    "        r1_trial = torch.where(chose < 0.5, perturbed_r1, r1)\n",
    "        r2_trial = torch.where(chose >= 0.5, perturbed_r2, r2)\n",
    "        psi_val = psi_vec(torch.cat((r1, r2, alphas), axis=1))\n",
    "        psi_trial_val = psi_vec(torch.cat((r1_trial, r2_trial, alphas), axis=1))      \n",
    "        psi_ratio = psi_trial_val / psi_val\n",
    "\n",
    "        density_comp = psi_trial_val >= psi_val\n",
    "        dummy_comp = dummy < psi_ratio\n",
    "\n",
    "        condition = density_comp + dummy_comp\n",
    "\n",
    "        rejection_ratio += torch.where(condition, 1./N, 0.0)\n",
    "\n",
    "        condition = condition.reshape(condition.shape[0], 1)\n",
    "\n",
    "        # Careful with overwriting\n",
    "        r1 = torch.where(condition, r1_trial, r1)\n",
    "        r2 = torch.where(condition, r2_trial, r2)\n",
    "                \n",
    "        if i > max_steps:\n",
    "            sampled_Xs.append(torch.cat((r1, r2, alphas), axis=1))\n",
    "\n",
    "    return torch.stack(sampled_Xs)"
   ]
  },
  {
   "cell_type": "code",
   "execution_count": 7,
   "id": "81121059",
   "metadata": {},
   "outputs": [],
   "source": [
    "local_e_vec = vmap(local_energy)\n",
    "local_e_vec_vec = vmap(local_e_vec)\n",
    "\n",
    "def get_local_energies(X):\n",
    "    reshaped_X = X.reshape(\n",
    "        X.shape[1], X.shape[0], X.shape[2])\n",
    "    return local_e_vec_vec(reshaped_X)\n",
    "\n",
    "def get_mean_energies(E):\n",
    "    return torch.mean(E, dim=1)"
   ]
  },
  {
   "cell_type": "code",
   "execution_count": 8,
   "id": "f9a30834",
   "metadata": {},
   "outputs": [],
   "source": [
    "def dE_dalpha(input):\n",
    "    return jacrev(local_energy)(input)\n",
    "\n",
    "dE_dalpha_vec = vmap(dE_dalpha)\n",
    "dE_dalpha_vec_vec = vmap(dE_dalpha_vec)\n",
    "\n",
    "def get_dE_dX(X):\n",
    "    reshaped_X = X.reshape(\n",
    "        X.shape[1], X.shape[0], X.shape[2])\n",
    "    return dE_dalpha_vec_vec(X)"
   ]
  },
  {
   "cell_type": "code",
   "execution_count": 9,
   "id": "ac777f3a",
   "metadata": {},
   "outputs": [],
   "source": [
    "alpha_1 = torch.tensor(1.013, dtype=torch.float64, requires_grad=True) # 1.013\n",
    "alpha_2 = torch.tensor(0.2119, dtype=torch.float64, requires_grad=True)\n",
    "alpha_3 = torch.tensor(0.1406, dtype=torch.float64, requires_grad=True)\n",
    "alpha_4 = torch.tensor(0.003, dtype=torch.float64, requires_grad=True)"
   ]
  },
  {
   "cell_type": "code",
   "execution_count": 11,
   "id": "d5bf74e7",
   "metadata": {},
   "outputs": [],
   "source": [
    "device = torch.device(\"cuda\")\n",
    "cpu = torch.device(\"cpu\")"
   ]
  },
  {
   "cell_type": "markdown",
   "id": "9d15d5d9",
   "metadata": {},
   "source": [
    "## Start of simulation"
   ]
  },
  {
   "cell_type": "code",
   "execution_count": 65,
   "id": "6b232e03",
   "metadata": {},
   "outputs": [
    {
     "name": "stderr",
     "output_type": "stream",
     "text": [
      "100%|██████████| 10000/10000 [00:11<00:00, 842.02it/s]\n"
     ]
    }
   ],
   "source": [
    "n_steps = 5\n",
    "alphas = torch.tensor([alpha_1, alpha_2, alpha_3, alpha_4]).unsqueeze(0).repeat(n_steps, 1)\n",
    "sampled_Xs = metropolis(10000, n_steps, alphas=alphas)"
   ]
  },
  {
   "cell_type": "code",
   "execution_count": 66,
   "id": "45294453",
   "metadata": {},
   "outputs": [],
   "source": [
    "sampled_Xs_gpu = sampled_Xs.clone().to(device)"
   ]
  },
  {
   "cell_type": "code",
   "execution_count": 62,
   "id": "7045561a",
   "metadata": {},
   "outputs": [],
   "source": [
    "torch.cuda.empty_cache()"
   ]
  },
  {
   "cell_type": "code",
   "execution_count": 67,
   "id": "ba9afae9",
   "metadata": {},
   "outputs": [
    {
     "name": "stdout",
     "output_type": "stream",
     "text": [
      "Mean energy is -2.82495855652202\n"
     ]
    }
   ],
   "source": [
    "E = get_local_energies(sampled_Xs_gpu)\n",
    "mean_E = get_mean_energies(E.to(cpu))\n",
    "print(f\"Mean energy is {torch.mean(torch.mean(E, axis=1))}\")"
   ]
  },
  {
   "cell_type": "code",
   "execution_count": 68,
   "id": "43f8b4fd",
   "metadata": {},
   "outputs": [],
   "source": [
    "gradients = get_dE_dX(sampled_Xs)"
   ]
  },
  {
   "cell_type": "code",
   "execution_count": 69,
   "id": "5ea524bc",
   "metadata": {},
   "outputs": [
    {
     "data": {
      "text/plain": [
       "torch.Size([8999, 5, 10])"
      ]
     },
     "execution_count": 69,
     "metadata": {},
     "output_type": "execute_result"
    }
   ],
   "source": [
    "gradients.shape"
   ]
  },
  {
   "cell_type": "markdown",
   "id": "9a547600",
   "metadata": {},
   "source": [
    "Energy value should be −2.901188\n",
    "\n",
    "The actual value is −2.9037243770"
   ]
  },
  {
   "cell_type": "code",
   "execution_count": 70,
   "id": "87787b0d",
   "metadata": {},
   "outputs": [],
   "source": [
    "true_value = -2.9037243770"
   ]
  },
  {
   "cell_type": "code",
   "execution_count": 72,
   "id": "e6373e04",
   "metadata": {},
   "outputs": [],
   "source": [
    "import math"
   ]
  },
  {
   "cell_type": "code",
   "execution_count": 89,
   "id": "c212864f",
   "metadata": {},
   "outputs": [
    {
     "data": {
      "text/plain": [
       "torch.Size([8999, 5, 10])"
      ]
     },
     "execution_count": 89,
     "metadata": {},
     "output_type": "execute_result"
    }
   ],
   "source": [
    "gradients.shape"
   ]
  },
  {
   "cell_type": "code",
   "execution_count": 95,
   "id": "1208c992",
   "metadata": {},
   "outputs": [],
   "source": [
    "gradients_ = torch.mean(torch.mean(gradients, axis=0), axis=0)[6:]"
   ]
  },
  {
   "cell_type": "code",
   "execution_count": 98,
   "id": "e0f3ad4a",
   "metadata": {},
   "outputs": [
    {
     "data": {
      "text/plain": [
       "tensor([-0.0080,  0.0429,  0.0155, -0.0305], dtype=torch.float64)"
      ]
     },
     "execution_count": 98,
     "metadata": {},
     "output_type": "execute_result"
    }
   ],
   "source": [
    "gradients_.detach()"
   ]
  },
  {
   "cell_type": "code",
   "execution_count": null,
   "id": "d3904007",
   "metadata": {},
   "outputs": [],
   "source": [
    "# Naive approach - define loss as true energy - found energy\n",
    "\n",
    "epochs = 50\n",
    "\n",
    "for i in range(epochs):\n",
    "\n",
    "    # Step 5: Zero gradients (as usual in PyTorch)\n",
    "    \n",
    "    alphas = [alpha_1, alpha_2, alpha_3, alpha_4]\n",
    "\n",
    "    # Step 2: Create Adam optimizer\n",
    "    optimizer = torch.optim.Adam(alphas, lr=0.01)\n",
    "\n",
    "    # Now, assume you already have gradients computed externally:\n",
    "    # Example: for step t, these are your gradients (replace with actual values)\n",
    "    external_grads = gradients_.detach()\n",
    "\n",
    "    # Step 3: Assign gradients manually\n",
    "    for p, g in zip(alphas, external_grads):\n",
    "        p.grad = g  # assign your externally computed gradient\n",
    "\n",
    "    # Step 4: Optimizer step\n",
    "    optimizer.step()\n",
    "    #optimizer.zero_grad()\n",
    "\n",
    "\n"
   ]
  },
  {
   "cell_type": "code",
   "execution_count": 109,
   "id": "888e7b57",
   "metadata": {},
   "outputs": [
    {
     "data": {
      "text/plain": [
       "tensor(-0.0305, dtype=torch.float64)"
      ]
     },
     "execution_count": 109,
     "metadata": {},
     "output_type": "execute_result"
    }
   ],
   "source": [
    "alpha_4.grad"
   ]
  },
  {
   "cell_type": "code",
   "execution_count": 106,
   "id": "177295f4",
   "metadata": {},
   "outputs": [
    {
     "data": {
      "text/plain": [
       "tensor([-0.0080,  0.0429,  0.0155, -0.0305], dtype=torch.float64)"
      ]
     },
     "execution_count": 106,
     "metadata": {},
     "output_type": "execute_result"
    }
   ],
   "source": [
    "external_grads"
   ]
  },
  {
   "cell_type": "markdown",
   "id": "7ce6ff3b",
   "metadata": {},
   "source": [
    "## Gradient values"
   ]
  },
  {
   "cell_type": "code",
   "execution_count": 34,
   "id": "7af58e75",
   "metadata": {},
   "outputs": [],
   "source": [
    "def dE_dalpha(input):\n",
    "    return jacrev(local_energy)(input)\n",
    "\n",
    "t = dE_dalpha_vec(torch.stack(inputs_arr[0]))"
   ]
  },
  {
   "cell_type": "code",
   "execution_count": 72,
   "id": "4a8a808c",
   "metadata": {},
   "outputs": [],
   "source": [
    "dE_dalpha_mean = torch.mean(t, axis=0)"
   ]
  },
  {
   "cell_type": "code",
   "execution_count": 36,
   "id": "fc628ca9",
   "metadata": {},
   "outputs": [],
   "source": [
    "psi_vmap = vmap(psi)"
   ]
  },
  {
   "cell_type": "code",
   "execution_count": 38,
   "id": "673d69a7",
   "metadata": {},
   "outputs": [],
   "source": [
    "psi_values = psi_vmap(torch.stack(inputs_arr[0]))"
   ]
  },
  {
   "cell_type": "code",
   "execution_count": 61,
   "id": "9ad60892",
   "metadata": {},
   "outputs": [],
   "source": [
    "mean_energy = sum(energies[0])/(len(energies[0]))"
   ]
  },
  {
   "cell_type": "code",
   "execution_count": 63,
   "id": "236e0ab6",
   "metadata": {},
   "outputs": [],
   "source": [
    "El_Etheta = energies[0] - mean_energy"
   ]
  },
  {
   "cell_type": "code",
   "execution_count": 65,
   "id": "c949bd49",
   "metadata": {},
   "outputs": [],
   "source": [
    "mean_psi = torch.mean(psi_values)"
   ]
  },
  {
   "cell_type": "code",
   "execution_count": 73,
   "id": "0863c591",
   "metadata": {},
   "outputs": [
    {
     "data": {
      "text/plain": [
       "torch.Size([10])"
      ]
     },
     "execution_count": 73,
     "metadata": {},
     "output_type": "execute_result"
    }
   ],
   "source": [
    "dE_dalpha_mean.shape"
   ]
  },
  {
   "cell_type": "code",
   "execution_count": 86,
   "id": "9541751e",
   "metadata": {},
   "outputs": [
    {
     "data": {
      "text/plain": [
       "torch.Size([10])"
      ]
     },
     "execution_count": 86,
     "metadata": {},
     "output_type": "execute_result"
    }
   ],
   "source": [
    "t[0].shape"
   ]
  },
  {
   "cell_type": "code",
   "execution_count": 89,
   "id": "016a8b00",
   "metadata": {},
   "outputs": [
    {
     "data": {
      "text/plain": [
       "torch.Size([9500])"
      ]
     },
     "execution_count": 89,
     "metadata": {},
     "output_type": "execute_result"
    }
   ],
   "source": [
    "psi_values.shape"
   ]
  },
  {
   "cell_type": "code",
   "execution_count": 92,
   "id": "3befeb0a",
   "metadata": {},
   "outputs": [],
   "source": [
    "psi_dalph = torch.stack([psi_values[i] * t[i] for i in range(len(t))])"
   ]
  },
  {
   "cell_type": "code",
   "execution_count": 97,
   "id": "f7ce5b2f",
   "metadata": {},
   "outputs": [
    {
     "data": {
      "text/plain": [
       "torch.Size([9500, 10])"
      ]
     },
     "execution_count": 97,
     "metadata": {},
     "output_type": "execute_result"
    }
   ],
   "source": [
    "psi_dalph.shape"
   ]
  },
  {
   "cell_type": "code",
   "execution_count": 98,
   "id": "d083d2d4",
   "metadata": {},
   "outputs": [
    {
     "data": {
      "text/plain": [
       "torch.Size([10])"
      ]
     },
     "execution_count": 98,
     "metadata": {},
     "output_type": "execute_result"
    }
   ],
   "source": [
    "dE_dalpha_mean.shape"
   ]
  },
  {
   "cell_type": "code",
   "execution_count": 95,
   "id": "36378e26",
   "metadata": {},
   "outputs": [
    {
     "data": {
      "text/plain": [
       "tensor(0.0207, dtype=torch.float64, grad_fn=<MeanBackward0>)"
      ]
     },
     "execution_count": 95,
     "metadata": {},
     "output_type": "execute_result"
    }
   ],
   "source": [
    "mean_psi"
   ]
  },
  {
   "cell_type": "code",
   "execution_count": 77,
   "id": "c80f39eb",
   "metadata": {},
   "outputs": [
    {
     "data": {
      "text/plain": [
       "torch.Size([9500, 10])"
      ]
     },
     "execution_count": 77,
     "metadata": {},
     "output_type": "execute_result"
    }
   ],
   "source": [
    "t.shape"
   ]
  },
  {
   "cell_type": "code",
   "execution_count": 111,
   "id": "84d9a555",
   "metadata": {},
   "outputs": [],
   "source": [
    "a = psi_values.unsqueeze(1).repeat(1, 10) * t"
   ]
  },
  {
   "cell_type": "code",
   "execution_count": 110,
   "id": "afb6ba3b",
   "metadata": {},
   "outputs": [],
   "source": [
    "b = (mean_psi * dE_dalpha_mean).unsqueeze(0).repeat(9500, 1)"
   ]
  },
  {
   "cell_type": "code",
   "execution_count": 119,
   "id": "01eb27cf",
   "metadata": {},
   "outputs": [],
   "source": [
    "c = (energies[0] - mean_energy).unsqueeze(1).repeat(1, 10)"
   ]
  },
  {
   "cell_type": "code",
   "execution_count": 115,
   "id": "c54710ec",
   "metadata": {},
   "outputs": [
    {
     "data": {
      "text/plain": [
       "torch.Size([])"
      ]
     },
     "execution_count": 115,
     "metadata": {},
     "output_type": "execute_result"
    }
   ],
   "source": [
    "mean_energy.shape"
   ]
  },
  {
   "cell_type": "code",
   "execution_count": 120,
   "id": "4fd1249d",
   "metadata": {},
   "outputs": [],
   "source": [
    "gradients = (a - b) * (c)"
   ]
  },
  {
   "cell_type": "code",
   "execution_count": 124,
   "id": "ec6e08f1",
   "metadata": {},
   "outputs": [
    {
     "data": {
      "text/plain": [
       "tensor([ 0.0652,  0.4838,  0.4329,  0.0146,  0.1017,  0.0883,  0.0167, -0.0222,\n",
       "        -0.0307,  0.0271], dtype=torch.float64, grad_fn=<MeanBackward1>)"
      ]
     },
     "execution_count": 124,
     "metadata": {},
     "output_type": "execute_result"
    }
   ],
   "source": [
    "torch.mean(gradients, axis=0)"
   ]
  },
  {
   "cell_type": "code",
   "execution_count": 52,
   "id": "0d47368b",
   "metadata": {},
   "outputs": [
    {
     "data": {
      "text/plain": [
       "tensor(-1.6312, dtype=torch.float64, grad_fn=<SelectBackward0>)"
      ]
     },
     "execution_count": 52,
     "metadata": {},
     "output_type": "execute_result"
    }
   ],
   "source": [
    "energies[0][1]"
   ]
  },
  {
   "cell_type": "code",
   "execution_count": 53,
   "id": "f7f23a65",
   "metadata": {},
   "outputs": [],
   "source": [
    "E_fixed = [energies[0][i] / psi_values[i] for i in range(len(inputs_arr[0]))]"
   ]
  },
  {
   "cell_type": "code",
   "execution_count": 55,
   "id": "4a25ea1d",
   "metadata": {},
   "outputs": [
    {
     "data": {
      "text/plain": [
       "tensor(-2546.7772, dtype=torch.float64, grad_fn=<MeanBackward0>)"
      ]
     },
     "execution_count": 55,
     "metadata": {},
     "output_type": "execute_result"
    }
   ],
   "source": [
    "torch.mean(torch.stack(E_fixed))"
   ]
  }
 ],
 "metadata": {
  "kernelspec": {
   "display_name": "pytorch_gpu",
   "language": "python",
   "name": "python3"
  },
  "language_info": {
   "codemirror_mode": {
    "name": "ipython",
    "version": 3
   },
   "file_extension": ".py",
   "mimetype": "text/x-python",
   "name": "python",
   "nbconvert_exporter": "python",
   "pygments_lexer": "ipython3",
   "version": "3.12.3"
  }
 },
 "nbformat": 4,
 "nbformat_minor": 5
}
