{
 "cells": [
  {
   "cell_type": "code",
   "execution_count": 1,
   "id": "a31561eb",
   "metadata": {},
   "outputs": [],
   "source": [
    "import torch\n",
    "import numpy as np\n",
    "from tqdm import tqdm\n",
    "from analytical_expressions import local_energy\n",
    "from torch.autograd.functional import jacobian\n",
    "from torch.func import jacrev\n",
    "import matplotlib.pyplot as plt\n",
    "from torch.func import vmap"
   ]
  },
  {
   "cell_type": "code",
   "execution_count": 67,
   "id": "1012fd08",
   "metadata": {},
   "outputs": [
    {
     "name": "stdout",
     "output_type": "stream",
     "text": [
      "The autoreload extension is already loaded. To reload it, use:\n",
      "  %reload_ext autoreload\n"
     ]
    }
   ],
   "source": [
    "%load_ext autoreload\n",
    "%autoreload 2"
   ]
  },
  {
   "cell_type": "code",
   "execution_count": 3,
   "id": "06526d9d",
   "metadata": {},
   "outputs": [],
   "source": [
    "def psi(X):\n",
    "    x = X[:3]\n",
    "    y = X[3:6]\n",
    "    alpha_1, alpha_2, alpha_3, alpha_4 = X[6:]\n",
    "    r1 = torch.norm(x)\n",
    "    r2 = torch.norm(y)\n",
    "    r12 = torch.norm(x - y)\n",
    "\n",
    "    term1 = torch.exp(-2 * (r1 + r2))\n",
    "    term2 = 1 + 0.5 * r12 * torch.exp(-alpha_1 * r12)\n",
    "    term3 = 1 + alpha_2 * (r1 + r2) * r12 + alpha_3 * (r1 - r2) ** 2 - alpha_4 * (r12) ** 2\n",
    "\n",
    "    return term1 * term2 * term3"
   ]
  },
  {
   "cell_type": "code",
   "execution_count": 4,
   "id": "0704f13e",
   "metadata": {},
   "outputs": [],
   "source": [
    "psi_vec = vmap(psi)"
   ]
  },
  {
   "cell_type": "code",
   "execution_count": 90,
   "id": "d6f7a445",
   "metadata": {},
   "outputs": [],
   "source": [
    "def metropolis(N: int, n_runs: int, alphas: torch.tensor):  \n",
    "    \"\"\"\n",
    "    Vectorized metropolis loop\n",
    "    Over N steps, for n_runs. \n",
    "    Alphas passes in must be of same dim as n_runs\n",
    "    \"\"\"  \n",
    "    assert alphas.shape[0] == n_runs        \n",
    "    L = 1\n",
    "    r1 = (torch.rand(n_runs, 3) * 2 * L - L)\n",
    "    r2 = (torch.rand(n_runs, 3) * 2 * L - L)\n",
    "    max_steps = 500\n",
    "    sampled_Xs = []\n",
    "    rejection_ratio = 0\n",
    "\n",
    "    for i in tqdm(range(N)):\n",
    "        chose = torch.rand(n_runs).reshape(n_runs, 1)\n",
    "        dummy = torch.rand(n_runs)\n",
    "\n",
    "        perturbed_r1 = r1 + 0.5 * (torch.rand(n_runs, 3) * 2 * L - L)\n",
    "        perturbed_r2 = r2 + 0.5 * (torch.rand(n_runs, 3) * 2 * L - L)\n",
    "\n",
    "        r1_trial = torch.where(chose < 0.5, perturbed_r1, r1)\n",
    "        r2_trial = torch.where(chose >= 0.5, perturbed_r2, r2)\n",
    "        psi_val = psi_vec(torch.cat((r1, r2, alphas), axis=1))\n",
    "        psi_trial_val = psi_vec(torch.cat((r1_trial, r2_trial, alphas), axis=1))      \n",
    "        \n",
    "        psi_ratio = (psi_trial_val / psi_val) ** 2\n",
    "\n",
    "        #density_comp = psi_trial_val >= psi_val\n",
    "        dummy_comp = dummy < psi_ratio\n",
    "\n",
    "        condition = dummy_comp\n",
    "\n",
    "        rejection_ratio += torch.where(condition, 1./N, 0.0)\n",
    "\n",
    "        condition = condition.reshape(condition.shape[0], 1)\n",
    "\n",
    "        # Careful with overwriting\n",
    "        r1 = torch.where(condition, r1_trial, r1)\n",
    "        r2 = torch.where(condition, r2_trial, r2)\n",
    "                \n",
    "        if i > max_steps:\n",
    "            sampled_Xs.append(torch.cat((r1, r2, alphas), axis=1))\n",
    "\n",
    "    #print(f\"Rejection ratio is {torch.mean(rejection_ratio)}\")\n",
    "\n",
    "    return torch.stack(sampled_Xs)"
   ]
  },
  {
   "cell_type": "code",
   "execution_count": 6,
   "id": "81121059",
   "metadata": {},
   "outputs": [],
   "source": [
    "local_e_vec = vmap(local_energy)\n",
    "local_e_vec_vec = vmap(local_e_vec)\n",
    "\n",
    "def get_local_energies(X):\n",
    "    reshaped_X = X.reshape(\n",
    "        X.shape[1], X.shape[0], X.shape[2])\n",
    "    return local_e_vec_vec(reshaped_X)\n",
    "\n",
    "def get_mean_energies(E):\n",
    "    return torch.mean(torch.mean(E, dim=1))"
   ]
  },
  {
   "cell_type": "code",
   "execution_count": 7,
   "id": "f9a30834",
   "metadata": {},
   "outputs": [],
   "source": [
    "def dE_dalpha(input):\n",
    "    return jacrev(local_energy)(input)\n",
    "\n",
    "dE_dalpha_vec = vmap(dE_dalpha)\n",
    "dE_dalpha_vec_vec = vmap(dE_dalpha_vec)\n",
    "\n",
    "def get_dE_dX(X):\n",
    "    reshaped_X = X.reshape(\n",
    "        X.shape[1], X.shape[0], X.shape[2])\n",
    "    return dE_dalpha_vec_vec(X)"
   ]
  },
  {
   "cell_type": "code",
   "execution_count": 8,
   "id": "93c28601",
   "metadata": {},
   "outputs": [],
   "source": [
    "from gradient_expressions import get_psi_alpha\n",
    "\n",
    "def get_gradients_from_expression(X_, E_):\n",
    "    psi_alpha = vmap(get_psi_alpha)(X_)\n",
    "\n",
    "    part_1 = psi_alpha - torch.mean(psi_alpha, axis=0)\n",
    "    part_2 = E_ - torch.mean(E_)\n",
    "    return torch.mean(part_1.T * part_2, axis=1)\n",
    "\n",
    "dE_dalpha = vmap(get_gradients_from_expression)"
   ]
  },
  {
   "cell_type": "code",
   "execution_count": 9,
   "id": "ac777f3a",
   "metadata": {},
   "outputs": [],
   "source": [
    "alpha_1 = torch.tensor(1.013, dtype=torch.float64, requires_grad=True) # 1.013\n",
    "alpha_2 = torch.tensor(0.2119, dtype=torch.float64, requires_grad=True)\n",
    "alpha_3 = torch.tensor(0.1406, dtype=torch.float64, requires_grad=True)\n",
    "alpha_4 = torch.tensor(0.003, dtype=torch.float64, requires_grad=True)"
   ]
  },
  {
   "cell_type": "code",
   "execution_count": 10,
   "id": "d5bf74e7",
   "metadata": {},
   "outputs": [],
   "source": [
    "device = torch.device(\"cuda\")\n",
    "cpu = torch.device(\"cpu\")"
   ]
  },
  {
   "cell_type": "code",
   "execution_count": 11,
   "id": "274bb960",
   "metadata": {},
   "outputs": [],
   "source": [
    "def running_average(tensor, window_size=None):\n",
    "    cumsum = torch.cumsum(tensor, dim=0)\n",
    "    if window_size is None:\n",
    "        # For the full running average (over all elements)\n",
    "        return cumsum / torch.arange(1, len(tensor) + 1, device=tensor.device, dtype=torch.float32)\n",
    "    else:\n",
    "        # For a moving average with a fixed window size\n",
    "        window = torch.ones(window_size, device=tensor.device)\n",
    "        conv = torch.conv1d(tensor.unsqueeze(0).unsqueeze(0), window.unsqueeze(0).unsqueeze(0), padding=window_size//2)\n",
    "        return conv.squeeze(0).squeeze(0)"
   ]
  },
  {
   "cell_type": "markdown",
   "id": "9d15d5d9",
   "metadata": {},
   "source": [
    "## Start of simulation"
   ]
  },
  {
   "cell_type": "code",
   "execution_count": 35,
   "id": "0ef97886",
   "metadata": {},
   "outputs": [],
   "source": [
    "alpha_1 = torch.tensor(1.013, dtype=torch.float64) # 1.013\n",
    "alpha_2 = torch.tensor(0.2119, dtype=torch.float64)\n",
    "alpha_3 = torch.tensor(0.1406, dtype=torch.float64)\n",
    "alpha_4 = torch.tensor(0.003, dtype=torch.float64)"
   ]
  },
  {
   "cell_type": "code",
   "execution_count": 94,
   "id": "0cebb066",
   "metadata": {},
   "outputs": [],
   "source": [
    "# 0.3179964342040217, 0.6369025899593485, 0.31560557457338256, 0.8160023001847517\n",
    "# tensor(1.0066, dtype=torch.float64), tensor(0.2158, dtype=torch.float64), tensor(0.1529, dtype=torch.float64), tensor(0.0154, dtype=torch.float64)]\n",
    "alpha_1 = torch.tensor(1.0066, dtype=torch.float64) # 1.013\n",
    "alpha_2 = torch.tensor(0.2158, dtype=torch.float64)\n",
    "alpha_3 = torch.tensor(0.1529, dtype=torch.float64)\n",
    "alpha_4 = torch.tensor(0.0154, dtype=torch.float64)"
   ]
  },
  {
   "cell_type": "code",
   "execution_count": 97,
   "id": "6b232e03",
   "metadata": {},
   "outputs": [
    {
     "name": "stderr",
     "output_type": "stream",
     "text": [
      "100%|██████████| 5000/5000 [00:04<00:00, 1143.36it/s]\n"
     ]
    }
   ],
   "source": [
    "n_steps = 50\n",
    "mc_steps = 5000\n",
    "alphas = torch.tensor([alpha_1, alpha_2, alpha_3, alpha_4]).unsqueeze(0).repeat(n_steps, 1)\n",
    "sampled_Xs = metropolis(mc_steps, n_steps, alphas=alphas)"
   ]
  },
  {
   "cell_type": "code",
   "execution_count": 98,
   "id": "ba9afae9",
   "metadata": {},
   "outputs": [
    {
     "name": "stdout",
     "output_type": "stream",
     "text": [
      "Mean energy is -2.9078616643735042\n"
     ]
    }
   ],
   "source": [
    "E = get_local_energies(sampled_Xs.to(device))\n",
    "mean_E = get_mean_energies(E.to(cpu))\n",
    "print(f\"Mean energy is {torch.mean(torch.mean(E, axis=1))}\")"
   ]
  },
  {
   "cell_type": "code",
   "execution_count": 50,
   "id": "d4147e41",
   "metadata": {},
   "outputs": [],
   "source": [
    "reshaped_X = sampled_Xs.reshape(\n",
    "        sampled_Xs.shape[1], sampled_Xs.shape[0], sampled_Xs.shape[2])"
   ]
  },
  {
   "cell_type": "code",
   "execution_count": 56,
   "id": "1d36c449",
   "metadata": {},
   "outputs": [],
   "source": [
    "def get_energy(X):\n",
    "    ke = -0.5  * torch.sum(torch.diag(torch.autograd.functional.hessian(psi, X))[:6]) / psi(X)\n",
    "    r1 = X[:3]\n",
    "    r2 = X[3:6]\n",
    "\n",
    "    potential = -2 / torch.norm(r1) - 2 / torch.norm(r2) + 1 / torch.norm(r1 - r2)\n",
    "\n",
    "    return (ke + potential)\n"
   ]
  },
  {
   "cell_type": "code",
   "execution_count": 57,
   "id": "f8b749fd",
   "metadata": {},
   "outputs": [
    {
     "name": "stderr",
     "output_type": "stream",
     "text": [
      "100%|██████████| 4499/4499 [00:43<00:00, 104.22it/s]\n"
     ]
    }
   ],
   "source": [
    "# Verifying local energy using Hessian\n",
    "E_es = []\n",
    "\n",
    "for i in tqdm(reshaped_X[0]):\n",
    "    E_es.append(get_energy(i))"
   ]
  },
  {
   "cell_type": "code",
   "execution_count": 58,
   "id": "1a000b15",
   "metadata": {},
   "outputs": [
    {
     "data": {
      "text/plain": [
       "tensor(-2.5288, dtype=torch.float64)"
      ]
     },
     "execution_count": 58,
     "metadata": {},
     "output_type": "execute_result"
    }
   ],
   "source": [
    "torch.mean(torch.stack(E_es).detach())"
   ]
  },
  {
   "cell_type": "code",
   "execution_count": 356,
   "id": "3374bf7e",
   "metadata": {},
   "outputs": [
    {
     "data": {
      "text/plain": [
       "tensor(-3.1468, device='cuda:0', dtype=torch.float64)"
      ]
     },
     "execution_count": 356,
     "metadata": {},
     "output_type": "execute_result"
    }
   ],
   "source": [
    "torch.mean(E[0])"
   ]
  },
  {
   "cell_type": "code",
   "execution_count": 336,
   "id": "22348ca0",
   "metadata": {},
   "outputs": [
    {
     "data": {
      "text/plain": [
       "tensor(-3.1404, dtype=torch.float64)"
      ]
     },
     "execution_count": 336,
     "metadata": {},
     "output_type": "execute_result"
    }
   ],
   "source": [
    "E/10000"
   ]
  },
  {
   "cell_type": "code",
   "execution_count": 272,
   "id": "e2e350a0",
   "metadata": {},
   "outputs": [],
   "source": [
    "cumulative_average_energy = running_average(torch.mean(E, axis=0))"
   ]
  },
  {
   "cell_type": "code",
   "execution_count": 273,
   "id": "ad01b3e1",
   "metadata": {},
   "outputs": [
    {
     "data": {
      "text/plain": [
       "tensor([-2.6816, -2.8029, -2.7848,  ..., -2.8941, -2.8941, -2.8940],\n",
       "       dtype=torch.float64)"
      ]
     },
     "execution_count": 273,
     "metadata": {},
     "output_type": "execute_result"
    }
   ],
   "source": [
    "cumulative_average_energy"
   ]
  },
  {
   "cell_type": "code",
   "execution_count": 274,
   "id": "8146e02a",
   "metadata": {},
   "outputs": [
    {
     "data": {
      "text/plain": [
       "[<matplotlib.lines.Line2D at 0x24dbc9441d0>]"
      ]
     },
     "execution_count": 274,
     "metadata": {},
     "output_type": "execute_result"
    },
    {
     "data": {
      "image/png": "[encoded data removed]",
      "text/plain": [
       "<Figure size 640x480 with 1 Axes>"
      ]
     },
     "metadata": {},
     "output_type": "display_data"
    }
   ],
   "source": [
    "plt.plot(cumulative_average_energy)"
   ]
  },
  {
   "cell_type": "code",
   "execution_count": 243,
   "id": "55fff58b",
   "metadata": {},
   "outputs": [],
   "source": [
    "E = E.to(cpu)"
   ]
  },
  {
   "cell_type": "code",
   "execution_count": 244,
   "id": "0fe151bd",
   "metadata": {},
   "outputs": [
    {
     "data": {
      "text/plain": [
       "tensor(0.0209, dtype=torch.float64)"
      ]
     },
     "execution_count": 244,
     "metadata": {},
     "output_type": "execute_result"
    }
   ],
   "source": [
    "# Variance in random walkers mean energy\n",
    "torch.mean((torch.mean(E.to(cpu), axis=1) - mean_E) ** 2)"
   ]
  },
  {
   "cell_type": "code",
   "execution_count": 245,
   "id": "bfed0dc1",
   "metadata": {},
   "outputs": [],
   "source": [
    "mean_E_trial = torch.mean(E[0])"
   ]
  },
  {
   "cell_type": "code",
   "execution_count": 246,
   "id": "3a665933",
   "metadata": {},
   "outputs": [],
   "source": [
    "var_E_trial = torch.mean((E[0] - mean_E_trial) ** 2)"
   ]
  },
  {
   "cell_type": "code",
   "execution_count": 247,
   "id": "d85a2752",
   "metadata": {},
   "outputs": [
    {
     "data": {
      "text/plain": [
       "tensor(2.3716, dtype=torch.float64)"
      ]
     },
     "execution_count": 247,
     "metadata": {},
     "output_type": "execute_result"
    }
   ],
   "source": [
    "var_E_trial"
   ]
  },
  {
   "cell_type": "code",
   "execution_count": 199,
   "id": "43f8b4fd",
   "metadata": {},
   "outputs": [],
   "source": [
    "gradients = get_dE_dX(sampled_Xs)"
   ]
  },
  {
   "cell_type": "code",
   "execution_count": 200,
   "id": "5ea524bc",
   "metadata": {},
   "outputs": [
    {
     "data": {
      "text/plain": [
       "torch.Size([197999, 10, 10])"
      ]
     },
     "execution_count": 200,
     "metadata": {},
     "output_type": "execute_result"
    }
   ],
   "source": [
    "gradients.shape"
   ]
  },
  {
   "cell_type": "code",
   "execution_count": null,
   "id": "b731a700",
   "metadata": {},
   "outputs": [
    {
     "ename": "IndexError",
     "evalue": "too many indices for tensor of dimension 2",
     "output_type": "error",
     "traceback": [
      "\u001b[1;31m---------------------------------------------------------------------------\u001b[0m",
      "\u001b[1;31mIndexError\u001b[0m                                Traceback (most recent call last)",
      "Cell \u001b[1;32mIn[205], line 1\u001b[0m\n\u001b[1;32m----> 1\u001b[0m \u001b[43mgradients\u001b[49m\u001b[43m[\u001b[49m\u001b[43m:\u001b[49m\u001b[43m,\u001b[49m\u001b[38;5;241;43m6\u001b[39;49m\u001b[43m:\u001b[49m\u001b[43m,\u001b[49m\u001b[38;5;241;43m0\u001b[39;49m\u001b[43m]\u001b[49m\n",
      "\u001b[1;31mIndexError\u001b[0m: too many indices for tensor of dimension 2"
     ]
    }
   ],
   "source": [
    "gradients[:,,0]"
   ]
  },
  {
   "cell_type": "code",
   "execution_count": null,
   "id": "e06ea881",
   "metadata": {},
   "outputs": [],
   "source": [
    "gradients = dE_dalpha(reshaped_X, E)"
   ]
  },
  {
   "cell_type": "code",
   "execution_count": 204,
   "id": "d6a2b5db",
   "metadata": {},
   "outputs": [
    {
     "data": {
      "text/plain": [
       "tensor([[ 0.0200,  0.9286, -0.3509,  0.0442],\n",
       "        [ 0.0192,  0.9276, -0.3715,  0.0441],\n",
       "        [ 0.0197,  0.9357, -0.3774,  0.0445],\n",
       "        [ 0.0202,  0.9328, -0.4052,  0.0444],\n",
       "        [ 0.0185,  0.9524, -0.3745,  0.0402],\n",
       "        [ 0.0193,  0.9448, -0.3588,  0.0458],\n",
       "        [ 0.0196,  0.9282, -0.3814,  0.0436],\n",
       "        [ 0.0191,  0.9400, -0.3920,  0.0426],\n",
       "        [ 0.0193,  0.9328, -0.3661,  0.0448],\n",
       "        [ 0.0194,  0.9308, -0.3764,  0.0435]], dtype=torch.float64)"
      ]
     },
     "execution_count": 204,
     "metadata": {},
     "output_type": "execute_result"
    }
   ],
   "source": [
    "gradients"
   ]
  },
  {
   "cell_type": "code",
   "execution_count": 202,
   "id": "b8ce9187",
   "metadata": {},
   "outputs": [],
   "source": [
    "reshaped_X = sampled_Xs.reshape(\n",
    "        sampled_Xs.shape[1], sampled_Xs.shape[0], sampled_Xs.shape[2])"
   ]
  },
  {
   "cell_type": "markdown",
   "id": "9a547600",
   "metadata": {},
   "source": [
    "Energy value should be −2.901188\n",
    "\n",
    "The actual value is −2.9037243770"
   ]
  },
  {
   "cell_type": "markdown",
   "id": "8313238f",
   "metadata": {},
   "source": [
    "## Optimization loop"
   ]
  },
  {
   "cell_type": "code",
   "execution_count": 27,
   "id": "e6373e04",
   "metadata": {},
   "outputs": [],
   "source": [
    "import math"
   ]
  },
  {
   "cell_type": "code",
   "execution_count": 28,
   "id": "769fd0df",
   "metadata": {},
   "outputs": [],
   "source": [
    "E_true = -2.9037243770"
   ]
  },
  {
   "cell_type": "code",
   "execution_count": 104,
   "id": "dda49d74",
   "metadata": {},
   "outputs": [],
   "source": [
    "alpha_1 = torch.tensor(0.9827, dtype=torch.float64, requires_grad=True) # 1.013\n",
    "alpha_2 = torch.tensor(0.2789, dtype=torch.float64, requires_grad=True) # 0.2119\n",
    "alpha_3 = torch.tensor(0.2004, dtype=torch.float64, requires_grad=True) # 0.1406\n",
    "alpha_4 = torch.tensor(0.0603, dtype=torch.float64, requires_grad=True) # 0.003"
   ]
  },
  {
   "cell_type": "code",
   "execution_count": 31,
   "id": "b7f94beb",
   "metadata": {},
   "outputs": [],
   "source": [
    "device = torch.device(\"cuda\")\n",
    "cpu = torch.device(\"cpu\")"
   ]
  },
  {
   "cell_type": "code",
   "execution_count": null,
   "id": "d3904007",
   "metadata": {},
   "outputs": [
    {
     "name": "stderr",
     "output_type": "stream",
     "text": [
      "100%|██████████| 10000/10000 [00:09<00:00, 1101.65it/s]\n"
     ]
    },
    {
     "name": "stdout",
     "output_type": "stream",
     "text": [
      "Mean energy is -2.925645832073964\n",
      "Loss is 0.021921455073963703\n"
     ]
    },
    {
     "name": "stderr",
     "output_type": "stream",
     "text": [
      " 22%|██▏       | 2238/10000 [00:02<00:07, 1068.50it/s]\n"
     ]
    },
    {
     "ename": "KeyboardInterrupt",
     "evalue": "",
     "output_type": "error",
     "traceback": [
      "\u001b[1;31m---------------------------------------------------------------------------\u001b[0m",
      "\u001b[1;31mKeyboardInterrupt\u001b[0m                         Traceback (most recent call last)",
      "Cell \u001b[1;32mIn[107], line 13\u001b[0m\n\u001b[0;32m     10\u001b[0m \u001b[38;5;28;01mfor\u001b[39;00m i \u001b[38;5;129;01min\u001b[39;00m \u001b[38;5;28mrange\u001b[39m(epochs):\n\u001b[0;32m     12\u001b[0m     alphas_metropolis \u001b[38;5;241m=\u001b[39m torch\u001b[38;5;241m.\u001b[39mtensor(alphas)\u001b[38;5;241m.\u001b[39munsqueeze(\u001b[38;5;241m0\u001b[39m)\u001b[38;5;241m.\u001b[39mrepeat(n_walkers, \u001b[38;5;241m1\u001b[39m)\n\u001b[1;32m---> 13\u001b[0m     sampled_Xs \u001b[38;5;241m=\u001b[39m \u001b[43mmetropolis\u001b[49m\u001b[43m(\u001b[49m\u001b[43mmet_steps\u001b[49m\u001b[43m,\u001b[49m\u001b[43m \u001b[49m\u001b[43mn_walkers\u001b[49m\u001b[43m,\u001b[49m\u001b[43m \u001b[49m\u001b[43malphas\u001b[49m\u001b[38;5;241;43m=\u001b[39;49m\u001b[43malphas_metropolis\u001b[49m\u001b[43m)\u001b[49m\n\u001b[0;32m     15\u001b[0m     \u001b[38;5;66;03m#with torch.no_grad():\u001b[39;00m\n\u001b[0;32m     16\u001b[0m     E \u001b[38;5;241m=\u001b[39m get_local_energies(sampled_Xs)\n",
      "Cell \u001b[1;32mIn[90], line 27\u001b[0m, in \u001b[0;36mmetropolis\u001b[1;34m(N, n_runs, alphas)\u001b[0m\n\u001b[0;32m     24\u001b[0m psi_val \u001b[38;5;241m=\u001b[39m psi_vec(torch\u001b[38;5;241m.\u001b[39mcat((r1, r2, alphas), axis\u001b[38;5;241m=\u001b[39m\u001b[38;5;241m1\u001b[39m))\n\u001b[0;32m     25\u001b[0m psi_trial_val \u001b[38;5;241m=\u001b[39m psi_vec(torch\u001b[38;5;241m.\u001b[39mcat((r1_trial, r2_trial, alphas), axis\u001b[38;5;241m=\u001b[39m\u001b[38;5;241m1\u001b[39m))      \n\u001b[1;32m---> 27\u001b[0m psi_ratio \u001b[38;5;241m=\u001b[39m \u001b[43m(\u001b[49m\u001b[43mpsi_trial_val\u001b[49m\u001b[43m \u001b[49m\u001b[38;5;241;43m/\u001b[39;49m\u001b[43m \u001b[49m\u001b[43mpsi_val\u001b[49m\u001b[43m)\u001b[49m\u001b[43m \u001b[49m\u001b[38;5;241;43m*\u001b[39;49m\u001b[38;5;241;43m*\u001b[39;49m\u001b[43m \u001b[49m\u001b[38;5;241;43m2\u001b[39;49m\n\u001b[0;32m     29\u001b[0m \u001b[38;5;66;03m#density_comp = psi_trial_val >= psi_val\u001b[39;00m\n\u001b[0;32m     30\u001b[0m dummy_comp \u001b[38;5;241m=\u001b[39m dummy \u001b[38;5;241m<\u001b[39m psi_ratio\n",
      "File \u001b[1;32mc:\\Users\\Parv\\anaconda3\\envs\\pytorch_gpu\\Lib\\site-packages\\torch\\_tensor.py:34\u001b[0m, in \u001b[0;36m_handle_torch_function_and_wrap_type_error_to_not_implemented.<locals>.wrapped\u001b[1;34m(*args, **kwargs)\u001b[0m\n\u001b[0;32m     31\u001b[0m \u001b[38;5;28;01mdef\u001b[39;00m \u001b[38;5;21m_handle_torch_function_and_wrap_type_error_to_not_implemented\u001b[39m(f):\n\u001b[0;32m     32\u001b[0m     assigned \u001b[38;5;241m=\u001b[39m functools\u001b[38;5;241m.\u001b[39mWRAPPER_ASSIGNMENTS\n\u001b[1;32m---> 34\u001b[0m     \u001b[38;5;129m@functools\u001b[39m\u001b[38;5;241m.\u001b[39mwraps(f, assigned\u001b[38;5;241m=\u001b[39massigned)\n\u001b[0;32m     35\u001b[0m     \u001b[38;5;28;01mdef\u001b[39;00m \u001b[38;5;21mwrapped\u001b[39m(\u001b[38;5;241m*\u001b[39margs, \u001b[38;5;241m*\u001b[39m\u001b[38;5;241m*\u001b[39mkwargs):\n\u001b[0;32m     36\u001b[0m         \u001b[38;5;28;01mtry\u001b[39;00m:\n\u001b[0;32m     37\u001b[0m             \u001b[38;5;66;03m# See https://github.com/pytorch/pytorch/issues/75462\u001b[39;00m\n\u001b[0;32m     38\u001b[0m             \u001b[38;5;28;01mif\u001b[39;00m has_torch_function(args):\n",
      "\u001b[1;31mKeyboardInterrupt\u001b[0m: "
     ]
    }
   ],
   "source": [
    "# Naive approach - define loss as true energy - found energy\n",
    "\n",
    "epochs = 2000\n",
    "alphas = [alpha_1, alpha_2, alpha_3, alpha_4]\n",
    "losses = []\n",
    "n_walkers = 50\n",
    "met_steps = 10000\n",
    "optimizer = torch.optim.Adam(alphas, lr=0.01)\n",
    "\n",
    "for i in range(epochs):\n",
    "\n",
    "    alphas_metropolis = torch.tensor(alphas).unsqueeze(0).repeat(n_walkers, 1)\n",
    "    sampled_Xs = metropolis(met_steps, n_walkers, alphas=alphas_metropolis)\n",
    "\n",
    "    with torch.no_grad():\n",
    "        E = get_local_energies(sampled_Xs)\n",
    "        mean_E = get_mean_energies(E)\n",
    "        loss = torch.abs(E_true - mean_E)\n",
    "\n",
    "        print(f\"Mean energy is {mean_E}\")\n",
    "        print(f\"Loss is {loss}\")\n",
    "        losses.append(loss.item())\n",
    "\n",
    "        reshaped_X = sampled_Xs.reshape(\n",
    "            sampled_Xs.shape[1], sampled_Xs.shape[0], sampled_Xs.shape[2])\n",
    "        gradients = dE_dalpha(reshaped_X, E).to(cpu)\n",
    "\n",
    "        # Now, assume you already have gradients computed externally:\n",
    "        # Example: for step t, these are your gradients (replace with actual values)\n",
    "        gradients = torch.mean(gradients, axis=0)\n",
    "        external_grads = gradients.detach()\n",
    "\n",
    "        # Step 3: Assign gradients manually\n",
    "        for p, g in zip(alphas, external_grads):\n",
    "            p.grad = g  # assign your externally computed gradient\n",
    "\n",
    "    # Step 4: Optimizer step\n",
    "    optimizer.step()\n",
    "    optimizer.zero_grad()\n",
    "\n",
    "    torch.cuda.empty_cache()\n",
    "    del sampled_Xs\n",
    "    del reshaped_X\n",
    "    del E\n",
    "\n",
    "\n"
   ]
  },
  {
   "cell_type": "code",
   "execution_count": 102,
   "id": "70fe0076",
   "metadata": {},
   "outputs": [
    {
     "data": {
      "text/plain": [
       "[tensor(0.9827, dtype=torch.float64, requires_grad=True),\n",
       " tensor(0.2789, dtype=torch.float64, requires_grad=True),\n",
       " tensor(0.2004, dtype=torch.float64, requires_grad=True),\n",
       " tensor(0.0603, dtype=torch.float64, requires_grad=True)]"
      ]
     },
     "execution_count": 102,
     "metadata": {},
     "output_type": "execute_result"
    }
   ],
   "source": [
    "alphas"
   ]
  },
  {
   "cell_type": "code",
   "execution_count": 93,
   "id": "672d1f75",
   "metadata": {},
   "outputs": [
    {
     "data": {
      "text/plain": [
       "[tensor(0.1809, dtype=torch.float64),\n",
       " tensor(0.7604, dtype=torch.float64),\n",
       " tensor(0.4517, dtype=torch.float64),\n",
       " tensor(0.6952, dtype=torch.float64)]"
      ]
     },
     "execution_count": 93,
     "metadata": {},
     "output_type": "execute_result"
    }
   ],
   "source": [
    "alphas"
   ]
  },
  {
   "cell_type": "code",
   "execution_count": 41,
   "id": "73600484",
   "metadata": {},
   "outputs": [
    {
     "name": "stdout",
     "output_type": "stream",
     "text": [
      "[tensor(1.0066, dtype=torch.float64), tensor(0.2158, dtype=torch.float64), tensor(0.1529, dtype=torch.float64), tensor(0.0154, dtype=torch.float64)]\n"
     ]
    }
   ],
   "source": [
    "print(alphas)"
   ]
  },
  {
   "cell_type": "code",
   "execution_count": 26,
   "id": "2a315675",
   "metadata": {},
   "outputs": [
    {
     "name": "stdout",
     "output_type": "stream",
     "text": [
      "tensor([-0.0752,  3.5492, -0.0362, -0.6221], dtype=torch.float64,\n",
      "       grad_fn=<MeanBackward1>)\n"
     ]
    }
   ],
   "source": [
    "print(gradients)"
   ]
  },
  {
   "cell_type": "code",
   "execution_count": 27,
   "id": "5054dd47",
   "metadata": {},
   "outputs": [
    {
     "name": "stdout",
     "output_type": "stream",
     "text": [
      "[tensor(0.5331, dtype=torch.float64, requires_grad=True), tensor(-0.0537, dtype=torch.float64, requires_grad=True), tensor(0.7332, dtype=torch.float64, requires_grad=True), tensor(-0.0505, dtype=torch.float64, requires_grad=True)]\n"
     ]
    }
   ],
   "source": [
    "print(alphas)"
   ]
  },
  {
   "cell_type": "code",
   "execution_count": 137,
   "id": "4cea79ee",
   "metadata": {},
   "outputs": [],
   "source": [
    "alpha_1 = torch.tensor(2.013, dtype=torch.float64, requires_grad=True) # 1.013\n",
    "alpha_2 = torch.tensor(0.6419, dtype=torch.float64, requires_grad=True) # 0.2119\n",
    "alpha_3 = torch.tensor(2.1406, dtype=torch.float64, requires_grad=True) # 0.1406\n",
    "alpha_4 = torch.tensor(3.003, dtype=torch.float64, requires_grad=True) # 0.003"
   ]
  },
  {
   "cell_type": "code",
   "execution_count": 113,
   "id": "888e7b57",
   "metadata": {},
   "outputs": [
    {
     "data": {
      "text/plain": [
       "tensor(2.0130, dtype=torch.float64, requires_grad=True)"
      ]
     },
     "execution_count": 113,
     "metadata": {},
     "output_type": "execute_result"
    }
   ],
   "source": [
    "alpha_1"
   ]
  },
  {
   "cell_type": "code",
   "execution_count": 106,
   "id": "177295f4",
   "metadata": {},
   "outputs": [
    {
     "data": {
      "text/plain": [
       "tensor([-0.0080,  0.0429,  0.0155, -0.0305], dtype=torch.float64)"
      ]
     },
     "execution_count": 106,
     "metadata": {},
     "output_type": "execute_result"
    }
   ],
   "source": [
    "external_grads"
   ]
  },
  {
   "cell_type": "markdown",
   "id": "7ce6ff3b",
   "metadata": {},
   "source": [
    "## Gradient values"
   ]
  },
  {
   "cell_type": "code",
   "execution_count": 34,
   "id": "7af58e75",
   "metadata": {},
   "outputs": [],
   "source": [
    "def dE_dalpha(input):\n",
    "    return jacrev(local_energy)(input)\n",
    "\n",
    "t = dE_dalpha_vec(torch.stack(inputs_arr[0]))"
   ]
  },
  {
   "cell_type": "code",
   "execution_count": 72,
   "id": "4a8a808c",
   "metadata": {},
   "outputs": [],
   "source": [
    "dE_dalpha_mean = torch.mean(t, axis=0)"
   ]
  },
  {
   "cell_type": "code",
   "execution_count": 36,
   "id": "fc628ca9",
   "metadata": {},
   "outputs": [],
   "source": [
    "psi_vmap = vmap(psi)"
   ]
  },
  {
   "cell_type": "code",
   "execution_count": 38,
   "id": "673d69a7",
   "metadata": {},
   "outputs": [],
   "source": [
    "psi_values = psi_vmap(torch.stack(inputs_arr[0]))"
   ]
  },
  {
   "cell_type": "code",
   "execution_count": 61,
   "id": "9ad60892",
   "metadata": {},
   "outputs": [],
   "source": [
    "mean_energy = sum(energies[0])/(len(energies[0]))"
   ]
  },
  {
   "cell_type": "code",
   "execution_count": 63,
   "id": "236e0ab6",
   "metadata": {},
   "outputs": [],
   "source": [
    "El_Etheta = energies[0] - mean_energy"
   ]
  },
  {
   "cell_type": "code",
   "execution_count": 65,
   "id": "c949bd49",
   "metadata": {},
   "outputs": [],
   "source": [
    "mean_psi = torch.mean(psi_values)"
   ]
  },
  {
   "cell_type": "code",
   "execution_count": 73,
   "id": "0863c591",
   "metadata": {},
   "outputs": [
    {
     "data": {
      "text/plain": [
       "torch.Size([10])"
      ]
     },
     "execution_count": 73,
     "metadata": {},
     "output_type": "execute_result"
    }
   ],
   "source": [
    "dE_dalpha_mean.shape"
   ]
  },
  {
   "cell_type": "code",
   "execution_count": 86,
   "id": "9541751e",
   "metadata": {},
   "outputs": [
    {
     "data": {
      "text/plain": [
       "torch.Size([10])"
      ]
     },
     "execution_count": 86,
     "metadata": {},
     "output_type": "execute_result"
    }
   ],
   "source": [
    "t[0].shape"
   ]
  },
  {
   "cell_type": "code",
   "execution_count": 89,
   "id": "016a8b00",
   "metadata": {},
   "outputs": [
    {
     "data": {
      "text/plain": [
       "torch.Size([9500])"
      ]
     },
     "execution_count": 89,
     "metadata": {},
     "output_type": "execute_result"
    }
   ],
   "source": [
    "psi_values.shape"
   ]
  },
  {
   "cell_type": "code",
   "execution_count": 92,
   "id": "3befeb0a",
   "metadata": {},
   "outputs": [],
   "source": [
    "psi_dalph = torch.stack([psi_values[i] * t[i] for i in range(len(t))])"
   ]
  },
  {
   "cell_type": "code",
   "execution_count": 97,
   "id": "f7ce5b2f",
   "metadata": {},
   "outputs": [
    {
     "data": {
      "text/plain": [
       "torch.Size([9500, 10])"
      ]
     },
     "execution_count": 97,
     "metadata": {},
     "output_type": "execute_result"
    }
   ],
   "source": [
    "psi_dalph.shape"
   ]
  },
  {
   "cell_type": "code",
   "execution_count": 98,
   "id": "d083d2d4",
   "metadata": {},
   "outputs": [
    {
     "data": {
      "text/plain": [
       "torch.Size([10])"
      ]
     },
     "execution_count": 98,
     "metadata": {},
     "output_type": "execute_result"
    }
   ],
   "source": [
    "dE_dalpha_mean.shape"
   ]
  },
  {
   "cell_type": "code",
   "execution_count": 95,
   "id": "36378e26",
   "metadata": {},
   "outputs": [
    {
     "data": {
      "text/plain": [
       "tensor(0.0207, dtype=torch.float64, grad_fn=<MeanBackward0>)"
      ]
     },
     "execution_count": 95,
     "metadata": {},
     "output_type": "execute_result"
    }
   ],
   "source": [
    "mean_psi"
   ]
  },
  {
   "cell_type": "code",
   "execution_count": 77,
   "id": "c80f39eb",
   "metadata": {},
   "outputs": [
    {
     "data": {
      "text/plain": [
       "torch.Size([9500, 10])"
      ]
     },
     "execution_count": 77,
     "metadata": {},
     "output_type": "execute_result"
    }
   ],
   "source": [
    "t.shape"
   ]
  },
  {
   "cell_type": "code",
   "execution_count": 111,
   "id": "84d9a555",
   "metadata": {},
   "outputs": [],
   "source": [
    "a = psi_values.unsqueeze(1).repeat(1, 10) * t"
   ]
  },
  {
   "cell_type": "code",
   "execution_count": 110,
   "id": "afb6ba3b",
   "metadata": {},
   "outputs": [],
   "source": [
    "b = (mean_psi * dE_dalpha_mean).unsqueeze(0).repeat(9500, 1)"
   ]
  },
  {
   "cell_type": "code",
   "execution_count": 119,
   "id": "01eb27cf",
   "metadata": {},
   "outputs": [],
   "source": [
    "c = (energies[0] - mean_energy).unsqueeze(1).repeat(1, 10)"
   ]
  },
  {
   "cell_type": "code",
   "execution_count": 115,
   "id": "c54710ec",
   "metadata": {},
   "outputs": [
    {
     "data": {
      "text/plain": [
       "torch.Size([])"
      ]
     },
     "execution_count": 115,
     "metadata": {},
     "output_type": "execute_result"
    }
   ],
   "source": [
    "mean_energy.shape"
   ]
  },
  {
   "cell_type": "code",
   "execution_count": 120,
   "id": "4fd1249d",
   "metadata": {},
   "outputs": [],
   "source": [
    "gradients = (a - b) * (c)"
   ]
  },
  {
   "cell_type": "code",
   "execution_count": 124,
   "id": "ec6e08f1",
   "metadata": {},
   "outputs": [
    {
     "data": {
      "text/plain": [
       "tensor([ 0.0652,  0.4838,  0.4329,  0.0146,  0.1017,  0.0883,  0.0167, -0.0222,\n",
       "        -0.0307,  0.0271], dtype=torch.float64, grad_fn=<MeanBackward1>)"
      ]
     },
     "execution_count": 124,
     "metadata": {},
     "output_type": "execute_result"
    }
   ],
   "source": [
    "torch.mean(gradients, axis=0)"
   ]
  },
  {
   "cell_type": "code",
   "execution_count": 52,
   "id": "0d47368b",
   "metadata": {},
   "outputs": [
    {
     "data": {
      "text/plain": [
       "tensor(-1.6312, dtype=torch.float64, grad_fn=<SelectBackward0>)"
      ]
     },
     "execution_count": 52,
     "metadata": {},
     "output_type": "execute_result"
    }
   ],
   "source": [
    "energies[0][1]"
   ]
  },
  {
   "cell_type": "code",
   "execution_count": 53,
   "id": "f7f23a65",
   "metadata": {},
   "outputs": [],
   "source": [
    "E_fixed = [energies[0][i] / psi_values[i] for i in range(len(inputs_arr[0]))]"
   ]
  },
  {
   "cell_type": "code",
   "execution_count": 55,
   "id": "4a25ea1d",
   "metadata": {},
   "outputs": [
    {
     "data": {
      "text/plain": [
       "tensor(-2546.7772, dtype=torch.float64, grad_fn=<MeanBackward0>)"
      ]
     },
     "execution_count": 55,
     "metadata": {},
     "output_type": "execute_result"
    }
   ],
   "source": [
    "torch.mean(torch.stack(E_fixed))"
   ]
  }
 ],
 "metadata": {
  "kernelspec": {
   "display_name": "pytorch_gpu",
   "language": "python",
   "name": "python3"
  },
  "language_info": {
   "codemirror_mode": {
    "name": "ipython",
    "version": 3
   },
   "file_extension": ".py",
   "mimetype": "text/x-python",
   "name": "python",
   "nbconvert_exporter": "python",
   "pygments_lexer": "ipython3",
   "version": "3.12.3"
  }
 },
 "nbformat": 4,
 "nbformat_minor": 5
}
