{
 "cells": [
  {
   "cell_type": "code",
   "execution_count": 74,
   "id": "a31561eb",
   "metadata": {},
   "outputs": [],
   "source": [
    "import torch\n",
    "import numpy as np\n",
    "from tqdm import tqdm\n",
    "from analytical_expressions import local_energy\n",
    "from torch.autograd.functional import jacobian\n",
    "from torch.func import jacrev\n",
    "import matplotlib.pyplot as plt"
   ]
  },
  {
   "cell_type": "code",
   "execution_count": 2,
   "id": "1012fd08",
   "metadata": {},
   "outputs": [],
   "source": [
    "%load_ext autoreload\n",
    "%autoreload 2"
   ]
  },
  {
   "cell_type": "code",
   "execution_count": 3,
   "id": "06526d9d",
   "metadata": {},
   "outputs": [],
   "source": [
    "def psi(X):\n",
    "    x = X[:3]\n",
    "    y = X[3:6]\n",
    "    alpha_1, alpha_2, alpha_3, alpha_4 = X[6:]\n",
    "    r1 = torch.norm(x)\n",
    "    r2 = torch.norm(y)\n",
    "    r12 = torch.norm(x - y)\n",
    "\n",
    "    term1 = torch.exp(-2 * (r1 + r2))\n",
    "    term2 = 1 + 0.5 * r12 * torch.exp(-alpha_1 * r12)\n",
    "    term3 = 1 + alpha_2 * (r1 + r2) * r12 + alpha_3 * (r1 - r2)**2 - alpha_4 * r12\n",
    "\n",
    "    return term1 * term2 * term3"
   ]
  },
  {
   "cell_type": "code",
   "execution_count": 90,
   "id": "c2407912",
   "metadata": {},
   "outputs": [
    {
     "name": "stderr",
     "output_type": "stream",
     "text": [
      "100%|██████████| 10000/10000 [00:08<00:00, 1193.96it/s]\n",
      "  5%|▍         | 484/10000 [00:00<00:07, 1196.54it/s]\n"
     ]
    },
    {
     "ename": "KeyboardInterrupt",
     "evalue": "",
     "output_type": "error",
     "traceback": [
      "\u001b[1;31m---------------------------------------------------------------------------\u001b[0m",
      "\u001b[1;31mKeyboardInterrupt\u001b[0m                         Traceback (most recent call last)",
      "Cell \u001b[1;32mIn[90], line 38\u001b[0m\n\u001b[0;32m     33\u001b[0m X \u001b[38;5;241m=\u001b[39m torch\u001b[38;5;241m.\u001b[39mtensor(\n\u001b[0;32m     34\u001b[0m     [\u001b[38;5;241m*\u001b[39mr1, \u001b[38;5;241m*\u001b[39mr2, alpha_1, alpha_2, alpha_3, alpha_4], requires_grad\u001b[38;5;241m=\u001b[39m\u001b[38;5;28;01mTrue\u001b[39;00m)\n\u001b[0;32m     35\u001b[0m X_trial \u001b[38;5;241m=\u001b[39m torch\u001b[38;5;241m.\u001b[39mtensor(\n\u001b[0;32m     36\u001b[0m     [\u001b[38;5;241m*\u001b[39mr1_trial, \u001b[38;5;241m*\u001b[39mr2_trial, alpha_1, alpha_2, alpha_3, alpha_4], requires_grad\u001b[38;5;241m=\u001b[39m\u001b[38;5;28;01mTrue\u001b[39;00m)\n\u001b[1;32m---> 38\u001b[0m \u001b[38;5;28;01mif\u001b[39;00m psi(X_trial) \u001b[38;5;241m>\u001b[39m\u001b[38;5;241m=\u001b[39m \u001b[43mpsi\u001b[49m\u001b[43m(\u001b[49m\u001b[43mX\u001b[49m\u001b[43m)\u001b[49m:\n\u001b[0;32m     39\u001b[0m     r1 \u001b[38;5;241m=\u001b[39m r1_trial\n\u001b[0;32m     40\u001b[0m     r2 \u001b[38;5;241m=\u001b[39m r2_trial\n",
      "Cell \u001b[1;32mIn[3], line 10\u001b[0m, in \u001b[0;36mpsi\u001b[1;34m(X)\u001b[0m\n\u001b[0;32m      7\u001b[0m r12 \u001b[38;5;241m=\u001b[39m torch\u001b[38;5;241m.\u001b[39mnorm(x \u001b[38;5;241m-\u001b[39m y)\n\u001b[0;32m      9\u001b[0m term1 \u001b[38;5;241m=\u001b[39m torch\u001b[38;5;241m.\u001b[39mexp(\u001b[38;5;241m-\u001b[39m\u001b[38;5;241m2\u001b[39m \u001b[38;5;241m*\u001b[39m (r1 \u001b[38;5;241m+\u001b[39m r2))\n\u001b[1;32m---> 10\u001b[0m term2 \u001b[38;5;241m=\u001b[39m \u001b[38;5;241m1\u001b[39m \u001b[38;5;241m+\u001b[39m \u001b[38;5;241m0.5\u001b[39m \u001b[38;5;241m*\u001b[39m r12 \u001b[38;5;241m*\u001b[39m \u001b[43mtorch\u001b[49m\u001b[38;5;241;43m.\u001b[39;49m\u001b[43mexp\u001b[49m\u001b[43m(\u001b[49m\u001b[38;5;241;43m-\u001b[39;49m\u001b[43malpha_1\u001b[49m\u001b[43m \u001b[49m\u001b[38;5;241;43m*\u001b[39;49m\u001b[43m \u001b[49m\u001b[43mr12\u001b[49m\u001b[43m)\u001b[49m\n\u001b[0;32m     11\u001b[0m term3 \u001b[38;5;241m=\u001b[39m \u001b[38;5;241m1\u001b[39m \u001b[38;5;241m+\u001b[39m alpha_2 \u001b[38;5;241m*\u001b[39m (r1 \u001b[38;5;241m+\u001b[39m r2) \u001b[38;5;241m*\u001b[39m r12 \u001b[38;5;241m+\u001b[39m alpha_3 \u001b[38;5;241m*\u001b[39m (r1 \u001b[38;5;241m-\u001b[39m r2)\u001b[38;5;241m*\u001b[39m\u001b[38;5;241m*\u001b[39m\u001b[38;5;241m2\u001b[39m \u001b[38;5;241m-\u001b[39m alpha_4 \u001b[38;5;241m*\u001b[39m r12\n\u001b[0;32m     13\u001b[0m \u001b[38;5;28;01mreturn\u001b[39;00m term1 \u001b[38;5;241m*\u001b[39m term2 \u001b[38;5;241m*\u001b[39m term3\n",
      "\u001b[1;31mKeyboardInterrupt\u001b[0m: "
     ]
    }
   ],
   "source": [
    "L = 1\n",
    "r1 = torch.rand(3, requires_grad=True) * 2 * L - L\n",
    "r2 = torch.rand(3, requires_grad=True) * 2 * L - L #random number from -L to L\n",
    "alpha_1 = torch.tensor(1.013, dtype=torch.float64, requires_grad=True)\n",
    "alpha_2 = torch.tensor(0.2119, dtype=torch.float64, requires_grad=True)\n",
    "alpha_3 = torch.tensor(0.1406, dtype=torch.float64, requires_grad=True)\n",
    "alpha_4 = torch.tensor(0.003, dtype=torch.float64, requires_grad=True)\n",
    "E = 0\n",
    "E2 = 0\n",
    "Eln_average = 0\n",
    "ln_average = 0\n",
    "rejection_ratio = 0\n",
    "step = 0\n",
    "max_steps = 500\n",
    "N = 10000\n",
    "dlap_dalpha = 0\n",
    "inputs_arr = []\n",
    "n_walkers = 5\n",
    "\n",
    "for walkers in range(n_walkers):\n",
    "    inputs = []\n",
    "    for i in tqdm(range(N)):\n",
    "\n",
    "        chose = np.random.rand()\n",
    "        step = step + 1\n",
    "        if chose < 0.5:\n",
    "            r1_trial = r1 + 0.5 * (torch.rand(3) * 2 * L-L)\n",
    "            r2_trial = r2\n",
    "        else:\n",
    "            r2_trial = r2 + 0.5 * (torch.rand(3) * 2 * L-L)\n",
    "            r1_trial = r1\n",
    "\n",
    "        X = torch.tensor(\n",
    "            [*r1, *r2, alpha_1, alpha_2, alpha_3, alpha_4], requires_grad=True)\n",
    "        X_trial = torch.tensor(\n",
    "            [*r1_trial, *r2_trial, alpha_1, alpha_2, alpha_3, alpha_4], requires_grad=True)\n",
    "\n",
    "        if psi(X_trial) >= psi(X):\n",
    "            r1 = r1_trial\n",
    "            r2 = r2_trial\n",
    "            \n",
    "        else:\n",
    "            dummy = np.random.rand()\n",
    "            if dummy < psi(X_trial) / psi(X):\n",
    "                r1 = r1_trial\n",
    "                r2 = r2_trial\n",
    "            else:\n",
    "                rejection_ratio += 1./N\n",
    "                    \n",
    "        if step > max_steps:\n",
    "            \n",
    "            X_final = torch.tensor(\n",
    "            [*r1, *r2, alpha_1, alpha_2, alpha_3, alpha_4], requires_grad=True)\n",
    "\n",
    "            #local_E = local_energy(X_final)\n",
    "            #E += local_E / (N - max_steps)\n",
    "            #dlap_dalpha += torch.autograd.grad(local_E, X_final, retain_graph=True)[0][6:] / (N - max_steps)\n",
    "            inputs.append(X_final)\n",
    "\n",
    "    inputs_arr.append(inputs)\n",
    "\n",
    "\n"
   ]
  },
  {
   "cell_type": "code",
   "execution_count": 91,
   "id": "a5e981aa",
   "metadata": {},
   "outputs": [
    {
     "data": {
      "text/plain": [
       "0.20489999999999375"
      ]
     },
     "execution_count": 91,
     "metadata": {},
     "output_type": "execute_result"
    }
   ],
   "source": [
    "rejection_ratio"
   ]
  },
  {
   "cell_type": "code",
   "execution_count": 86,
   "id": "b5d5f894",
   "metadata": {},
   "outputs": [
    {
     "data": {
      "text/plain": [
       "0.21559999999999258"
      ]
     },
     "execution_count": 86,
     "metadata": {},
     "output_type": "execute_result"
    }
   ],
   "source": [
    "rejection_ratio"
   ]
  },
  {
   "cell_type": "code",
   "execution_count": 11,
   "id": "d75cb388",
   "metadata": {},
   "outputs": [
    {
     "data": {
      "text/plain": [
       "tensor([-0.0002,  0.0014,  0.0011, -0.0007], dtype=torch.float64)"
      ]
     },
     "execution_count": 11,
     "metadata": {},
     "output_type": "execute_result"
    }
   ],
   "source": [
    "dlap_dalpha"
   ]
  },
  {
   "cell_type": "code",
   "execution_count": 80,
   "id": "45bf6cbf",
   "metadata": {},
   "outputs": [],
   "source": [
    "def dE_dalpha(input):\n",
    "    return jacrev(local_energy)(input)"
   ]
  },
  {
   "cell_type": "code",
   "execution_count": 81,
   "id": "b788ecb2",
   "metadata": {},
   "outputs": [],
   "source": [
    "from torch.func import vmap\n",
    "\n",
    "local_e_vec = vmap(local_energy)\n",
    "dE_dalpha_vec = vmap(dE_dalpha)\n",
    "\n",
    "energies = [local_e_vec(torch.stack(inputs_arr[i])) for i in range(len(inputs_arr))]"
   ]
  },
  {
   "cell_type": "code",
   "execution_count": 88,
   "id": "fd79eb53",
   "metadata": {},
   "outputs": [
    {
     "data": {
      "text/plain": [
       "tensor(-18.8979, dtype=torch.float64, grad_fn=<DivBackward0>)"
      ]
     },
     "execution_count": 88,
     "metadata": {},
     "output_type": "execute_result"
    }
   ],
   "source": [
    "sum(energies[0])/(len(energies[0]))"
   ]
  },
  {
   "cell_type": "code",
   "execution_count": null,
   "id": "475012fe",
   "metadata": {},
   "outputs": [],
   "source": []
  },
  {
   "cell_type": "code",
   "execution_count": 69,
   "id": "c2c46d6d",
   "metadata": {},
   "outputs": [
    {
     "data": {
      "text/plain": [
       "tensor(-3.0756, dtype=torch.float64, grad_fn=<AddBackward0>)"
      ]
     },
     "execution_count": 69,
     "metadata": {},
     "output_type": "execute_result"
    }
   ],
   "source": [
    "sum([sum(energies[i])/len(energies[i]) for i in range(len(energies))])"
   ]
  },
  {
   "cell_type": "code",
   "execution_count": 51,
   "id": "6b8f2b9c",
   "metadata": {},
   "outputs": [],
   "source": [
    "t = dE_dalpha_vec(torch.stack(inputs_arr[0]))"
   ]
  },
  {
   "cell_type": "code",
   "execution_count": 54,
   "id": "0be20e50",
   "metadata": {},
   "outputs": [
    {
     "data": {
      "text/plain": [
       "tensor([[ 5.6105e-04, -6.9556e-03, -1.3911e-03,  2.1733e-03],\n",
       "        [ 1.9731e-04, -2.9057e-03, -7.3384e-04,  9.8745e-04],\n",
       "        [ 1.9731e-04, -2.9057e-03, -7.3384e-04,  9.8745e-04],\n",
       "        ...,\n",
       "        [ 1.2597e-05,  1.0297e-03, -8.4545e-04,  8.5725e-04],\n",
       "        [ 1.0823e-04,  3.0629e-04, -7.4649e-04,  5.3556e-04],\n",
       "        [ 3.3389e-04, -7.8640e-04, -1.5131e-03,  7.2224e-04]],\n",
       "       dtype=torch.float64, grad_fn=<SliceBackward0>)"
      ]
     },
     "execution_count": 54,
     "metadata": {},
     "output_type": "execute_result"
    }
   ],
   "source": [
    "t[:, 6:10]"
   ]
  },
  {
   "cell_type": "code",
   "execution_count": 22,
   "id": "db800ca5",
   "metadata": {},
   "outputs": [
    {
     "data": {
      "text/plain": [
       "49500"
      ]
     },
     "execution_count": 22,
     "metadata": {},
     "output_type": "execute_result"
    }
   ],
   "source": [
    "len(inputs_arr[0])"
   ]
  },
  {
   "cell_type": "code",
   "execution_count": null,
   "id": "ffe17b5f",
   "metadata": {},
   "outputs": [],
   "source": []
  }
 ],
 "metadata": {
  "kernelspec": {
   "display_name": "pytorch_gpu",
   "language": "python",
   "name": "python3"
  },
  "language_info": {
   "codemirror_mode": {
    "name": "ipython",
    "version": 3
   },
   "file_extension": ".py",
   "mimetype": "text/x-python",
   "name": "python",
   "nbconvert_exporter": "python",
   "pygments_lexer": "ipython3",
   "version": "3.12.3"
  }
 },
 "nbformat": 4,
 "nbformat_minor": 5
}
