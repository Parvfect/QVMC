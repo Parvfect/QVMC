{
 "cells": [
  {
   "cell_type": "markdown",
   "metadata": {},
   "source": [
    "## QVMC Intro\n",
    "Using the Illinois tutorial - https://clark.physics.illinois.edu/Tutorials/VMCIntroTutorial/index.html\n",
    "Hydrogen molecule - one spin up, one spin down."
   ]
  },
  {
   "cell_type": "code",
   "execution_count": 1,
   "metadata": {},
   "outputs": [],
   "source": [
    "import numpy as np\n",
    "import math\n",
    "import random\n",
    "import matplotlib.pyplot as plt\n",
    "from tqdm.notebook import tqdm\n",
    "from stats import Stats"
   ]
  },
  {
   "cell_type": "code",
   "execution_count": 2,
   "metadata": {},
   "outputs": [],
   "source": [
    "def modulo(x):\n",
    "    return sum([i**2 for i in x])\n",
    "\n",
    "def euclidean_distance(r1, r2):\n",
    "\n",
    "    dist = 0\n",
    "    for i in range(len(r1)):\n",
    "        dist += (r1[i] - r2[i]) ** 2\n",
    "    \n",
    "    return np.sqrt(dist) "
   ]
  },
  {
   "cell_type": "markdown",
   "metadata": {},
   "source": [
    "### Trial Wavefunction 1 - Gaussian with a variational width"
   ]
  },
  {
   "cell_type": "code",
   "execution_count": 190,
   "metadata": {},
   "outputs": [],
   "source": [
    "def psi(coords, ions=None, alpha=0.5):\n",
    "    return np.exp(- alpha * (modulo(coords[0]) + modulo(coords[1])))\n"
   ]
  },
  {
   "cell_type": "code",
   "execution_count": 189,
   "metadata": {},
   "outputs": [
    {
     "data": {
      "text/plain": [
       "np.float64(0.49658530379140947)"
      ]
     },
     "execution_count": 189,
     "metadata": {},
     "output_type": "execute_result"
    }
   ],
   "source": [
    "psi_(np.array([[1.0 ,0.5 ,0.3], [-0.2, 0.1, -0.1]]))"
   ]
  },
  {
   "cell_type": "code",
   "execution_count": 4,
   "metadata": {},
   "outputs": [
    {
     "data": {
      "text/plain": [
       "0.49658530379140947"
      ]
     },
     "execution_count": 4,
     "metadata": {},
     "output_type": "execute_result"
    }
   ],
   "source": [
    "coords = [[1.0 ,0.5 ,0.3], [-0.2, 0.1, -0.1]]\n",
    "psi(coords)"
   ]
  },
  {
   "cell_type": "markdown",
   "metadata": {},
   "source": [
    "### Accepting and rejecting moves"
   ]
  },
  {
   "cell_type": "code",
   "execution_count": 192,
   "metadata": {},
   "outputs": [],
   "source": [
    "def VMC(WF, ions, numSteps):\n",
    "\n",
    "    ratios = []\n",
    "    coords_arr = []\n",
    "\n",
    "    R = np.zeros((2, 2), float)\n",
    "    movesAttempted = 0.0\n",
    "    movesAccepted = 0.0\n",
    "    coords = np.zeros((2, 3))\n",
    "    original_WF = WF(coords, ions)\n",
    "    for step in range(numSteps):\n",
    "        for ptcl in range(len(R)):\n",
    "            a = 5  # Define movement parameters\n",
    "            # Implement move for particle 'ptcl'\n",
    "            delta = 1\n",
    "            move_coords = delta * 1.5 * np.random.rand(3)\n",
    "            move_coords[2] = 0\n",
    "            new_coords = coords.copy()\n",
    "\n",
    "            if random.random() <= 0.5:\n",
    "                new_coords[ptcl] += move_coords\n",
    "            else:\n",
    "                new_coords[ptcl] -= move_coords\n",
    "            \n",
    "            new_WF = WF(new_coords, ions)\n",
    "\n",
    "            if new_WF:\n",
    "                \n",
    "                ratio = (new_WF / original_WF) ** 2\n",
    "\n",
    "                if random.random() <= ratio:\n",
    "                    movesAccepted += 1\n",
    "                    coords_arr.append(new_coords[ptcl])\n",
    "                    #coords = new_coords.copy()\n",
    "                    #original_WF = new_WF\n",
    "                \n",
    "                ratio = min(1, ratio)\n",
    "                ratios.append(ratio)\n",
    "\n",
    "            movesAttempted += 1\n",
    "            \n",
    "    print(\"Acceptance ratio:\", movesAccepted / movesAttempted)\n",
    "    return coords_arr"
   ]
  },
  {
   "cell_type": "code",
   "execution_count": 193,
   "metadata": {},
   "outputs": [
    {
     "name": "stdout",
     "output_type": "stream",
     "text": [
      "Acceptance ratio: 0.32365\n"
     ]
    }
   ],
   "source": [
    "ions = np.array([[-0.7, 0.0, 0.0], [0.7, 0.0, 0.0]])\n",
    "coords_arr = VMC(psi, ions=ions, numSteps=10000)"
   ]
  },
  {
   "cell_type": "code",
   "execution_count": 194,
   "metadata": {},
   "outputs": [],
   "source": [
    "coords_x = [i[0] for i in coords_arr]"
   ]
  },
  {
   "cell_type": "code",
   "execution_count": 195,
   "metadata": {},
   "outputs": [
    {
     "data": {
      "text/plain": [
       "Text(0.5, 1.0, 'Electron density along x')"
      ]
     },
     "execution_count": 195,
     "metadata": {},
     "output_type": "execute_result"
    },
    {
     "data": {
      "image/png": "[encoded data removed]",
      "text/plain": [
       "<Figure size 640x480 with 1 Axes>"
      ]
     },
     "metadata": {},
     "output_type": "display_data"
    }
   ],
   "source": [
    "plt.hist(coords_x)\n",
    "plt.title(\"Electron density along x\")"
   ]
  },
  {
   "cell_type": "markdown",
   "metadata": {},
   "source": [
    "### Local energy"
   ]
  },
  {
   "cell_type": "code",
   "execution_count": 196,
   "metadata": {},
   "outputs": [],
   "source": [
    "def LaplacianPsiOverPsi(wavefunction, R, alpha, ions=None, delta=1e-3):\n",
    "    r_plus = np.copy(R)\n",
    "    r_minus = np.copy(R)\n",
    "    wavefunction_current = wavefunction(R)\n",
    "\n",
    "    kinetic_energy = 0.0\n",
    "    for i in range(2):\n",
    "        for j in range(3):\n",
    "            r_plus[i, j] += delta\n",
    "            r_minus[i, j] -= delta\n",
    "\n",
    "            wave_function_plus = wavefunction(r_plus)\n",
    "            wave_function_minus = wavefunction(r_minus)\n",
    "\n",
    "            kinetic_energy -= (\n",
    "                wave_function_minus + wave_function_plus - 2 * wavefunction_current)\n",
    "\n",
    "            r_plus[i, j] = R[i, j]\n",
    "            r_minus[i, j] = R[i, j]\n",
    "\n",
    "    # Kinetic energy\n",
    "    kinetic_energy = kinetic_energy *  0.5 * 1e6 / wavefunction_current\n",
    "\n",
    "    return kinetic_energy\n",
    "\n",
    "def LocalEnergy(wavefunction, coords, ions, alpha, display=False):\n",
    "\n",
    "    kinetic_energy = LaplacianPsiOverPsi(wavefunction, coords, alpha)\n",
    "    \n",
    "    ion_electron_potential = 0\n",
    "\n",
    "    for i in coords:\n",
    "        for j in ions:\n",
    "            ion_electron_potential -= 1 / euclidean_distance(i, j)\n",
    "\n",
    "    electron_electron_potential = 1 / (euclidean_distance(coords[1], coords[0]))\n",
    "\n",
    "    ion_ion_potential = 1 / (euclidean_distance(ions[0], ions[1]))\n",
    "\n",
    "    if display:\n",
    "        print(f\"Electron potential {electron_electron_potential}\\n\"\n",
    "            f\"Ion potential {ion_ion_potential}\\n\"\n",
    "            f\"Ion electron potential {ion_electron_potential}\\n\"\n",
    "            f\"Kinetic energy {kinetic_energy}\"\n",
    "            )\n",
    "    potential_energy = electron_electron_potential + ion_ion_potential + ion_electron_potential\n",
    "\n",
    "    return potential_energy + kinetic_energy"
   ]
  },
  {
   "cell_type": "code",
   "execution_count": 197,
   "metadata": {},
   "outputs": [
    {
     "name": "stdout",
     "output_type": "stream",
     "text": [
      "Electron potential 0.8908708063747479\n",
      "Ion potential 0.7142857142857143\n",
      "Ion electron potential -3.834647280046225\n",
      "Kinetic energy 0.4099998375432463\n",
      "-1.8194909218425162\n"
     ]
    }
   ],
   "source": [
    "\n",
    "R = np.zeros((2,3), float)\n",
    "R[0] = [1.0, 0.3, 0.2]\n",
    "R[1] = [2.0, -0.2, 0.1]\n",
    "\n",
    "# Set your ions so that the bond length is 1.4\n",
    "ions = np.array([[-0.7, 0.0, 0.0], [0.7, 0.0, 0.0]])\n",
    "\n",
    "print(LocalEnergy(psi, np.array([R[0], R[1]]), ions, alpha=0.5, display=True))"
   ]
  },
  {
   "cell_type": "code",
   "execution_count": null,
   "metadata": {},
   "outputs": [],
   "source": [
    "\n",
    "# Local energy addition\n",
    "\n",
    "def VMC_energy(WF, ions, numSteps, alpha):\n",
    "    \n",
    "    movesAttempted = 0.0\n",
    "    movesAccepted = 0.0\n",
    "    coords = np.zeros((2, 3))\n",
    "    E = 0\n",
    "    E2 = 0\n",
    "\n",
    "    coords = np.random.rand(2,3) - 0.5\n",
    "\n",
    "    original_WF = WF(coords, alpha)\n",
    "\n",
    "    for step in range(numSteps):\n",
    "        for ptcl in range(2):\n",
    "\n",
    "            delta = 1.5\n",
    "            move_coords =  1.5 * (np.random.rand(3) - 0.5)\n",
    "            new_coords = coords.copy()\n",
    "\n",
    "            if random.random() > 0.5:\n",
    "                new_coords[ptcl] += move_coords\n",
    "            else:\n",
    "                new_coords[ptcl] -= move_coords\n",
    "            \n",
    "            new_WF = WF(new_coords, alpha)\n",
    "\n",
    "            ratio = (new_WF ** 2) / (original_WF ** 2)\n",
    "\n",
    "            if random.random() <= ratio:\n",
    "                movesAccepted += 1\n",
    "                coords = new_coords.copy()\n",
    "                original_WF = new_WF\n",
    "                \n",
    "            dE = LocalEnergy(\n",
    "                WF, coords, ions, alpha)\n",
    "            E += dE\n",
    "            E2 += dE ** 2\n",
    "            movesAttempted += 1\n",
    "\n",
    "\n",
    "    n_samples = numSteps * 2\n",
    "\n",
    "    print(\"Acceptance ratio:\", movesAccepted/movesAttempted)\n",
    "    return E / n_samples, (E**2 - E2) / n_samples"
   ]
  },
  {
   "cell_type": "code",
   "execution_count": 240,
   "metadata": {},
   "outputs": [
    {
     "name": "stdout",
     "output_type": "stream",
     "text": [
      "Acceptance ratio: 0.62045\n"
     ]
    }
   ],
   "source": [
    "ions = np.array([[-0.7, 0.0, 0.0], [0.7, 0.0, 0.0]])\n",
    "energies = VMC_energy(psi, ions=ions, numSteps=10000, alpha=0.3)"
   ]
  },
  {
   "cell_type": "code",
   "execution_count": 241,
   "metadata": {},
   "outputs": [
    {
     "data": {
      "text/plain": [
       "(np.float64(-0.8511112457439738), np.float64(14485.592406840235))"
      ]
     },
     "execution_count": 241,
     "metadata": {},
     "output_type": "execute_result"
    }
   ],
   "source": [
    "energies"
   ]
  },
  {
   "cell_type": "code",
   "execution_count": 242,
   "metadata": {},
   "outputs": [
    {
     "data": {
      "application/vnd.jupyter.widget-view+json": {
       "model_id": "a2e8aa00fc9948be800abf95276c4daf",
       "version_major": 2,
       "version_minor": 0
      },
      "text/plain": [
       "  0%|          | 0/10 [00:00<?, ?it/s]"
      ]
     },
     "metadata": {},
     "output_type": "display_data"
    },
    {
     "name": "stdout",
     "output_type": "stream",
     "text": [
      "Acceptance ratio: 0.6183\n",
      "Acceptance ratio: 0.61225\n",
      "Acceptance ratio: 0.6155\n",
      "Acceptance ratio: 0.61195\n",
      "Acceptance ratio: 0.60605\n",
      "Acceptance ratio: 0.61505\n",
      "Acceptance ratio: 0.61325\n",
      "Acceptance ratio: 0.60885\n",
      "Acceptance ratio: 0.61905\n",
      "Acceptance ratio: 0.61245\n"
     ]
    }
   ],
   "source": [
    "# Marching alpha\n",
    "\n",
    "energies_arr= []\n",
    "variances_arr = []\n",
    "alpha_arr = np.arange(0.1, 0.6, 0.05)\n",
    "\n",
    "for alpha in tqdm(alpha_arr):\n",
    "    energy, variance = VMC_energy(psi, ions=ions, numSteps=10000, alpha=alpha)\n",
    "    energies_arr.append(energy)\n",
    "    variances_arr.append(variance)"
   ]
  },
  {
   "cell_type": "code",
   "execution_count": 243,
   "metadata": {},
   "outputs": [
    {
     "data": {
      "text/plain": [
       "[<matplotlib.lines.Line2D at 0x226325765a0>]"
      ]
     },
     "execution_count": 243,
     "metadata": {},
     "output_type": "execute_result"
    },
    {
     "data": {
      "image/png": "[encoded data removed]",
      "text/plain": [
       "<Figure size 640x480 with 1 Axes>"
      ]
     },
     "metadata": {},
     "output_type": "display_data"
    }
   ],
   "source": [
    "plt.plot(alpha_arr, energies_arr)"
   ]
  },
  {
   "cell_type": "code",
   "execution_count": 88,
   "metadata": {},
   "outputs": [
    {
     "data": {
      "text/plain": [
       "[<matplotlib.lines.Line2D at 0x226309a6fc0>]"
      ]
     },
     "execution_count": 88,
     "metadata": {},
     "output_type": "execute_result"
    },
    {
     "data": {
      "image/png": "[encoded data removed]",
      "text/plain": [
       "<Figure size 640x480 with 1 Axes>"
      ]
     },
     "metadata": {},
     "output_type": "display_data"
    }
   ],
   "source": [
    "plt.plot(variances)"
   ]
  },
  {
   "cell_type": "code",
   "execution_count": null,
   "metadata": {},
   "outputs": [],
   "source": []
  }
 ],
 "metadata": {
  "kernelspec": {
   "display_name": "pytorch_gpu",
   "language": "python",
   "name": "python3"
  },
  "language_info": {
   "codemirror_mode": {
    "name": "ipython",
    "version": 3
   },
   "file_extension": ".py",
   "mimetype": "text/x-python",
   "name": "python",
   "nbconvert_exporter": "python",
   "pygments_lexer": "ipython3",
   "version": "3.12.3"
  }
 },
 "nbformat": 4,
 "nbformat_minor": 2
}
