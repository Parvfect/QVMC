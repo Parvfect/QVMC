{
 "cells": [
  {
   "cell_type": "markdown",
   "metadata": {},
   "source": [
    "## QVMC Intro\n",
    "Using the Illinois tutorial - https://clark.physics.illinois.edu/Tutorials/VMCIntroTutorial/index.html\n",
    "Hydrogen molecule - one spin up, one spin down."
   ]
  },
  {
   "cell_type": "code",
   "execution_count": 56,
   "metadata": {},
   "outputs": [],
   "source": [
    "import numpy as np\n",
    "import math\n",
    "import random\n",
    "import matplotlib.pyplot as plt\n",
    "from tqdm.notebook import tqdm"
   ]
  },
  {
   "cell_type": "code",
   "execution_count": 3,
   "metadata": {},
   "outputs": [],
   "source": [
    "def modulo(x):\n",
    "    return sum([i**2 for i in x])\n",
    "\n",
    "def euclidean_distance(r1, r2):\n",
    "\n",
    "    dist = 0\n",
    "    for i in range(len(r1)):\n",
    "        dist += (r1[i] - r2[i]) ** 2\n",
    "    \n",
    "    return np.sqrt(dist) "
   ]
  },
  {
   "cell_type": "markdown",
   "metadata": {},
   "source": [
    "### Trial Wavefunction 1 - Gaussian with a variational width"
   ]
  },
  {
   "cell_type": "code",
   "execution_count": 4,
   "metadata": {},
   "outputs": [],
   "source": [
    "def psi(coords, ions=None, alpha=0.5):\n",
    "    return math.exp(- alpha * (modulo(coords[0]) + modulo(coords[1])))"
   ]
  },
  {
   "cell_type": "markdown",
   "metadata": {},
   "source": [
    "### Accepting and rejecting moves"
   ]
  },
  {
   "cell_type": "code",
   "execution_count": 5,
   "metadata": {},
   "outputs": [],
   "source": [
    "def VMC(WF, ions, numSteps):\n",
    "\n",
    "    ratios = []\n",
    "    coords_arr = []\n",
    "\n",
    "    R = np.zeros((2, 2), float)\n",
    "    movesAttempted = 0.0\n",
    "    movesAccepted = 0.0\n",
    "    coords = np.zeros((2, 3))\n",
    "    original_WF = WF(coords, ions)\n",
    "    for step in range(numSteps):\n",
    "        for ptcl in range(len(R)):\n",
    "            a = 5  # Define movement parameters\n",
    "            # Implement move for particle 'ptcl'\n",
    "            delta = 1\n",
    "            move_coords = delta * 1.5 * np.random.rand(3)\n",
    "            move_coords[2] = 0\n",
    "            new_coords = coords.copy()\n",
    "\n",
    "            if random.random() <= 0.5:\n",
    "                new_coords[ptcl] += move_coords\n",
    "            else:\n",
    "                new_coords[ptcl] -= move_coords\n",
    "            \n",
    "            new_WF = WF(new_coords, ions)\n",
    "\n",
    "            if new_WF:\n",
    "                \n",
    "                ratio = (new_WF / original_WF) ** 2\n",
    "\n",
    "                if random.random() <= ratio:\n",
    "                    movesAccepted += 1\n",
    "                    coords_arr.append(new_coords[ptcl])\n",
    "                    #coords = new_coords.copy()\n",
    "                    #original_WF = new_WF\n",
    "                \n",
    "                ratio = min(1, ratio)\n",
    "                ratios.append(ratio)\n",
    "\n",
    "            movesAttempted += 1\n",
    "            \n",
    "    print(\"Acceptance ratio:\", movesAccepted/movesAttempted)\n",
    "    return coords_arr"
   ]
  },
  {
   "cell_type": "code",
   "execution_count": 6,
   "metadata": {},
   "outputs": [
    {
     "name": "stdout",
     "output_type": "stream",
     "text": [
      "Acceptance ratio: 0.3221\n"
     ]
    }
   ],
   "source": [
    "ions = np.array([[-0.7, 0.0, 0.0], [0.7, 0.0, 0.0]])\n",
    "coords_arr = VMC(psi, ions=ions, numSteps=10000)"
   ]
  },
  {
   "cell_type": "code",
   "execution_count": 7,
   "metadata": {},
   "outputs": [],
   "source": [
    "coords_x = [i[0] for i in coords_arr]"
   ]
  },
  {
   "cell_type": "code",
   "execution_count": 8,
   "metadata": {},
   "outputs": [
    {
     "data": {
      "text/plain": [
       "Text(0.5, 1.0, 'Electron density along x')"
      ]
     },
     "execution_count": 8,
     "metadata": {},
     "output_type": "execute_result"
    },
    {
     "data": {
      "image/png": "[encoded data removed]",
      "text/plain": [
       "<Figure size 640x480 with 1 Axes>"
      ]
     },
     "metadata": {},
     "output_type": "display_data"
    }
   ],
   "source": [
    "plt.hist(coords_x)\n",
    "plt.title(\"Electron density along x\")"
   ]
  },
  {
   "cell_type": "markdown",
   "metadata": {},
   "source": [
    "### Local energy"
   ]
  },
  {
   "cell_type": "code",
   "execution_count": 36,
   "metadata": {},
   "outputs": [],
   "source": [
    "def LaplacianPsiOverPsi(wavefunction, coords, alpha, ions=None, delta=1e-5):\n",
    "    return (wavefunction(coords +  delta, alpha=alpha) - 2 * wavefunction(coords, alpha=alpha) + wavefunction(coords - delta, alpha=alpha)) / delta ** 2\n",
    "\n",
    "def LocalEnergy(wavefunction, coords, ions, alpha):\n",
    "\n",
    "    kinetic_energy = - LaplacianPsiOverPsi(wavefunction, coords, alpha)\n",
    "    #print(kinetic_energy)\n",
    "\n",
    "    ion_electron_potential = 0\n",
    "\n",
    "    for i in coords:\n",
    "        for j in ions:\n",
    "            ion_electron_potential += 1 / euclidean_distance(i, j)\n",
    "\n",
    "    electron_electron_potential = 1 / (euclidean_distance(coords[1], coords[0]))\n",
    "\n",
    "    ion_ion_potential = 1 / (euclidean_distance(ions[0], ions[1]))\n",
    "\n",
    "    \"\"\"\n",
    "    print(f\"Electron potential {electron_electron_potential}\\n\"\n",
    "          f\"Ion potential {ion_ion_potential}\\n\"\n",
    "          f\"Ion electron potential {ion_electron_potential}\\n\"\n",
    "          f\"Kinetic energy {kinetic_energy}\"\n",
    "          )\n",
    "    \"\"\"\n",
    "\n",
    "    potential_energy = electron_electron_potential + ion_ion_potential - ion_electron_potential\n",
    "\n",
    "\n",
    "    return potential_energy + kinetic_energy"
   ]
  },
  {
   "cell_type": "code",
   "execution_count": 37,
   "metadata": {},
   "outputs": [
    {
     "ename": "TypeError",
     "evalue": "LocalEnergy() missing 1 required positional argument: 'alpha'",
     "output_type": "error",
     "traceback": [
      "\u001b[1;31m---------------------------------------------------------------------------\u001b[0m",
      "\u001b[1;31mTypeError\u001b[0m                                 Traceback (most recent call last)",
      "Cell \u001b[1;32mIn[37], line 8\u001b[0m\n\u001b[0;32m      5\u001b[0m \u001b[38;5;66;03m# Set your ions so that the bond length is 1.4\u001b[39;00m\n\u001b[0;32m      6\u001b[0m ions \u001b[38;5;241m=\u001b[39m np\u001b[38;5;241m.\u001b[39marray([[\u001b[38;5;241m-\u001b[39m\u001b[38;5;241m0.7\u001b[39m, \u001b[38;5;241m0.0\u001b[39m, \u001b[38;5;241m0.0\u001b[39m], [\u001b[38;5;241m0.7\u001b[39m, \u001b[38;5;241m0.0\u001b[39m, \u001b[38;5;241m0.0\u001b[39m]])\n\u001b[1;32m----> 8\u001b[0m \u001b[38;5;28mprint\u001b[39m(\u001b[43mLocalEnergy\u001b[49m\u001b[43m(\u001b[49m\u001b[43mpsi\u001b[49m\u001b[43m,\u001b[49m\u001b[43m \u001b[49m\u001b[43mR\u001b[49m\u001b[43m,\u001b[49m\u001b[43m \u001b[49m\u001b[43mions\u001b[49m\u001b[43m)\u001b[49m)\n",
      "\u001b[1;31mTypeError\u001b[0m: LocalEnergy() missing 1 required positional argument: 'alpha'"
     ]
    }
   ],
   "source": [
    "\n",
    "R = np.zeros((2,3), float)\n",
    "R[0] = [1.0, 0.3, 0.2]\n",
    "R[1] = [2.0, -0.2, 0.1]\n",
    "\n",
    "# Set your ions so that the bond length is 1.4\n",
    "ions = np.array([[-0.7, 0.0, 0.0], [0.7, 0.0, 0.0]])\n",
    "\n",
    "print(LocalEnergy(psi, R, ions))"
   ]
  },
  {
   "cell_type": "code",
   "execution_count": 60,
   "metadata": {},
   "outputs": [],
   "source": [
    "\n",
    "# Local energy addition\n",
    "\n",
    "def VMC_energy(WF, ions, numSteps, alpha):\n",
    "    \n",
    "    energies = []\n",
    "    R = np.zeros((2, 2), float)\n",
    "    movesAttempted = 0.0\n",
    "    movesAccepted = 0.0\n",
    "    coords = np.zeros((2, 3))\n",
    "\n",
    "    original_WF = WF(coords, ions, alpha)\n",
    "    for step in range(numSteps):\n",
    "        for ptcl in range(len(R)):\n",
    "            a = 5  # Define movement parameters\n",
    "            # Implement move for particle 'ptcl'\n",
    "            delta = 1\n",
    "            move_coords = delta * 1.5 * np.random.rand(3)\n",
    "            move_coords[2] = 0\n",
    "            new_coords = coords.copy()\n",
    "            new_coords[ptcl] += move_coords\n",
    "            new_WF = WF(new_coords, ions, alpha)\n",
    "\n",
    "            if new_WF:\n",
    "                \n",
    "                ratio = (new_WF / original_WF) ** 2\n",
    "\n",
    "                if random.random() <= ratio:\n",
    "                    movesAccepted += 1\n",
    "                    #coords = new_coords.copy()\n",
    "                    #original_WF = new_WF\n",
    "                    E = LocalEnergy(WF, new_coords, ions, alpha)\n",
    "                    energies.append(E)\n",
    "                ratio = min(1, ratio)\n",
    "\n",
    "            movesAttempted += 1\n",
    "            \n",
    "    print(\"Acceptance ratio:\", movesAccepted/movesAttempted)\n",
    "    return energies"
   ]
  },
  {
   "cell_type": "code",
   "execution_count": 61,
   "metadata": {},
   "outputs": [
    {
     "name": "stdout",
     "output_type": "stream",
     "text": [
      "Acceptance ratio: 0.3232\n"
     ]
    }
   ],
   "source": [
    "ions = np.array([[-0.7, 0.0, 0.0], [0.7, 0.0, 0.0]])\n",
    "energies = VMC_energy(psi, ions=ions, numSteps=10000, alpha=0.5)"
   ]
  },
  {
   "cell_type": "code",
   "execution_count": 54,
   "metadata": {},
   "outputs": [
    {
     "data": {
      "text/plain": [
       "np.float64(0.1156419336717569)"
      ]
     },
     "execution_count": 54,
     "metadata": {},
     "output_type": "execute_result"
    }
   ],
   "source": [
    "np.mean(energies)"
   ]
  },
  {
   "cell_type": "code",
   "execution_count": 35,
   "metadata": {},
   "outputs": [
    {
     "data": {
      "text/plain": [
       "[<matplotlib.lines.Line2D at 0x16164dbd7f0>]"
      ]
     },
     "execution_count": 35,
     "metadata": {},
     "output_type": "execute_result"
    },
    {
     "data": {
      "image/png": "[encoded data removed]",
      "text/plain": [
       "<Figure size 640x480 with 1 Axes>"
      ]
     },
     "metadata": {},
     "output_type": "display_data"
    }
   ],
   "source": [
    "plt.plot(energies)"
   ]
  },
  {
   "cell_type": "code",
   "execution_count": 40,
   "metadata": {},
   "outputs": [
    {
     "data": {
      "text/plain": [
       "np.float64(-421.61227528045833)"
      ]
     },
     "execution_count": 40,
     "metadata": {},
     "output_type": "execute_result"
    }
   ],
   "source": [
    "# Vary the local energy as we accept new positions - and then vary the parameter as well\n",
    "np.min(energies)"
   ]
  },
  {
   "cell_type": "code",
   "execution_count": 41,
   "metadata": {},
   "outputs": [
    {
     "data": {
      "text/plain": [
       "np.float64(0.24284760346474515)"
      ]
     },
     "execution_count": 41,
     "metadata": {},
     "output_type": "execute_result"
    }
   ],
   "source": [
    "np.mean(energies)"
   ]
  },
  {
   "cell_type": "code",
   "execution_count": null,
   "metadata": {},
   "outputs": [
    {
     "data": {
      "application/vnd.jupyter.widget-view+json": {
       "model_id": "28601effb6b14e758cca39b932c43396",
       "version_major": 2,
       "version_minor": 0
      },
      "text/plain": [
       "  0%|          | 0/20 [00:00<?, ?it/s]"
      ]
     },
     "metadata": {},
     "output_type": "display_data"
    },
    {
     "name": "stdout",
     "output_type": "stream",
     "text": [
      "Acceptance ratio: 1.0\n",
      "Acceptance ratio: 1.0\n",
      "Acceptance ratio: 1.0\n",
      "Acceptance ratio: 1.0\n",
      "Acceptance ratio: 1.0\n",
      "Acceptance ratio: 1.0\n",
      "Acceptance ratio: 1.0\n",
      "Acceptance ratio: 1.0\n",
      "Acceptance ratio: 1.0\n",
      "Acceptance ratio: 1.0\n",
      "Acceptance ratio: 1.0\n",
      "Acceptance ratio: 0.7546\n",
      "Acceptance ratio: 0.58445\n",
      "Acceptance ratio: 0.47215\n",
      "Acceptance ratio: 0.3883\n",
      "Acceptance ratio: 0.32195\n",
      "Acceptance ratio: 0.2773\n",
      "Acceptance ratio: 0.24675\n",
      "Acceptance ratio: 0.21795\n",
      "Acceptance ratio: 0.19155\n"
     ]
    }
   ],
   "source": [
    "# Marching alpha\n",
    "\n",
    "energies = []\n",
    "\n",
    "for alpha in tqdm(np.arange(0.0, 1.0, 0.01)):\n",
    "    local_energy_arr = VMC_energy(psi, ions=ions, numSteps=10000, alpha=alpha)\n",
    "    energies.append(np.mean(local_energy_arr))"
   ]
  },
  {
   "cell_type": "code",
   "execution_count": 65,
   "metadata": {},
   "outputs": [
    {
     "data": {
      "text/plain": [
       "[np.float64(-226.15156672561426),\n",
       " np.float64(-146.83409755426496),\n",
       " np.float64(-96.3333000362069),\n",
       " np.float64(-62.53774141001517),\n",
       " np.float64(-40.311183991662695),\n",
       " np.float64(-26.161152501999315),\n",
       " np.float64(-16.945063047308995),\n",
       " np.float64(-11.03587835656732),\n",
       " np.float64(-7.183497171553352),\n",
       " np.float64(-4.74715923403077),\n",
       " np.float64(-3.2075251649254723),\n",
       " np.float64(-2.2440901236223145),\n",
       " np.float64(-1.5651114447717587),\n",
       " np.float64(-0.9417590369218478),\n",
       " np.float64(-0.35578809853681376),\n",
       " np.float64(0.24569576064677603),\n",
       " np.float64(0.8764601926586844),\n",
       " np.float64(1.5324394245515143),\n",
       " np.float64(2.4050736675542463),\n",
       " np.float64(3.075724634728353)]"
      ]
     },
     "execution_count": 65,
     "metadata": {},
     "output_type": "execute_result"
    }
   ],
   "source": [
    "energies"
   ]
  },
  {
   "cell_type": "code",
   "execution_count": null,
   "metadata": {},
   "outputs": [],
   "source": []
  }
 ],
 "metadata": {
  "kernelspec": {
   "display_name": "pytorch_gpu",
   "language": "python",
   "name": "python3"
  },
  "language_info": {
   "codemirror_mode": {
    "name": "ipython",
    "version": 3
   },
   "file_extension": ".py",
   "mimetype": "text/x-python",
   "name": "python",
   "nbconvert_exporter": "python",
   "pygments_lexer": "ipython3",
   "version": "3.12.3"
  }
 },
 "nbformat": 4,
 "nbformat_minor": 2
}
