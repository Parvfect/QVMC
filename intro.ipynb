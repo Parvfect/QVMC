{
 "cells": [
  {
   "cell_type": "markdown",
   "metadata": {},
   "source": [
    "## QVMC Intro\n",
    "Using the Illinois tutorial - https://clark.physics.illinois.edu/Tutorials/VMCIntroTutorial/index.html\n",
    "Hydrogen molecule - one spin up, one spin down."
   ]
  },
  {
   "cell_type": "code",
   "execution_count": 7,
   "metadata": {},
   "outputs": [],
   "source": [
    "import numpy as np\n",
    "import math\n",
    "import random\n",
    "import matplotlib.pyplot as plt\n",
    "from tqdm.notebook import tqdm\n",
    "from stats import Stats"
   ]
  },
  {
   "cell_type": "code",
   "execution_count": 8,
   "metadata": {},
   "outputs": [],
   "source": [
    "def modulo(x):\n",
    "    return sum([i**2 for i in x])\n",
    "\n",
    "def euclidean_distance(r1, r2):\n",
    "\n",
    "    dist = 0\n",
    "    for i in range(len(r1)):\n",
    "        dist += (r1[i] - r2[i]) ** 2\n",
    "    \n",
    "    return np.sqrt(dist) "
   ]
  },
  {
   "cell_type": "markdown",
   "metadata": {},
   "source": [
    "### Trial Wavefunction 1 - Gaussian with a variational width"
   ]
  },
  {
   "cell_type": "code",
   "execution_count": 9,
   "metadata": {},
   "outputs": [],
   "source": [
    "def psi(coords, ions=None, alpha=0.5):\n",
    "    return np.exp(- alpha * (modulo(coords[0]) + modulo(coords[1])))\n"
   ]
  },
  {
   "cell_type": "code",
   "execution_count": 10,
   "metadata": {},
   "outputs": [
    {
     "ename": "NameError",
     "evalue": "name 'psi_' is not defined",
     "output_type": "error",
     "traceback": [
      "\u001b[1;31m---------------------------------------------------------------------------\u001b[0m",
      "\u001b[1;31mNameError\u001b[0m                                 Traceback (most recent call last)",
      "Cell \u001b[1;32mIn[10], line 1\u001b[0m\n\u001b[1;32m----> 1\u001b[0m \u001b[43mpsi_\u001b[49m(np\u001b[38;5;241m.\u001b[39marray([[\u001b[38;5;241m1.0\u001b[39m ,\u001b[38;5;241m0.5\u001b[39m ,\u001b[38;5;241m0.3\u001b[39m], [\u001b[38;5;241m-\u001b[39m\u001b[38;5;241m0.2\u001b[39m, \u001b[38;5;241m0.1\u001b[39m, \u001b[38;5;241m-\u001b[39m\u001b[38;5;241m0.1\u001b[39m]]))\n",
      "\u001b[1;31mNameError\u001b[0m: name 'psi_' is not defined"
     ]
    }
   ],
   "source": [
    "psi_(np.array([[1.0 ,0.5 ,0.3], [-0.2, 0.1, -0.1]]))"
   ]
  },
  {
   "cell_type": "code",
   "execution_count": 11,
   "metadata": {},
   "outputs": [
    {
     "data": {
      "text/plain": [
       "np.float64(0.49658530379140947)"
      ]
     },
     "execution_count": 11,
     "metadata": {},
     "output_type": "execute_result"
    }
   ],
   "source": [
    "coords = [[1.0 ,0.5 ,0.3], [-0.2, 0.1, -0.1]]\n",
    "psi(coords)"
   ]
  },
  {
   "cell_type": "markdown",
   "metadata": {},
   "source": [
    "### Accepting and rejecting moves"
   ]
  },
  {
   "cell_type": "code",
   "execution_count": 12,
   "metadata": {},
   "outputs": [],
   "source": [
    "def VMC(WF, ions, numSteps):\n",
    "\n",
    "    ratios = []\n",
    "    coords_arr = []\n",
    "\n",
    "    R = np.zeros((2, 2), float)\n",
    "    movesAttempted = 0.0\n",
    "    movesAccepted = 0.0\n",
    "    coords = np.zeros((2, 3))\n",
    "    original_WF = WF(coords, ions)\n",
    "    for step in range(numSteps):\n",
    "        for ptcl in range(len(R)):\n",
    "            a = 5  # Define movement parameters\n",
    "            # Implement move for particle 'ptcl'\n",
    "            delta = 1\n",
    "            move_coords = delta * 1.5 * np.random.rand(3)\n",
    "            move_coords[2] = 0\n",
    "            new_coords = coords.copy()\n",
    "\n",
    "            if random.random() <= 0.5:\n",
    "                new_coords[ptcl] += move_coords\n",
    "            else:\n",
    "                new_coords[ptcl] -= move_coords\n",
    "            \n",
    "            new_WF = WF(new_coords, ions)\n",
    "\n",
    "            if new_WF:\n",
    "                \n",
    "                ratio = (new_WF / original_WF) ** 2\n",
    "\n",
    "                if random.random() <= ratio:\n",
    "                    movesAccepted += 1\n",
    "                    coords_arr.append(new_coords[ptcl])\n",
    "                    #coords = new_coords.copy()\n",
    "                    #original_WF = new_WF\n",
    "                \n",
    "                ratio = min(1, ratio)\n",
    "                ratios.append(ratio)\n",
    "\n",
    "            movesAttempted += 1\n",
    "            \n",
    "    print(\"Acceptance ratio:\", movesAccepted / movesAttempted)\n",
    "    return coords_arr"
   ]
  },
  {
   "cell_type": "code",
   "execution_count": 13,
   "metadata": {},
   "outputs": [
    {
     "name": "stdout",
     "output_type": "stream",
     "text": [
      "Acceptance ratio: 0.3211\n"
     ]
    }
   ],
   "source": [
    "ions = np.array([[-0.7, 0.0, 0.0], [0.7, 0.0, 0.0]])\n",
    "coords_arr = VMC(psi, ions=ions, numSteps=10000)"
   ]
  },
  {
   "cell_type": "code",
   "execution_count": 14,
   "metadata": {},
   "outputs": [],
   "source": [
    "coords_x = [i[0] for i in coords_arr]"
   ]
  },
  {
   "cell_type": "code",
   "execution_count": 15,
   "metadata": {},
   "outputs": [
    {
     "data": {
      "text/plain": [
       "np.float64(5.0)"
      ]
     },
     "execution_count": 15,
     "metadata": {},
     "output_type": "execute_result"
    }
   ],
   "source": [
    "t = [4, 3, 0]\n",
    "\n",
    "np.linalg.norm(t)"
   ]
  },
  {
   "cell_type": "markdown",
   "metadata": {},
   "source": [
    "### Local energy"
   ]
  },
  {
   "cell_type": "code",
   "execution_count": 60,
   "metadata": {},
   "outputs": [],
   "source": [
    "def LaplacianPsiOverPsi(wavefunction, R, alpha, ions=None, delta=1e-3):\n",
    "    r_plus = np.copy(R)\n",
    "    r_minus = np.copy(R)\n",
    "    wavefunction_current = wavefunction(R)\n",
    "\n",
    "    kinetic_energy = 0.0\n",
    "    for i in range(2):\n",
    "        for j in range(3):\n",
    "            r_plus[i, j] += delta\n",
    "            r_minus[i, j] -= delta\n",
    "\n",
    "            wave_function_plus = wavefunction(r_plus)\n",
    "            wave_function_minus = wavefunction(r_minus)\n",
    "\n",
    "            kinetic_energy -= (\n",
    "                wave_function_minus + wave_function_plus - 2 * wavefunction_current)\n",
    "\n",
    "            r_plus[i, j] = R[i, j]\n",
    "            r_minus[i, j] = R[i, j]\n",
    "\n",
    "    # Kinetic energy\n",
    "    kinetic_energy = kinetic_energy *  0.5 * 1e6 / wavefunction_current\n",
    "\n",
    "    return kinetic_energy\n",
    "\n",
    "def analytical_KE(wavefunction, coords, alpha):\n",
    "\n",
    "    k1 = 4 * alpha ** 2 * (np.linalg.norm(coords[0]) ** 2 + np.linalg.norm(coords[1]) ** 2 )\n",
    "    k2 = 12 * alpha\n",
    "    return - (k1 - k2) * 0.5\n",
    "\n",
    "def LocalEnergy(wavefunction, coords, ions, alpha, display=False):\n",
    "\n",
    "    #kinetic_energy = LaplacianPsiOverPsi(wavefunction, coords, alpha)\n",
    "    kinetic_energy = analytical_KE(wavefunction, coords, alpha)\n",
    "    \n",
    "    ion_electron_potential = 0\n",
    "\n",
    "    for i in coords:\n",
    "        for j in ions:\n",
    "            ion_electron_potential -= 1 / euclidean_distance(i, j)\n",
    "\n",
    "    electron_electron_potential = 1 / (euclidean_distance(coords[1], coords[0]))\n",
    "\n",
    "    ion_ion_potential = 1 / (euclidean_distance(ions[0], ions[1]))\n",
    "\n",
    "    if display:\n",
    "        print(f\"Electron potential {electron_electron_potential}\\n\"\n",
    "            f\"Ion potential {ion_ion_potential}\\n\"\n",
    "            f\"Ion electron potential {ion_electron_potential}\\n\"\n",
    "            f\"Kinetic energy {kinetic_energy}\"\n",
    "            )\n",
    "    potential_energy = electron_electron_potential + ion_ion_potential + ion_electron_potential\n",
    "\n",
    "    return potential_energy + kinetic_energy"
   ]
  },
  {
   "cell_type": "code",
   "execution_count": 61,
   "metadata": {},
   "outputs": [
    {
     "name": "stdout",
     "output_type": "stream",
     "text": [
      "Electron potential 0.8908708063747479\n",
      "Ion potential 0.7142857142857143\n",
      "Ion electron potential -3.834647280046225\n",
      "Kinetic energy 0.41000000000000014\n",
      "-1.8194907593857623\n"
     ]
    }
   ],
   "source": [
    "\n",
    "R = np.zeros((2,3), float)\n",
    "R[0] = [1.0, 0.3, 0.2]\n",
    "R[1] = [2.0, -0.2, 0.1]\n",
    "\n",
    "# Set your ions so that the bond length is 1.4\n",
    "ions = np.array([[-0.7, 0.0, 0.0], [0.7, 0.0, 0.0]])\n",
    "\n",
    "print(LocalEnergy(psi, np.array([R[0], R[1]]), ions, alpha=0.5, display=True))"
   ]
  },
  {
   "cell_type": "code",
   "execution_count": 62,
   "metadata": {},
   "outputs": [
    {
     "data": {
      "text/plain": [
       "np.float64(0.41000000000000014)"
      ]
     },
     "execution_count": 62,
     "metadata": {},
     "output_type": "execute_result"
    }
   ],
   "source": [
    "analytical_KE(psi, R, alpha=0.5)"
   ]
  },
  {
   "cell_type": "code",
   "execution_count": 63,
   "metadata": {},
   "outputs": [],
   "source": [
    "\n",
    "# Local energy addition\n",
    "\n",
    "def VMC_energy(WF, ions, numSteps, alpha):\n",
    "    \n",
    "    movesAttempted = 0.0\n",
    "    movesAccepted = 0.0\n",
    "    E = 0\n",
    "    E2 = 0\n",
    "\n",
    "    coords = np.random.rand(2,3)\n",
    "\n",
    "    original_WF = WF(coords, alpha)\n",
    "\n",
    "    for step in range(numSteps):\n",
    "        for ptcl in range(2):\n",
    "\n",
    "            delta = 1.5\n",
    "            move_coords =  delta * (np.random.rand(3))\n",
    "            new_coords = coords.copy()\n",
    "\n",
    "            if random.random() > 0.5:\n",
    "                new_coords[ptcl] += move_coords\n",
    "            else:\n",
    "                new_coords[ptcl] -= move_coords\n",
    "            \n",
    "            new_WF = WF(new_coords, alpha)\n",
    "\n",
    "            ratio = (new_WF ** 2) / (original_WF ** 2)\n",
    "\n",
    "            if random.random() <= ratio:\n",
    "                movesAccepted += 1\n",
    "                coords = new_coords.copy()\n",
    "                original_WF = new_WF\n",
    "\n",
    "            dE = LocalEnergy(\n",
    "                WF, coords, ions, alpha)\n",
    "            E += dE\n",
    "            E2 += dE ** 2\n",
    "            movesAttempted += 1\n",
    "\n",
    "\n",
    "    n_samples = numSteps * 2\n",
    "    E_mean = E / n_samples\n",
    "    var = (E2 / n_samples) - E_mean ** 2 \n",
    "\n",
    "    #print(\"Acceptance ratio:\", movesAccepted/movesAttempted)\n",
    "    return E_mean, var"
   ]
  },
  {
   "cell_type": "code",
   "execution_count": 68,
   "metadata": {},
   "outputs": [],
   "source": [
    "ions = np.array([[-0.7, 0.0, 0.0], [0.7, 0.0, 0.0]])\n",
    "energies = VMC_energy(psi, ions=ions, numSteps=100000, alpha=0.1)"
   ]
  },
  {
   "cell_type": "code",
   "execution_count": 70,
   "metadata": {},
   "outputs": [
    {
     "data": {
      "text/plain": [
       "(np.float64(-1.818699859992367), np.float64(1.7830647115633633))"
      ]
     },
     "execution_count": 70,
     "metadata": {},
     "output_type": "execute_result"
    }
   ],
   "source": [
    "energies"
   ]
  },
  {
   "cell_type": "code",
   "execution_count": 52,
   "metadata": {},
   "outputs": [
    {
     "data": {
      "application/vnd.jupyter.widget-view+json": {
       "model_id": "7acf4b1762f94276823084a2539e6759",
       "version_major": 2,
       "version_minor": 0
      },
      "text/plain": [
       "  0%|          | 0/17 [00:00<?, ?it/s]"
      ]
     },
     "metadata": {},
     "output_type": "display_data"
    }
   ],
   "source": [
    "# Marching alpha\n",
    "\n",
    "energies_arr= []\n",
    "variances_arr = []\n",
    "alpha_arr = np.arange(0.1, 0.6, 0.03)\n",
    "\n",
    "for alpha in tqdm(alpha_arr):\n",
    "    energy, variance = VMC_energy(psi, ions=ions, numSteps=10000, alpha=alpha)\n",
    "    energies_arr.append(energy)\n",
    "    variances_arr.append(variance)"
   ]
  },
  {
   "cell_type": "code",
   "execution_count": 54,
   "metadata": {},
   "outputs": [
    {
     "data": {
      "text/plain": [
       "[np.float64(-1.8389319466296823),\n",
       " np.float64(-1.7252998876204102),\n",
       " np.float64(-1.5592283759886223),\n",
       " np.float64(-1.4114415307899995),\n",
       " np.float64(-1.3268680162294206),\n",
       " np.float64(-1.242925297099887),\n",
       " np.float64(-1.177156273897425),\n",
       " np.float64(-1.0839122537062038),\n",
       " np.float64(-1.0788619440974716),\n",
       " np.float64(-0.9919207285489574),\n",
       " np.float64(-0.8843811451195066),\n",
       " np.float64(-0.8931046018531968),\n",
       " np.float64(-0.8707587935987602),\n",
       " np.float64(-0.8220798295800167),\n",
       " np.float64(-0.8467476704176923),\n",
       " np.float64(-0.8689066782192576),\n",
       " np.float64(-0.8787021701875352)]"
      ]
     },
     "execution_count": 54,
     "metadata": {},
     "output_type": "execute_result"
    }
   ],
   "source": [
    "energies_arr"
   ]
  },
  {
   "cell_type": "code",
   "execution_count": 53,
   "metadata": {},
   "outputs": [
    {
     "data": {
      "text/plain": [
       "[<matplotlib.lines.Line2D at 0x1f62fc845f0>]"
      ]
     },
     "execution_count": 53,
     "metadata": {},
     "output_type": "execute_result"
    },
    {
     "data": {
      "image/png": "[encoded data removed]",
      "text/plain": [
       "<Figure size 640x480 with 1 Axes>"
      ]
     },
     "metadata": {},
     "output_type": "display_data"
    }
   ],
   "source": [
    "plt.plot(alpha_arr, energies_arr)"
   ]
  },
  {
   "cell_type": "code",
   "execution_count": 88,
   "metadata": {},
   "outputs": [
    {
     "data": {
      "text/plain": [
       "[np.float64(1.7887068485838067),\n",
       " np.float64(1.2774813410436163),\n",
       " np.float64(1.78741885280265),\n",
       " np.float64(1.418414557018304),\n",
       " np.float64(1.303232662434587),\n",
       " np.float64(1.3175557546473673),\n",
       " np.float64(1.4036888910018246),\n",
       " np.float64(1.375750330703632),\n",
       " np.float64(1.190929742943898),\n",
       " np.float64(2.61871735296424),\n",
       " np.float64(1.8097413690564612),\n",
       " np.float64(1.5427995719170275),\n",
       " np.float64(1.981562277531164),\n",
       " np.float64(1.1949115719229308),\n",
       " np.float64(1.4131013985620933),\n",
       " np.float64(1.8460131771859163),\n",
       " np.float64(0.9871064158072744),\n",
       " np.float64(1.8080588846552716),\n",
       " np.float64(1.7837858367719992),\n",
       " np.float64(1.2429498403618995),\n",
       " np.float64(1.4983102637173629),\n",
       " np.float64(1.2846554104793566),\n",
       " np.float64(2.07000190036569),\n",
       " np.float64(1.060419305889698),\n",
       " np.float64(1.2644415048119058),\n",
       " np.float64(1.736492016088294),\n",
       " np.float64(2.7268945756421235),\n",
       " np.float64(1.254744679928106),\n",
       " np.float64(1.0817494141115653),\n",
       " np.float64(1.5297643402544967),\n",
       " np.float64(1.2719031087930859),\n",
       " np.float64(1.7234265253552556),\n",
       " np.float64(1.7953885591366434),\n",
       " np.float64(1.6108168620105032),\n",
       " np.float64(1.2548961667612617),\n",
       " np.float64(1.6794846272821795),\n",
       " np.float64(1.5851355420612125),\n",
       " np.float64(1.7946529216701266),\n",
       " np.float64(1.8148291591772763),\n",
       " np.float64(1.0425060121037855),\n",
       " np.float64(1.1875633104326164),\n",
       " np.float64(1.1439867881289676),\n",
       " np.float64(1.3620470125755173),\n",
       " np.float64(1.3304751219163915),\n",
       " np.float64(1.4813512882035262),\n",
       " np.float64(1.0843181188839002),\n",
       " np.float64(1.2841131376602803),\n",
       " np.float64(3.0947478272602496),\n",
       " np.float64(1.562547028049981),\n",
       " np.float64(1.550695382968581)]"
      ]
     },
     "execution_count": 88,
     "metadata": {},
     "output_type": "execute_result"
    }
   ],
   "source": [
    "variances_arr"
   ]
  },
  {
   "cell_type": "code",
   "execution_count": 87,
   "metadata": {},
   "outputs": [
    {
     "data": {
      "text/plain": [
       "[<matplotlib.lines.Line2D at 0x1eb23ea5670>]"
      ]
     },
     "execution_count": 87,
     "metadata": {},
     "output_type": "execute_result"
    },
    {
     "data": {
      "image/png": "[encoded data removed]",
      "text/plain": [
       "<Figure size 640x480 with 1 Axes>"
      ]
     },
     "metadata": {},
     "output_type": "display_data"
    }
   ],
   "source": [
    "plt.plot(alpha_arr, variances_arr)"
   ]
  },
  {
   "cell_type": "code",
   "execution_count": 73,
   "metadata": {},
   "outputs": [
    {
     "data": {
      "text/plain": [
       "[np.float64(-1.1017817472962497),\n",
       " np.float64(-3.7603918117437694),\n",
       " np.float64(-1.799449147373918),\n",
       " np.float64(-1.6364581668574258),\n",
       " np.float64(-1.3299913190175836),\n",
       " np.float64(-1.8188621805083054),\n",
       " np.float64(-0.88700139675752),\n",
       " np.float64(-3.9065942954960065),\n",
       " np.float64(-22.798927203035568),\n",
       " np.float64(-1.2042415525140986),\n",
       " np.float64(-1.0581808374636632),\n",
       " np.float64(-2.039185023386334),\n",
       " np.float64(-2.3093198932641545),\n",
       " np.float64(-5.453381226104222),\n",
       " np.float64(-1.697735018668197),\n",
       " np.float64(-1.4292296328941203),\n",
       " np.float64(-4.765163759740384),\n",
       " np.float64(-1.0479414545909498),\n",
       " np.float64(-1.1943164979087004),\n",
       " np.float64(-1.278486139853719),\n",
       " np.float64(-1.4915371575783885),\n",
       " np.float64(-2.8515814872717375),\n",
       " np.float64(-0.9614259585153497),\n",
       " np.float64(-0.8331302665768634),\n",
       " np.float64(-0.8211417020107772),\n",
       " np.float64(-0.8521428117252845),\n",
       " np.float64(-2.0832005745563933),\n",
       " np.float64(-0.9369282617457921),\n",
       " np.float64(-1.4209924713842512),\n",
       " np.float64(-2.1401260106616733),\n",
       " np.float64(-1.0991353191781092),\n",
       " np.float64(-0.8927636962068125),\n",
       " np.float64(-1.016545975503528),\n",
       " np.float64(-1.681972881386562),\n",
       " np.float64(-1.9345020528311538),\n",
       " np.float64(-1.6308415811009898),\n",
       " np.float64(-2.498272138871165),\n",
       " np.float64(-1.4901405676701986),\n",
       " np.float64(-2.3593686142079657),\n",
       " np.float64(-2.5313784875509437),\n",
       " np.float64(-2.6645321820430636),\n",
       " np.float64(-1.4036425277329947),\n",
       " np.float64(-1.2287939882299193),\n",
       " np.float64(-1.3629878344036537),\n",
       " np.float64(-1.5548057432333873),\n",
       " np.float64(-0.8066225903247514),\n",
       " np.float64(-2.0932145333033434),\n",
       " np.float64(-1.7259350345114974),\n",
       " np.float64(-2.189045388149101),\n",
       " np.float64(-1.0036596557636086)]"
      ]
     },
     "execution_count": 73,
     "metadata": {},
     "output_type": "execute_result"
    }
   ],
   "source": [
    "variances_arr"
   ]
  },
  {
   "cell_type": "code",
   "execution_count": null,
   "metadata": {},
   "outputs": [],
   "source": []
  }
 ],
 "metadata": {
  "kernelspec": {
   "display_name": "pytorch_gpu",
   "language": "python",
   "name": "python3"
  },
  "language_info": {
   "codemirror_mode": {
    "name": "ipython",
    "version": 3
   },
   "file_extension": ".py",
   "mimetype": "text/x-python",
   "name": "python",
   "nbconvert_exporter": "python",
   "pygments_lexer": "ipython3",
   "version": "3.12.3"
  }
 },
 "nbformat": 4,
 "nbformat_minor": 2
}
