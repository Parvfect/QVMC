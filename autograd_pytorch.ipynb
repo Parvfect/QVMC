{
 "cells": [
  {
   "cell_type": "code",
   "execution_count": 1,
   "id": "e99d2788",
   "metadata": {},
   "outputs": [],
   "source": [
    "import torch\n",
    "import numpy as np\n",
    "from tqdm import tqdm"
   ]
  },
  {
   "cell_type": "code",
   "execution_count": 2,
   "id": "094b1565",
   "metadata": {},
   "outputs": [
    {
     "name": "stdout",
     "output_type": "stream",
     "text": [
      "(tensor(-0.5851, dtype=torch.float64), tensor(2.5131, dtype=torch.float64), tensor(0.6771, dtype=torch.float64), tensor(-2.5998, dtype=torch.float64))\n"
     ]
    }
   ],
   "source": [
    "\n",
    "# Define alphas as torch tensors with requires_grad=True\n",
    "alpha_1 = torch.tensor(1.013, dtype=torch.float64, requires_grad=True)\n",
    "alpha_2 = torch.tensor(0.2119, dtype=torch.float64, requires_grad=True)\n",
    "alpha_3 = torch.tensor(0.1406, dtype=torch.float64, requires_grad=True)\n",
    "alpha_4 = torch.tensor(0.003, dtype=torch.float64, requires_grad=True)\n",
    "\n",
    "alphas = [alpha_1, alpha_2, alpha_3, alpha_4]\n",
    "\n",
    "# psi function using torch\n",
    "def psi(x, y, alpha_1, alpha_2, alpha_3, alpha_4):\n",
    "    r1 = torch.norm(x)\n",
    "    r2 = torch.norm(y)\n",
    "    r12 = torch.norm(x - y)\n",
    "\n",
    "    term1 = torch.exp(-2 * (r1 + r2))\n",
    "    term2 = 1 + 0.5 * r12 * torch.exp(-alpha_1 * r12)\n",
    "    term3 = 1 + alpha_2 * (r1 + r2) * r12 + alpha_3 * (r1 - r2)**2 - alpha_4 * r12\n",
    "\n",
    "    return term1 * term2 * term3\n",
    "\n",
    "# Tensors with gradients enabled\n",
    "x = torch.tensor([0.2, 0.3, 0.1], dtype=torch.float64, requires_grad=True)\n",
    "y = torch.tensor([0.1, 0.4, 0.3], dtype=torch.float64, requires_grad=True)\n",
    "\n",
    "# Compute psi\n",
    "psi_val = psi(x, y, *alphas)\n",
    "\n",
    "# First gradients w.r.t. x and y\n",
    "grad_x = torch.autograd.grad(psi_val, x, create_graph=True)[0]\n",
    "grad_y = torch.autograd.grad(psi_val, y, create_graph=True)[0]\n",
    "\n",
    "# Laplacians\n",
    "laplacian_x = sum(torch.autograd.grad(grad_x[i], x, retain_graph=True, create_graph=True)[0][i] for i in range(3))\n",
    "laplacian_y = sum(torch.autograd.grad(grad_y[i], y, retain_graph=True, create_graph=True)[0][i] for i in range(3))\n",
    "\n",
    "lap = laplacian_x + laplacian_y\n",
    "# Derivatives of Laplacians w.r.t. alphas\n",
    "dlap_dalpha = torch.autograd.grad(lap, alphas, retain_graph=True)\n",
    "\n",
    "\n",
    "print(dlap_dalpha)"
   ]
  },
  {
   "cell_type": "code",
   "execution_count": 3,
   "id": "28bb34f4",
   "metadata": {},
   "outputs": [],
   "source": [
    "\"\"\"\n",
    "def local_energy(psi_val, r1, r2):\n",
    "    grad_x = torch.autograd.grad(psi_val, r1, create_graph=True)[0]\n",
    "    grad_y = torch.autograd.grad(psi_val, r2, create_graph=True)[0]\n",
    "\n",
    "    # Laplacians\n",
    "    laplacian_x = sum(torch.autograd.grad(grad_x[i], r1, retain_graph=True, create_graph=True)[0][i] for i in range(3))\n",
    "    laplacian_y = sum(torch.autograd.grad(grad_y[i], r2, retain_graph=True, create_graph=True)[0][i] for i in range(3))\n",
    "\n",
    "    ke = - 0.5 * (laplacian_x + laplacian_y)\n",
    "\n",
    "    return - 2 / torch.norm(r1) - 2 / torch.norm(r2) + 1 / torch.norm(r1 - r2) + ke\n",
    "\"\"\"\n",
    "\n",
    "def local_energy(psi_val, r1, r2):\n",
    "    grad_r1 = torch.autograd.grad(psi_val, r1, create_graph=True)[0]\n",
    "    grad_r2 = torch.autograd.grad(psi_val, r2, create_graph=True)[0]\n",
    "\n",
    "    lap_r1 = torch.autograd.grad(grad_r1, r1, grad_outputs=torch.ones_like(grad_r1), create_graph=True)[0]\n",
    "    lap_r2 = torch.autograd.grad(grad_r2, r2, grad_outputs=torch.ones_like(grad_r2), create_graph=True)[0]\n",
    "\n",
    "    laplacian = lap_r1.sum() + lap_r2.sum()\n",
    "    ke = -0.5 * laplacian\n",
    "\n",
    "    potential = -2 / torch.norm(r1) - 2 / torch.norm(r2) + 1 / torch.norm(r1 - r2)\n",
    "\n",
    "    return ke + potential\n"
   ]
  },
  {
   "cell_type": "code",
   "execution_count": 4,
   "id": "1ea8fd35",
   "metadata": {},
   "outputs": [
    {
     "name": "stderr",
     "output_type": "stream",
     "text": [
      "  0%|          | 0/10000 [00:00<?, ?it/s]"
     ]
    },
    {
     "name": "stderr",
     "output_type": "stream",
     "text": [
      "100%|██████████| 10000/10000 [00:04<00:00, 2157.45it/s]\n"
     ]
    }
   ],
   "source": [
    "L = 1\n",
    "r1 = torch.rand(3, requires_grad=True) * 2 * L - L\n",
    "r2 = torch.rand(3, requires_grad=True) * 2 * L - L #random number from -L to L\n",
    "E = 0\n",
    "E2 = 0\n",
    "Eln_average = 0\n",
    "ln_average = 0\n",
    "rejection_ratio = 0\n",
    "step = 0\n",
    "max_steps = 500\n",
    "N = 10000\n",
    "dlap_dalpha = 0\n",
    "xs = []\n",
    "ys = []\n",
    "psi_vals = []\n",
    "\n",
    "for i in tqdm(range(N)):\n",
    "    flag = False\n",
    "    chose = np.random.rand()\n",
    "    step = step + 1\n",
    "    if chose < 0.5:\n",
    "        r1_trial = r1 + 0.5 * (torch.rand(3) * 2 * L-L)\n",
    "        r2_trial = r2\n",
    "    else:\n",
    "        r2_trial = r2 + 0.5 * (torch.rand(3) * 2 * L-L)\n",
    "        r1_trial = r1\n",
    "\n",
    "\n",
    "    psi_val = psi(r1, r2, *alphas)\n",
    "    psi_val_trial = psi(r1_trial, r2_trial, *alphas)\n",
    "    \n",
    "\n",
    "    if psi_val_trial.item() >= psi_val.item():\n",
    "        r1 = r1_trial\n",
    "        r2 = r2_trial\n",
    "        flag = True\n",
    "    \n",
    "    else:\n",
    "        dummy = np.random.rand()\n",
    "        if dummy < psi_val_trial.item() / psi_val.item():\n",
    "            r1 = r1_trial\n",
    "            r2 = r2_trial\n",
    "        else:\n",
    "            rejection_ratio += 1./N\n",
    "            \n",
    "    if step > max_steps:\n",
    "        xs.append(r1)\n",
    "        ys.append(r2)\n",
    "\n",
    "        if flag:\n",
    "            psi_vals.append(psi_val_trial)\n",
    "        else:\n",
    "            psi_vals.append(psi_val)\n",
    "        \"\"\"\n",
    "        local_E = local_energy(psi_val_trial, r1, r2)\n",
    "        E += local_E / (N - max_steps)\n",
    "        E2 += local_E ** 2 / (N - max_steps)\n",
    "        dlap_dalpha += torch.tensor(torch.autograd.grad(local_E, alphas, retain_graph=True)) / (N - max_steps)\n",
    "        \"\"\"\n",
    "\n",
    "\n",
    "\n"
   ]
  },
  {
   "cell_type": "code",
   "execution_count": 5,
   "id": "b94a09ec",
   "metadata": {},
   "outputs": [],
   "source": [
    "alpha_1 = torch.tensor(1.013, dtype=torch.float64, requires_grad=True)\n",
    "alpha_2 = torch.tensor(0.2119, dtype=torch.float64, requires_grad=True)\n",
    "alpha_3 = torch.tensor(0.1406, dtype=torch.float64, requires_grad=True)\n",
    "alpha_4 = torch.tensor(0.003, dtype=torch.float64, requires_grad=True)"
   ]
  },
  {
   "cell_type": "code",
   "execution_count": 6,
   "id": "459d67f9",
   "metadata": {},
   "outputs": [],
   "source": [
    "from torch.func import grad, vmap"
   ]
  },
  {
   "cell_type": "code",
   "execution_count": 7,
   "id": "1ab1654c",
   "metadata": {},
   "outputs": [],
   "source": [
    "import torch\n",
    "from torch.autograd.functional import jacobian\n",
    "\n",
    "# Original scalar-valued psi\n",
    "def psi(X):\n",
    "    x = X[:3]\n",
    "    y = X[3:6]\n",
    "    alpha_1, alpha_2, alpha_3, alpha_4 = X[6:]\n",
    "    r1 = torch.norm(x)\n",
    "    r2 = torch.norm(y)\n",
    "    r12 = torch.norm(x - y)\n",
    "\n",
    "    term1 = torch.exp(-2 * (r1 + r2))\n",
    "    term2 = 1 + 0.5 * r12 * torch.exp(-alpha_1 * r12)\n",
    "    term3 = 1 + alpha_2 * (r1 + r2) * r12 + alpha_3 * (r1 - r2)**2 - alpha_4 * r12\n",
    "\n",
    "    return term1 * term2 * term3"
   ]
  },
  {
   "cell_type": "code",
   "execution_count": 171,
   "id": "66f83d06",
   "metadata": {},
   "outputs": [],
   "source": [
    "t = vmap(psi)"
   ]
  },
  {
   "cell_type": "code",
   "execution_count": 8,
   "id": "6cadd113",
   "metadata": {},
   "outputs": [],
   "source": [
    "inputs = []\n",
    "for i in range(len(xs)):\n",
    "    inputs.append(torch.tensor([*xs[i], *ys[i], alpha_1, alpha_2, alpha_3, alpha_4]))"
   ]
  },
  {
   "cell_type": "code",
   "execution_count": 9,
   "id": "2cfb4209",
   "metadata": {},
   "outputs": [],
   "source": [
    "inputs = torch.stack(inputs)"
   ]
  },
  {
   "cell_type": "code",
   "execution_count": 10,
   "id": "321df7e4",
   "metadata": {},
   "outputs": [],
   "source": [
    "s = vmap(grad(psi))"
   ]
  },
  {
   "cell_type": "markdown",
   "id": "bf75e22a",
   "metadata": {},
   "source": [
    "## Verifying the analytical expressions for the deriviatives"
   ]
  },
  {
   "cell_type": "code",
   "execution_count": 11,
   "id": "1a6b234e",
   "metadata": {},
   "outputs": [],
   "source": [
    "from torch.autograd.functional import jacobian, hessian"
   ]
  },
  {
   "cell_type": "code",
   "execution_count": 86,
   "id": "815a235b",
   "metadata": {},
   "outputs": [],
   "source": [
    "def psi__(X):\n",
    "    x = X[:3]\n",
    "    y = X[3:6]\n",
    "    alpha_1, alpha_2, alpha_3, alpha_4 = X[6:]\n",
    "    r1 = torch.norm(x)\n",
    "    r2 = torch.norm(y)\n",
    "    r12 = torch.norm(x - y)\n",
    "\n",
    "    term1 = torch.exp(-2 * (r1 + r2))\n",
    "    term2 = 1 + 0.5 * r12 * torch.exp(-alpha_1 * r12)\n",
    "    term3 = 1 + alpha_2 * (r1 + r2) * r12 + alpha_3 * (r1 - r2)**2 - alpha_4 * r12\n",
    "\n",
    "    return term3\n",
    "    #return #term1 * term2 * term3"
   ]
  },
  {
   "cell_type": "code",
   "execution_count": null,
   "id": "cc47aa7a",
   "metadata": {},
   "outputs": [],
   "source": [
    "def psi_c_first(X):\n",
    "    x = X[:3]\n",
    "    y = X[3:6]\n",
    "    alpha_1, alpha_2, alpha_3, alpha_4 = X[6:]\n",
    "    r1 = torch.norm(x)\n",
    "    r1_ = sum(x)\n",
    "    r2_ = sum(y)\n",
    "    r2 = torch.norm(y)\n",
    "    r12 = torch.norm(x - y)\n",
    "    r12_ = sum(x - y)\n",
    "\n",
    "    i = 0\n",
    "\n",
    "    return [alpha_2 * (r1 + r2) * ((x[i] - y[i])/r12) + alpha_2 * r12 * (x[i]/r1) + 2 * (r1 - r2) * alpha_3 * (x[i]/r1) - alpha_4 * (x[i] - y[i])/r12 for i in range(3)] + [- alpha_2 * (r1 + r2) * ((x[i] - y[i])/r12) + alpha_2 * r12 * (y[i]/r2) + 2 * (r1 - r2) * alpha_3 * (y[i]/r2) + alpha_4 * (x[i] - y[i])/r12 for i in range(3)]"
   ]
  },
  {
   "cell_type": "code",
   "execution_count": 93,
   "id": "88cde1b7",
   "metadata": {},
   "outputs": [],
   "source": [
    "t = jacobian(psi__, inputs[sample])"
   ]
  },
  {
   "cell_type": "code",
   "execution_count": 102,
   "id": "ec40858f",
   "metadata": {},
   "outputs": [],
   "source": [
    "s = psi_c_first(inputs[sample])"
   ]
  },
  {
   "cell_type": "code",
   "execution_count": 95,
   "id": "4f5517ec",
   "metadata": {},
   "outputs": [
    {
     "name": "stdout",
     "output_type": "stream",
     "text": [
      "tensor([ 0.4480,  1.7283,  0.1417,  0.0583, -0.8553, -0.2798,  0.0000, 10.7326,\n",
      "         2.2143, -2.5474], dtype=torch.float64)\n"
     ]
    }
   ],
   "source": [
    "print(t)"
   ]
  },
  {
   "cell_type": "code",
   "execution_count": 103,
   "id": "a3112dde",
   "metadata": {},
   "outputs": [
    {
     "name": "stdout",
     "output_type": "stream",
     "text": [
      "tensor(0.4480, dtype=torch.float64)\n"
     ]
    }
   ],
   "source": [
    "print(s)"
   ]
  },
  {
   "cell_type": "code",
   "execution_count": 76,
   "id": "e3913b1e",
   "metadata": {},
   "outputs": [
    {
     "data": {
      "text/plain": [
       "[tensor(-0.0002, dtype=torch.float64),\n",
       " tensor(-0.0004, dtype=torch.float64),\n",
       " tensor(3.0665e-05, dtype=torch.float64),\n",
       " tensor(-0.0004, dtype=torch.float64),\n",
       " tensor(-3.1355e-05, dtype=torch.float64),\n",
       " tensor(0.0003, dtype=torch.float64)]"
      ]
     },
     "execution_count": 76,
     "metadata": {},
     "output_type": "execute_result"
    }
   ],
   "source": [
    "s"
   ]
  },
  {
   "cell_type": "code",
   "execution_count": 52,
   "id": "681c78b6",
   "metadata": {},
   "outputs": [],
   "source": [
    "from analytical_expressions import psi_a_second, psi_b_second, psi_c_second"
   ]
  },
  {
   "cell_type": "code",
   "execution_count": 60,
   "id": "0d15a308",
   "metadata": {},
   "outputs": [],
   "source": [
    "sample = 133\n",
    "\n",
    "hes = torch.diag(hessian(psi__, inputs[sample]))[0:6]\n",
    "psia__ = psi_a_second(inputs[sample])\n",
    "psib__ = psi_b_second(inputs[sample])\n",
    "psic__ = psi_c_second(inputs[sample])"
   ]
  },
  {
   "cell_type": "code",
   "execution_count": 68,
   "id": "ae0c6138",
   "metadata": {},
   "outputs": [
    {
     "data": {
      "text/plain": [
       "[tensor(3.3238e-05, dtype=torch.float64),\n",
       " tensor(0.0007, dtype=torch.float64),\n",
       " tensor(-0.0001, dtype=torch.float64),\n",
       " tensor(0.0005, dtype=torch.float64),\n",
       " tensor(-0.0003, dtype=torch.float64),\n",
       " tensor(8.8504e-05, dtype=torch.float64)]"
      ]
     },
     "execution_count": 68,
     "metadata": {},
     "output_type": "execute_result"
    }
   ],
   "source": [
    "psia__"
   ]
  },
  {
   "cell_type": "code",
   "execution_count": 66,
   "id": "84011470",
   "metadata": {},
   "outputs": [
    {
     "data": {
      "text/plain": [
       "[tensor(3.3238e-05, dtype=torch.float64),\n",
       " tensor(0.0007, dtype=torch.float64),\n",
       " tensor(-0.0001, dtype=torch.float64),\n",
       " tensor(0.0005, dtype=torch.float64),\n",
       " tensor(-0.0003, dtype=torch.float64),\n",
       " tensor(8.8504e-05, dtype=torch.float64),\n",
       " tensor(-0.0234, dtype=torch.float64),\n",
       " tensor(0.0197, dtype=torch.float64),\n",
       " tensor(-0.0210, dtype=torch.float64),\n",
       " tensor(-0.0234, dtype=torch.float64),\n",
       " tensor(0.0197, dtype=torch.float64),\n",
       " tensor(-0.0210, dtype=torch.float64),\n",
       " tensor(0.6828, dtype=torch.float64),\n",
       " tensor(0.6826, dtype=torch.float64),\n",
       " tensor(0.6590, dtype=torch.float64),\n",
       " tensor(0.5477, dtype=torch.float64),\n",
       " tensor(0.0805, dtype=torch.float64),\n",
       " tensor(0.5431, dtype=torch.float64)]"
      ]
     },
     "execution_count": 66,
     "metadata": {},
     "output_type": "execute_result"
    }
   ],
   "source": [
    "analytical"
   ]
  },
  {
   "cell_type": "code",
   "execution_count": 65,
   "id": "3321427a",
   "metadata": {},
   "outputs": [
    {
     "name": "stdout",
     "output_type": "stream",
     "text": [
      "tensor(9.5743e-05, dtype=torch.float64)\n",
      "tensor(3.3238e-05, dtype=torch.float64)\n",
      "tensor(False)\n",
      "tensor(0.0015, dtype=torch.float64)\n",
      "tensor(0.0007, dtype=torch.float64)\n",
      "tensor(False)\n",
      "tensor(-0.0004, dtype=torch.float64)\n",
      "tensor(-0.0001, dtype=torch.float64)\n",
      "tensor(False)\n",
      "tensor(0.0019, dtype=torch.float64)\n",
      "tensor(0.0005, dtype=torch.float64)\n",
      "tensor(False)\n",
      "tensor(-0.0012, dtype=torch.float64)\n",
      "tensor(-0.0003, dtype=torch.float64)\n",
      "tensor(False)\n",
      "tensor(0.0003, dtype=torch.float64)\n",
      "tensor(8.8504e-05, dtype=torch.float64)\n",
      "tensor(False)\n"
     ]
    }
   ],
   "source": [
    "for i, j in zip(hes, analytical):\n",
    "    print(i)\n",
    "    print(j)\n",
    "    print(i==j)"
   ]
  },
  {
   "cell_type": "code",
   "execution_count": 42,
   "id": "ed37fd1f",
   "metadata": {},
   "outputs": [
    {
     "name": "stdout",
     "output_type": "stream",
     "text": [
      "[tensor(3.3238e-05, dtype=torch.float64), tensor(0.0007, dtype=torch.float64), tensor(-0.0001, dtype=torch.float64), tensor(0.0005, dtype=torch.float64), tensor(-0.0003, dtype=torch.float64), tensor(8.8504e-05, dtype=torch.float64)]\n"
     ]
    }
   ],
   "source": [
    "print(psi_a_second(inputs[sample]))"
   ]
  },
  {
   "cell_type": "code",
   "execution_count": 141,
   "id": "4a2515b1",
   "metadata": {},
   "outputs": [
    {
     "name": "stdout",
     "output_type": "stream",
     "text": [
      "Hessian is tensor([-0.0021,  0.0081, -0.0031,  0.0003, -0.0027,  0.0057],\n",
      "       dtype=torch.float64)\n",
      "Analytical is [tensor(-0.0021, dtype=torch.float64, grad_fn=<MulBackward0>), tensor(0.0081, dtype=torch.float64, grad_fn=<MulBackward0>), tensor(-0.0031, dtype=torch.float64, grad_fn=<MulBackward0>), tensor(0.0003, dtype=torch.float64, grad_fn=<MulBackward0>), tensor(-0.0027, dtype=torch.float64, grad_fn=<MulBackward0>), tensor(0.0057, dtype=torch.float64, grad_fn=<MulBackward0>)]\n"
     ]
    }
   ],
   "source": [
    "sample = 133\n",
    "\n",
    "hes = hessian(psi_a, inputs[sample])\n",
    "print(f\"Hessian is {torch.diag(hes)[0:6]}\")\n",
    "print(f\"Analytical is {psi_a_(inputs[sample])}\")"
   ]
  },
  {
   "cell_type": "code",
   "execution_count": 201,
   "id": "0c6fb2d3",
   "metadata": {},
   "outputs": [
    {
     "name": "stdout",
     "output_type": "stream",
     "text": [
      "tensor(-0.0786, dtype=torch.float64)\n"
     ]
    }
   ],
   "source": [
    "hes = hessian(psi_b, inputs[sample])\n",
    "jac = jacobian(psi_b_first_, inputs[sample])\n",
    "\n",
    "print(sum(torch.diag(hes)[:6]))\n",
    "#print(sum(jac[3:6]))"
   ]
  },
  {
   "cell_type": "code",
   "execution_count": 202,
   "id": "e689fb24",
   "metadata": {},
   "outputs": [
    {
     "data": {
      "text/plain": [
       "tensor(-0.1673, dtype=torch.float64)"
      ]
     },
     "execution_count": 202,
     "metadata": {},
     "output_type": "execute_result"
    }
   ],
   "source": [
    "sum(jacobian(psi_b_first_, inputs[sample])[3:6]) + sum(jacobian(psi_b_first, inputs[sample])[:3])"
   ]
  }
 ],
 "metadata": {
  "kernelspec": {
   "display_name": "pytorch_gpu",
   "language": "python",
   "name": "python3"
  },
  "language_info": {
   "codemirror_mode": {
    "name": "ipython",
    "version": 3
   },
   "file_extension": ".py",
   "mimetype": "text/x-python",
   "name": "python",
   "nbconvert_exporter": "python",
   "pygments_lexer": "ipython3",
   "version": "3.12.3"
  }
 },
 "nbformat": 4,
 "nbformat_minor": 5
}
