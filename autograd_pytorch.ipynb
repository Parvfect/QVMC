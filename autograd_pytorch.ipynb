{
 "cells": [
  {
   "cell_type": "code",
   "execution_count": 1,
   "id": "e99d2788",
   "metadata": {},
   "outputs": [],
   "source": [
    "import torch\n",
    "import numpy as np\n",
    "from tqdm import tqdm"
   ]
  },
  {
   "cell_type": "code",
   "execution_count": 4,
   "id": "094b1565",
   "metadata": {},
   "outputs": [
    {
     "name": "stdout",
     "output_type": "stream",
     "text": [
      "(tensor(-0.5851, dtype=torch.float64), tensor(2.5131, dtype=torch.float64), tensor(0.6771, dtype=torch.float64), tensor(-2.5998, dtype=torch.float64))\n"
     ]
    }
   ],
   "source": [
    "\n",
    "# Define alphas as torch tensors with requires_grad=True\n",
    "alpha_1 = torch.tensor(1.013, dtype=torch.float64, requires_grad=True)\n",
    "alpha_2 = torch.tensor(0.2119, dtype=torch.float64, requires_grad=True)\n",
    "alpha_3 = torch.tensor(0.1406, dtype=torch.float64, requires_grad=True)\n",
    "alpha_4 = torch.tensor(0.003, dtype=torch.float64, requires_grad=True)\n",
    "\n",
    "alphas = [alpha_1, alpha_2, alpha_3, alpha_4]\n",
    "\n",
    "# psi function using torch\n",
    "def psi(x, y, alpha_1, alpha_2, alpha_3, alpha_4):\n",
    "    r1 = torch.norm(x)\n",
    "    r2 = torch.norm(y)\n",
    "    r12 = torch.norm(x - y)\n",
    "\n",
    "    term1 = torch.exp(-2 * (r1 + r2))\n",
    "    term2 = 1 + 0.5 * r12 * torch.exp(-alpha_1 * r12)\n",
    "    term3 = 1 + alpha_2 * (r1 + r2) * r12 + alpha_3 * (r1 - r2)**2 - alpha_4 * r12\n",
    "\n",
    "    return term1 * term2 * term3\n",
    "\n",
    "# Tensors with gradients enabled\n",
    "x = torch.tensor([0.2, 0.3, 0.1], dtype=torch.float64, requires_grad=True)\n",
    "y = torch.tensor([0.1, 0.4, 0.3], dtype=torch.float64, requires_grad=True)\n",
    "\n",
    "# Compute psi\n",
    "psi_val = psi(x, y, *alphas)\n",
    "\n",
    "# First gradients w.r.t. x and y\n",
    "grad_x = torch.autograd.grad(psi_val, x, create_graph=True)[0]\n",
    "grad_y = torch.autograd.grad(psi_val, y, create_graph=True)[0]\n",
    "\n",
    "# Laplacians\n",
    "laplacian_x = sum(torch.autograd.grad(grad_x[i], x, retain_graph=True, create_graph=True)[0][i] for i in range(3))\n",
    "laplacian_y = sum(torch.autograd.grad(grad_y[i], y, retain_graph=True, create_graph=True)[0][i] for i in range(3))\n",
    "\n",
    "lap = laplacian_x + laplacian_y\n",
    "# Derivatives of Laplacians w.r.t. alphas\n",
    "dlap_dalpha = torch.autograd.grad(lap, alphas, retain_graph=True)\n",
    "\n",
    "\n",
    "print(dlap_dalpha)"
   ]
  },
  {
   "cell_type": "code",
   "execution_count": 5,
   "id": "28bb34f4",
   "metadata": {},
   "outputs": [],
   "source": [
    "\"\"\"\n",
    "def local_energy(psi_val, r1, r2):\n",
    "    grad_x = torch.autograd.grad(psi_val, r1, create_graph=True)[0]\n",
    "    grad_y = torch.autograd.grad(psi_val, r2, create_graph=True)[0]\n",
    "\n",
    "    # Laplacians\n",
    "    laplacian_x = sum(torch.autograd.grad(grad_x[i], r1, retain_graph=True, create_graph=True)[0][i] for i in range(3))\n",
    "    laplacian_y = sum(torch.autograd.grad(grad_y[i], r2, retain_graph=True, create_graph=True)[0][i] for i in range(3))\n",
    "\n",
    "    ke = - 0.5 * (laplacian_x + laplacian_y)\n",
    "\n",
    "    return - 2 / torch.norm(r1) - 2 / torch.norm(r2) + 1 / torch.norm(r1 - r2) + ke\n",
    "\"\"\"\n",
    "\n",
    "def local_energy(psi_val, r1, r2):\n",
    "    grad_r1 = torch.autograd.grad(psi_val, r1, create_graph=True)[0]\n",
    "    grad_r2 = torch.autograd.grad(psi_val, r2, create_graph=True)[0]\n",
    "\n",
    "    lap_r1 = torch.autograd.grad(grad_r1, r1, grad_outputs=torch.ones_like(grad_r1), create_graph=True)[0]\n",
    "    lap_r2 = torch.autograd.grad(grad_r2, r2, grad_outputs=torch.ones_like(grad_r2), create_graph=True)[0]\n",
    "\n",
    "    laplacian = lap_r1.sum() + lap_r2.sum()\n",
    "    ke = -0.5 * laplacian\n",
    "\n",
    "    potential = -2 / torch.norm(r1) - 2 / torch.norm(r2) + 1 / torch.norm(r1 - r2)\n",
    "\n",
    "    return ke + potential\n"
   ]
  },
  {
   "cell_type": "code",
   "execution_count": 6,
   "id": "1ea8fd35",
   "metadata": {},
   "outputs": [
    {
     "name": "stderr",
     "output_type": "stream",
     "text": [
      "100%|██████████| 10000/10000 [00:05<00:00, 1786.93it/s]\n"
     ]
    }
   ],
   "source": [
    "L = 1\n",
    "r1 = torch.rand(3, requires_grad=True) * 2 * L - L\n",
    "r2 = torch.rand(3, requires_grad=True) * 2 * L - L #random number from -L to L\n",
    "E = 0\n",
    "E2 = 0\n",
    "Eln_average = 0\n",
    "ln_average = 0\n",
    "rejection_ratio = 0\n",
    "step = 0\n",
    "max_steps = 500\n",
    "N = 10000\n",
    "dlap_dalpha = 0\n",
    "xs = []\n",
    "ys = []\n",
    "psi_vals = []\n",
    "\n",
    "for i in tqdm(range(N)):\n",
    "    flag = False\n",
    "    chose = np.random.rand()\n",
    "    step = step + 1\n",
    "    if chose < 0.5:\n",
    "        r1_trial = r1 + 0.5 * (torch.rand(3) * 2 * L-L)\n",
    "        r2_trial = r2\n",
    "    else:\n",
    "        r2_trial = r2 + 0.5 * (torch.rand(3) * 2 * L-L)\n",
    "        r1_trial = r1\n",
    "\n",
    "\n",
    "    psi_val = psi(r1, r2, *alphas)\n",
    "    psi_val_trial = psi(r1_trial, r2_trial, *alphas)\n",
    "    \n",
    "\n",
    "    if psi_val_trial.item() >= psi_val.item():\n",
    "        r1 = r1_trial\n",
    "        r2 = r2_trial\n",
    "        flag = True\n",
    "    \n",
    "    else:\n",
    "        dummy = np.random.rand()\n",
    "        if dummy < psi_val_trial.item() / psi_val.item():\n",
    "            r1 = r1_trial\n",
    "            r2 = r2_trial\n",
    "        else:\n",
    "            rejection_ratio += 1./N\n",
    "            \n",
    "    if step > max_steps:\n",
    "        xs.append(r1)\n",
    "        ys.append(r2)\n",
    "\n",
    "        if flag:\n",
    "            psi_vals.append(psi_val_trial)\n",
    "        else:\n",
    "            psi_vals.append(psi_val)\n",
    "        \"\"\"\n",
    "        local_E = local_energy(psi_val_trial, r1, r2)\n",
    "        E += local_E / (N - max_steps)\n",
    "        E2 += local_E ** 2 / (N - max_steps)\n",
    "        dlap_dalpha += torch.tensor(torch.autograd.grad(local_E, alphas, retain_graph=True)) / (N - max_steps)\n",
    "        \"\"\"\n",
    "\n",
    "\n",
    "\n"
   ]
  },
  {
   "cell_type": "code",
   "execution_count": 7,
   "id": "cac183ce",
   "metadata": {},
   "outputs": [],
   "source": [
    "def batched_psi(x, y, alpha_1, alpha_2, alpha_3, alpha_4):\n",
    "    r1 = torch.norm(x, dim=1)\n",
    "    r2 = torch.norm(y, dim=1)\n",
    "    r12 = torch.norm(x - y, dim=1)\n",
    "\n",
    "    term1 = torch.exp(-2 * (r1 + r2))\n",
    "    term2 = 1 + 0.5 * r12 * torch.exp(-alpha_1 * r12)\n",
    "    term3 = 1 + alpha_2 * (r1 + r2) * r12 + alpha_3 * (r1 - r2)**2 - alpha_4 * r12\n",
    "\n",
    "    return term1 * term2 * term3"
   ]
  },
  {
   "cell_type": "code",
   "execution_count": 8,
   "id": "b94a09ec",
   "metadata": {},
   "outputs": [],
   "source": [
    "alpha_1 = torch.tensor(1.013, dtype=torch.float64, requires_grad=True)\n",
    "alpha_2 = torch.tensor(0.2119, dtype=torch.float64, requires_grad=True)\n",
    "alpha_3 = torch.tensor(0.1406, dtype=torch.float64, requires_grad=True)\n",
    "alpha_4 = torch.tensor(0.003, dtype=torch.float64, requires_grad=True)\n",
    "\n",
    "def batched_psi(x, y):\n",
    "    r1 = torch.norm(x, dim=1)\n",
    "    r2 = torch.norm(y, dim=1)\n",
    "    r12 = torch.norm(x - y, dim=1)\n",
    "\n",
    "    term1 = torch.exp(-2 * (r1 + r2))\n",
    "    term2 = 1 + 0.5 * r12 * torch.exp(-alpha_1 * r12)\n",
    "    term3 = 1 + alpha_2 * (r1 + r2) * r12 + alpha_3 * (r1 - r2)**2 - alpha_4 * r12\n",
    "\n",
    "    return term1 * term2 * term3\n"
   ]
  },
  {
   "cell_type": "code",
   "execution_count": null,
   "id": "7acbcb01",
   "metadata": {},
   "outputs": [],
   "source": [
    "vmap(psi)"
   ]
  },
  {
   "cell_type": "code",
   "execution_count": 38,
   "id": "1c01a625",
   "metadata": {},
   "outputs": [],
   "source": [
    "t = batched_psi(torch.stack(xs), torch.stack(ys))"
   ]
  },
  {
   "cell_type": "code",
   "execution_count": null,
   "id": "185c6727",
   "metadata": {},
   "outputs": [],
   "source": [
    "torch.autograd.grad(t, torch.stack(xs[:5]), is_grads_batched=True)"
   ]
  },
  {
   "cell_type": "code",
   "execution_count": 16,
   "id": "2d30199d",
   "metadata": {},
   "outputs": [],
   "source": [
    "from torch.func import vmap, grad"
   ]
  },
  {
   "cell_type": "code",
   "execution_count": 33,
   "id": "2552436e",
   "metadata": {},
   "outputs": [],
   "source": [
    "batched_grad_f = vmap(grad(batched_psi))"
   ]
  },
  {
   "cell_type": "code",
   "execution_count": 59,
   "id": "a804090a",
   "metadata": {},
   "outputs": [],
   "source": [
    "jacobian = torch.autograd.functional.jacobian(batched_psi, (torch.stack(xs), torch.stack(ys)))"
   ]
  },
  {
   "cell_type": "code",
   "execution_count": 60,
   "id": "0ad9ed48",
   "metadata": {},
   "outputs": [
    {
     "data": {
      "text/plain": [
       "torch.Size([9500, 9500, 3])"
      ]
     },
     "execution_count": 60,
     "metadata": {},
     "output_type": "execute_result"
    }
   ],
   "source": [
    "jacobian[0].shape"
   ]
  },
  {
   "cell_type": "code",
   "execution_count": 63,
   "id": "459d67f9",
   "metadata": {},
   "outputs": [],
   "source": [
    "from torch.func import grad, vmap"
   ]
  },
  {
   "cell_type": "code",
   "execution_count": 162,
   "id": "1ab1654c",
   "metadata": {},
   "outputs": [],
   "source": [
    "import torch\n",
    "from torch.autograd.functional import jacobian\n",
    "\n",
    "# Original scalar-valued psi\n",
    "def psi(X):\n",
    "    x = X[:3]\n",
    "    y = X[3:6]\n",
    "    alpha_1, alpha_2, alpha_3, alpha_4 = X[6:]\n",
    "    r1 = torch.norm(x)\n",
    "    r2 = torch.norm(y)\n",
    "    r12 = torch.norm(x - y)\n",
    "\n",
    "    term1 = torch.exp(-2 * (r1 + r2))\n",
    "    term2 = 1 + 0.5 * r12 * torch.exp(-alpha_1 * r12)\n",
    "    term3 = 1 + alpha_2 * (r1 + r2) * r12 + alpha_3 * (r1 - r2)**2 - alpha_4 * r12\n",
    "\n",
    "    return term1 * term2 * term3"
   ]
  },
  {
   "cell_type": "code",
   "execution_count": 181,
   "id": "396492fd",
   "metadata": {},
   "outputs": [],
   "source": [
    "\n",
    "def third_partial_derivatives(scalar_func, inp):\n",
    "    return jacobian(\n",
    "        lambda x: jacobian(\n",
    "            lambda y: jacobian(scalar_func, y), \n",
    "            x\n",
    "        ), \n",
    "        inp\n",
    "    )"
   ]
  },
  {
   "cell_type": "code",
   "execution_count": 171,
   "id": "66f83d06",
   "metadata": {},
   "outputs": [],
   "source": [
    "t = vmap(psi)"
   ]
  },
  {
   "cell_type": "code",
   "execution_count": 9,
   "id": "6cadd113",
   "metadata": {},
   "outputs": [],
   "source": [
    "inputs = []\n",
    "for i in range(len(xs)):\n",
    "    inputs.append(torch.tensor([*xs[i], *ys[i], alpha_1, alpha_2, alpha_3, alpha_4]))"
   ]
  },
  {
   "cell_type": "code",
   "execution_count": 10,
   "id": "2cfb4209",
   "metadata": {},
   "outputs": [],
   "source": [
    "inputs = torch.stack(inputs)"
   ]
  },
  {
   "cell_type": "code",
   "execution_count": 11,
   "id": "e7aaf142",
   "metadata": {},
   "outputs": [
    {
     "data": {
      "text/plain": [
       "tensor([-0.3750, -0.2830,  0.4478,  0.7029,  0.1027, -0.2183,  1.0130,  0.2119,\n",
       "         0.1406,  0.0030], dtype=torch.float64)"
      ]
     },
     "execution_count": 11,
     "metadata": {},
     "output_type": "execute_result"
    }
   ],
   "source": [
    "inputs[0]"
   ]
  },
  {
   "cell_type": "code",
   "execution_count": 176,
   "id": "a009f0c2",
   "metadata": {},
   "outputs": [
    {
     "data": {
      "text/plain": [
       "tensor([0.0039, 0.0046, 0.0035,  ..., 0.0008, 0.0013, 0.0020],\n",
       "       dtype=torch.float64)"
      ]
     },
     "execution_count": 176,
     "metadata": {},
     "output_type": "execute_result"
    }
   ],
   "source": [
    "t(inputs)"
   ]
  },
  {
   "cell_type": "code",
   "execution_count": 100,
   "id": "321df7e4",
   "metadata": {},
   "outputs": [],
   "source": [
    "s = vmap(grad(psi))"
   ]
  },
  {
   "cell_type": "code",
   "execution_count": 120,
   "id": "443e40bc",
   "metadata": {},
   "outputs": [],
   "source": [
    "def fs(x):\n",
    "    return torch.exp(x[0] + x[1])"
   ]
  },
  {
   "cell_type": "code",
   "execution_count": 121,
   "id": "4f31236e",
   "metadata": {},
   "outputs": [],
   "source": [
    "l = vmap(grad(grad(fs)))"
   ]
  },
  {
   "cell_type": "code",
   "execution_count": 127,
   "id": "5ac32030",
   "metadata": {},
   "outputs": [],
   "source": [
    "l = vmap(grad(grad(fs)))"
   ]
  },
  {
   "cell_type": "code",
   "execution_count": 114,
   "id": "a8e3699f",
   "metadata": {},
   "outputs": [
    {
     "data": {
      "text/plain": [
       "tensor(20.0855)"
      ]
     },
     "execution_count": 114,
     "metadata": {},
     "output_type": "execute_result"
    }
   ],
   "source": [
    "grad(grad(fs))(torch.tensor(3.))"
   ]
  },
  {
   "cell_type": "code",
   "execution_count": null,
   "id": "e4e5ec71",
   "metadata": {},
   "outputs": [],
   "source": [
    "t = vmap(hessian(psi))\n",
    "E = torch.diagonal(hess_full[0]).sum()\n",
    "grad(E, alphas)"
   ]
  },
  {
   "cell_type": "code",
   "execution_count": 145,
   "id": "1c986531",
   "metadata": {},
   "outputs": [],
   "source": [
    "hess_full = t(inputs)"
   ]
  },
  {
   "cell_type": "code",
   "execution_count": null,
   "id": "eb392cce",
   "metadata": {},
   "outputs": [
    {
     "data": {
      "text/plain": [
       "torch.Size([6, 6])"
      ]
     },
     "execution_count": 146,
     "metadata": {},
     "output_type": "execute_result"
    }
   ],
   "source": [
    "hess_full[0].shape "
   ]
  },
  {
   "cell_type": "code",
   "execution_count": 155,
   "id": "d240498f",
   "metadata": {},
   "outputs": [],
   "source": [
    "E = torch.diagonal(hess_full[0]).sum()"
   ]
  },
  {
   "cell_type": "code",
   "execution_count": null,
   "id": "5f6a9692",
   "metadata": {},
   "outputs": [],
   "source": [
    "lap_alpha = jacobian(hessian(psi))"
   ]
  },
  {
   "cell_type": "code",
   "execution_count": null,
   "id": "56ba4bf6",
   "metadata": {},
   "outputs": [],
   "source": [
    "lap_alpha(inputs[0])"
   ]
  },
  {
   "cell_type": "markdown",
   "id": "bf75e22a",
   "metadata": {},
   "source": [
    "## Verifying the analytical expressions for the deriviatives"
   ]
  },
  {
   "cell_type": "code",
   "execution_count": 78,
   "id": "1a6b234e",
   "metadata": {},
   "outputs": [],
   "source": [
    "from torch.autograd.functional import jacobian, hessian"
   ]
  },
  {
   "cell_type": "code",
   "execution_count": 123,
   "id": "c05a0ea1",
   "metadata": {},
   "outputs": [],
   "source": [
    "def psi_a(X):\n",
    "    x = X[:3]\n",
    "    y = X[3:6]\n",
    "    alpha_1, alpha_2, alpha_3, alpha_4 = X[6:]\n",
    "    r1 = torch.norm(x)\n",
    "    r2 = torch.norm(y)\n",
    "    r12 = torch.norm(x - y)\n",
    "\n",
    "    term1 = torch.exp(-2 * (r1 + r2))\n",
    "    term2 = 1 + 0.5 * r12 * torch.exp(-alpha_1 * r12)\n",
    "    term3 = 1 + alpha_2 * (r1 + r2) * r12 + alpha_3 * (r1 - r2)**2 - alpha_4 * r12\n",
    "\n",
    "    return term1"
   ]
  },
  {
   "cell_type": "code",
   "execution_count": 128,
   "id": "3a141b34",
   "metadata": {},
   "outputs": [],
   "source": [
    "def psi_a_first(X):\n",
    "    x = X[:3]\n",
    "    y = X[3:6]\n",
    "    alpha_1, alpha_2, alpha_3, alpha_4 = X[6:]\n",
    "    r1 = torch.norm(x)\n",
    "    r2 = torch.norm(y)\n",
    "    r12 = torch.norm(x - y)\n",
    "    r1_ = x[0] + x[1] + x[2]\n",
    "    r2_ = y[0] + y[1] + y[2]\n",
    "\n",
    "    term1 = torch.exp(-2 * (r1 + r2))\n",
    "\n",
    "    return -2 * term1 * (r1_/r1 + r2_/r2)"
   ]
  },
  {
   "cell_type": "code",
   "execution_count": 150,
   "id": "dc30392a",
   "metadata": {},
   "outputs": [],
   "source": [
    "def psi_a_(X):\n",
    "    x = X[:3]\n",
    "    y = X[3:6]\n",
    "    alpha_1, alpha_2, alpha_3, alpha_4 = X[6:]\n",
    "    r1 = torch.norm(x)\n",
    "    r2 = torch.norm(y)\n",
    "    r12 = torch.norm(x - y)\n",
    "    r1_ = x[0] + x[1] + x[2]\n",
    "    r2_ = y[0] + y[1] + y[2]\n",
    "\n",
    "    term1 = torch.exp(-2 * (r1 + r2))\n",
    "\n",
    "    return 2 * term1 * (2 * (r1_.pow(2) / r1.pow(2)) + 2 * (r2_.pow(2) / r2.pow(2)) - 3/r1 - 3/r2 + r1_.pow(2)/r1.pow(3) + r2_.pow(2) / r2.pow(3))"
   ]
  },
  {
   "cell_type": "code",
   "execution_count": 156,
   "id": "815a235b",
   "metadata": {},
   "outputs": [],
   "source": [
    "def psi_b(X):\n",
    "    x = X[:3]\n",
    "    y = X[3:6]\n",
    "    alpha_1, alpha_2, alpha_3, alpha_4 = X[6:]\n",
    "    r1 = torch.norm(x)\n",
    "    r2 = torch.norm(y)\n",
    "    r12 = torch.norm(x - y)\n",
    "\n",
    "    term1 = torch.exp(-2 * (r1 + r2))\n",
    "    term2 = 1 + 0.5 * r12 * torch.exp(-alpha_1 * r12)\n",
    "    term3 = 1 + alpha_2 * (r1 + r2) * r12 + alpha_3 * (r1 - r2)**2 - alpha_4 * r12\n",
    "\n",
    "    return term2"
   ]
  },
  {
   "cell_type": "code",
   "execution_count": 188,
   "id": "bab6913f",
   "metadata": {},
   "outputs": [],
   "source": [
    "def psi_b_first(X):\n",
    "    x = X[:3]\n",
    "    y = X[3:6]\n",
    "    alpha_1, alpha_2, alpha_3, alpha_4 = X[6:]\n",
    "    r1 = torch.norm(x)\n",
    "    r2 = torch.norm(y)\n",
    "    r12 = torch.norm(x - y)\n",
    "    r12_ = sum(x - y)\n",
    "\n",
    "    term1 = torch.exp(-2 * (r1 + r2))\n",
    "    term2 = 1 + 0.5 * r12 * torch.exp(-alpha_1 * r12)\n",
    "    term3 = 1 + alpha_2 * (r1 + r2) * r12 + alpha_3 * (r1 - r2)**2 - alpha_4 * r12\n",
    "\n",
    "    return (torch.exp(-alpha_1 * r12)/2) * (r12_/r12) * (1 - alpha_1 * r12)\n",
    "\n",
    "def psi_b_first_(X):\n",
    "    x = X[:3]\n",
    "    y = X[3:6]\n",
    "    alpha_1, alpha_2, alpha_3, alpha_4 = X[6:]\n",
    "    r1 = torch.norm(x)\n",
    "    r2 = torch.norm(y)\n",
    "    r12 = torch.norm(x - y)\n",
    "    r12_ = sum(x - y)\n",
    "\n",
    "    term1 = torch.exp(-2 * (r1 + r2))\n",
    "    term2 = 1 + 0.5 * r12 * torch.exp(-alpha_1 * r12)\n",
    "    term3 = 1 + alpha_2 * (r1 + r2) * r12 + alpha_3 * (r1 - r2)**2 - alpha_4 * r12\n",
    "\n",
    "    return (torch.exp(-alpha_1 * r12)/2) * (r12_/r12) * (alpha_1 * r12 - 1)"
   ]
  },
  {
   "cell_type": "code",
   "execution_count": null,
   "id": "e87aaca7",
   "metadata": {},
   "outputs": [],
   "source": [
    "jac = jacobian(psi_a, inputs[33])"
   ]
  },
  {
   "cell_type": "code",
   "execution_count": 161,
   "id": "ab97cfa5",
   "metadata": {},
   "outputs": [
    {
     "data": {
      "text/plain": [
       "tensor([ 0.0395,  0.0076, -0.0538, -0.0395, -0.0076,  0.0538, -0.2628,  0.0000,\n",
       "         0.0000,  0.0000], dtype=torch.float64)"
      ]
     },
     "execution_count": 161,
     "metadata": {},
     "output_type": "execute_result"
    }
   ],
   "source": [
    "jac"
   ]
  },
  {
   "cell_type": "code",
   "execution_count": 162,
   "id": "ed3dd78d",
   "metadata": {},
   "outputs": [
    {
     "data": {
      "text/plain": [
       "tensor(-0.0067, dtype=torch.float64)"
      ]
     },
     "execution_count": 162,
     "metadata": {},
     "output_type": "execute_result"
    }
   ],
   "source": [
    "sum(jac[:3])"
   ]
  },
  {
   "cell_type": "code",
   "execution_count": 200,
   "id": "9bfc9b41",
   "metadata": {},
   "outputs": [
    {
     "name": "stdout",
     "output_type": "stream",
     "text": [
      "Jacobian is -0.00392798153454757\n",
      "Analytical is -0.003927981534547572\n"
     ]
    }
   ],
   "source": [
    "sample = 33\n",
    "\n",
    "jac = jacobian(psi_b, inputs[sample])\n",
    "print(f\"Jacobian is {sum(jac[:3])}\")\n",
    "print(f\"Analytical is {psi_b_first(inputs[sample])}\")"
   ]
  },
  {
   "cell_type": "code",
   "execution_count": 201,
   "id": "0c6fb2d3",
   "metadata": {},
   "outputs": [
    {
     "name": "stdout",
     "output_type": "stream",
     "text": [
      "tensor(-0.0786, dtype=torch.float64)\n"
     ]
    }
   ],
   "source": [
    "hes = hessian(psi_b, inputs[sample])\n",
    "jac = jacobian(psi_b_first_, inputs[sample])\n",
    "\n",
    "print(sum(torch.diag(hes)[:6]))\n",
    "#print(sum(jac[3:6]))"
   ]
  },
  {
   "cell_type": "code",
   "execution_count": 202,
   "id": "e689fb24",
   "metadata": {},
   "outputs": [
    {
     "data": {
      "text/plain": [
       "tensor(-0.1673, dtype=torch.float64)"
      ]
     },
     "execution_count": 202,
     "metadata": {},
     "output_type": "execute_result"
    }
   ],
   "source": [
    "sum(jacobian(psi_b_first_, inputs[sample])[3:6]) + sum(jacobian(psi_b_first, inputs[sample])[:3])"
   ]
  },
  {
   "cell_type": "code",
   "execution_count": 226,
   "id": "e33776f0",
   "metadata": {},
   "outputs": [],
   "source": [
    "def psi(X):\n",
    "    x = X[:3]\n",
    "    y = X[3:6]\n",
    "    alpha_1, alpha_2, alpha_3, alpha_4 = X[6:]\n",
    "    alpha_2 = torch.tensor(3.14)\n",
    "    r1 = torch.norm(x)\n",
    "    r2 = torch.norm(y)\n",
    "    r12 = torch.norm(x - y)\n",
    "\n",
    "    term1 = torch.exp(-2 * (r1 + r2))\n",
    "    term2 = 1 + 0.5 * r12 * torch.exp(-alpha_1 * r12)\n",
    "    term3 = 1 + alpha_2 * (r1 + r2) * r12 + alpha_3 * (r1 - r2)**2 - alpha_4 * r12\n",
    "\n",
    "    return term1 * term2 * term3"
   ]
  },
  {
   "cell_type": "code",
   "execution_count": 227,
   "id": "ed963dec",
   "metadata": {},
   "outputs": [],
   "source": [
    "def grad_hes(inputs):\n",
    "    return hessian(psi, inputs)"
   ]
  },
  {
   "cell_type": "code",
   "execution_count": 229,
   "id": "f237734e",
   "metadata": {},
   "outputs": [
    {
     "data": {
      "text/plain": [
       "tensor([[-5.1090e-03, -1.8056e-03,  5.0205e-04,  7.8134e-04,  3.7859e-04,\n",
       "         -9.4882e-04,  4.2517e-05,  0.0000e+00,  6.7591e-07, -7.2551e-05],\n",
       "        [-1.8056e-03,  2.0511e-02, -5.9669e-03, -1.9461e-02, -9.4284e-04,\n",
       "          1.1649e-02,  2.9095e-03,  0.0000e+00, -3.6415e-04,  1.1880e-03],\n",
       "        [ 5.0205e-04, -5.9669e-03, -3.7575e-03,  4.5048e-03, -1.4176e-04,\n",
       "         -3.2784e-03, -8.2504e-04,  0.0000e+00,  9.9698e-05, -2.8344e-04],\n",
       "        [ 7.8134e-04, -1.9461e-02,  4.5048e-03,  1.5181e-02,  2.5460e-03,\n",
       "         -1.6832e-02, -2.3922e-03,  0.0000e+00,  1.3215e-03, -1.0912e-03],\n",
       "        [ 3.7859e-04, -9.4284e-04, -1.4176e-04,  2.5460e-03, -1.2407e-02,\n",
       "         -1.3907e-03, -6.9872e-04,  0.0000e+00,  2.7419e-04, -7.9724e-05],\n",
       "        [-9.4882e-04,  1.1649e-02, -3.2784e-03, -1.6832e-02, -1.3907e-03,\n",
       "         -1.5762e-03,  1.6138e-03,  0.0000e+00, -8.6079e-04,  6.7046e-04],\n",
       "        [ 4.2517e-05,  2.9095e-03, -8.2504e-04, -2.3922e-03, -6.9872e-04,\n",
       "          1.6138e-03,  5.5859e-03,  0.0000e+00, -7.9715e-05,  1.1268e-04],\n",
       "        [ 0.0000e+00,  0.0000e+00,  0.0000e+00,  0.0000e+00,  0.0000e+00,\n",
       "          0.0000e+00,  0.0000e+00,  0.0000e+00,  0.0000e+00,  0.0000e+00],\n",
       "        [ 6.7591e-07, -3.6415e-04,  9.9698e-05,  1.3215e-03,  2.7419e-04,\n",
       "         -8.6079e-04, -7.9715e-05,  0.0000e+00,  0.0000e+00,  0.0000e+00],\n",
       "        [-7.2551e-05,  1.1880e-03, -2.8344e-04, -1.0912e-03, -7.9724e-05,\n",
       "          6.7046e-04,  1.1268e-04,  0.0000e+00,  0.0000e+00,  0.0000e+00]],\n",
       "       dtype=torch.float64)"
      ]
     },
     "execution_count": 229,
     "metadata": {},
     "output_type": "execute_result"
    }
   ],
   "source": [
    "grad_hes(inputs[232])"
   ]
  },
  {
   "cell_type": "code",
   "execution_count": 228,
   "id": "2176e577",
   "metadata": {},
   "outputs": [
    {
     "data": {
      "text/plain": [
       "tensor(False)"
      ]
     },
     "execution_count": 228,
     "metadata": {},
     "output_type": "execute_result"
    }
   ],
   "source": [
    "jacobian(grad_hes, inputs[421]).any()"
   ]
  },
  {
   "cell_type": "code",
   "execution_count": 181,
   "id": "bb2c8b39",
   "metadata": {},
   "outputs": [],
   "source": [
    "def grad_psi_b(inputs):\n",
    "    return jacobian(psi_b, inputs)"
   ]
  },
  {
   "cell_type": "code",
   "execution_count": 182,
   "id": "12aeb2d3",
   "metadata": {},
   "outputs": [],
   "source": [
    "jac = jacobian(grad_psi_b, inputs[sample])"
   ]
  },
  {
   "cell_type": "code",
   "execution_count": 183,
   "id": "6fd361f4",
   "metadata": {},
   "outputs": [
    {
     "data": {
      "text/plain": [
       "tensor([[0., 0., 0., 0., 0., 0., 0., 0., 0., 0.],\n",
       "        [0., 0., 0., 0., 0., 0., 0., 0., 0., 0.],\n",
       "        [0., 0., 0., 0., 0., 0., 0., 0., 0., 0.],\n",
       "        [0., 0., 0., 0., 0., 0., 0., 0., 0., 0.],\n",
       "        [0., 0., 0., 0., 0., 0., 0., 0., 0., 0.],\n",
       "        [0., 0., 0., 0., 0., 0., 0., 0., 0., 0.],\n",
       "        [0., 0., 0., 0., 0., 0., 0., 0., 0., 0.],\n",
       "        [0., 0., 0., 0., 0., 0., 0., 0., 0., 0.],\n",
       "        [0., 0., 0., 0., 0., 0., 0., 0., 0., 0.],\n",
       "        [0., 0., 0., 0., 0., 0., 0., 0., 0., 0.]], dtype=torch.float64)"
      ]
     },
     "execution_count": 183,
     "metadata": {},
     "output_type": "execute_result"
    }
   ],
   "source": [
    "jac"
   ]
  },
  {
   "cell_type": "code",
   "execution_count": 151,
   "id": "6da8cd13",
   "metadata": {},
   "outputs": [
    {
     "name": "stdout",
     "output_type": "stream",
     "text": [
      "Hessian is -0.3674722041861118\n",
      "Analytical is 0.12678009266415927\n"
     ]
    }
   ],
   "source": [
    "sample = 141\n",
    "\n",
    "hes = hessian(psi_a, inputs[sample])\n",
    "print(f\"Hessian is {sum(torch.diag(hes)[:6])}\")\n",
    "print(f\"Analytical is {psi_a_(inputs[sample])}\")"
   ]
  },
  {
   "cell_type": "code",
   "execution_count": 112,
   "id": "df5fca07",
   "metadata": {},
   "outputs": [
    {
     "data": {
      "text/plain": [
       "tensor([-0.3664,  0.7710,  0.6767,  0.7932,  0.4680,  0.0132,  1.0130,  0.2119,\n",
       "         0.1406,  0.0030], dtype=torch.float64)"
      ]
     },
     "execution_count": 112,
     "metadata": {},
     "output_type": "execute_result"
    }
   ],
   "source": [
    "inputs[sample]"
   ]
  },
  {
   "cell_type": "code",
   "execution_count": 98,
   "id": "8c939af4",
   "metadata": {},
   "outputs": [
    {
     "data": {
      "text/plain": [
       "tensor(-0.0060, dtype=torch.float64)"
      ]
     },
     "execution_count": 98,
     "metadata": {},
     "output_type": "execute_result"
    }
   ],
   "source": [
    "psi_a_(inputs[21])"
   ]
  },
  {
   "cell_type": "code",
   "execution_count": null,
   "id": "27d0ffd2",
   "metadata": {},
   "outputs": [],
   "source": []
  }
 ],
 "metadata": {
  "kernelspec": {
   "display_name": "pytorch_gpu",
   "language": "python",
   "name": "python3"
  },
  "language_info": {
   "codemirror_mode": {
    "name": "ipython",
    "version": 3
   },
   "file_extension": ".py",
   "mimetype": "text/x-python",
   "name": "python",
   "nbconvert_exporter": "python",
   "pygments_lexer": "ipython3",
   "version": "3.12.3"
  }
 },
 "nbformat": 4,
 "nbformat_minor": 5
}
